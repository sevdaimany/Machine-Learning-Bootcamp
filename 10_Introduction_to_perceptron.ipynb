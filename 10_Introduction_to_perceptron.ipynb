{
 "cells": [
  {
   "cell_type": "markdown",
   "id": "44ca0c73",
   "metadata": {},
   "source": [
    "# The human brain\n",
    "\n",
    "In the brain, a neural network is a circuit of neurons linked through chemical and/or electrical impulses. Neurons use these signals to communicate with each other in order to perform a certain function or action, for example, carrying out a cognitive task such as thinking, remembering, and learning.\n",
    "\n",
    "\n",
    "**Neurons** are the actual processing units of the brain.  \n",
    "\n",
    "Although there are many different neurons, the basic structure of them is similar. The cell-body **(soma)**, many fine branched fibers **(dendrites)**, and an **axon** that extends away from the cell to other\n",
    "neurons.\n",
    "<img src =\"https://i.postimg.cc/52NRYCNP/brain.jpg\" />\n",
    "\n",
    "**1)** The dendrites receive the impulse from the terminal button or synapse of an adjoining neuron.  \n",
    "**2)** Dendrites carry the impulse to the nucleus of the nerve cell which is also called as soma. Here , the electrical impulse is processed and then passed on to the axon.   \n",
    "**3)** The axon is longer branch among the dendrites which carries the impulse from the soma to the synapse.  \n",
    "**4)** The synapse then , passes the impulse to dendrites of the second neuron. Thus, a complex network of neurons is created in the human brain.\n"
   ]
  },
  {
   "cell_type": "markdown",
   "id": "035d14c5",
   "metadata": {},
   "source": [
    "## Neuron Firing\n",
    "Neurons only fire when input is bigger than some threshold. It should, however, be noted that firing doesn't get bigger as the stimulus increases, its an all or nothing arrangement."
   ]
  },
  {
   "cell_type": "markdown",
   "id": "c26f09e7",
   "metadata": {},
   "source": [
    "## Perceptrons\n",
    "Perceptron is a simple form of Neural Network and consists of a single layer where all the mathematical computations are performed.\n",
    "\n",
    "<img src=\"https://i.postimg.cc/sXS6dPw2/perceptron.jpg\" width=\"600\"/>"
   ]
  },
  {
   "cell_type": "markdown",
   "id": "e5126a96",
   "metadata": {},
   "source": [
    "### Weight and Bias\n",
    "Weight parameter represents the strength of the connection between units. Weight is directly proportional to the strength of the associated input neuron in deciding the output. Further, Bias can be considered as the line of intercept in a linear equation.  \n",
    "These parameters are what we update when we talk about “training” a model.\n",
    "\n",
    "### activation Function:\n",
    "These are the final and important components that help to determine whether the neuron will fire or not. Activation Function can be considered primarily as a step function.\n",
    "\n",
    "<img src=\"https://i.postimg.cc/X7DwLGk1/stepfunciton.png\" width=\"400\"/>"
   ]
  },
  {
   "cell_type": "markdown",
   "id": "c9776699",
   "metadata": {},
   "source": [
    "### Evaluation\n",
    "The output calculation is straightforward.\n",
    "\n",
    "* Compute the dot product of the input and weight vector  \n",
    "    **∑wi*xi = x1*w1 + x2*w2 +…wn*xn**\n",
    "\n",
    "  \n",
    "\n",
    "\n",
    "* Add the bias  \n",
    "    **∑wi*xi + b**\n",
    "\n",
    "\n",
    "\n",
    "\n",
    "* Apply the activation function.  \n",
    "    **Y = f(∑wi*xi + b)**"
   ]
  },
  {
   "cell_type": "markdown",
   "id": "c9c636b7",
   "metadata": {},
   "source": [
    "###   💥   _Single-layer perceptron can learn only linearly separable patterns._\n",
    "\n",
    "\n",
    "Say we have n points in the plane, labeled ‘0’ and ‘1’. We’re given a new point and we want to guess its label. How do we do it?\n",
    "\n",
    "one way would be to pick a line that best separates the labeled data and use that as your classifier.\n",
    "\n",
    "<img src=\"https://i.postimg.cc/rmJ4rKpJ/linear.png\" width=\"500\"/>\n",
    "\n",
    "In this case, each piece of input data would be represented as a vector x = (x_1, x_2) and our function would be something like ‘0’ if below the line, ‘1’ if above.\n",
    "\n",
    "To represent this mathematically, let our separator be defined by a vector of weights w and a vertical offset (or bias) b. Then, our function would combine the inputs and weights with a weighted sum transfer function:\n",
    " \n",
    "\n",
    "<img src=\"https://i.postimg.cc/mDbzBBSF/linear5.png\" width=\"200\"/>\n",
    "\n",
    "\n",
    "The result of this transfer function would then be fed into an activation function **to produce a labeling.** In the example above, our activation function was a threshold cutoff (e.g., 1 if greater than some value):\n",
    "\n",
    "<img src=\"https://i.postimg.cc/MpVvBvPQ/linear4.png\" width=\"400\"/>\n"
   ]
  },
  {
   "cell_type": "markdown",
   "id": "7586f50f",
   "metadata": {},
   "source": [
    "## So what is a neural network in machine learning?\n",
    "\n",
    "**Neural networks** are computing systems with interconnected nodes that work much like neurons in the human brain. Using algorithms, they can recognize hidden patterns and correlations in raw data, cluster and classify it, and – over time – continuously learn and improve.\n",
    "\n",
    "<img src=\"https://i.postimg.cc/T1B3L6n0/neural-network.png\" />\n",
    "\n",
    "The processing units are arranged in layers. There are typically three parts in a neural network: \n",
    "* an **input layer**, with units representing the input fields;\n",
    "* one or more **hidden layers**;\n",
    "* an **output layer**, with a unit or units representing the target field(s).  \n",
    "\n",
    "\n",
    "The units are connected with varying connection strengths (or **weights**). Input data are presented to the first layer, and values are propagated from each neuron to every neuron in the next layer. Eventually, a result is delivered from the output layer."
   ]
  },
  {
   "cell_type": "markdown",
   "id": "4254d752",
   "metadata": {},
   "source": [
    "## Beyond Linearity\n",
    "\n",
    "<img src=\"https://i.postimg.cc/8P8FzRwS/xor.png\" />\n",
    "\n",
    "Both AND and OR are linearly separable — we can clearly draw a line that separates the 0 and 1 classes — the same is not true for XOR.\n",
    "\n",
    "<img src=\"https://i.postimg.cc/gJXJYjZj/XOR2.png\" width=\"300\"/>\n",
    "\n",
    "The XOR problem with neural networks can be solved by using **Multi-Layer Perceptrons** or a neural network architecture with an input layer, hidden layer, and output layer.\n",
    "\n"
   ]
  },
  {
   "cell_type": "markdown",
   "id": "39712349",
   "metadata": {},
   "source": [
    "The Neural network architecture to solve the XOR problem will be as shown below.\n",
    "\n",
    "<img src=\"https://i.postimg.cc/4yRJs5G2/solved.png\" width=\"600\"/>"
   ]
  },
  {
   "cell_type": "markdown",
   "id": "e5b74fd1",
   "metadata": {},
   "source": [
    "### Visual Cortex\n",
    "\n",
    "<img src=\"https://i.postimg.cc/k4x0Fdrw/brain.png\" width=\"600\" />\n",
    "<img src=\"https://i.postimg.cc/6p21fNnR/brain2.png\" width=\"600\"/>"
   ]
  },
  {
   "cell_type": "markdown",
   "id": "32db2cd2",
   "metadata": {},
   "source": [
    "## Why are neural networks important?\n",
    "\n",
    "<img src=\"https://i.postimg.cc/CLdvwVvt/brain.gif\" width=\"800\" />\n",
    "Neural networks are also ideally suited to help people solve complex problems in real-life situations. They can learn and model the relationships between inputs and outputs that are **nonlinear and complex**; make generalizations and inferences; reveal hidden relationships, patterns and predictions; and model highly volatile data (such as financial time series data) and variances needed to predict rare events (such as fraud detection). As a result, neural networks can improve decision processes in areas such as:\n",
    "\n",
    "* **Credit card and Medicare fraud detection.**\n",
    "* **Character and voice recognition, also known as natural language processing.**\n",
    "* **Medical and disease diagnosis.**\n",
    "* **Targeted marketing.**\n",
    "* **Financial predictions for stock prices, currency, options, futures, bankruptcy and bond ratings.**\n",
    "* **Robotic control systems.**\n",
    "* **Computer vision to interpret raw photos and videos (for example, in medical imaging and robotics and facial recognition).**"
   ]
  },
  {
   "cell_type": "markdown",
   "id": "634ea6c0",
   "metadata": {},
   "source": [
    "<img src=\"https://i.postimg.cc/wB52wxvt/cite.png\" />"
   ]
  },
  {
   "cell_type": "markdown",
   "id": "5a179c10",
   "metadata": {},
   "source": [
    "## Artificial intelligence\n",
    "\n",
    "Artificial intelligence is a computer system that can perform complex tasks that would otherwise require human minds — such as visual perception, speech recognition, decision-making, and translation between languages.  \n",
    "Computers and machines controlled by AI could soon be used in place of humans to carry out a variety of tasks, from managing a home to driving cars, and much more.\n",
    "\n",
    "<img src=\"https://i.postimg.cc/Dzhd4Vg7/ai2.png\" width=\"900\"/>\n",
    "\n",
    "\n",
    "\n",
    "However, even though artificial intelligence is referred to as AI in the media, there are different types of AI out there. These three types are artificial narrow intelligence (ANI), artificial general intelligence (AGI), and artificial super intelligence (ASI)."
   ]
  },
  {
   "cell_type": "markdown",
   "id": "fa9aaff4",
   "metadata": {},
   "source": [
    "<img src=\"https://i.postimg.cc/gJXvfYcq/AGI.png\" width=\"700\"/>"
   ]
  },
  {
   "cell_type": "markdown",
   "id": "9cc8c18f",
   "metadata": {},
   "source": [
    "* **artificial narrow intelligence (ANI):** is the artificial narrow intelligence that is good at performing single tasks, such as playing chess, making predictions and suggestion. ANI is the only level of AI achieved by mankind so far.\n",
    "\n",
    "* **artificial general intelligence (AGI)** should theoretically be able to perform any task that a human can and exhibit a range of intelligence in different areas. Its performance should be as good as or better than humans at solving problems in most areas of intelligence.\n",
    "\n",
    "* **artificial super intelligence (ASI)** is the artificial super intelligence that is smarter than the collective intellect of the smartest humans in every field."
   ]
  },
  {
   "cell_type": "code",
   "execution_count": null,
   "id": "281d35b6",
   "metadata": {},
   "outputs": [],
   "source": []
  }
 ],
 "metadata": {
  "kernelspec": {
   "display_name": "Python 3 (ipykernel)",
   "language": "python",
   "name": "python3"
  },
  "language_info": {
   "codemirror_mode": {
    "name": "ipython",
    "version": 3
   },
   "file_extension": ".py",
   "mimetype": "text/x-python",
   "name": "python",
   "nbconvert_exporter": "python",
   "pygments_lexer": "ipython3",
   "version": "3.10.6"
  }
 },
 "nbformat": 4,
 "nbformat_minor": 5
}
