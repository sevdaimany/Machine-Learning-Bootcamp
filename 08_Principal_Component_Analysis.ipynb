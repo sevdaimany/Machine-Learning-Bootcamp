{
 "cells": [
  {
   "cell_type": "markdown",
   "id": "31215afa",
   "metadata": {
    "id": "31215afa"
   },
   "source": [
    "# Principal Component Analysis\n",
    "\n",
    "Principal component analysis (PCA) is a technique that transforms high-dimensions data into lower-dimensions while retaining as much information as possible.\n",
    "\n",
    "<table><tr>\n",
    "    <td><img src=\"https://i.postimg.cc/TPZxdTNr/PCA1.png\" width=\"417\"/> </td>\n",
    "    <td> <img src=\"https://i.postimg.cc/NFxvkms4/PCA2.png\" width=\"500\"/></td>\n",
    "</tr></table>"
   ]
  },
  {
   "cell_type": "markdown",
   "id": "2f396079",
   "metadata": {
    "id": "2f396079"
   },
   "source": [
    "### Curse of Dimensionality  \n",
    "\n",
    "Dimensionality in a dataset becomes a severe impediment to achieve a reasonable efficiency for most algorithms. Increasing the number of features does not always improve accuracy. When data does not have enough features, the model is likely to underfit, and when data has too many features, it is likely to overfit. Hence it is called the curse of dimensionality. The curse of dimensionality is an astonishing paradox for data scientists, based on the exploding amount of n-dimensional spaces — as the number of dimensions, n, increases.\n",
    "\n",
    "<img src=\"https://i.postimg.cc/Yqbw46y2/curse.jpg\" width=\"400\"/>"
   ]
  },
  {
   "cell_type": "markdown",
   "id": "dd10acd9",
   "metadata": {
    "id": "dd10acd9"
   },
   "source": [
    "There are two techniques to make dimensionality reduction:\n",
    "\n",
    "* Feature Selection\n",
    "* Feature Extraction\n",
    "\n",
    "<img src=\"https://i.postimg.cc/4xmjmr9w/vs.png\" width=\"500\"/>"
   ]
  },
  {
   "cell_type": "markdown",
   "id": "2dc2d1bc",
   "metadata": {
    "id": "2dc2d1bc"
   },
   "source": [
    "### Feature Selection\n",
    "n feature selection, usually, a subset of original features is selected.\n",
    "<img src=\"https://i.postimg.cc/7LzcN0X2/feature-selection.png\" width=\"300\"/>\n",
    "\n",
    "### Feature Extraction\n",
    "In feature extraction, a set of new features are found. That is found through some mapping from the existing features. Moreover, mapping can be either linear or non-linear.\n",
    "<img src=\"https://i.postimg.cc/4yWF354r/feature-extraction.png\" width=\"300\"/>"
   ]
  },
  {
   "cell_type": "markdown",
   "id": "cc08a4fc",
   "metadata": {
    "id": "cc08a4fc"
   },
   "source": [
    "## Principal Component Analysis (PCA)\n",
    "\n",
    "Principal Component Analysis (PCA) is an exploratory approach to reduce the data set's dimensionality to 2D or 3D, used in exploratory data analysis for making predictive models. Principal Component Analysis is a `linear` transformation of data set that defines a new coordinate rule such that:\n",
    "\n",
    "   * The highest variance by any projection of the data set appears to lays on the first axis.\n",
    "   * The second biggest variance on the second axis, and so on."
   ]
  },
  {
   "cell_type": "markdown",
   "id": "bcc831cd",
   "metadata": {
    "id": "bcc831cd"
   },
   "source": [
    "> 💥 In the eyes of PCA, variance is an objective and mathematical way to quantify the amount of information in our data.\n",
    "**Variance is information.**\n",
    "\n",
    "<img src=\"https://i.postimg.cc/X7DzSQz5/variance.jpg\" width=\"400\"/>"
   ]
  },
  {
   "cell_type": "markdown",
   "id": "b91ddfa0",
   "metadata": {},
   "source": [
    ">**✨ Additional infornamtion:**  \n",
    "    **Autoencoders** are neural networks that stack numerous non-linear transformations to reduce input into a low-dimensional latent space (layers). The aim of an autoencoder is to learn a lower-dimensional representation (encoding) for a higher-dimensional data, typically for dimensionality reduction, by training the network to capture the most important parts of the input image."
   ]
  },
  {
   "cell_type": "markdown",
   "id": "71cc3462",
   "metadata": {
    "id": "t1_I7MrAOEUd"
   },
   "source": [
    "# PCA for Data Visualization"
   ]
  },
  {
   "cell_type": "markdown",
   "id": "9e9dfe47",
   "metadata": {
    "id": "9e9dfe47"
   },
   "source": [
    "### PCA and KNN on IRIS dataset"
   ]
  },
  {
   "cell_type": "code",
   "execution_count": null,
   "id": "b27cd76d",
   "metadata": {
    "id": "b27cd76d"
   },
   "outputs": [],
   "source": [
    "import pandas as pd\n",
    "import numpy as np\n",
    "import plotly.express as px\n",
    "from sklearn.datasets import load_iris\n",
    "from sklearn.decomposition import PCA\n",
    "import warnings \n",
    "warnings.filterwarnings('ignore')"
   ]
  },
  {
   "cell_type": "code",
   "execution_count": null,
   "id": "798c551b",
   "metadata": {
    "id": "798c551b"
   },
   "outputs": [],
   "source": [
    "iris = load_iris()"
   ]
  },
  {
   "cell_type": "code",
   "execution_count": null,
   "id": "6ffaa887",
   "metadata": {
    "id": "6ffaa887"
   },
   "outputs": [],
   "source": [
    "X = iris.data\n",
    "y = iris.target"
   ]
  },
  {
   "cell_type": "code",
   "execution_count": null,
   "id": "259c5700",
   "metadata": {
    "id": "259c5700"
   },
   "outputs": [],
   "source": [
    "iris.feature_names"
   ]
  },
  {
   "cell_type": "code",
   "execution_count": null,
   "id": "89938f0f",
   "metadata": {
    "id": "89938f0f"
   },
   "outputs": [],
   "source": [
    "X_df = pd.DataFrame(X, columns=iris.feature_names)\n",
    "y_df = pd.DataFrame(y, columns=[\"label\"])\n",
    "X_df.head()"
   ]
  },
  {
   "cell_type": "code",
   "execution_count": null,
   "id": "2f028d9e",
   "metadata": {
    "id": "2f028d9e",
    "scrolled": false
   },
   "outputs": [],
   "source": [
    "px.scatter_matrix(X_df, color=y, title='Scatter Matrix of Features', height=800, )"
   ]
  },
  {
   "cell_type": "code",
   "execution_count": null,
   "id": "a34e35da",
   "metadata": {
    "id": "a34e35da"
   },
   "outputs": [],
   "source": [
    "px.pie(y_df, names=\"label\")"
   ]
  },
  {
   "cell_type": "code",
   "execution_count": null,
   "id": "81a0671b",
   "metadata": {
    "id": "81a0671b"
   },
   "outputs": [],
   "source": [
    "df = pd.concat([X_df, y_df], axis=1)\n",
    "df.head()"
   ]
  },
  {
   "cell_type": "code",
   "execution_count": null,
   "id": "734c46f7",
   "metadata": {
    "id": "734c46f7"
   },
   "outputs": [],
   "source": [
    "px.imshow(df.corr())"
   ]
  },
  {
   "cell_type": "markdown",
   "id": "1904d32f",
   "metadata": {
    "id": "1904d32f"
   },
   "source": [
    ">**❗ NOTE:** One of the biggest aims of these sort of plots and EDAs are to identify features that are not much helpful in explaining the target outcome. The SepalWidthCm feature seems to be less relevant in explaining the target class as compared to the other features"
   ]
  },
  {
   "cell_type": "code",
   "execution_count": null,
   "id": "884625a8",
   "metadata": {
    "id": "884625a8"
   },
   "outputs": [],
   "source": [
    "X_df.describe()"
   ]
  },
  {
   "cell_type": "markdown",
   "id": "1b179741",
   "metadata": {
    "id": "1b179741"
   },
   "source": [
    "### Train Test split"
   ]
  },
  {
   "cell_type": "code",
   "execution_count": null,
   "id": "f6c12da6",
   "metadata": {
    "id": "f6c12da6"
   },
   "outputs": [],
   "source": [
    "from sklearn.model_selection import train_test_split\n",
    "X_train, X_test, y_train, y_test = train_test_split( X, y, test_size=0.2, random_state=0)"
   ]
  },
  {
   "cell_type": "markdown",
   "id": "e4213b64",
   "metadata": {
    "id": "e4213b64"
   },
   "source": [
    "### Standardizing the features"
   ]
  },
  {
   "cell_type": "code",
   "execution_count": null,
   "id": "e9684f22",
   "metadata": {
    "id": "e9684f22"
   },
   "outputs": [],
   "source": [
    "from sklearn.preprocessing import StandardScaler\n",
    "scaler = StandardScaler()\n",
    "scaler.fit(X_train)\n",
    "X_train = scaler.transform(X_train)\n",
    "X_test = scaler.transform(X_test)"
   ]
  },
  {
   "cell_type": "markdown",
   "id": "93c54ae6",
   "metadata": {
    "id": "93c54ae6"
   },
   "source": [
    "### Apply PCA to transform iris dataset"
   ]
  },
  {
   "cell_type": "code",
   "execution_count": null,
   "id": "92e5e64b",
   "metadata": {
    "id": "92e5e64b"
   },
   "outputs": [],
   "source": [
    "pca = PCA(n_components=4)\n",
    "X_train_pca = pca.fit_transform(X_train)\n",
    "X_test_pca = pca.transform(X_test)"
   ]
  },
  {
   "cell_type": "markdown",
   "id": "4711ad17",
   "metadata": {
    "id": "4711ad17"
   },
   "source": [
    "> The `explained_variance_ratio_` tells us how much of the total variance is explained by each principal component."
   ]
  },
  {
   "cell_type": "code",
   "execution_count": null,
   "id": "1e7d53f9",
   "metadata": {
    "id": "1e7d53f9"
   },
   "outputs": [],
   "source": [
    "pca.explained_variance_ratio_"
   ]
  },
  {
   "cell_type": "code",
   "execution_count": null,
   "id": "04615085",
   "metadata": {
    "id": "04615085"
   },
   "outputs": [],
   "source": [
    "px.bar(x= [\"pca-1\", \"pca-2\", \"pca-3\", \"pca-4\"] ,y = pca.explained_variance_ratio_)"
   ]
  },
  {
   "cell_type": "markdown",
   "id": "9a9b0d6d",
   "metadata": {
    "id": "9a9b0d6d"
   },
   "source": [
    "> As we can see from the above plot :  \n",
    ">* The first component covers 72.962% of the original datas information with a loss of ~ 28%.\n",
    ">* The second component covers 22.850% of the original datas information with a loss of ~ 78%.\n",
    ">* Both the first and second principal components are enough to cover ~ 95% with a loss of ~ 5%.\n",
    "> The third and fourth components can be safely ignored because they only contribute to ~3% and 0.5% of original datas information."
   ]
  },
  {
   "cell_type": "markdown",
   "id": "9c12d163",
   "metadata": {
    "id": "9c12d163"
   },
   "source": [
    "💥 **Since the first two principal components have high variance we will select them for dimensionality reduction.**"
   ]
  },
  {
   "cell_type": "markdown",
   "id": "2d08134a",
   "metadata": {
    "id": "2d08134a"
   },
   "source": [
    "### Plotting the 2 principal components with maximum variance"
   ]
  },
  {
   "cell_type": "code",
   "execution_count": null,
   "id": "b4969544",
   "metadata": {
    "id": "b4969544"
   },
   "outputs": [],
   "source": [
    "pca = PCA(n_components=2)\n",
    "pca.fit(X_train)\n",
    "X_train_pca = pca.transform(X_train)\n",
    "X_test_pca = pca.transform(X_test)"
   ]
  },
  {
   "cell_type": "code",
   "execution_count": null,
   "id": "303130c4",
   "metadata": {
    "id": "303130c4"
   },
   "outputs": [],
   "source": [
    "pca.explained_variance_ratio_"
   ]
  },
  {
   "cell_type": "code",
   "execution_count": null,
   "id": "6750f2f8",
   "metadata": {
    "id": "6750f2f8"
   },
   "outputs": [],
   "source": [
    "px.bar(x= [\"pca-1\", \"pca-2\"] ,y = pca.explained_variance_ratio_)"
   ]
  },
  {
   "cell_type": "code",
   "execution_count": null,
   "id": "e174ff74",
   "metadata": {
    "id": "e174ff74"
   },
   "outputs": [],
   "source": [
    "X_train_pca_df = pd.DataFrame(X_train_pca,columns=['PCA-1','PCA-2'])\n",
    "X_train_pca_df.head()"
   ]
  },
  {
   "cell_type": "code",
   "execution_count": null,
   "id": "79c620e7",
   "metadata": {
    "id": "79c620e7"
   },
   "outputs": [],
   "source": [
    "px.scatter(X_train_pca_df, x=\"PCA-1\", y=\"PCA-2\", color= y_train)"
   ]
  },
  {
   "cell_type": "code",
   "execution_count": null,
   "id": "734c4d98",
   "metadata": {
    "id": "734c4d98"
   },
   "outputs": [],
   "source": [
    "X_train_pca.shape, X_test_pca.shape"
   ]
  },
  {
   "cell_type": "code",
   "execution_count": null,
   "id": "608f4951",
   "metadata": {
    "id": "608f4951"
   },
   "outputs": [],
   "source": [
    "from sklearn.neighbors import KNeighborsClassifier\n",
    "from sklearn.model_selection import cross_val_score\n",
    "\n",
    "knn = KNeighborsClassifier()\n",
    "scores = cross_val_score(knn, X_train, y_train, cv=5)\n",
    "print(\"score before dimension reduction:\",scores.mean())   \n",
    "\n",
    "knn = KNeighborsClassifier()\n",
    "scores = cross_val_score(knn, X_train_pca, y_train, cv=5)\n",
    "print(\"score after dimension reduction:\",scores.mean())   "
   ]
  },
  {
   "cell_type": "markdown",
   "id": "9fd24a76",
   "metadata": {
    "id": "9fd24a76"
   },
   "source": [
    "### Plotting the 3 principal components with maximum variance"
   ]
  },
  {
   "cell_type": "code",
   "execution_count": null,
   "id": "07389dbc",
   "metadata": {
    "id": "07389dbc"
   },
   "outputs": [],
   "source": [
    "pca3D = PCA(n_components=3)\n",
    "pca3D.fit(X_train)\n",
    "X_train_pca3D = pca3D.transform(X_train)\n",
    "X_test_pca3D = pca3D.transform(X_test)"
   ]
  },
  {
   "cell_type": "code",
   "execution_count": null,
   "id": "d3649c7f",
   "metadata": {
    "id": "d3649c7f"
   },
   "outputs": [],
   "source": [
    "pca3D.explained_variance_ratio_"
   ]
  },
  {
   "cell_type": "code",
   "execution_count": null,
   "id": "42754f3b",
   "metadata": {
    "id": "42754f3b"
   },
   "outputs": [],
   "source": [
    "X_train_pca3D_df = pd.DataFrame(X_train_pca3D,columns=['PCA-1','PCA-2', 'PCA-3'])\n",
    "X_train_pca3D_df.head()"
   ]
  },
  {
   "cell_type": "code",
   "execution_count": null,
   "id": "010be4c9",
   "metadata": {
    "id": "010be4c9"
   },
   "outputs": [],
   "source": [
    "px.scatter_3d(X_train_pca3D_df, x=\"PCA-1\", y=\"PCA-2\",z=\"PCA-3\", color= y_train)"
   ]
  },
  {
   "cell_type": "code",
   "execution_count": null,
   "id": "d0d2f5a3",
   "metadata": {
    "id": "d0d2f5a3"
   },
   "outputs": [],
   "source": [
    "from sklearn.neighbors import KNeighborsClassifier\n",
    "from sklearn.model_selection import cross_val_score\n",
    "\n",
    "knn = KNeighborsClassifier()\n",
    "scores = cross_val_score(knn, X_train, y_train, cv=5)\n",
    "print(\"score before dimension reduction:\",scores.mean())   \n",
    "\n",
    "knn = KNeighborsClassifier()\n",
    "scores = cross_val_score(knn, X_train_pca, y_train, cv=5)\n",
    "print(\"score after dimension reduction to 2D:\",scores.mean())  \n",
    "\n",
    "knn = KNeighborsClassifier()\n",
    "scores = cross_val_score(knn, X_train_pca3D, y_train, cv=5)\n",
    "print(\"score after dimension reduction to 3D:\",scores.mean())  "
   ]
  },
  {
   "cell_type": "markdown",
   "id": "a3297ddf",
   "metadata": {
    "id": "3bddc40f"
   },
   "source": [
    "# PCA to Speed-up Machine Learning Algorithms"
   ]
  },
  {
   "cell_type": "code",
   "execution_count": 15,
   "id": "7f9c8b91",
   "metadata": {
    "id": "7f9c8b91"
   },
   "outputs": [],
   "source": [
    "import pandas as pd\n",
    "import numpy as np\n",
    "import plotly.express as px\n",
    "from sklearn.decomposition import PCA\n",
    "from time import time\n",
    "import warnings \n",
    "warnings.filterwarnings('ignore')"
   ]
  },
  {
   "cell_type": "code",
   "execution_count": 3,
   "id": "88aad05d",
   "metadata": {
    "id": "88aad05d"
   },
   "outputs": [],
   "source": [
    "train_df = pd.read_csv(\"./dataset/mnist_train.csv\", dtype=np.uint8)\n",
    "test_df = pd.read_csv(\"./dataset/mnist_test.csv\", dtype=np.uint8)"
   ]
  },
  {
   "cell_type": "code",
   "execution_count": 4,
   "id": "f07e1108",
   "metadata": {
    "colab": {
     "base_uri": "https://localhost:8080/",
     "height": 235
    },
    "id": "f07e1108",
    "outputId": "0265cad8-1fd9-4063-db14-cd3c2a45ad4d"
   },
   "outputs": [
    {
     "data": {
      "text/html": [
       "\n",
       "  <div id=\"df-af595cfb-1f0a-4f69-ae0c-99d83dfd891a\">\n",
       "    <div class=\"colab-df-container\">\n",
       "      <div>\n",
       "<style scoped>\n",
       "    .dataframe tbody tr th:only-of-type {\n",
       "        vertical-align: middle;\n",
       "    }\n",
       "\n",
       "    .dataframe tbody tr th {\n",
       "        vertical-align: top;\n",
       "    }\n",
       "\n",
       "    .dataframe thead th {\n",
       "        text-align: right;\n",
       "    }\n",
       "</style>\n",
       "<table border=\"1\" class=\"dataframe\">\n",
       "  <thead>\n",
       "    <tr style=\"text-align: right;\">\n",
       "      <th></th>\n",
       "      <th>label</th>\n",
       "      <th>1x1</th>\n",
       "      <th>1x2</th>\n",
       "      <th>1x3</th>\n",
       "      <th>1x4</th>\n",
       "      <th>1x5</th>\n",
       "      <th>1x6</th>\n",
       "      <th>1x7</th>\n",
       "      <th>1x8</th>\n",
       "      <th>1x9</th>\n",
       "      <th>...</th>\n",
       "      <th>28x19</th>\n",
       "      <th>28x20</th>\n",
       "      <th>28x21</th>\n",
       "      <th>28x22</th>\n",
       "      <th>28x23</th>\n",
       "      <th>28x24</th>\n",
       "      <th>28x25</th>\n",
       "      <th>28x26</th>\n",
       "      <th>28x27</th>\n",
       "      <th>28x28</th>\n",
       "    </tr>\n",
       "  </thead>\n",
       "  <tbody>\n",
       "    <tr>\n",
       "      <th>0</th>\n",
       "      <td>5</td>\n",
       "      <td>0</td>\n",
       "      <td>0</td>\n",
       "      <td>0</td>\n",
       "      <td>0</td>\n",
       "      <td>0</td>\n",
       "      <td>0</td>\n",
       "      <td>0</td>\n",
       "      <td>0</td>\n",
       "      <td>0</td>\n",
       "      <td>...</td>\n",
       "      <td>0</td>\n",
       "      <td>0</td>\n",
       "      <td>0</td>\n",
       "      <td>0</td>\n",
       "      <td>0</td>\n",
       "      <td>0</td>\n",
       "      <td>0</td>\n",
       "      <td>0</td>\n",
       "      <td>0</td>\n",
       "      <td>0</td>\n",
       "    </tr>\n",
       "    <tr>\n",
       "      <th>1</th>\n",
       "      <td>0</td>\n",
       "      <td>0</td>\n",
       "      <td>0</td>\n",
       "      <td>0</td>\n",
       "      <td>0</td>\n",
       "      <td>0</td>\n",
       "      <td>0</td>\n",
       "      <td>0</td>\n",
       "      <td>0</td>\n",
       "      <td>0</td>\n",
       "      <td>...</td>\n",
       "      <td>0</td>\n",
       "      <td>0</td>\n",
       "      <td>0</td>\n",
       "      <td>0</td>\n",
       "      <td>0</td>\n",
       "      <td>0</td>\n",
       "      <td>0</td>\n",
       "      <td>0</td>\n",
       "      <td>0</td>\n",
       "      <td>0</td>\n",
       "    </tr>\n",
       "    <tr>\n",
       "      <th>2</th>\n",
       "      <td>4</td>\n",
       "      <td>0</td>\n",
       "      <td>0</td>\n",
       "      <td>0</td>\n",
       "      <td>0</td>\n",
       "      <td>0</td>\n",
       "      <td>0</td>\n",
       "      <td>0</td>\n",
       "      <td>0</td>\n",
       "      <td>0</td>\n",
       "      <td>...</td>\n",
       "      <td>0</td>\n",
       "      <td>0</td>\n",
       "      <td>0</td>\n",
       "      <td>0</td>\n",
       "      <td>0</td>\n",
       "      <td>0</td>\n",
       "      <td>0</td>\n",
       "      <td>0</td>\n",
       "      <td>0</td>\n",
       "      <td>0</td>\n",
       "    </tr>\n",
       "    <tr>\n",
       "      <th>3</th>\n",
       "      <td>1</td>\n",
       "      <td>0</td>\n",
       "      <td>0</td>\n",
       "      <td>0</td>\n",
       "      <td>0</td>\n",
       "      <td>0</td>\n",
       "      <td>0</td>\n",
       "      <td>0</td>\n",
       "      <td>0</td>\n",
       "      <td>0</td>\n",
       "      <td>...</td>\n",
       "      <td>0</td>\n",
       "      <td>0</td>\n",
       "      <td>0</td>\n",
       "      <td>0</td>\n",
       "      <td>0</td>\n",
       "      <td>0</td>\n",
       "      <td>0</td>\n",
       "      <td>0</td>\n",
       "      <td>0</td>\n",
       "      <td>0</td>\n",
       "    </tr>\n",
       "    <tr>\n",
       "      <th>4</th>\n",
       "      <td>9</td>\n",
       "      <td>0</td>\n",
       "      <td>0</td>\n",
       "      <td>0</td>\n",
       "      <td>0</td>\n",
       "      <td>0</td>\n",
       "      <td>0</td>\n",
       "      <td>0</td>\n",
       "      <td>0</td>\n",
       "      <td>0</td>\n",
       "      <td>...</td>\n",
       "      <td>0</td>\n",
       "      <td>0</td>\n",
       "      <td>0</td>\n",
       "      <td>0</td>\n",
       "      <td>0</td>\n",
       "      <td>0</td>\n",
       "      <td>0</td>\n",
       "      <td>0</td>\n",
       "      <td>0</td>\n",
       "      <td>0</td>\n",
       "    </tr>\n",
       "  </tbody>\n",
       "</table>\n",
       "<p>5 rows × 785 columns</p>\n",
       "</div>\n",
       "      <button class=\"colab-df-convert\" onclick=\"convertToInteractive('df-af595cfb-1f0a-4f69-ae0c-99d83dfd891a')\"\n",
       "              title=\"Convert this dataframe to an interactive table.\"\n",
       "              style=\"display:none;\">\n",
       "        \n",
       "  <svg xmlns=\"http://www.w3.org/2000/svg\" height=\"24px\"viewBox=\"0 0 24 24\"\n",
       "       width=\"24px\">\n",
       "    <path d=\"M0 0h24v24H0V0z\" fill=\"none\"/>\n",
       "    <path d=\"M18.56 5.44l.94 2.06.94-2.06 2.06-.94-2.06-.94-.94-2.06-.94 2.06-2.06.94zm-11 1L8.5 8.5l.94-2.06 2.06-.94-2.06-.94L8.5 2.5l-.94 2.06-2.06.94zm10 10l.94 2.06.94-2.06 2.06-.94-2.06-.94-.94-2.06-.94 2.06-2.06.94z\"/><path d=\"M17.41 7.96l-1.37-1.37c-.4-.4-.92-.59-1.43-.59-.52 0-1.04.2-1.43.59L10.3 9.45l-7.72 7.72c-.78.78-.78 2.05 0 2.83L4 21.41c.39.39.9.59 1.41.59.51 0 1.02-.2 1.41-.59l7.78-7.78 2.81-2.81c.8-.78.8-2.07 0-2.86zM5.41 20L4 18.59l7.72-7.72 1.47 1.35L5.41 20z\"/>\n",
       "  </svg>\n",
       "      </button>\n",
       "      \n",
       "  <style>\n",
       "    .colab-df-container {\n",
       "      display:flex;\n",
       "      flex-wrap:wrap;\n",
       "      gap: 12px;\n",
       "    }\n",
       "\n",
       "    .colab-df-convert {\n",
       "      background-color: #E8F0FE;\n",
       "      border: none;\n",
       "      border-radius: 50%;\n",
       "      cursor: pointer;\n",
       "      display: none;\n",
       "      fill: #1967D2;\n",
       "      height: 32px;\n",
       "      padding: 0 0 0 0;\n",
       "      width: 32px;\n",
       "    }\n",
       "\n",
       "    .colab-df-convert:hover {\n",
       "      background-color: #E2EBFA;\n",
       "      box-shadow: 0px 1px 2px rgba(60, 64, 67, 0.3), 0px 1px 3px 1px rgba(60, 64, 67, 0.15);\n",
       "      fill: #174EA6;\n",
       "    }\n",
       "\n",
       "    [theme=dark] .colab-df-convert {\n",
       "      background-color: #3B4455;\n",
       "      fill: #D2E3FC;\n",
       "    }\n",
       "\n",
       "    [theme=dark] .colab-df-convert:hover {\n",
       "      background-color: #434B5C;\n",
       "      box-shadow: 0px 1px 3px 1px rgba(0, 0, 0, 0.15);\n",
       "      filter: drop-shadow(0px 1px 2px rgba(0, 0, 0, 0.3));\n",
       "      fill: #FFFFFF;\n",
       "    }\n",
       "  </style>\n",
       "\n",
       "      <script>\n",
       "        const buttonEl =\n",
       "          document.querySelector('#df-af595cfb-1f0a-4f69-ae0c-99d83dfd891a button.colab-df-convert');\n",
       "        buttonEl.style.display =\n",
       "          google.colab.kernel.accessAllowed ? 'block' : 'none';\n",
       "\n",
       "        async function convertToInteractive(key) {\n",
       "          const element = document.querySelector('#df-af595cfb-1f0a-4f69-ae0c-99d83dfd891a');\n",
       "          const dataTable =\n",
       "            await google.colab.kernel.invokeFunction('convertToInteractive',\n",
       "                                                     [key], {});\n",
       "          if (!dataTable) return;\n",
       "\n",
       "          const docLinkHtml = 'Like what you see? Visit the ' +\n",
       "            '<a target=\"_blank\" href=https://colab.research.google.com/notebooks/data_table.ipynb>data table notebook</a>'\n",
       "            + ' to learn more about interactive tables.';\n",
       "          element.innerHTML = '';\n",
       "          dataTable['output_type'] = 'display_data';\n",
       "          await google.colab.output.renderOutput(dataTable, element);\n",
       "          const docLink = document.createElement('div');\n",
       "          docLink.innerHTML = docLinkHtml;\n",
       "          element.appendChild(docLink);\n",
       "        }\n",
       "      </script>\n",
       "    </div>\n",
       "  </div>\n",
       "  "
      ],
      "text/plain": [
       "   label  1x1  1x2  1x3  1x4  1x5  1x6  1x7  1x8  1x9  ...  28x19  28x20  \\\n",
       "0      5    0    0    0    0    0    0    0    0    0  ...      0      0   \n",
       "1      0    0    0    0    0    0    0    0    0    0  ...      0      0   \n",
       "2      4    0    0    0    0    0    0    0    0    0  ...      0      0   \n",
       "3      1    0    0    0    0    0    0    0    0    0  ...      0      0   \n",
       "4      9    0    0    0    0    0    0    0    0    0  ...      0      0   \n",
       "\n",
       "   28x21  28x22  28x23  28x24  28x25  28x26  28x27  28x28  \n",
       "0      0      0      0      0      0      0      0      0  \n",
       "1      0      0      0      0      0      0      0      0  \n",
       "2      0      0      0      0      0      0      0      0  \n",
       "3      0      0      0      0      0      0      0      0  \n",
       "4      0      0      0      0      0      0      0      0  \n",
       "\n",
       "[5 rows x 785 columns]"
      ]
     },
     "execution_count": 4,
     "metadata": {},
     "output_type": "execute_result"
    }
   ],
   "source": [
    "train_df.head()"
   ]
  },
  {
   "cell_type": "code",
   "execution_count": 5,
   "id": "a010ab93",
   "metadata": {
    "colab": {
     "base_uri": "https://localhost:8080/",
     "height": 394
    },
    "id": "a010ab93",
    "outputId": "1b3d5a4f-7982-469c-a1a1-3680b6a5cbac"
   },
   "outputs": [
    {
     "data": {
      "text/html": [
       "\n",
       "  <div id=\"df-270e30af-723a-4b10-9b36-f628c5218f1b\">\n",
       "    <div class=\"colab-df-container\">\n",
       "      <div>\n",
       "<style scoped>\n",
       "    .dataframe tbody tr th:only-of-type {\n",
       "        vertical-align: middle;\n",
       "    }\n",
       "\n",
       "    .dataframe tbody tr th {\n",
       "        vertical-align: top;\n",
       "    }\n",
       "\n",
       "    .dataframe thead th {\n",
       "        text-align: right;\n",
       "    }\n",
       "</style>\n",
       "<table border=\"1\" class=\"dataframe\">\n",
       "  <thead>\n",
       "    <tr style=\"text-align: right;\">\n",
       "      <th></th>\n",
       "      <th>label</th>\n",
       "      <th>1x1</th>\n",
       "      <th>1x2</th>\n",
       "      <th>1x3</th>\n",
       "      <th>1x4</th>\n",
       "      <th>1x5</th>\n",
       "      <th>1x6</th>\n",
       "      <th>1x7</th>\n",
       "      <th>1x8</th>\n",
       "      <th>1x9</th>\n",
       "      <th>...</th>\n",
       "      <th>28x19</th>\n",
       "      <th>28x20</th>\n",
       "      <th>28x21</th>\n",
       "      <th>28x22</th>\n",
       "      <th>28x23</th>\n",
       "      <th>28x24</th>\n",
       "      <th>28x25</th>\n",
       "      <th>28x26</th>\n",
       "      <th>28x27</th>\n",
       "      <th>28x28</th>\n",
       "    </tr>\n",
       "  </thead>\n",
       "  <tbody>\n",
       "    <tr>\n",
       "      <th>count</th>\n",
       "      <td>60000.000000</td>\n",
       "      <td>60000.0</td>\n",
       "      <td>60000.0</td>\n",
       "      <td>60000.0</td>\n",
       "      <td>60000.0</td>\n",
       "      <td>60000.0</td>\n",
       "      <td>60000.0</td>\n",
       "      <td>60000.0</td>\n",
       "      <td>60000.0</td>\n",
       "      <td>60000.0</td>\n",
       "      <td>...</td>\n",
       "      <td>60000.000000</td>\n",
       "      <td>60000.000000</td>\n",
       "      <td>60000.000000</td>\n",
       "      <td>60000.000000</td>\n",
       "      <td>60000.000000</td>\n",
       "      <td>60000.0000</td>\n",
       "      <td>60000.0</td>\n",
       "      <td>60000.0</td>\n",
       "      <td>60000.0</td>\n",
       "      <td>60000.0</td>\n",
       "    </tr>\n",
       "    <tr>\n",
       "      <th>mean</th>\n",
       "      <td>4.453933</td>\n",
       "      <td>0.0</td>\n",
       "      <td>0.0</td>\n",
       "      <td>0.0</td>\n",
       "      <td>0.0</td>\n",
       "      <td>0.0</td>\n",
       "      <td>0.0</td>\n",
       "      <td>0.0</td>\n",
       "      <td>0.0</td>\n",
       "      <td>0.0</td>\n",
       "      <td>...</td>\n",
       "      <td>0.200433</td>\n",
       "      <td>0.088867</td>\n",
       "      <td>0.045633</td>\n",
       "      <td>0.019283</td>\n",
       "      <td>0.015117</td>\n",
       "      <td>0.0020</td>\n",
       "      <td>0.0</td>\n",
       "      <td>0.0</td>\n",
       "      <td>0.0</td>\n",
       "      <td>0.0</td>\n",
       "    </tr>\n",
       "    <tr>\n",
       "      <th>std</th>\n",
       "      <td>2.889270</td>\n",
       "      <td>0.0</td>\n",
       "      <td>0.0</td>\n",
       "      <td>0.0</td>\n",
       "      <td>0.0</td>\n",
       "      <td>0.0</td>\n",
       "      <td>0.0</td>\n",
       "      <td>0.0</td>\n",
       "      <td>0.0</td>\n",
       "      <td>0.0</td>\n",
       "      <td>...</td>\n",
       "      <td>6.042472</td>\n",
       "      <td>3.956189</td>\n",
       "      <td>2.839845</td>\n",
       "      <td>1.686770</td>\n",
       "      <td>1.678283</td>\n",
       "      <td>0.3466</td>\n",
       "      <td>0.0</td>\n",
       "      <td>0.0</td>\n",
       "      <td>0.0</td>\n",
       "      <td>0.0</td>\n",
       "    </tr>\n",
       "    <tr>\n",
       "      <th>min</th>\n",
       "      <td>0.000000</td>\n",
       "      <td>0.0</td>\n",
       "      <td>0.0</td>\n",
       "      <td>0.0</td>\n",
       "      <td>0.0</td>\n",
       "      <td>0.0</td>\n",
       "      <td>0.0</td>\n",
       "      <td>0.0</td>\n",
       "      <td>0.0</td>\n",
       "      <td>0.0</td>\n",
       "      <td>...</td>\n",
       "      <td>0.000000</td>\n",
       "      <td>0.000000</td>\n",
       "      <td>0.000000</td>\n",
       "      <td>0.000000</td>\n",
       "      <td>0.000000</td>\n",
       "      <td>0.0000</td>\n",
       "      <td>0.0</td>\n",
       "      <td>0.0</td>\n",
       "      <td>0.0</td>\n",
       "      <td>0.0</td>\n",
       "    </tr>\n",
       "    <tr>\n",
       "      <th>25%</th>\n",
       "      <td>2.000000</td>\n",
       "      <td>0.0</td>\n",
       "      <td>0.0</td>\n",
       "      <td>0.0</td>\n",
       "      <td>0.0</td>\n",
       "      <td>0.0</td>\n",
       "      <td>0.0</td>\n",
       "      <td>0.0</td>\n",
       "      <td>0.0</td>\n",
       "      <td>0.0</td>\n",
       "      <td>...</td>\n",
       "      <td>0.000000</td>\n",
       "      <td>0.000000</td>\n",
       "      <td>0.000000</td>\n",
       "      <td>0.000000</td>\n",
       "      <td>0.000000</td>\n",
       "      <td>0.0000</td>\n",
       "      <td>0.0</td>\n",
       "      <td>0.0</td>\n",
       "      <td>0.0</td>\n",
       "      <td>0.0</td>\n",
       "    </tr>\n",
       "    <tr>\n",
       "      <th>50%</th>\n",
       "      <td>4.000000</td>\n",
       "      <td>0.0</td>\n",
       "      <td>0.0</td>\n",
       "      <td>0.0</td>\n",
       "      <td>0.0</td>\n",
       "      <td>0.0</td>\n",
       "      <td>0.0</td>\n",
       "      <td>0.0</td>\n",
       "      <td>0.0</td>\n",
       "      <td>0.0</td>\n",
       "      <td>...</td>\n",
       "      <td>0.000000</td>\n",
       "      <td>0.000000</td>\n",
       "      <td>0.000000</td>\n",
       "      <td>0.000000</td>\n",
       "      <td>0.000000</td>\n",
       "      <td>0.0000</td>\n",
       "      <td>0.0</td>\n",
       "      <td>0.0</td>\n",
       "      <td>0.0</td>\n",
       "      <td>0.0</td>\n",
       "    </tr>\n",
       "    <tr>\n",
       "      <th>75%</th>\n",
       "      <td>7.000000</td>\n",
       "      <td>0.0</td>\n",
       "      <td>0.0</td>\n",
       "      <td>0.0</td>\n",
       "      <td>0.0</td>\n",
       "      <td>0.0</td>\n",
       "      <td>0.0</td>\n",
       "      <td>0.0</td>\n",
       "      <td>0.0</td>\n",
       "      <td>0.0</td>\n",
       "      <td>...</td>\n",
       "      <td>0.000000</td>\n",
       "      <td>0.000000</td>\n",
       "      <td>0.000000</td>\n",
       "      <td>0.000000</td>\n",
       "      <td>0.000000</td>\n",
       "      <td>0.0000</td>\n",
       "      <td>0.0</td>\n",
       "      <td>0.0</td>\n",
       "      <td>0.0</td>\n",
       "      <td>0.0</td>\n",
       "    </tr>\n",
       "    <tr>\n",
       "      <th>max</th>\n",
       "      <td>9.000000</td>\n",
       "      <td>0.0</td>\n",
       "      <td>0.0</td>\n",
       "      <td>0.0</td>\n",
       "      <td>0.0</td>\n",
       "      <td>0.0</td>\n",
       "      <td>0.0</td>\n",
       "      <td>0.0</td>\n",
       "      <td>0.0</td>\n",
       "      <td>0.0</td>\n",
       "      <td>...</td>\n",
       "      <td>254.000000</td>\n",
       "      <td>254.000000</td>\n",
       "      <td>253.000000</td>\n",
       "      <td>253.000000</td>\n",
       "      <td>254.000000</td>\n",
       "      <td>62.0000</td>\n",
       "      <td>0.0</td>\n",
       "      <td>0.0</td>\n",
       "      <td>0.0</td>\n",
       "      <td>0.0</td>\n",
       "    </tr>\n",
       "  </tbody>\n",
       "</table>\n",
       "<p>8 rows × 785 columns</p>\n",
       "</div>\n",
       "      <button class=\"colab-df-convert\" onclick=\"convertToInteractive('df-270e30af-723a-4b10-9b36-f628c5218f1b')\"\n",
       "              title=\"Convert this dataframe to an interactive table.\"\n",
       "              style=\"display:none;\">\n",
       "        \n",
       "  <svg xmlns=\"http://www.w3.org/2000/svg\" height=\"24px\"viewBox=\"0 0 24 24\"\n",
       "       width=\"24px\">\n",
       "    <path d=\"M0 0h24v24H0V0z\" fill=\"none\"/>\n",
       "    <path d=\"M18.56 5.44l.94 2.06.94-2.06 2.06-.94-2.06-.94-.94-2.06-.94 2.06-2.06.94zm-11 1L8.5 8.5l.94-2.06 2.06-.94-2.06-.94L8.5 2.5l-.94 2.06-2.06.94zm10 10l.94 2.06.94-2.06 2.06-.94-2.06-.94-.94-2.06-.94 2.06-2.06.94z\"/><path d=\"M17.41 7.96l-1.37-1.37c-.4-.4-.92-.59-1.43-.59-.52 0-1.04.2-1.43.59L10.3 9.45l-7.72 7.72c-.78.78-.78 2.05 0 2.83L4 21.41c.39.39.9.59 1.41.59.51 0 1.02-.2 1.41-.59l7.78-7.78 2.81-2.81c.8-.78.8-2.07 0-2.86zM5.41 20L4 18.59l7.72-7.72 1.47 1.35L5.41 20z\"/>\n",
       "  </svg>\n",
       "      </button>\n",
       "      \n",
       "  <style>\n",
       "    .colab-df-container {\n",
       "      display:flex;\n",
       "      flex-wrap:wrap;\n",
       "      gap: 12px;\n",
       "    }\n",
       "\n",
       "    .colab-df-convert {\n",
       "      background-color: #E8F0FE;\n",
       "      border: none;\n",
       "      border-radius: 50%;\n",
       "      cursor: pointer;\n",
       "      display: none;\n",
       "      fill: #1967D2;\n",
       "      height: 32px;\n",
       "      padding: 0 0 0 0;\n",
       "      width: 32px;\n",
       "    }\n",
       "\n",
       "    .colab-df-convert:hover {\n",
       "      background-color: #E2EBFA;\n",
       "      box-shadow: 0px 1px 2px rgba(60, 64, 67, 0.3), 0px 1px 3px 1px rgba(60, 64, 67, 0.15);\n",
       "      fill: #174EA6;\n",
       "    }\n",
       "\n",
       "    [theme=dark] .colab-df-convert {\n",
       "      background-color: #3B4455;\n",
       "      fill: #D2E3FC;\n",
       "    }\n",
       "\n",
       "    [theme=dark] .colab-df-convert:hover {\n",
       "      background-color: #434B5C;\n",
       "      box-shadow: 0px 1px 3px 1px rgba(0, 0, 0, 0.15);\n",
       "      filter: drop-shadow(0px 1px 2px rgba(0, 0, 0, 0.3));\n",
       "      fill: #FFFFFF;\n",
       "    }\n",
       "  </style>\n",
       "\n",
       "      <script>\n",
       "        const buttonEl =\n",
       "          document.querySelector('#df-270e30af-723a-4b10-9b36-f628c5218f1b button.colab-df-convert');\n",
       "        buttonEl.style.display =\n",
       "          google.colab.kernel.accessAllowed ? 'block' : 'none';\n",
       "\n",
       "        async function convertToInteractive(key) {\n",
       "          const element = document.querySelector('#df-270e30af-723a-4b10-9b36-f628c5218f1b');\n",
       "          const dataTable =\n",
       "            await google.colab.kernel.invokeFunction('convertToInteractive',\n",
       "                                                     [key], {});\n",
       "          if (!dataTable) return;\n",
       "\n",
       "          const docLinkHtml = 'Like what you see? Visit the ' +\n",
       "            '<a target=\"_blank\" href=https://colab.research.google.com/notebooks/data_table.ipynb>data table notebook</a>'\n",
       "            + ' to learn more about interactive tables.';\n",
       "          element.innerHTML = '';\n",
       "          dataTable['output_type'] = 'display_data';\n",
       "          await google.colab.output.renderOutput(dataTable, element);\n",
       "          const docLink = document.createElement('div');\n",
       "          docLink.innerHTML = docLinkHtml;\n",
       "          element.appendChild(docLink);\n",
       "        }\n",
       "      </script>\n",
       "    </div>\n",
       "  </div>\n",
       "  "
      ],
      "text/plain": [
       "              label      1x1      1x2      1x3      1x4      1x5      1x6  \\\n",
       "count  60000.000000  60000.0  60000.0  60000.0  60000.0  60000.0  60000.0   \n",
       "mean       4.453933      0.0      0.0      0.0      0.0      0.0      0.0   \n",
       "std        2.889270      0.0      0.0      0.0      0.0      0.0      0.0   \n",
       "min        0.000000      0.0      0.0      0.0      0.0      0.0      0.0   \n",
       "25%        2.000000      0.0      0.0      0.0      0.0      0.0      0.0   \n",
       "50%        4.000000      0.0      0.0      0.0      0.0      0.0      0.0   \n",
       "75%        7.000000      0.0      0.0      0.0      0.0      0.0      0.0   \n",
       "max        9.000000      0.0      0.0      0.0      0.0      0.0      0.0   \n",
       "\n",
       "           1x7      1x8      1x9  ...         28x19         28x20  \\\n",
       "count  60000.0  60000.0  60000.0  ...  60000.000000  60000.000000   \n",
       "mean       0.0      0.0      0.0  ...      0.200433      0.088867   \n",
       "std        0.0      0.0      0.0  ...      6.042472      3.956189   \n",
       "min        0.0      0.0      0.0  ...      0.000000      0.000000   \n",
       "25%        0.0      0.0      0.0  ...      0.000000      0.000000   \n",
       "50%        0.0      0.0      0.0  ...      0.000000      0.000000   \n",
       "75%        0.0      0.0      0.0  ...      0.000000      0.000000   \n",
       "max        0.0      0.0      0.0  ...    254.000000    254.000000   \n",
       "\n",
       "              28x21         28x22         28x23       28x24    28x25    28x26  \\\n",
       "count  60000.000000  60000.000000  60000.000000  60000.0000  60000.0  60000.0   \n",
       "mean       0.045633      0.019283      0.015117      0.0020      0.0      0.0   \n",
       "std        2.839845      1.686770      1.678283      0.3466      0.0      0.0   \n",
       "min        0.000000      0.000000      0.000000      0.0000      0.0      0.0   \n",
       "25%        0.000000      0.000000      0.000000      0.0000      0.0      0.0   \n",
       "50%        0.000000      0.000000      0.000000      0.0000      0.0      0.0   \n",
       "75%        0.000000      0.000000      0.000000      0.0000      0.0      0.0   \n",
       "max      253.000000    253.000000    254.000000     62.0000      0.0      0.0   \n",
       "\n",
       "         28x27    28x28  \n",
       "count  60000.0  60000.0  \n",
       "mean       0.0      0.0  \n",
       "std        0.0      0.0  \n",
       "min        0.0      0.0  \n",
       "25%        0.0      0.0  \n",
       "50%        0.0      0.0  \n",
       "75%        0.0      0.0  \n",
       "max        0.0      0.0  \n",
       "\n",
       "[8 rows x 785 columns]"
      ]
     },
     "execution_count": 5,
     "metadata": {},
     "output_type": "execute_result"
    }
   ],
   "source": [
    "train_df.describe()"
   ]
  },
  {
   "cell_type": "code",
   "execution_count": 6,
   "id": "e184412e",
   "metadata": {
    "colab": {
     "base_uri": "https://localhost:8080/"
    },
    "id": "e184412e",
    "outputId": "6b8f81f2-e097-45aa-d678-b39044168d7b"
   },
   "outputs": [
    {
     "name": "stdout",
     "output_type": "stream",
     "text": [
      "<class 'pandas.core.frame.DataFrame'>\n",
      "RangeIndex: 60000 entries, 0 to 59999\n",
      "Columns: 785 entries, label to 28x28\n",
      "dtypes: uint8(785)\n",
      "memory usage: 44.9 MB\n"
     ]
    }
   ],
   "source": [
    "train_df.info()"
   ]
  },
  {
   "cell_type": "code",
   "execution_count": 7,
   "id": "IXMrIfocQXj-",
   "metadata": {
    "colab": {
     "base_uri": "https://localhost:8080/",
     "height": 542
    },
    "id": "IXMrIfocQXj-",
    "outputId": "e766a831-0c30-4745-9e61-5df05070e31d"
   },
   "outputs": [
    {
     "data": {
      "text/html": [
       "<html>\n",
       "<head><meta charset=\"utf-8\" /></head>\n",
       "<body>\n",
       "    <div>            <script src=\"https://cdnjs.cloudflare.com/ajax/libs/mathjax/2.7.5/MathJax.js?config=TeX-AMS-MML_SVG\"></script><script type=\"text/javascript\">if (window.MathJax) {MathJax.Hub.Config({SVG: {font: \"STIX-Web\"}});}</script>                <script type=\"text/javascript\">window.PlotlyConfig = {MathJaxConfig: 'local'};</script>\n",
       "        <script src=\"https://cdn.plot.ly/plotly-2.8.3.min.js\"></script>                <div id=\"d6524100-bf68-49d3-8f77-7f708f6c82cd\" class=\"plotly-graph-div\" style=\"height:525px; width:100%;\"></div>            <script type=\"text/javascript\">                                    window.PLOTLYENV=window.PLOTLYENV || {};                                    if (document.getElementById(\"d6524100-bf68-49d3-8f77-7f708f6c82cd\")) {                    Plotly.newPlot(                        \"d6524100-bf68-49d3-8f77-7f708f6c82cd\",                        [{\"domain\":{\"x\":[0.0,1.0],\"y\":[0.0,1.0]},\"hovertemplate\":\"label=%{label}<extra></extra>\",\"labels\":[5,0,4,1,9,2,1,3,1,4,3,5,3,6,1,7,2,8,6,9,4,0,9,1,1,2,4,3,2,7,3,8,6,9,0,5,6,0,7,6,1,8,7,9,3,9,8,5,9,3,3,0,7,4,9,8,0,9,4,1,4,4,6,0,4,5,6,1,0,0,1,7,1,6,3,0,2,1,1,7,9,0,2,6,7,8,3,9,0,4,6,7,4,6,8,0,7,8,3,1,5,7,1,7,1,1,6,3,0,2,9,3,1,1,0,4,9,2,0,0,2,0,2,7,1,8,6,4,1,6,3,4,5,9,1,3,3,8,5,4,7,7,4,2,8,5,8,6,7,3,4,6,1,9,9,6,0,3,7,2,8,2,9,4,4,6,4,9,7,0,9,2,9,5,1,5,9,1,2,3,2,3,5,9,1,7,6,2,8,2,2,5,0,7,4,9,7,8,3,2,1,1,8,3,6,1,0,3,1,0,0,1,7,2,7,3,0,4,6,5,2,6,4,7,1,8,9,9,3,0,7,1,0,2,0,3,5,4,6,5,8,6,3,7,5,8,0,9,1,0,3,1,2,2,3,3,6,4,7,5,0,6,2,7,9,8,5,9,2,1,1,4,4,5,6,4,1,2,5,3,9,3,9,0,5,9,6,5,7,4,1,3,4,0,4,8,0,4,3,6,8,7,6,0,9,7,5,7,2,1,1,6,8,9,4,1,5,2,2,9,0,3,9,6,7,2,0,3,5,4,3,6,5,8,9,5,4,7,4,2,7,3,4,8,9,1,9,2,8,7,9,1,8,7,4,1,3,1,1,0,2,3,9,4,9,2,1,6,8,4,7,7,4,4,9,2,5,7,2,4,4,2,1,9,7,2,8,7,6,9,2,2,3,8,1,6,5,1,1,0,2,6,4,5,8,3,1,5,1,9,2,7,4,4,4,8,1,5,8,9,5,6,7,9,9,3,7,0,9,0,6,6,2,3,9,0,7,5,4,8,0,9,4,1,2,8,7,1,2,6,1,0,3,0,1,1,8,2,0,3,9,4,0,5,0,6,1,7,7,8,1,9,2,0,5,1,2,2,7,3,5,4,9,7,1,8,3,9,6,0,3,1,1,2,6,3,5,7,6,8,3,9,5,8,5,7,6,1,1,3,1,7,5,5,5,2,5,8,7,0,9,7,7,5,0,9,0,0,8,9,2,4,8,1,6,1,6,5,1,8,3,4,0,5,5,8,3,6,2,3,9,2,1,1,5,2,1,3,2,8,7,3,7,2,4,6,9,7,2,4,2,8,1,1,3,8,4,0,6,5,9,3,0,9,2,4,7,1,2,9,4,2,6,1,8,9,0,6,6,7,9,9,8,0,1,4,4,6,7,1,5,7,0,3,5,8,4,7,1,2,5,9,5,6,7,5,9,8,8,3,6,9,7,0,7,5,7,1,1,0,7,9,2,3,7,3,2,4,1,6,2,7,5,5,7,4,0,2,6,3,6,4,0,4,2,6,0,0,0,0,3,1,6,2,2,3,1,4,1,5,4,6,4,7,2,8,7,9,2,0,5,1,4,2,8,3,2,4,1,5,4,6,0,7,9,8,4,9,8,0,1,1,0,2,2,3,2,4,4,5,8,6,5,7,7,8,8,9,7,4,7,3,2,0,8,6,8,6,1,6,8,9,4,0,9,0,4,1,5,4,7,5,3,7,4,9,8,5,8,6,3,8,6,9,9,1,8,3,5,8,6,5,9,7,2,5,0,8,5,1,1,0,9,1,8,6,7,0,9,3,0,8,8,9,6,7,8,4,7,5,9,2,6,7,4,5,9,2,3,1,6,3,9,2,2,5,6,8,0,7,7,1,9,8,7,0,9,9,4,6,2,8,5,1,4,1,5,5,1,7,3,6,4,3,2,5,6,4,4,0,4,4,6,7,2,4,3,3,8,0,0,3,2,2,9,8,2,3,7,0,1,1,0,2,3,3,8,4,3,5,7,6,4,7,7,8,5,9,7,0,3,1,6,2,4,3,4,4,7,5,9,6,9,0,7,1,4,2,7,3,6,7,5,8,4,5,5,2,7,1,1,5,6,8,5,8,4,0,7,9,9,2,9,7,7,8,7,4,2,6,9,1,7,0,6,4,2,5,7,0,7,1,0,3,7,6,5,0,6,1,5,1,7,8,5,0,3,4,7,7,5,7,8,6,9,3,8,6,1,0,9,7,1,3,0,5,6,4,4,2,4,4,3,1,7,7,6,0,3,6,0,7,1,1,4,9,4,3,4,8,2,2,1,8,7,0,8,1,0,7,6,3,7,7,5,8,8,9,0,0,4,1,5,2,2,3,9,4,9,5,0,6,7,7,1,8,0,2,2,0,4,1,1,2,7,3,9,7,2,8,1,9,5,8,8,1,9,8,3,1,6,5,7,4,2,7,0,3,0,4,1,1,7,9,1,1,8,5,7,5,0,6,6,0,4,1,2,3,4,4,6,8,0,9,5,8,7,0,3,5,4,5,9,6,7,1,9,6,1,3,8,3,9,1,2,7,7,7,0,2,3,1,1,4,2,5,6,0,9,6,2,8,9,2,3,3,6,9,1,4,3,3,0,7,7,1,7,7,3,6,4,9,5,4,4,2,7,9,0,9,8,4,4,9,1,2,4,9,3,0,4,1,6,2,6,3,7,4,2,6,6,7,1,8,9,0,4,1,4,2,1,3,6,4,6,7,5,8,7,0,5,1,4,2,8,4,7,7,3,8,4,9,5,8,6,7,3,4,6,7,1,7,4,3,3,9,8,8,1,8,6,3,1,1,3,5,2,8,4,2,9,7,1,4,8,2,9,6,4,1,3,4,2,5,2,5,6,8,0,6,2,4,9,4,9,4,5,1,5,8,4,7,9,5,9,5,9,1,5,8,3,9,9,1,8,3,8,6,5,2,7,2,7,6,0,9,7,9,4,6,0,5,3,5,7,3,9,3,6,8,3,1,7,6,5,5,7,6,5,8,2,1,7,9,2,7,3,6,7,8,5,3,7,7,8,4,0,7,3,0,6,3,9,7,1,9,5,3,6,0,9,2,8,0,9,1,6,0,0,1,9,0,0,4,2,1,7,0,3,4,4,7,5,9,8,2,0,0,8,6,2,2,7,6,1,2,9,2,6,9,7,9,5,0,8,1,5,2,4,3,9,4,7,5,6,6,7,7,6,8,5,9,7,0,6,1,9,2,3,3,5,4,3,5,8,6,3,7,2,8,4,9,5,0,2,1,4,2,4,3,1,7,1,8,0,9,6,8,1,9,4,4,9,1,8,9,6,5,5,3,3,0,1,4,3,8,3,4,2,0,7,5,5,1,8,5,3,4,6,0,5,7,2,6,6,0,1,1,4,7,9,0,0,6,6,8,6,9,4,5,2,4,0,7,5,6,5,0,9,8,6,1,9,7,5,7,5,1,1,3,0,2,0,3,8,1,6,4,6,2,6,4,8,8,1,4,4,7,1,2,2,3,9,6,4,9,5,6,2,3,9,2,6,2,7,4,3,6,4,9,7,0,2,2,9,5,4,5,0,1,4,3,6,3,2,9,7,5,3,7,0,9,5,8,3,2,0,1,8,3,0,1,2,3,4,0,0,1,7,2,9,3,9,4,2,5,8,6,7,7,9,8,9,9,2,0,0,1,4,2,4,3,9,4,3,5,7,6,5,7,1,8,6,9,3,0,4,1,2,2,5,3,7,4,1,7,7,8,1,9,2,3,2,4,0,1,8,4,3,6,5,6,4,7,9,3,1,3,0,2,1,1,0,9,9,4,6,7,6,3,5,5,4,4,6,9,1,1,3,1,1,0,5,1,4,4,6,6,6,0,1,2,0,8,2,2,1,1,3,7,9,5,3,0,2,0,6,2,9,0,7,6,9,9,1,2,9,3,4,7,9,6,0,9,4,8,7,7,9,8,6,9,5,2,2,2,3,9,8,8,8,6,4,4,4,4,2,4,6,0,7,0,7,8,2,0,8,8,3,6,8,6,6,8,6,5,1,1,8,7,8,3,6,8,9,5,0,0,0,3,2,6,6,7,8,3,5,1,4,3,5,9,4,5,4,1,1,5,4,0,9,7,1,2,5,7,9,4,0,3,6,1,7,7,5,6,3,0,1,1,4,2,4,3,6,4,7,5,7,6,9,7,2,8,4,9,8,0,7,1,1,2,3,3,5,4,6,5,0,6,3,7,3,8,2,9,0,0,9,1,2,2,9,3,9,4,6,5,2,6,6,7,6,8,2,9,2,0,6,7,2,8,6,9,0,9,6,0,3,1,1,4,9,5,8,1,0,6,6,7,2,3,4,2,3,9,0,0,4,5,0,6,4,7,4,3,1,9,3,9,9,3,1,8,7,1,7,2,8,9,9,6,2,7,2,5,0,6,7,3,9,5,9,0,8,5,8,4,9,0,5,3,2,4,8,7,4,1,5,4,6,3,7,7,9,6,6,2,2,1,6,5,4,5,3,0,5,5,2,0,5,8,8,4,2,6,9,7,1,0,2,3,1,8,7,1,8,2,7,2,6,3,2,3,7,6,8,7,5,3,8,4,4,9,4,6,4,5,5,1,1,9,3,8,6,1,4,1,7,5,4,0,4,2,7,7,5,8,0,6,9,6,6,8,7,2,0,8,8,4,8,4,4,2,3,2,3,8,2,0,5,0,0,1,0,2,1,3,3,4,7,5,3,6,1,7,6,8,3,9,0,0,7,1,2,2,4,3,7,4,1,5,0,6,3,7,9,8,7,9,5,0,1,1,8,2,6,3,3,4,3,5,3,7,1,8,1,9,6,8,9,9,7,5,0,7,3,0,6,3,8,1,6,6,1,8,6,4,6,1,0,7,1,6,4,5,1,6,7,4,8,2,5,7,3,8,4,1,6,3,3,4,5,3,2,4,5,7,1,2,4,0,0,5,8,0,6,1,1,9,3,2,1,3,4,2,4,3,4,5,8,5,6,7,6,8,9,4,0,9,4,9,4,7,4,1,6,1,3,7,3,8,3,3,2,4,4,8,7,6,4,3,6,8,7,0,7,9,5,6,5,2,3,0,4,1,4,0,5,6,1,2,6,3,4,8,5,9,5,0,2,7,5,2,9,3,4,4,0,5,2,5,5,2,9,8,3,5,2,4,4,6,7,6,4,6,6,7,0,9,6,1,8,8,5,2,1,1,5,2,0,6,9,5,2,3,1,4,1,7,6,9,2,4,6,0,1,0,5,5,5,9,2,0,4,1,1,2,4,3,0,4,2,5,7,6,2,7,7,8,3,9,0,0,2,1,1,2,8,3,4,4,1,5,9,6,1,7,5,8,9,9,6,0,1,1,7,2,8,3,7,7,8,8,8,9,7,6,8,2,4,7,4,1,8,5,0,6,9,2,8,5,2,0,0,5,4,4,3,2,1,0,5,8,5,1,4,7,2,1,4,8,6,3,4,8,1,7,5,1,3,7,1,7,9,0,0,1,9,4,0,4,8,4,8,5,1,7,1,4,2,4,4,9,2,7,3,2,4,6,9,5,1,3,2,9,4,4,3,3,6,9,2,0,6,8,8,7,5,6,6,3,8,0,4,4,6,6,7,3,4,7,7,0,6,1,6,1,6,2,0,9,7,3,6,1,3,8,2,9,2,8,7,2,9,5,6,2,2,6,4,9,7,6,3,0,0,5,0,3,1,3,0,6,2,3,3,5,0,0,7,3,4,7,5,6,4,1,4,5,2,5,1,9,5,8,6,0,7,9,4,0,9,1,3,2,5,3,3,4,6,5,1,6,7,7,7,8,4,9,3,0,0,1,0,2,0,3,6,4,6,7,5,8,1,9,4,0,8,1,9,2,6,3,1,5,0,6,4,7,8,8,7,9,6,0,1,0,7,1,5,0,5,1,0,2,2,3,8,0,1,6,3,9,7,6,8,6,6,5,9,2,0,9,6,1,5,4,2,9,7,5,3,7,1,5,6,6,7,7,3,3,6,1,2,4,7,1,8,3,2,3,8,7,5,3,7,9,8,8,6,8,8,8,2,8,4,8,1,4,5,7,1,2,2,1,9,9,5,8,2,7,9,9,7,3,7,3,1,0,6,7,9,5,2,4,1,1,0,1,3,2,9,6,4,1,3,5,9,0,1,1,4,2,3,3,0,4,2,5,3,6,4,7,5,0,0,1,2,2,7,3,7,4,7,5,6,6,5,7,3,8,1,9,9,0,7,1,8,2,0,3,4,4,3,5,1,6,7,9,5,8,0,2,1,6,3,9,3,6,2,1,2,9,1,9,3,9,9,4,4,4,2,3,9,8,0,1,4,4,8,1,2,2,7,9,3,0,3,4,3,9,6,1,2,7,0,4,6,4,1,1,4,8,3,7,6,6,2,0,2,8,8,1,7,8,2,2,7,6,6,2,7,1,0,2,4,5,1,4,9,5,6,6,0,7,2,7,5,5,1,3,1,0,4,2,1,2,1,2,6,7,0,3,6,5,3,2,4,1,0,4,2,4,1,3,4,0,6,0,5,8,4,7,0,3,1,1,2,7,6,9,5,6,0,3,5,3,1,0,1,5,4,6,9,6,3,8,5,7,6,3,1,5,9,0,2,1,1,2,8,3,8,4,0,5,5,6,5,7,7,8,0,9,6,0,9,1,8,2,3,3,4,4,3,5,5,6,5,7,1,8,8,9,0,0,2,1,6,2,7,3,7,4,7,7,7,8,1,9,4,8,6,5,1,7,0,9,1,5,9,0,8,8,1,3,2,5,7,4,7,8,0,3,8,0,0,2,4,1,9,0,9,2,0,5,8,8,8,8,9,5,8,3,3,0,6,4,4,4,8,1,2,6,9,1,6,3,3,0,6,3,4,6,2,9,4,3,6,7,7,4,5,9,2,7,8,0,1,9,1,4,4,8,4,3,9,2,2,7,1,7,8,9,9,5,8,7,4,6,9,4,4,8,8,9,6,6,6,9,4,4,2,1,9,2,0,0,3,6,4,1,2,1,8,6,7,4,5,8,1,9,1,6,3,4,5,6,0,5,1,0,1,2,2,0,6,5,4,6,7,5,2,0,8,1,9,2,8,1,3,7,8,8,8,1,2,4,8,3,0,2,7,8,9,2,2,7,8,9,5,3,6,9,3,0,2,1,3,2,5,3,4,4,4,5,9,6,5,7,9,8,3,9,4,0,8,1,0,2,2,3,9,4,5,5,7,6,2,7,7,8,1,0,7,3,5,4,4,5,3,6,4,7,2,8,1,9,7,6,1,0,9,3,1,4,7,1,9,4,4,0,2,8,2,6,7,0,0,7,7,8,7,7,8,7,9,9,3,0,4,4,0,9,3,9,5,7,6,0,7,5,1,8,2,5,7,9,4,8,4,8,7,7,9,5,0,6,6,5,4,3,9,8,6,1,9,6,7,8,2,5,9,9,2,2,1,2,2,0,9,9,4,2,3,4,9,7,3,3,3,1,9,3,7,6,5,6,0,2,6,1,3,2,4,6,3,0,8,2,4,2,2,7,1,1,9,3,9,7,4,4,4,8,8,9,5,2,3,9,4,5,2,6,6,8,6,0,7,0,4,9,7,1,9,1,0,0,5,1,1,2,9,3,5,5,3,6,4,9,2,0,6,1,1,2,0,3,9,4,3,5,3,6,3,7,1,8,7,0,0,1,1,2,9,3,5,4,1,5,8,6,3,7,3,8,7,1,7,0,1,1,8,5,0,3,4,4,8,4,1,0,7,0,2,6,8,9,7,6,4,6,3,5,6,4,1,4,4,4,3,0,3,7,1,9,3,5,1,7,2,3,3,1,6,4,8,4,1,0,8,9,8,9,4,6,2,1,1,8,0,3,0,8,7,8,4,8,7,8,5,8,8,4,4,7,9,7,9,1,9,9,8,8,0,7,0,8,7,9,6,3,7,3,6,5,8,5,9,0,6,7,1,9,0,5,2,6,7,5,1,0,3,6,9,1,1,4,4,1,3,1,3,2,8,8,7,2,5,6,1,1,0,5,2,0,9,1,0,2,8,3,6,4,2,5,3,6,2,7,5,8,2,9,8,0,6,1,9,2,0,3,1,1,9,5,3,6,9,7,8,8,1,0,1,1,3,2,4,3,0,4,0,5,3,6,8,7,7,8,7,9,0,6,4,4,3,2,1,6,8,4,0,7,5,5,9,5,5,4,7,7,2,8,1,9,6,2,5,9,6,3,4,9,6,3,3,8,8,2,2,0,9,9,8,8,4,0,4,5,3,6,2,0,3,1,2,0,9,2,2,5,5,3,3,5,4,3,8,8,8,0,7,0,4,5,9,4,0,3,6,4,0,1,9,5,6,3,4,0,2,8,2,3,1,0,4,6,7,2,0,7,2,1,4,1,6,8,7,1,8,7,4,1,0,3,6,8,4,4,3,2,9,0,8,9,9,7,2,6,7,7,5,4,3,1,3,6,1,8,9,4,8,1,6,2,8,6,5,7,9,1,6,9,6,8,0,0,0,6,7,9,7,4,9,9,9,9,7,6,7,2,8,3,6,7,9,1,7,2,1,5,1,3,7,7,0,8,6,0,3,1,3,2,6,3,8,4,9,5,6,6,1,7,3,8,2,9,4,0,2,1,5,2,9,3,2,4,4,5,7,6,8,7,3,8,7,9,2,0,1,1,9,2,7,3,6,4,6,5,5,6,4,7,5,8,8,9,7,6,5,2,8,6,9,5,0,4,1,2,2,0,0,8,0,1,2,7,0,1,2,8,8,3,7,7,0,1,1,7,1,1,2,4,9,4,0,5,6,7,6,4,9,9,7,7,7,2,8,6,3,5,5,3,2,9,1,9,8,0,2,8,6,7,2,9,6,0,3,6,7,3,7,0,5,4,4,6,7,3,6,7,6,0,1,1,1,4,8,8,6,8,1,1,0,2,1,9,8,3,9,1,5,4,5,2,8,9,4,8,2,2,9,8,4,6,8,9,5,2,4,9,7,6,6,3,1,3,9,6,7,3,0,1,5,2,8,5,0,0,1,3,1,1,1,5,2,5,6,9,7,8,3,0,7,9,9,0,2,1,6,2,9,3,7,4,8,5,4,6,8,7,7,8,0,9,7,0,5,1,9,2,8,3,6,4,9,5,8,6,9,7,5,8,1,9,1,0,3,1,1,2,6,3,7,4,5,5,6,6,2,7,0,8,8,9,2,6,4,1,6,9,9,9,3,9,2,4,9,4,8,3,4,8,5,1,0,4,0,1,6,2,6,5,4,0,7,9,9,5,1,3,9,0,9,4,5,9,1,1,7,7,4,4,5,4,3,1,3,8,1,7,0,6,2,0,4,8,8,1,6,8,1,2,3,6,3,2,9,0,1,9,1,1,7,2,1,5,5,4,6,5,4,7,4,7,8,5,4,3,4,0,2,2,5,2,1,2,6,7,1,3,5,1,5,4,3,4,6,3,7,0,1,0,2,4,9,7,2,9,6,7,2,8,6,8,0,7,0,9,0,6,9,3,4,1,7,7,4,9,2,6,6,3,3,3,3,1,3,0,4,2,7,6,9,0,3,5,1,6,3,6,4,8,7,7,3,3,8,5,9,8,3,3,4,0,7,1,6,2,0,3,8,7,4,8,3,9,2,0,7,3,8,4,0,7,1,8,0,0,5,1,4,2,1,3,7,4,7,5,1,6,5,7,5,8,9,9,8,5,0,1,5,9,6,9,0,7,4,1,9,0,2,9,8,0,7,5,3,9,7,7,7,1,7,3,4,6,7,3,0,2,3,0,0,9,4,0,8,6,9,1,3,7,7,2,0,8,7,3,6,4,9,7,6,6,7,6,9,3,8,2,7,3,0,8,5,9,9,4,2,8,4,8,8,7,4,1,8,0,1,8,6,7,7,7,7,5,2,9,3,2,6,3,6,1,4,1,6,4,4,5,1,5,2,0,5,4,3,8,1,7,7,4,5,9,6,2,2,3,6,6,7,4,8,1,4,2,4,4,8,1,2,5,0,1,2,9,8,3,5,2,7,0,4,0,9,2,7,9,4,3,5,6,4,0,9,1,8,2,1,3,7,4,2,5,2,6,7,7,5,8,8,9,1,0,1,1,0,2,3,3,1,4,4,5,0,6,4,7,0,8,1,9,1,0,3,1,3,2,3,3,3,4,2,5,7,6,2,7,6,8,4,9,1,8,6,0,7,5,7,6,0,6,1,0,6,8,4,0,4,2,2,3,9,7,6,9,7,4,2,7,3,1,1,9,0,1,5,7,6,1,5,0,4,0,1,4,9,1,3,7,6,5,2,7,2,1,8,3,8,3,8,3,3,1,6,6,0,9,5,7,7,4,9,3,5,0,8,2,5,5,1,2,7,6,9,0,0,8,2,9,6,4,5,3,4,5,7,4,6,8,5,1,0,5,4,9,3,0,9,6,3,4,8,6,4,8,3,1,6,4,0,7,1,5,2,7,2,2,2,2,8,0,1,0,0,1,3,7,6,7,2,9,2,5,5,9,9,8,5,9,7,6,3,8,1,8,9,2,7,3,0,6,8,1,0,2,0,9,9,8,8,9,3,5,1,2,8,6,8,2,6,4,5,8,2,4,1,6,1,5,6,0,2,1,2,2,0,3,9,4,2,5,6,7,7,8,5,0,4,1,6,2,7,3,3,4,0,5,3,6,3,7,0,8,4,9,0,0,1,1,5,2,9,3,0,4,4,7,5,8,3,1,1,6,1,8,4,9,6,9,1,0,7,1,0,2,6,4,4,4,4,3,7,7,5,4,9,4,1,4,3,0,7,3,4,8,4,7,6,5,4,8,0,2,7,1,3,7,1,9,4,1,8,1,9,6,6,2,5,1,4,3,9,8,9,6,6,4,9,9,7,4,8,2,3,4,4,4,7,6,7,2,5,5,2,5,8,0,3,2,0,8,0,0,2,6,7,8,8,1,8,7,3,1,3,6,3,7,0,6,1,8,4,7,7,4,3,9,2,3,6,3,1,5,6,8,7,0,4,3,0,7,9,9,4,7,3,7,1,9,9,1,7,6,0,7,5,8,6,0,9,1,2,2,9,3,0,4,1,5,6,6,1,7,0,8,7,9,6,0,9,1,6,2,9,3,2,4,5,5,1,6,1,7,7,8,5,9,1,0,4,1,4,2,3,3,1,4,1,5,0,6,7,7,3,8,9,5,1,1,1,9,5,9,1,7,1,1,6,0,8,9,7,0,2,5,3,9,6,7,8,1,0,7,3,2,1,2,7,3,4,6,1,8,1,0,9,8,0,3,1,2,7,0,2,9,6,0,1,6,7,1,9,7,6,5,5,8,8,3,4,4,8,7,3,6,4,6,6,3,8,8,9,9,4,4,0,7,8,1,0,0,1,8,5,7,1,7,5,5,9,9,4,2,5,3,7,4,6,6,0,1,0,1,2,4,8,5,3,5,0,0,6,4,3,8,3,7,1,4,3,9,2,2,0,3,6,6,7,4,3,2,2,4,9,1,0,5,2,4,8,2,1,0,8,4,4,8,0,6,4,1,4,9,6,3,1,2,9,0,1,0,4,2,9,9,4,3,8,6,9,3,0,6,7,0,3,1,4,2,3,3,0,4,2,5,5,6,3,7,2,8,5,9,2,0,1,1,8,2,9,3,1,4,1,5,7,6,4,7,7,8,3,9,3,0,5,1,3,2,0,3,0,4,0,7,4,8,8,9,0,0,1,8,7,3,9,9,5,5,9,6,7,8,2,4,6,9,8,1,6,7,9,1,6,2,0,9,6,6,2,9,1,1,2,1,3,1,5,2,7,8,0,1,0,2,8,0,2,7,3,7,5,5,1,8,2,2,6,9,1,8,7,4,0,6,0,7,3,1,0,6,6,0,9,3,4,6,7,8,9,7,3,0,0,4,0,2,6,7,5,4,6,4,8,2,0,8,7,1,7,5,1,1,2,2,7,5,6,6,7,4,2,3,9,0,2,0,9,0,4,3,4,7,7,0,3,6,0,4,3,8,6,8,1,3,8,9,0,9,0,8,0,2,8,7,8,7,9,1,7,0,3,1,4,2,3,3,8,4,9,5,6,6,4,7,0,8,3,9,8,0,6,1,8,2,5,3,2,4,5,5,6,6,9,7,3,8,9,9,3,0,8,1,3,2,0,3,2,4,9,5,9,6,4,7,3,8,4,9,3,6,5,2,7,5,8,6,2,2,7,5,5,1,9,7,1,1,8,8,3,3,3,8,2,7,2,1,5,7,3,1,4,4,7,7,7,2,4,6,5,5,9,3,5,9,3,9,8,0,0,8,0,7,6,3,0,0,0,3,7,7,8,0,8,1,9,1,2,2,4,1,1,6,6,0,0,5,4,3,9,3,1,6,7,3,0,5,1,9,0,9,7,0,5,1,2,2,3,3,0,4,0,5,1,6,9,7,1,8,9,9,6,0,5,1,2,2,1,3,9,4,8,7,8,8,9,9,7,0,3,1,9,2,7,3,8,4,5,5,1,6,6,7,6,8,9,9,0,6,3,0,7,7,6,3,7,7,1,1,9,3,8,7,6,9,3,7,4,4,1,0,7,0,6,6,3,9,4,5,9,6,8,9,7,8,5,5,6,1,2,5,0,3,5,9,0,8,1,3,0,4,9,0,3,5,2,6,5,3,0,4,2,8,7,0,8,6,1,4,6,8,6,1,4,3,2,4,3,0,3,1,1,9,0,2,1,3,7,7,7,5,6,1,2,7,9,2,3,8,0,7,9,0,5,1,5,9,8,6,9,4,0,1,7,2,5,3,8,1,6,3,6,5,6,3,5,4,0,1,0,6,0,8,8,0,0,8,2,9,3,4,9,9,2,2,1,6,3,0,5,1,1,2,7,3,9,5,4,6,2,7,2,8,9,9,3,0,0,1,1,2,4,4,3,5,3,6,9,7,5,8,2,9,9,0,3,1,6,2,5,3,7,4,1,5,2,6,1,7,2,8,4,9,6,0,7,7,3,5,6,0,6,8,5,4,7,1,6,8,6,8,7,1,7,3,3,1,2,8,4,3,9,7,4,9,3,3,8,0,6,9,6,4,9,4,0,0,6,7,3,4,1,2,2,9,7,8,3,7,4,2,1,7,6,8,5,9,0,3,6,1,1,4,9,6,3,5,1,2,1,2,0,2,6,5,6,6,1,7,3,8,4,7,5,5,3,1,9,6,1,4,1,9,5,2,9,9,3,3,5,5,9,3,1,6,9,6,4,0,1,0,0,2,0,5,0,6,2,4,9,9,8,2,8,7,9,4,2,9,2,1,5,0,7,2,2,2,6,3,7,6,2,1,8,8,9,3,6,0,3,3,9,5,3,0,2,0,1,6,0,1,5,6,4,9,0,5,9,3,3,9,4,4,7,5,6,8,1,6,2,7,4,1,6,1,3,7,4,0,6,1,9,2,1,3,7,4,3,5,8,6,3,7,7,8,0,9,3,0,4,1,5,2,7,3,2,4,6,5,9,6,1,7,6,8,6,9,6,0,1,1,5,2,8,3,0,4,9,5,2,6,7,7,3,8,5,9,1,1,8,0,6,4,5,5,4,6,8,6,3,3,0,4,9,4,2,2,3,8,9,1,2,0,7,6,3,4,7,9,1,7,7,2,2,3,4,3,2,9,1,2,7,0,8,9,5,3,1,3,8,9,9,1,0,5,9,2,2,3,1,1,9,6,5,7,7,3,6,7,9,8,0,4,5,0,3,2,9,4,6,0,1,2,3,4,1,7,1,8,5,0,2,7,1,0,3,6,4,9,1,3,2,2,2,4,4,8,7,6,7,0,7,1,8,0,2,6,7,7,1,2,2,9,0,7,3,9,6,5,8,8,4,9,9,6,8,6,4,2,9,8,9,1,9,7,2,5,3,5,2,7,9,3,7,5,6,0,5,1,3,1,4,3,1,8,5,4,2,9,1,4,6,5,8,1,5,8,5,6,7,8,2,9,1,0,1,1,4,2,2,3,8,4,3,5,4,6,4,7,2,8,7,9,1,0,0,1,3,2,1,3,9,4,6,5,9,6,8,7,8,8,1,0,6,1,7,2,7,3,2,4,1,5,4,6,4,7,4,8,1,9,5,6,6,6,4,3,2,4,9,2,5,8,5,1,7,0,7,6,3,4,8,9,3,7,8,2,5,3,0,3,9,9,0,3,3,3,5,9,0,1,7,5,9,2,4,3,9,1,4,6,4,7,0,3,1,7,0,8,8,4,5,0,0,2,1,4,0,0,0,7,9,8,4,0,6,7,3,0,3,6,2,9,5,3,2,2,3,4,5,8,8,6,1,0,7,5,2,7,3,5,8,1,1,0,9,8,5,1,1,6,5,7,9,2,7,9,1,7,9,9,1,5,2,6,6,5,8,2,6,6,0,1,6,7,3,5,0,5,6,7,8,3,0,5,1,0,3,1,5,1,2,3,3,8,5,1,3,0,0,1,4,2,5,3,3,4,3,5,7,6,5,7,1,8,9,9,3,0,2,1,0,2,0,3,4,4,3,5,6,6,4,7,6,8,1,9,9,0,4,1,6,2,2,3,0,4,8,5,5,6,6,7,7,8,2,9,2,7,6,4,4,7,6,7,1,3,4,9,2,8,2,8,0,3,8,1,3,5,0,8,5,2,8,7,8,6,7,1,8,5,9,2,3,6,9,4,9,1,3,8,5,7,6,5,7,5,1,1,4,8,8,9,4,1,0,3,2,6,9,3,8,3,4,2,6,2,7,6,4,6,1,5,4,5,1,3,4,3,6,8,9,1,7,6,1,5,1,6,6,8,6,1,3,9,6,7,8,6,8,8,3,3,1,7,9,9,7,0,3,0,3,3,4,7,4,9,7,3,6,0,8,2,8,0,4,1,5,0,3,1,0,0,7,1,8,0,8,4,8,7,2,9,2,2,2,0,0,6,3,2,9,6,5,2,6,2,1,9,2,9,5,0,5,1,0,2,7,3,4,4,1,5,4,6,3,8,5,9,3,0,5,1,7,3,9,4,6,5,4,6,4,7,0,8,1,9,5,0,1,1,0,2,7,3,7,4,6,5,6,6,9,7,7,8,1,9,0,1,1,8,0,6,3,7,0,1,3,3,5,7,4,7,4,9,1,3,6,6,7,0,4,2,6,6,8,4,0,8,6,4,9,5,1,0,0,3,7,9,6,2,8,1,8,1,1,5,3,9,7,4,3,2,7,0,0,4,8,4,3,0,2,9,3,6,0,9,7,2,5,2,8,1,5,7,4,9,2,5,5,1,3,1,5,9,8,6,9,0,8,1,4,8,6,4,4,6,6,8,0,8,4,2,8,6,8,3,4,2,4,9,8,2,8,4,7,0,9,9,1,0,7,3,3,3,6,5,5,8,0,4,1,7,5,6,9,2,5,2,9,7,3,7,2,0,5,5,9,1,5,5,6,3,3,0,3,1,2,2,7,3,1,4,7,5,5,6,1,7,9,8,6,0,6,1,7,4,1,7,7,0,5,1,9,4,5,7,4,8,3,9,3,6,8,8,3,2,1,4,7,6,3,8,3,6,7,6,2,7,3,1,7,7,8,0,9,2,3,2,9,0,8,1,1,6,0,5,6,1,7,2,9,0,5,2,8,3,8,4,8,8,2,3,1,7,2,4,9,1,8,7,6,4,7,8,0,3,0,9,8,6,9,7,3,0,0,9,0,6,0,0,2,6,8,1,5,0,5,5,6,5,5,1,7,0,5,1,4,0,2,9,8,4,4,5,1,9,8,7,4,0,0,2,9,1,6,4,7,4,0,9,2,6,9,7,0,4,1,8,1,9,5,0,8,1,7,2,3,3,5,7,8,8,4,0,0,1,1,2,8,3,5,4,3,5,8,6,0,8,0,9,7,0,9,1,3,7,1,9,0,6,6,3,0,3,5,9,9,9,2,5,1,1,8,4,1,2,3,5,2,4,1,7,6,9,2,1,4,5,7,2,9,6,6,3,9,7,4,8,6,5,6,1,3,2,9,6,9,6,5,7,5,8,1,8,9,1,4,8,8,3,4,7,6,0,0,0,0,1,3,5,3,0,8,5,1,2,2,8,8,0,5,4,2,3,9,1,3,8,4,2,5,9,3,9,0,5,1,2,3,6,0,5,4,7,8,1,2,9,5,7,7,1,1,2,4,6,9,0,8,0,8,1,4,2,1,3,8,4,3,5,9,6,2,7,9,8,9,9,6,0,4,1,6,2,9,3,7,4,6,7,3,8,5,9,8,0,6,1,1,2,6,3,7,4,8,7,6,8,5,9,1,5,7,1,5,9,1,9,2,0,5,9,5,0,4,5,3,9,9,1,0,7,9,2,9,2,5,3,2,3,9,2,2,0,6,9,5,0,0,6,9,1,5,7,7,5,4,0,4,3,7,4,0,7,3,6,8,6,2,3,6,3,4,8,6,4,8,7,5,1,7,0,7,8,8,7,9,5,9,2,7,1,8,1,0,4,8,5,3,5,1,0,2,4,8,8,1,7,3,4,7,9,3,2,0,3,7,6,6,4,2,1,5,2,7,1,4,5,7,2,5,0,8,4,0,8,2,6,7,1,0,9,4,3,5,2,2,0,0,0,5,2,8,5,0,6,7,9,5,3,7,6,7,3,7,6,5,0,2,1,2,2,3,3,6,4,8,6,1,7,1,8,1,9,2,0,1,1,3,2,2,3,9,4,7,5,7,1,3,7,1,8,4,0,2,1,9,2,2,3,6,1,8,7,7,8,1,8,4,5,5,7,7,9,5,5,8,0,6,8,1,3,6,5,0,4,6,8,0,3,4,0,0,2,9,1,7,0,1,2,9,5,2,8,9,8,5,5,5,3,2,0,2,4,8,4,6,1,9,6,7,1,1,3,5,0,2,3,4,6,6,9,0,3,8,7,2,9,8,7,8,0,6,4,9,8,2,3,6,2,1,7,4,7,2,9,7,5,1,1,7,5,1,2,9,8,8,9,1,6,6,9,5,7,0,6,8,4,0,1,2,2,3,0,1,6,4,1,6,1,6,7,0,2,7,3,8,6,1,4,1,8,2,6,4,4,6,6,3,5,3,0,8,2,1,0,3,5,5,6,2,5,4,0,6,1,3,2,9,1,8,7,8,8,7,1,7,4,2,3,2,2,7,8,3,2,9,7,1,9,2,3,3,9,2,0,1,1,1,2,3,3,8,4,8,5,5,6,8,7,7,8,2,9,0,0,1,1,4,2,2,3,1,4,1,5,3,6,6,7,0,8,3,9,1,0,5,1,3,2,8,3,9,4,3,7,9,8,8,9,6,0,7,0,2,1,9,0,3,1,7,2,1,7,3,5,6,3,9,4,8,4,2,0,0,0,0,6,8,9,9,6,1,6,6,2,1,3,4,4,6,4,4,9,0,1,7,7,2,9,4,5,2,7,5,5,5,6,9,2,6,3,1,1,1,4,8,4,1,0,7,9,9,9,2,6,2,1,3,8,1,3,3,3,8,7,7,3,2,9,9,8,2,8,3,4,2,7,2,7,3,6,0,2,1,1,2,9,2,8,3,7,2,8,9,8,3,2,5,3,4,9,1,0,7,7,8,9,9,0,8,6,0,4,2,1,5,1,9,2,8,8,4,2,1,6,0,1,3,5,1,0,8,1,1,2,5,3,5,4,8,5,0,6,5,7,1,8,7,9,4,0,8,1,0,2,1,3,3,4,4,5,7,6,6,7,2,8,8,9,0,0,1,1,3,2,6,3,0,4,5,5,9,6,5,7,9,8,0,9,0,2,1,2,1,7,5,6,5,4,9,0,7,5,8,8,1,0,1,7,4,3,2,5,8,4,2,1,9,8,8,0,6,5,8,2,0,7,0,2,0,3,9,6,1,2,9,1,2,7,0,7,9,9,0,9,7,1,9,2,0,4,8,6,4,7,2,7,5,5,5,4,3,5,6,0,6,1,6,1,4,9,3,9,0,8,3,0,3,2,4,0,2,3,5,5,6,6,7,1,7,8,1,6,5,4,0,6,2,0,6,9,4,2,8,6,5,4,3,3,3,9,0,3,3,0,7,0,5,5,2,2,4,5,0,8,9,8,1,8,6,9,9,4,7,3,1,4,6,2,7,8,0,8,3,7,0,1,3,1,3,3,5,6,2,9,9,4,5,1,6,3,9,8,7,7,1,6,6,9,6,3,6,3,2,7,1,4,2,1,7,9,4,1,0,0,7,6,1,0,3,1,0,2,0,3,6,4,2,5,5,6,1,7,0,8,0,9,1,0,7,3,0,4,8,5,3,6,3,7,1,8,5,9,5,0,7,1,8,2,0,3,8,7,7,8,6,9,7,7,7,6,6,0,8,6,6,6,2,6,2,9,1,0,0,0,1,1,1,3,3,9,1,7,7,3,7,8,0,5,4,8,1,1,5,4,1,8,7,5,3,1,7,0,3,1,5,6,3,0,1,3,7,8,7,9,3,2,2,1,2,7,6,4,4,5,8,2,2,8,7,4,9,7,1,1,9,8,1,0,6,6,2,3,3,2,3,9,7,0,8,4,3,7,9,4,4,3,8,4,9,5,3,0,7,0,0,2,5,0,3,1,7,2,1,3,5,4,0,5,3,6,4,7,7,8,4,9,0,0,0,1,9,2,4,3,7,4,6,7,0,8,7,9,0,0,6,1,2,2,0,3,1,7,4,8,8,9,7,8,0,6,8,5,9,0,8,6,6,8,6,9,9,4,9,1,5,9,9,0,8,4,6,8,6,9,1,1,1,4,2,0,6,5,3,5,8,4,2,0,4,7,4,6,1,0,3,1,6,7,0,0,9,6,9,8,3,7,7,9,7,8,8,6,0,0,4,8,2,1,2,7,6,7,8,1,4,3,1,1,6,0,8,0,1,7,2,8,5,9,1,3,7,8,6,4,4,7,1,2,9,3,3,6,9,9,6,2,4,2,5,4,9,6,1,5,6,5,1,1,9,3,5,3,2,7,1,8,8,2,5,5,7,7,4,9,9,8,9,2,7,1,2,3,9,0,3,1,1,2,6,3,1,4,4,5,2,6,6,7,1,8,4,9,9,0,2,1,0,2,2,3,7,4,6,5,2,6,8,7,9,8,1,9,6,0,2,1,9,2,3,4,8,6,3,7,6,8,7,9,5,3,1,8,4,0,9,7,1,1,9,0,7,7,9,5,8,5,8,6,3,9,6,0,3,1,1,0,6,0,4,8,8,3,1,4,0,3,1,1,3,0,6,9,5,5,1,3,2,4,3,9,7,3,9,7,4,6,7,9,2,2,7,4,3,5,4,7,7,2,1,1,7,6,1,4,4,9,2,4,8,9,9,4,1,1,6,2,9,2,7,1,7,3,2,2,4,9,1,4,7,3,3,8,9,2,1,2,0,2,2,1,7,2,8,8,9,6,4,5,5,1,9,6,6,7,9,2,2,1,4,3,6,7,6,5,2,9,5,3,4,8,5,7,1,5,4,7,1,0,9,7,5,4,6,8,1,8,8,3,1,7,8,6,5,9,2,9,3,4,9,8,5,4,1,1,8,0,0,6,3,6,8,0,6,1,8,2,6,3,8,4,4,6,7,7,3,8,9,0,1,1,4,2,3,3,3,4,5,5,9,6,3,7,7,8,6,9,8,0,0,1,6,2,5,3,8,5,8,6,5,7,9,4,1,0,2,7,2,2,5,9,8,4,5,2,9,9,2,8,0,4,3,5,7,8,1,8,3,0,8,3,5,5,4,4,6,3,1,3,6,4,9,6,1,5,8,1,8,7,2,8,3,4,0,5,3,7,6,2,3,3,4,6,7,6,3,7,9,7,7,7,1,6,3,0,2,1,0,0,6,1,3,6,3,5,6,3,6,1,3,4,6,7,7,6,3,2,4,2,2,5,1,9,0,1,4,2,4,2,2,7,6,9,6,7,6,9,2,2,4,0,5,4,2,8,6,7,6,0,2,3,7,8,6,4,6,6,4,1,4,4,5,0,2,3,3,6,3,2,3,0,2,4,3,8,4,1,8,3,0,1,0,0,6,9,5,0,9,1,1,2,4,3,6,5,7,6,0,7,4,8,1,0,8,1,8,2,2,3,2,4,0,5,8,6,4,7,0,8,1,0,3,1,5,2,6,3,6,4,4,5,3,6,3,7,4,8,2,9,7,8,4,3,3,7,2,0,4,1,4,7,2,3,9,0,1,9,2,4,6,5,3,2,2,0,7,6,0,2,1,1,5,1,5,1,7,7,1,2,6,4,4,2,9,9,6,7,9,0,3,0,3,7,8,5,6,1,1,1,8,6,6,1,0,8,8,2,7,7,6,4,4,0,5,4,4,2,0,5,0,0,2,3,0,1,4,9,6,1,5,1,4,0,0,6,8,9,7,3,2,0,0,8,6,3,7,9,5,6,5,3,9,0,6,1,9,4,1,5,3,6,8,7,3,8,3,9,7,0,5,1,7,2,8,3,6,4,2,5,6,6,5,7,2,8,4,0,7,1,2,2,1,3,4,4,1,5,8,6,9,7,4,8,9,9,6,1,9,6,5,8,6,9,9,9,1,0,9,1,8,2,1,4,5,4,3,3,0,7,6,4,3,4,4,4,9,0,8,3,8,8,6,7,0,5,5,1,7,5,8,8,0,9,3,2,5,5,4,1,6,1,9,6,8,2,3,1,3,3,3,8,2,6,7,4,4,9,3,2,0,0,0,0,7,1,7,6,6,2,0,5,6,5,8,0,6,2,2,8,7,0,4,6,2,8,8,1,0,7,7,9,3,1,5,9,3,2,5,6,8,7,5,6,9,6,1,8,2,7,6,4,2,9,2,2,8,1,2,3,6,3,1,0,2,5,1,5,6,7,1,9,2,7,3,0,7,2,3,7,7,9,7,1,3,3,6,6,4,7,2,8,7,0,1,3,9,5,1,3,3,6,0,0,1,1,3,2,3,3,9,6,9,7,9,8,0,9,1,0,8,1,6,2,2,3,5,4,0,5,3,6,5,7,5,0,5,1,1,2,8,3,5,4,6,5,5,6,0,7,5,8,9,9,4,8,1,7,5,4,1,3,7,9,8,8,2,8,4,3,8,1,5,5,5,8,4,2,9,7,2,4,5,2,1,6,3,5,7,2,5,4,3,5,4,6,9,4,4,1,9,7,2,5,2,1,3,3,0,3,1,6,0,9,8,6,4,3,3,3,5,1,7,6,3,5,3,6,0,1,3,9,7,3,9,7,1,4,7,7,7,0,4,9,6,0,0,0,4,3,7,7,6,9,9,2,5,0,0,1,7,0,0,1,0,0,6,4,5,0,5,4,3,7,6,9,7,2,2,0,1,6,0,2,0,2,1,9,3,9,2,0,6,1,2,2,8,3,1,4,7,5,4,6,7,7,6,8,7,9,9,0,0,1,2,2,7,3,6,4,5,5,3,6,2,7,3,8,7,0,0,1,6,2,8,3,0,5,9,6,6,7,4,8,7,5,1,4,2,8,0,7,2,4,7,7,1,7,0,3,8,9,6,8,4,8,7,3,1,1,8,5,4,8,5,2,1,7,2,4,6,2,6,6,5,1,6,5,7,2,1,4,4,5,7,5,1,8,3,6,8,4,6,4,7,1,2,8,3,7,2,5,7,5,8,1,3,8,3,9,9,1,1,3,1,6,3,3,1,3,3,2,4,2,1,6,9,9,4,9,4,6,3,3,3,3,8,8,9,1,7,6,5,5,3,6,8,8,5,1,9,9,7,7,2,6,7,8,6,3,3,7,0,4,2,7,3,0,2,9,1,0,7,0,1,3,3,7,2,9,5,3,8,0,0,2,5,0,6,1,8,0,3,1,0,0,6,4,6,0,4,1,3,0,9,4,0,7,2,9,4,2,7,0,4,6,0,2,2,6,7,2,8,2,9,9,3,9,8,0,1,1,2,2,5,3,7,4,0,5,0,6,4,7,2,8,0,9,9,0,9,1,2,2,9,3,6,4,8,5,8,6,3,7,7,8,5,9,2,0,7,1,2,2,3,3,2,4,8,5,9,6,3,7,7,8,0,9,8,7,8,4,1,3,6,8,5,5,6,1,1,8,0,5,6,2,9,8,3,6,5,1,6,9,6,2,0,4,0,0,5,9,2,9,6,3,2,7,8,7,0,9,2,1,9,8,0,2,1,7,8,5,9,8,3,5,2,3,8,2,7,2,1,0,5,5,6,8,2,6,3,0,8,4,3,0,9,3,6,8,0,1,9,0,7,3,4,0,7,4,1,7,7,4,7,9,0,2,6,9,2,1,9,2,5,5,8,7,1,1,3,7,1,1,7,6,1,7,2,3,0,3,3,6,8,5,4,6,0,2,8,8,6,7,6,6,1,4,3,9,0,8,8,8,9,2,4,9,1,6,8,5,6,5,8,9,9,5,8,3,7,7,8,4,5,3,1,6,2,0,2,0,0,6,9,9,8,0,2,1,3,1,4,3,0,2,4,1,8,0,4,0,0,1,7,2,7,3,7,4,0,5,8,6,9,7,3,8,7,9,9,0,1,1,5,2,0,3,8,4,7,5,2,6,4,7,1,8,0,9,2,0,0,1,9,2,5,3,6,4,3,5,6,6,9,7,1,8,3,9,6,0,7,9,1,5,7,5,3,6,8,9,5,8,1,9,4,8,5,7,8,5,8,1,1,0,9,0,2,2,3,2,6,7,2,8,0,2,2,0,2,1,7,2,9,6,2,3,5,3,9,7,7,3,1,3,2,6,9,4,4,9,2,0,6,9,1,5,9,2,4,8,3,2,1,0,0,0,2,1,8,3,8,2,0,1,2,7,9,4,1,6,1,3,2,1,0,3,9,9,3,1,5,7,7,6,4,8,1,4,7,3,1,1,2,4,7,3,5,6,6,9,9,0,0,1,7,7,4,5,6,4,0,4,7,7,1,7,5,9,9,5,9,8,0,8,6,4,5,9,2,0,4,8,9,9,2,8,7,0,0,1,3,2,9,4,3,5,4,6,3,7,4,8,6,9,1,0,8,1,6,4,5,5,2,6,0,7,9,8,6,9,4,0,3,1,0,4,0,7,5,0,6,9,1,9,8,7,4,7,0,5,2,1,5,0,3,0,4,7,2,0,1,1,1,4,6,6,0,6,8,6,0,5,3,2,5,8,3,0,9,1,5,7,5,6,1,2,9,1,6,7,7,7,6,6,2,1,7,4,6,9,9,6,2,7,4,4,2,4,3,7,5,2,1,8,4,2,3,0,7,1,0,2,3,3,3,4,6,5,0,6,9,7,4,8,0,9,1,0,6,1,1,2,0,3,4,4,0,5,2,6,6,7,8,8,3,9,1,0,1,1,0,2,2,3,5,4,0,5,9,6,1,7,1,8,0,9,9,6,0,5,5,9,7,3,3,4,7,3,7,8,4,5,8,1,5,5,3,2,1,3,2,0,7,1,9,2,5,1,9,3,1,2,6,6,1,5,8,3,3,0,8,7,9,2,3,7,5,4,5,6,2,4,9,0,6,5,6,9,8,9,8,8,1,9,3,5,6,3,3,1,0,7,1,4,4,7,4,6,2,5,3,4,1,0,3,0,2,6,7,6,2,2,9,0,9,6,8,3,6,7,8,7,0,4,8,4,5,3,4,9,7,2,5,8,1,9,2,6,4,0,5,9,1,5,7,3,6,8,2,8,9,7,3,1,3,4,7,0,9,4,2,3,2,9,0,0,6,7,6,2,5,1,5,9,6,1,0,5,7,1,5,7,7,4,6,8,6,6,2,1,1,6,4,8,4,8,1,0,0,1,5,2,1,3,2,4,8,7,2,8,9,9,5,0,1,1,2,2,8,3,5,4,9,5,7,6,8,7,4,8,8,9,5,0,6,1,1,2,0,3,3,4,3,7,5,8,4,9,9,1,2,6,4,8,2,9,5,9,1,0,4,1,8,2,6,4,8,4,4,3,4,7,1,4,7,4,4,4,3,0,9,3,7,8,6,7,5,5,6,8,5,2,9,1,9,5,1,8,0,5,3,1,3,1,4,6,6,2,3,1,3,3,3,4,2,9,7,4,1,9,1,2,2,0,4,0,1,4,8,4,3,6,6,2,0,5,7,5,4,0,9,2,7,6,8,8,1,1,2,7,7,9,7,1,8,9,9,2,4,6,8,7,3,6,3,6,0,8,3,7,4,4,8,2,5,1,5,3,7,3,9,0,6,5,0,5,9,8,6,0,3,3,4,7,3,9,3,7,5,3,2,6,4,7,5,8,9,0,6,3,2,5,4,3,9,0,5,1,9,2,6,3,7,4,6,5,6,6,9,7,3,8,5,9,8,0,2,1,5,2,0,3,9,4,9,5,4,6,5,7,6,8,8,9,9,0,5,1,2,2,3,3,7,4,3,5,4,6,1,7,6,8,1,9,0,7,1,6,0,4,2,3,9,0,4,6,1,6,4,6,8,9,4,0,9,0,8,1,7,3,8,9,1,4,4,5,3,7,0,9,3,5,1,6,3,8,3,9,5,1,1,3,4,8,7,5,1,7,5,8,3,1,2,4,3,8,3,5,5,8,9,1,4,0,6,7,4,6,0,1,0,6,4,0,2,3,1,4,0,6,1,8,4,9,6,2,7,1,9,7,8,4,0,5,7,2,4,5,9,2,7,1,8,2,6,9,4,3,5,9,6,2,5,2,4,5,2,8,4,7,3,4,6,7,9,1,2,8,0,0,6,9,2,6,6,8,1,1,3,1,7,5,2,7,4,6,0,3,3,5,6,4,3,2,6,9,3,0,1,4,2,7,4,4,3,3,3,2,0,9,4,2,2,0,7,3,0,4,4,5,0,0,8,0,2,3,2,2,3,8,0,3,6,3,4,0,3,1,4,0,4,1,6,7,1,1,0,3,7,5,7,1,1,7,0,1,6,8,5,6,2,8,9,1,8,0,0,4,9,3,7,0,9,1,7,2,1,3,2,7,2,8,7,9,9,0,7,1,5,2,9,3,6,7,6,8,9,9,3,0,2,1,8,2,2,3,1,4,3,5,0,6,5,7,8,8,7,9,4,7,4,4,6,0,7,4,6,0,1,1,5,7,3,9,6,5,8,1,4,4,8,2,4,8,9,9,1,4,5,3,1,1,6,7,8,8,0,2,7,4,7,4,7,3,7,3,0,6,6,9,8,9,1,5,7,8,5,6,4,7,9,0,7,6,9,8,9,2,9,6,9,3,5,9,1,3,9,2,7,1,9,7,9,4,8,8,9,8,1,9,3,0,6,3,7,3,0,9,9,9,6,4,1,1,2,0,3,3,3,7,1,5,5,8,0,8,2,2,3,9,9,7,1,1,2,2,9,6,7,4,4,2,8,3,5,6,1,6,4,5,7,0,1,0,5,2,1,8,7,1,9,6,1,1,9,0,6,4,3,3,2,1,8,6,7,1,1,9,7,0,3,1,2,2,9,3,8,4,0,5,2,6,1,7,5,8,1,9,4,0,6,1,0,2,0,3,8,4,5,5,1,6,7,7,0,8,7,9,7,0,6,1,5,2,0,3,1,4,2,5,2,6,6,7,7,8,1,9,0,8,5,6,1,5,1,0,1,6,2,8,9,9,9,4,7,1,7,9,8,5,9,3,4,0,2,4,8,8,2,9,6,1,9,4,6,0,3,5,2,1,5,5,8,7,7,6,5,0,1,1,8,7,4,0,5,6,1,8,4,9,9,5,1,4,2,7,0,9,4,8,7,6,0,0,7,8,1,1,4,7,2,7,2,1,1,3,9,2,8,1,2,4,6,2,8,0,9,0,3,7,5,8,2,4,4,6,0,4,9,9,6,3,4,8,5,4,5,7,9,2,3,5,8,6,3,3,8,6,5,9,5,6,7,3,6,2,5,2,4,4,4,6,7,9,5,0,1,2,1,5,8,5,1,1,7,3,4,3,0,9,7,7,1,2,3,2,1,5,3,7,0,9,7,8,6,2,0,1,7,3,9,1,9,3,7,0,5,1,3,3,8,4,7,5,9,6,2,7,3,8,3,9,1,0,2,1,0,2,7,3,7,4,8,5,3,6,5,7,0,8,2,0,4,1,9,2,9,3,0,4,8,5,0,6,5,7,6,9,7,7,5,0,4,5,2,2,8,9,1,0,1,1,1,5,6,8,0,8,8,0,7,9,3,3,0,2,1,7,4,8,9,4,9,4,1,5,2,9,1,6,0,1,5,0,7,4,7,5,5,3,4,9,2,4,7,3,4,4,0,2,5,0,4,5,7,0,8,1,7,3,1,2,9,9,4,1,8,6,5,0,1,1,6,1,6,8,9,0,6,4,7,7,9,7,4,6,4,3,0,5,5,6,9,6,2,0,1,7,8,3,5,5,3,4,3,2,0,4,3,1,7,8,2,3,8,5,8,6,8,5,8,2,1,0,6,6,9,7,8,1,7,2,2,5,4,8,0,1,4,9,0,3,2,8,8,8,3,8,0,3,3,7,0,6,1,8,9,7,4,1,7,4,7,6,4,7,2,9,2,9,5,3,7,0,0,3,5,4,6,5,7,6,3,7,5,0,0,1,0,2,8,3,7,4,6,5,5,6,3,7,5,0,8,1,7,2,2,3,9,4,9,5,4,6,9,7,7,8,4,9,2,8,6,7,9,7,6,0,0,1,8,3,7,5,9,2,5,8,2,0,0,9,0,6,5,0,4,9,7,1,2,1,8,8,0,4,9,3,5,2,6,1,1,2,6,6,8,5,3,6,5,7,6,4,8,8,5,1,9,8,4,0,0,5,8,9,6,4,7,1,2,9,7,2,9,1,0,9,8,6,9,7,8,9,3,0,9,4,0,6,4,1,9,7,0,3,5,8,9,9,9,6,5,3,4,9,6,0,9,5,5,7,9,1,8,6,8,1,7,0,7,9,0,3,8,3,6,4,1,4,4,0,3,6,3,2,4,5,6,4,5,4,1,0,9,2,6,0,0,1,6,2,3,3,5,4,1,5,8,6,4,7,4,8,9,9,9,0,7,1,6,2,8,3,7,4,6,5,0,6,9,7,0,8,8,0,3,1,8,2,5,3,7,4,0,5,3,6,3,7,8,8,4,9,1,7,8,4,4,3,4,8,1,5,1,1,1,8,3,8,5,6,7,1,9,9,4,2,8,4,1,0,4,9,1,9,7,3,4,7,8,7,6,9,4,1,1,8,9,4,9,4,1,2,3,7,5,5,8,8,3,5,6,3,6,2,5,2,3,0,9,5,4,8,3,6,4,0,6,4,1,0,3,3,5,8,8,1,6,0,7,3,8,0,9,4,4,7,3,4,7,9,1,2,8,9,1,1,0,2,1,5,7,7,0,1,0,7,0,1,5,6,3,7,0,3,3,3,1,6,2,5,1,6,9,2,9,8,8,7,1,6,0,4,6,9,9,8,8,9,7,6,1,9,0,5,8,3,0,7,3,4,7,3,8,6,4,0,4,0,2,4,8,6,9,6,9,9,2,0,7,1,7,1,5,3,1,2,3,1,6,0,3,0,6,1,3,2,4,3,1,4,3,5,1,6,5,7,2,8,1,9,2,0,9,1,8,2,3,3,3,4,9,5,8,6,7,7,2,8,4,9,6,0,3,1,6,2,0,3,0,4,8,5,6,6,9,7,3,8,0,9,7,4,9,2,8,6,5,4,2,7,8,5,6,4,7,7,9,8,7,9,8,2,3,9,2,3,7,9,4,3,8,8,1,2,3,0,1,9,4,8,1,6,9,0,4,1,0,0,3,4,4,3,3,5,4,3,3,8,1,0,3,0,6,5,9,4,3,3,3,5,7,3,3,0,2,8,6,3,1,0,5,6,0,2,1,7,7,1,2,1,9,8,2,1,2,7,0,1,5,3,8,8,9,5,1,1,4,2,5,0,1,9,7,7,3,6,1,7,4,4,4,1,8,6,6,7,2,5,9,1,7,2,6,6,1,7,0,1,3,9,4,8,7,0,2,6,2,9,2,4,7,9,3,9,9,6,1,2,1,3,4,7,9,1,9,9,8,2,3,2,6,5,6,3,6,7,7,8,0,0,4,1,4,2,6,3,7,4,8,5,6,6,5,7,4,8,2,9,5,0,7,1,6,2,8,3,5,4,1,5,5,6,3,7,7,8,8,9,9,0,3,1,0,2,5,3,0,4,3,5,1,6,1,7,1,8,2,9,0,2,6,5,6,1,8,6,7,4,7,3,6,9,4,9,1,0,8,9,3,7,4,1,5,6,0,4,3,3,3,6,5,2,0,2,6,0,0,0,1,8,7,2,2,5,9,9,4,8,5,6,0,5,9,7,5,0,5,0,7,4,1,7,8,4,2,3,0,2,8,2,5,4,1,1,3,3,8,4,6,7,2,7,9,7,3,2,5,0,6,9,2,8,4,5,4,6,9,4,8,3,4,8,2,2,8,8,7,3,5,8,7,9,8,5,1,8,1,0,6,5,5,4,6,7,1,1,4,3,9,1,8,7,5,9,0,0,4,9,3,1,8,7,8,3,0,8,1,0,0,3,7,9,0,1,2,6,9,4,7,3,7,2,1,1,2,8,5,6,0,4,5,5,0,0,5,1,5,5,9,5,3,6,3,5,3,0,1,1,1,2,9,3,8,4,8,5,5,6,0,7,2,8,3,9,1,0,7,1,4,2,6,3,7,4,0,5,1,6,5,7,9,9,2,0,7,1,6,2,1,3,0,4,3,7,2,9,7,4,5,7,6,6,4,3,6,4,0,0,2,9,9,7,5,1,7,9,7,3,0,8,8,4,3,7,8,3,2,0,4,9,4,9,4,1,9,1,7,4,0,2,1,0,5,6,2,2,5,1,7,1,2,1,6,1,3,7,3,2,5,4,5,7,4,5,2,2,1,9,3,4,3,5,4,8,9,9,6,7,3,0,3,0,9,7,1,5,2,1,9,1,8,7,7,6,9,6,2,6,5,8,2,2,2,2,5,7,2,7,6,4,9,0,4,2,0,4,3,2,6,3,1,3,0,3,3,1,9,1,8,6,0,9,8,5,8,5,9,3,7,0,5,8,9,3,6,9,8,6,2,0,7,1,9,2,4,3,9,4,2,5,1,6,3,7,4,8,3,9,0,0,8,1,1,2,1,3,8,4,8,5,2,6,5,7,3,8,8,9,9,0,4,1,2,2,1,3,2,4,7,5,8,6,8,7,5,8,6,9,4,3,3,4,7,1,4,4,8,6,4,6,5,7,6,3,7,3,8,2,5,1,8,9,3,4,0,7,7,3,5,4,3,9,7,1,9,1,8,0,1,1,4,4,6,6,9,0,8,2,8,8,8,2,6,5,2,2,7,1,3,7,9,0,0,2,9,0,9,6,5,8,2,2,5,9,7,2,0,3,6,6,7,9,9,8,4,7,0,8,7,9,5,2,5,2,8,9,7,8,0,6,4,4,5,4,9,4,0,0,0,0,5,8,1,0,2,8,6,6,2,6,9,8,1,7,5,3,5,8,9,0,0,3,2,6,1,8,4,3,1,1,9,3,3,9,1,1,3,9,9,0,8,7,5,2,8,7,3,4,0,3,4,1,9,7,4,6,3,0,7,1,2,2,1,3,3,4,3,5,3,6,2,7,7,8,8,9,1,0,2,1,7,2,1,3,7,4,0,5,7,6,1,7,6,8,6,9,7,0,8,1,9,2,7,3,5,4,0,5,8,7,7,8,3,9,7,3,9,8,0,0,2,7,2,1,3,0,8,7,0,6,3,9,6,0,3,1,0,0,0,0,3,8,6,3,3,4,6,3,6,1,3,5,0,0,5,0,5,9,4,5,0,3,0,4,3,7,7,6,6,9,5,2,3,4,4,5,1,7,5,2,8,1,1,6,5,4,5,9,1,4,0,9,9,4,1,1,8,2,5,2,9,5,0,8,6,1,5,3,0,2,3,9,6,4,7,3,3,2,1,1,3,2,5,8,4,6,9,5,6,1,9,6,2,7,5,2,0,1,8,3,6,7,8,5,6,9,5,3,9,8,5,7,2,5,3,7,1,0,5,7,1,4,4,8,8,8,0,5,8,0,5,6,4,6,3,3,8,7,9,6,9,9,5,9,9,4,6,8,0,4,5,1,2,0,1,6,2,6,3,0,8,1,7,2,7,3,2,4,8,5,3,6,1,7,1,8,5,9,8,0,1,1,5,2,8,3,5,7,2,8,0,9,7,0,8,1,9,2,7,3,4,4,8,7,8,8,8,9,4,6,9,9,4,6,2,1,2,9,8,9,3,9,8,4,3,4,6,3,4,8,3,1,0,4,2,1,0,2,9,5,4,0,5,9,9,4,0,9,5,0,6,7,1,4,9,4,1,1,8,8,3,7,9,6,7,0,2,8,2,1,3,8,2,2,0,6,6,2,3,0,8,9,4,1,5,2,1,5,2,4,2,5,1,6,7,7,1,7,3,5,8,3,4,0,2,2,3,2,9,2,0,7,9,3,5,5,7,2,6,1,5,4,7,4,1,3,0,0,6,0,4,8,2,5,2,4,8,7,1,9,1,8,3,7,8,9,4,6,7,3,3,1,7,7,9,9,1,6,3,3,8,3,5,1,0,0,1,2,2,6,8,0,1,5,8,6,5,6,9,8,6,7,7,3,5,5,1,8,2,3,8,0,1,1,2,2,6,3,9,1,8,5,8,6,6,0,2,1,8,2,3,3,1,1,8,5,4,6,1,7,7,8,4,0,5,1,7,2,9,3,1,1,4,7,9,4,2,8,3,1,3,5,3,6,7,5,4,7,9,2,9,8,3,6,9,3,1,3,3,8,9,6,8,5,8,4,7,0,6,9,4,1,2,7,9,2,2,9,6,1,9,5,1,1,6,3,3,2,3,3,5,6,7,1,6,3,4,6,5,9,7,0,9,1,2,8,5,1,0,4,9,0,0,6,5,1,0,2,3,6,0,9,3,2,9,2,7,3,7,5,1,5,3,0,9,7,7,7,7,9,6,6,6,2,2,9,0,4,4,7,9,0,6,2,6,3,2,4,7,0,3,0,6,8,1,5,5,1,7,3,1,7,1,9,8,8,7,8,5,9,0,0,5,9,7,8,2,9,9,0,0,6,7,5,8,6,7,7,0,4,2,7,2,5,0,4,3,1,0,3,6,5,0,3,6,0,7,1,3,2,6,3,1,4,7,5,2,6,6,7,4,8,4,9,4,0,0,1,4,2,6,3,6,4,5,5,4,6,8,7,4,8,4,9,0,0,0,1,8,2,4,3,0,6,1,7,1,8,5,9,8,0,7,9,1,9,3,8,0,9,9,8,7,4,4,1,9,7,3,7,4,3,2,0,6,0,2,7,0,8,0,2,8,0,2,1,8,2,0,6,2,3,2,3,9,7,8,3,9,3,5,6,5,6,4,4,8,9,5,1,5,9,1,8,2,2,8,0,1,3,5,2,8,1,0,7,6,3,8,1,4,3,6,9,2,1,1,7,8,6,7,8,3,4,9,3,2,1,4,4,5,0,8,5,1,3,2,6,9,9,9,6,1,1,3,8,7,2,5,2,8,5,9,7,0,8,8,9,1,8,4,0,8,1,7,2,2,3,3,4,3,5,3,6,7,7,0,8,4,9,1,0,2,1,9,2,6,3,7,4,5,5,2,6,0,7,5,8,1,9,9,0,1,1,8,2,4,3,4,4,8,5,1,6,6,7,5,8,7,9,5,1,3,2,9,6,2,5,4,3,7,0,5,2,0,8,7,7,5,0,1,3,5,6,0,4,7,4,5,3,2,6,0,7,2,2,7,3,9,9,2,1,9,2,5,1,2,2,1,9,8,6,2,0,2,1,4,3,6,0,7,2,8,7,9,5,5,7,9,6,0,1,5,9,7,0,1,6,4,0,0,6,0,0,8,2,9,0,3,6,5,1,8,5,6,8,2,4,4,3,6,0,5,1,9,5,3,4,6,4,4,8,6,8,8,4,4,5,1,7,4,5,3,7,0,8,5,3,4,4,9,8,3,8,1,5,5,2,9,9,5,7,4,1,9,3,1,8,8,1,1,0,2,7,6,5,1,9,3,6,7,9,9,4,7,7,2,7,7,9,6,9,8,5,1,8,9,3,6,4,0,4,4,3,3,8,2,6,3,2,1,0,8,1,4,2,4,3,0,7,0,8,7,9,0,3,7,4,3,7,7,9,4,0,6,1,9,2,4,3,1,7,6,8,2,3,8,8,9,7,6,1,1,0,1,7,1,6,5,9,5,0,3,1,8,0,9,0,4,1,6,0,6,9,9,3,0,4,9,7,8,6,2,9,2,2,6,1,1,6,7,4,3,4,3,1,1,2,0,2,9,1,7,3,8,2,9,9,1,3,5,2,5,1,6,2,6,1,5,6,2,7,8,2,8,3,0,8,7,7,3,5,4,7,2,0,3,7,8,4,7,6,6,3,0,7,5,6,8,9,1,9,3,4,0,8,1,4,6,1,6,0,3,6,2,6,4,0,4,1,5,2,0,3,4,4,9,5,9,6,8,7,4,8,9,9,5,0,2,3,7,4,3,5,8,6,3,7,3,8,2,9,7,0,1,1,1,2,1,3,2,4,7,5,0,6,8,7,3,8,8,9,8,0,4,5,2,5,5,6,3,5,2,0,6,9,8,8,4,9,1,8,6,4,9,1,9,7,7,5,2,1,2,0,5,0,3,2,1,2,0,7,4,1,7,2,6,6,6,3,4,3,0,7,7,3,5,3,7,4,4,4,7,1,4,5,5,0,4,9,3,5,2,2,3,8,9,2,7,0,3,0,1,1,5,7,0,6,3,3,9,2,6,1,4,7,0,1,6,3,4,9,9,7,9,6,1,1,7,4,3,0,7,5,4,6,7,1,2,7,7,5,7,7,4,2,6,7,1,9,6,5,6,8,1,0,8,1,4,2,6,3,4,4,7,5,3,8,8,9,5,0,5,1,6,2,6,3,3,4,8,5,8,6,7,7,0,8,2,9,8,0,4,1,4,2,4,3,1,4,6,5,6,6,9,7,8,8,6,9,0,8,5,6,5,5,3,0,6,6,8,8,9,9,1,4,7,1,3,9,5,5,8,3,3,0,2,4,9,8,1,9,4,1,2,4,3,0,8,5,6,5,7,2,0,5,5,4,9,0,7,7,4,6,0,0,1,1,9,7,8,0,8,6,6,8,1,9,3,5,3,4,4,7,5,9,9,8,0,6,5,0,7,8,0,1,8,7,1,7,1,1,2,3,9,2,6,3,8,1,6,4,7,2,8,0,4,0,2,7,6,8,9,4,8,6,6,4,3,9,4,3,9,8,3,4,1,7,9,2,2,5,2,6,7,3,6,6,5,2,8,2,3,4,1,6,7,9,9,0,9,2,0,1,9,3,7,3,8,9,5,7,8,8,7,7,1,2,2,2,2,5,0,7,9,9,9,8,1,2,6,1,7,3,2,1,5,3,3,0,1,1,1,2,5,3,3,4,7,5,2,6,1,7,8,8,1,9,2,0,3,1,3,2,4,3,9,4,9,5,9,6,0,7,1,8,5,9,8,0,7,1,1,2,8,3,4,4,1,5,8,6,6,7,6,8,2,9,3,5,5,0,7,6,9,8,1,9,7,4,9,1,7,9,2,5,9,3,1,0,2,4,6,8,1,9,0,1,5,4,1,0,9,5,6,1,7,5,9,4,1,0,6,7,2,6,1,0,4,1,8,7,5,0,4,6,9,8,4,9,2,5,1,4,9,7,9,9,1,8,9,6,4,0,1,8,5,1,2,7,1,7,5,1,1,3,6,2,6,3,3,1,3,4,5,2,3,0,2,0,9,7,1,8,3,4,5,6,1,4,0,9,2,3,6,8,1,4,6,7,4,2,2,5,0,6,1,3,0,6,1,9,8,6,3,3,5,2,8,2,4,4,0,6,7,9,0,0,5,2,1,5,5,5,9,1,7,3,3,3,4,9,3,7,1,2,6,5,7,7,6,9,3,8,4,2,2,1,8,3,7,1,4,3,8,0,8,1,7,2,0,3,5,4,9,7,6,8,5,9,5,0,0,1,7,2,9,3,5,7,9,8,0,9,2,0,6,1,5,2,1,3,5,4,0,5,5,6,9,7,1,8,0,9,1,2,1,5,0,1,8,6,0,4,9,3,1,9,6,9,7,0,9,9,7,7,3,1,3,6,5,4,4,3,1,6,4,2,3,2,6,0,6,0,7,5,9,9,6,5,0,7,7,3,7,2,7,2,5,4,0,7,3,6,9,7,4,7,3,2,4,8,6,8,9,2,1,8,3,3,2,7,7,1,5,3,6,9,8,0,5,9,1,1,0,7,9,3,3,8,8,0,3,3,1,9,7,1,7,6,8,4,7,3,2,2,1,1,1,8,9,6,2,1,2,5,4,0,7,1,2,2,6,3,8,4,5,5,8,6,0,8,1,0,3,1,4,2,2,3,4,4,1,5,9,6,5,7,5,8,1,9,4,0,9,4,6,5,1,6,0,7,6,8,3,9,6,0,9,7,2,0,0,7,3,8,6,3,3,5,6,3,7,8,3,8,0,1,3,4,6,9,3,6,4,1,9,8,1,9,5,4,9,1,5,2,8,5,8,9,2,9,6,5,3,4,5,3,4,3,5,3,1,9,0,0,6,1,6,9,3,1,5,2,1,7,4,9,1,1,5,0,4,6,5,2,6,4,8,0,8,3,7,8,3,9,9,5,4,6,2,6,4,5,7,1,8,7,4,1,1,4,8,6,4,9,2,1,8,3,1,1,2,6,0,3,5,0,9,6,6,7,6,1,7,3,0,8,4,2,8,6,7,2,5,6,5,7,2,8,7,7,2,0,3,1,3,2,2,3,6,4,0,5,3,6,6,7,3,8,5,9,7,0,0,1,7,2,3,3,9,7,6,8,8,9,0,0,2,1,0,2,2,3,9,7,4,8,0,9,7,3,0,4,8,1,0,4,6,6,5,6,0,7,8,3,3,3,1,2,5,1,3,9,0,4,3,7,8,3,1,5,1,4,5,9,7,1,4,1,5,0,9,1,9,4,0,6,0,0,4,2,7,5,3,2,1,1,4,7,1,5,0,0,0,0,9,2,7,3,2,7,0,6,9,9,5,8,2,7,8,8,0,9,9,2,4,2,3,9,1,9,8,5,1,4,2,4,8,4,2,0,6,0,4,8,8,6,8,6,0,8,3,5,1,1,6,7,8,0,6,3,8,6,2,7,9,8,7,3,0,1,2,3,6,9,9,5,3,9,9,9,2,5,0,0,8,4,9,3,4,1,9,7,6,6,6,0,5,1,8,2,2,3,4,4,1,5,4,6,2,7,7,8,0,9,0,0,1,1,5,2,0,3,5,4,0,7,6,8,6,9,1,0,2,1,6,2,1,3,7,4,5,7,1,8,8,9,5,6,9,4,1,2,5,6,0,4,2,7,8,8,7,9,5,3,6,9,9,3,2,8,7,2,4,0,7,9,6,8,1,0,3,0,3,1,3,0,8,5,5,3,0,5,8,3,3,8,1,0,5,0,6,5,8,4,4,3,1,4,6,1,1,5,7,3,5,0,2,6,0,2,5,7,2,1,5,1,6,8,7,1,5,7,5,1,0,3,3,8,7,5,8,4,4,2,7,0,6,9,0,2,5,6,9,7,5,1,2,9,1,6,4,4,3,6,9,2,2,3,3,7,3,1,4,2,0,5,7,3,9,7,9,8,6,0,0,1,4,2,0,3,6,4,3,5,5,6,4,7,1,8,5,9,0,0,5,1,5,2,1,3,0,4,5,5,9,7,6,8,1,9,7,0,2,1,0,2,7,3,6,7,0,8,9,9,6,5,4,2,5,8,1,1,7,7,6,2,0,4,0,1,3,4,7,1,0,8,3,3,3,7,1,8,4,4,9,3,0,3,2,5,8,6,7,7,7,0,8,6,2,1,6,6,1,8,1,0,2,1,3,5,9,0,9,8,1,5,7,1,6,8,3,4,2,7,5,6,3,9,8,1,3,9,0,0,2,6,5,7,7,1,8,2,6,3,7,9,9,2,9,4,5,5,1,3,1,7,7,5,2,3,9,1,8,8,2,2,8,2,5,3,2,0,6,2,9,9,8,4,5,9,8,7,8,0,8,0,2,2,4,7,1,4,7,9,6,9,6,2,2,8,2,1,1,5,6,6,8,9,4,8,6,3,5,8,3,3,1,6,3,7,1,0,9,0,5,0,1,1,6,2,9,3,5,4,4,5,3,6,4,7,7,8,6,9,2,0,9,1,2,2,1,3,5,7,8,8,5,9,6,0,5,1,0,2,2,3,5,4,8,5,1,6,9,7,3,8,0,9,7,0,2,8,2,7,0,8,2,9,1,9,7,0,9,1,8,4,3,5,8,1,6,6,7,0,5,5,2,6,4,7,9,3,8,9,5,9,2,3,0,8,4,1,8,2,8,9,7,6,6,7,3,3,0,3,7,4,2,7,2,7,2,9,0,1,1,7,4,6,3,2,5,1,7,5,4,5,4,0,1,5,3,0,1,8,1,4,7,0,1,3,8,8,8,1,1,2,1,2,0,3,7,1,5,3,0,6,8,7,7,3,9,4,8,9,1,6,9,5,6,1,3,9,1,8,7,1,8,1,5,2,9,7,7,6,8,8,5,8,1,4,9,2,8,2,8,0,0,1,7,2,4,3,1,4,2,5,3,6,2,7,1,8,4,9,7,0,0,1,1,2,5,3,4,4,4,5,7,6,0,7,2,8,8,0,7,1,0,2,2,3,9,4,6,5,1,6,3,7,4,8,8,9,9,7,3,1,6,5,1,6,9,2,0,5,0,0,5,5,5,4,9,2,1,0,5,8,3,1,1,7,3,1,3,8,5,3,1,8,6,7,5,1,8,7,5,1,3,4,9,4,2,4,1,5,7,7,0,4,8,4,5,7,0,2,2,5,5,3,2,9,6,3,0,9,3,0,8,8,1,7,7,9,9,0,5,6,5,3,0,0,6,4,8,6,4,3,6,7,4,0,8,1,5,4,9,8,5,1,4,2,4,9,6,3,7,1,2,8,1,4,0,2,3,9,4,8,4,8,1,6,9,5,2,2,0,1,9,9,7,2,9,9,2,1,0,0,8,5,9,3,5,3,3,6,5,1,7,2,0,5,8,0,3,3,3,7,6,6,1,1,3,5,3,5,7,9,0,8,0,0,0,9,9,0,7,1,4,2,7,3,3,4,2,5,6,6,1,7,6,8,0,9,4,0,2,1,1,2,7,3,6,4,8,5,8,6,3,7,5,8,6,9,1,0,3,1,4,2,9,3,9,4,4,5,5,6,2,7,4,8,9,9,5,6,3,0,5,3,9,4,6,1,5,4,7,0,7,8,0,6,4,4,9,5,6,4,0,0,1,7,1,8,4,7,1,7,6,9,0,0,3,9,9,7,8,4,3,2,9,5,7,8,6,5,0,9,1,8,2,8,0,7,0,1,7,3,5,5,6,3,2,1,4,6,2,5,1,3,8,8,1,7,2,3,2,1,6,6,6,8,1,5,7,9,1,2,3,2,3,0,4,9,5,2,6,4,1,7,8,3,2,1,5,3,1,6,7,2,5,1,7,2,9,6,9,0,4,2,3,2,7,7,7,1,1,3,2,7,1,4,1,7,1,4,8,8,6,9,6,2,8,9,3,5,9,1,6,5,4,6,9,8,1,3,2,5,6,6,3,0,8,9,8,9,2,3,7,1,0,1,2,0,8,3,3,4,6,5,6,6,9,7,2,8,3,9,9,0,9,1,5,2,6,3,5,8,6,0,6,1,8,2,6,3,2,7,6,8,8,9,7,9,4,0,9,1,9,4,9,7,2,3,2,2,9,9,9,0,4,5,8,6,6,7,8,3,8,9,8,9,6,3,5,8,5,1,7,2,1,9,7,6,7,7,5,5,9,6,7,3,4,4,7,9,9,1,4,2,2,9,8,3,5,4,8,4,0,3,0,1,8,7,1,3,4,4,1,9,9,6,8,9,7,8,9,1,4,1,0,6,6,6,3,8,6,2,6,8,6,4,3,8,2,0,1,0,1,1,5,2,5,3,4,4,1,7,2,8,9,9,8,0,3,1,3,2,5,3,0,4,1,5,1,6,9,7,6,8,1,9,3,0,4,1,1,3,1,4,2,7,1,8,2,9,3,8,5,6,2,5,1,0,7,6,8,8,7,9,9,4,7,1,8,9,8,0,6,4,7,8,5,9,4,1,7,4,7,0,1,2,7,1,9,5,8,4,4,0,6,7,3,6,9,0,6,1,5,7,6,0,3,6,1,8,6,4,5,7,4,9,4,8,1,6,5,0,3,8,1,1,1,7,1,7,6,1,8,3,3,2,3,3,1,1,7,4,2,2,0,0,0,0,2,7,7,8,8,4,1,6,8,9,3,3,0,8,6,4,7,7,2,2,1,5,4,6,4,3,2,6,2,9,3,6,8,3,7,2,3,2,1,4,9,6,5,0,8,5,6,5,3,1,4,3,3,3,0,9,0,7,2,8,8,7,7,2,3,7,5,9,6,8,0,2,0,1,6,3,8,1,1,3,5,0,0,1,7,2,5,3,7,4,9,7,7,8,3,9,3,0,6,1,9,2,3,3,5,4,4,5,8,6,8,7,6,8,9,9,6,0,8,1,5,2,6,3,6,7,8,8,1,9,4,7,1,7,9,0,2,3,9,1,3,8,8,9,8,8,4,6,0,5,2,4,6,7,7,3,3,1,0,9,2,1,0,4,2,5,4,5,2,6,8,0,5,1,9,3,7,6,2,4,1,8,9,9,0,8,4,5,1,2,3,1,8,0,2,5,7,6,4,6,6,3,1,3,4,3,3,1,1,7,1,2,5,2,2,7,4,2,8,3,2,6,3,8,4,5,7,1,3,4,7,9,6,0,1,6,3,8,8,8,3,0,5,3,9,9,5,4,4,3,8,7,0,1,7,7,3,6,9,9,5,4,0,2,7,9,3,9,3,4,0,9,3,4,6,0,3,7,3,1,6,3,0,0,2,1,5,2,7,3,9,7,6,8,9,9,8,0,7,1,3,2,3,3,7,4,8,7,0,8,8,9,8,0,5,1,7,2,7,3,2,7,2,8,0,9,1,0,7,0,6,7,9,5,3,5,7,3,4,7,0,8,1,6,6,6,9,4,5,6,1,3,3,8,4,8,6,3,9,0,4,1,5,4,6,4,1,7,7,3,1,1,7,1,6,9,4,1,1,2,2,1,2,3,5,9,1,2,7,7,3,7,4,9,5,9,2,0,4,4,0,5,0,9,8,1,0,1,3,5,0,9,2,1,0,3,5,4,3,3,1,1,4,9,0,1,4,0,2,7,2,7,6,0,7,1,1,2,7,3,4,4,5,5,3,7,4,8,2,9,5,0,5,1,8,2,0,3,6,4,8,7,5,8,2,9,0,0,2,3,5,4,6,7,3,8,6,9,8,9,7,7,0,0,4,9,1,0,1,1,6,5,5,8,6,8,2,0,9,9,4,3,1,2,6,7,5,8,1,4,9,6,8,4,2,5,4,3,9,9,5,4,3,3,4,4,5,2,3,0,3,5,5,0,1,1,3,6,4,9,4,3,8,2,8,9,5,1,2,6,8,0,4,1,0,1,5,8,5,0,9,4,8,7,6,7,1,6,0,3,9,6,3,0,6,1,8,3,7,5,3,4,3,2,6,1,1,1,4,8,5,3,9,5,3,6,0,7,1,5,6,2,8,0,9,6,8,7,2,1,1,2,1,5,9,8,8,1,6,9,8,3,9,8,3,2,4,8,5,8,9,7,2,1,6,7,8,9,4,2,9,0,4,1,7,2,9,3,8,4,9,7,1,8,1,9,9,0,3,1,3,2,7,3,5,4,7,7,9,8,5,9,7,0,0,1,6,2,4,3,5,4,3,7,4,9,0,5,4,0,5,8,4,3,4,5,1,4,1,8,3,3,3,0,8,2,9,1,8,0,7,2,6,8,3,4,8,4,0,1,7,6,4,1,7,3,3,0,5,3,1,6,8,9,2,3,6,7,3,4,9,9,5,7,6,0,7,9,7,4,1,8,8,2,1,7,8,7,3,5,1,7,6,1,7,9,8,5,3,2,4,4,9,8,9,9,0,6,7,9,3,7,1,6,2,4,0,1,2,2,4,6,4,1,1,1,9,7,4,2,6,3,1,6,1,4,9,8,9,9,4,6,3,4,7,6,4,5,4,0,1,2,6,1,6,0,8,5,2,0,7,1,2,1,5,7,1,8,5,4,2,3,8,2,4,7,4,9,1,3,9,9,3,0,3,1,3,2,6,3,2,4,5,5,4,7,7,8,5,9,4,0,8,1,4,2,1,3,0,4,0,6,4,7,9,8,1,9,4,0,1,1,4,2,7,3,8,4,8,5,8,6,4,7,0,8,9,9,1,7,7,7,1,1,3,3,0,7,4,5,9,2,7,8,4,0,9,7,6,5,6,9,1,6,1,0,3,9,8,4,2,3,9,2,6,3,6,8,4,3,7,2,3,5,7,3,4,9,2,4,8,1,8,9,1,2,5,1,7,9,0,6,9,7,4,9,0,0,3,4,6,6,6,1,2,7,2,3,2,8,0,9,3,6,7,8,7,3,1,9,6,1,4,0,4,9,6,3,9,3,4,6,0,2,7,5,6,3,1,4,1,0,1,1,6,2,8,3,5,4,9,5,2,6,7,7,4,8,5,9,4,0,6,1,6,2,4,3,7,4,0,5,8,6,9,7,3,8,2,9,0,0,8,1,1,2,9,3,3,4,7,5,0,6,8,7,6,8,8,9,0,4,6,2,4,0,9,2,6,5,7,9,6,4,9,2,1,6,8,5,7,9,6,3,8,5,2,0,7,7,5,1,2,1,9,5,6,3,7,0,5,7,1,9,1,6,0,1,4,6,1,7,4,4,5,9,1,5,4,7,2,9,6,8,1,5,2,6,4,2,4,4,7,8,2,1,0,5,2,9,0,2,8,2,2,8,3,0,6,6,0,4,2,3,1,3,9,1,2,2,0,4,5,1,2,5,6,8,3,9,8,3,3,4,4,0,5,3,6,9,3,0,5,2,1,7,1,1,2,1,6,0,2,7,1,6,3,7,1,6,8,0,3,6,5,9,0,4,3,8,1,4,0,3,1,3,8,7,2,8,6,1,4,0,9,4,5,3,2,0,6,6,1,8,4,3,4,7,8,8,6,5,1,7,1,8,2,0,7,1,7,2,0,3,5,4,6,5,6,6,4,7,8,8,6,0,8,1,5,2,5,3,6,4,7,5,8,6,9,7,1,8,6,9,2,0,7,1,1,2,4,3,5,4,5,7,8,8,2,0,1,8,9,3,6,9,8,5,3,6,9,8,1,4,2,9,6,1,3,7,7,1,2,2,8,3,4,5,1,9,7,6,5,9,8,1,7,1,7,1,0,2,8,9,5,5,5,8,4,1,6,2,0,0,3,7,6,7,6,5,6,8,8,2,4,9,4,8,5,9,1,0,1,4,5,6,9,7,8,1,1,3,2,4,5,5,9,6,2,0,0,3,0,6,8,8,1,7,5,0,7,4,1,9,5,3,8,7,2,5,1,4,4,3,0,4,1,2,4,8,1,1,7,5,4,1,7,2,9,4,7,3,4,0,9,0,5,0,9,5,4,7,2,0,1,6,5,4,6,8,3,8,1,6,2,3,3,9,6,9,7,8,7,2,6,7,0,7,1,1,3,0,2,1,1,2,6,3,5,4,9,5,9,6,7,7,9,8,4,9,9,0,0,1,2,2,1,3,4,4,0,5,8,6,6,8,4,9,8,0,4,1,3,2,0,3,3,4,0,5,4,6,5,8,4,7,9,0,5,4,9,0,4,6,0,4,6,7,9,6,3,2,8,3,7,4,8,8,2,7,2,8,9,6,3,3,9,8,3,2,2,2,2,8,4,4,4,5,1,0,8,2,8,0,3,1,7,1,0,2,6,9,4,6,1,8,0,1,8,2,2,1,1,0,9,6,9,9,6,7,6,5,8,3,5,9,6,3,9,7,7,1,2,8,4,3,9,8,8,7,1,2,9,1,5,9,9,5,9,5,6,0,6,1,7,1,4,9,8,8,0,2,8,0,6,4,0,5,7,6,9,5,4,0,4,3,9,7,4,9,6,9,7,3,7,0,9,3,8,1,3,0,9,4,9,9,2,5,0,4,3,7,7,9,9,7,1,0,1,1,8,2,2,3,3,4,1,5,3,6,6,7,8,8,2,9,5,0,2,1,5,2,7,3,9,4,6,5,1,6,1,7,0,8,3,9,8,0,1,1,3,2,2,3,1,4,5,7,7,8,3,9,3,2,7,2,7,7,9,6,5,4,7,7,3,3,9,5,1,4,0,1,7,8,0,0,6,5,3,2,9,7,7,2,4,3,6,6,2,2,1,1,4,7,8,7,0,9,9,9,3,1,2,2,4,4,0,6,1,7,8,7,9,5,7,4,0,5,1,0,5,9,8,9,1,8,4,0,8,2,0,0,7,3,0,5,4,1,2,8,8,6,6,4,1,6,6,0,7,6,1,4,0,3,9,9,1,3,3,0,2,0,3,5,0,2,9,5,2,8,5,8,5,9,0,4,5,3,1,4,1,2,9,8,2,5,3,5,7,7,8,1,4,3,6,6,1,9,3,4,7,1,3,3,7,8,5,7,0,6,2,9,3,3,9,3,2,7,1,4,6,1,9,9,3,1,4,0,4,0,3,1,8,2,9,3,2,4,8,5,6,7,0,8,0,9,0,0,1,1,0,2,3,3,3,4,1,5,5,6,5,7,9,8,4,0,2,1,9,2,4,4,4,5,1,6,0,7,6,8,9,8,4,9,8,9,6,0,7,1,8,2,7,4,5,7,1,4,0,0,6,3,4,8,6,8,1,2,1,1,0,7,0,3,4,5,5,8,0,5,0,5,2,9,7,2,4,5,1,1,3,1,1,6,1,2,9,1,1,3,1,8,0,6,5,4,5,9,3,4,4,9,3,2,3,0,6,0,9,4,1,4,8,6,9,0,8,2,5,8,2,0,6,6,1,8,4,1,9,7,6,9,9,1,9,9,8,2,1,6,2,7,2,6,0,6,1,8,5,4,5,9,7,2,0,1,1,3,5,0,7,5,5,5,1,8,9,0,0,3,8,7,7,9,5,7,1,0,9,2,4,7,8,3,6,6,4,7,3,8,4,0,8,3,6,5,6,0,2,1,9,2,8,3,0,4,6,5,9,7,3,8,8,0,7,1,6,2,3,3,2,4,3,7,5,8,3,9,0,0,8,1,9,2,3,3,2,4,3,7,4,8,9,9,9,7,0,7,7,0,7,3,3,1,3,8,9,9,7,2,6,1,6,8,6,6,1,5,3,4,1,7,7,3,4,4,5,1,6,8,0,6,4,9,2,1,6,4,9,5,3,0,1,1,5,3,0,6,9,4,7,8,2,9,6,8,5,5,9,2,9,1,2,0,3,7,5,6,6,6,6,3,7,3,2,3,3,1,4,7,3,2,7,2,1,3,3,6,8,8,7,5,5,1,6,4,8,9,0,0,8,6,5,8,5,8,3,0,7,8,7,2,5,4,0,3,4,7,4,1,6,7,6,6,3,9,1,4,5,2,8,9,1,9,5,2,5,0,1,4,2,9,4,4,4,0,6,7,1,1,9,3,4,2,7,9,4,0,1,1,5,2,7,3,6,4,9,5,5,6,2,7,7,8,5,9,3,0,1,1,3,2,2,3,1,4,7,5,2,6,1,7,0,8,5,9,8,0,8,1,6,2,6,3,2,4,2,5,8,6,5,7,3,8,5,9,4,7,0,6,1,4,4,0,1,5,6,8,0,0,0,7,9,3,6,5,4,4,3,3,2,6,0,2,5,1,2,7,1,7,9,9,4,9,1,1,3,2,4,4,4,6,2,7,1,7,1,5,6,4,6,5,7,0,3,9,8,9,8,8,0,0,1,2,9,0,3,3,0,5,1,6,0,1,2,8,9,6,9,4,6,6,4,0,8,9,2,2,8,6,7,4,7,3,9,9,5,3,7,0,8,0,0,5,9,2,0,5,5,8,7,8,0,8,9,9,1,4,8,3,2,8,0,8,2,5,4,5,5,7,0,1,1,3,9,6,8,9,3,4,1,1,6,7,1,6,0,9,1,3,2,3,4,7,7,4,5,1,1,9,7,1,9,0,0,6,7,0,8,1,1,2,2,3,6,4,7,5,3,6,8,7,0,8,4,9,7,0,5,1,4,2,1,3,5,4,6,5,2,6,0,7,6,8,0,9,2,0,9,1,8,2,2,3,9,4,6,5,4,6,5,7,7,8,5,9,3,0,6,8,6,3,0,9,8,5,9,5,8,2,6,6,1,8,0,4,9,9,9,1,0,7,3,1,3,2,0,3,7,5,1,9,0,6,5,9,9,1,2,1,5,1,6,2,8,9,3,5,0,6,6,8,2,1,9,2,1,0,0,7,0,7,0,5,1,8,9,2,7,9,1,8,2,9,0,0,6,4,8,7,8,3,4,4,0,5,0,6,7,0,2,3,1,6,9,8,2,7,4,0,7,4,9,2,1,7,0,4,5,3,0,7,9,5,8,4,6,3,1,4,9,2,3,8,3,1,7,5,4,1,7,2,7,0,5,2,6,5,1,6,5,4,2,3,0,0,5,0,9,0,5,3,8,3,3,5,5,7,5,0,0,6,5,4,2,8,3,8,1,6,4,3,1,9,2,9,5,8,2,2,5,7,1,7,6,1,1,0,0,1,0,2,7,3,8,4,0,5,9,8,7,9,9,0,6,1,1,2,5,3,4,4,0,5,2,6,8,7,0,8,8,9,9,0,4,1,9,2,1,3,5,4,5,5,6,6,8,7,3,8,4,9,6,1,6,4,5,5,6,4,3,2,6,3,1,3,1,0,6,9,9,5,0,4,3,3,7,0,5,8,2,4,6,0,6,7,8,7,0,1,9,6,5,9,5,1,4,2,5,9,7,3,7,6,5,2,4,3,0,4,0,6,8,8,3,5,1,7,8,2,2,3,8,8,9,1,2,2,7,9,7,5,5,8,1,8,5,7,4,1,2,7,5,1,1,1,7,0,9,3,1,4,9,2,4,6,1,4,0,7,8,4,1,2,1,7,8,4,1,2,3,9,4,9,6,2,2,8,3,6,4,1,9,0,9,6,0,8,7,5,5,5,1,0,3,5,4,3,2,5,8,9,6,7,8,8,1,5,4,9,9,6,0,9,8,0,4,6,5,3,6,0,6,5,9,8,0,9,9,1,1,8,7,1,6,6,9,0,5,0,6,1,4,2,1,3,6,4,3,5,6,6,6,7,6,8,7,9,2,0,7,1,9,2,3,3,6,4,9,5,4,6,0,0,4,1,1,2,4,3,4,4,9,5,5,6,9,7,5,8,3,9,1,1,9,4,8,5,5,3,9,3,8,0,7,9,4,5,5,4,1,3,7,0,9,8,7,4,3,6,3,7,2,0,7,7,9,7,4,1,1,6,4,9,4,1,0,2,2,9,2,3,0,6,5,2,9,3,4,4,3,6,9,7,0,2,4,3,7,8,4,1,9,2,5,9,2,8,9,8,6,7,1,1,4,7,3,1,7,1,9,0,2,3,6,4,6,2,9,6,0,4,4,7,7,4,1,2,8,7,1,4,7,2,5,9,9,2,7,7,7,2,3,8,9,6,7,1,6,0,1,6,6,5,3,1,8,3,9,5,1,9,0,7,8,4,4,8,1,9,5,6,3,9,4,3,1,0,8,0,8,6,7,3,3,0,9,5,9,1,3,8,8,1,9,6,4,0,7,0,8,1,5,2,9,3,3,4,7,5,2,6,1,7,7,8,0,9,5,0,0,1,1,2,4,3,7,4,3,6,9,7,7,8,7,0,8,1,9,2,8,3,2,4,6,7,0,8,0,9,7,3,2,4,3,1,5,4,3,6,2,6,9,7,2,3,1,3,2,2,2,1,9,9,2,4,2,7,9,3,7,5,2,4,1,9,3,1,4,1,9,0,4,1,7,4,4,6,3,0,8,2,1,1,5,7,0,5,6,0,0,0,4,2,6,0,2,6,4,8,3,2,6,9,4,2,7,3,3,7,2,6,7,9,1,8,9,7,0,8,6,9,2,2,8,2,9,9,2,8,2,6,8,4,2,4,5,4,5,0,7,0,5,8,1,0,3,8,3,6,2,6,3,8,9,5,0,7,2,0,7,3,9,6,1,7,7,8,8,3,9,1,5,3,7,9,2,5,3,9,6,9,4,5,7,0,8,7,8,2,7,7,0,4,5,3,7,1,5,0,8,1,9,2,6,3,5,4,7,5,0,6,1,7,3,8,0,0,3,1,2,2,8,3,3,4,8,7,4,8,0,9,2,0,3,1,5,2,8,3,0,4,4,5,9,6,9,8,8,9,0,1,9,0,7,6,8,3,4,4,4,4,1,2,6,8,0,1,8,0,0,6,3,4,8,9,5,7,3,2,1,3,1,3,9,9,1,2,4,0,6,9,9,3,1,3,0,9,8,1,9,5,7,2,4,3,9,1,9,6,4,7,6,3,1,7,3,8,2,4,8,0,4,2,5,4,5,0,7,2,8,7,0,8,4,0,3,7,4,0,8,6,9,9,6,3,3,2,7,4,2,8,6,6,1,0,2,1,9,0,3,8,5,1,3,6,8,7,1,2,0,9,6,7,7,9,4,5,2,8,1,9,8,6,4,5,9,2,3,6,6,2,5,8,2,1,9,7,3,5,9,5,4,7,6,3,1,5,3,0,1,1,5,3,6,8,6,4,1,9,8,4,0,5,0,1,9,8,9,6,6,8,1,9,9,0,1,1,9,2,2,3,7,4,4,5,1,6,0,9,3,0,3,1,0,2,1,3,2,4,1,5,5,6,7,7,8,8,5,9,2,0,9,1,7,2,3,3,1,9,3,8,2,1,8,0,5,9,8,5,2,7,1,5,0,1,1,8,5,6,6,9,4,0,6,4,1,1,9,9,3,3,8,8,8,4,4,7,2,0,1,1,5,9,6,2,9,8,9,7,5,8,4,9,3,6,0,0,2,6,4,5,0,5,0,3,8,3,6,3,3,9,2,8,3,0,6,6,4,1,3,0,8,0,4,6,0,2,2,1,4,1,9,3,8,2,8,7,2,7,4,8,1,8,5,7,6,0,7,2,9,0,6,3,8,1,1,3,1,7,2,2,5,4,7,9,6,4,7,3,1,6,6,5,2,3,6,2,1,5,2,5,2,9,5,4,3,1,9,7,4,2,2,6,3,5,0,0,6,1,9,2,5,3,6,4,3,5,9,6,2,7,2,8,8,9,8,0,7,1,1,2,1,3,3,4,5,5,1,6,7,7,0,8,0,9,1,0,1,1,9,2,6,3,4,4,0,5,3,6,0,7,6,8,7,9,1,8,1,9,3,5,1,7,4,0,3,3,6,1,3,6,8,8,8,4,9,1,8,7,3,6,5,5,3,6,8,4,8,2,6,7,5,8,6,1,6,3,4,4,0,7,4,2,2,0,9,5,4,0,0,1,3,9,8,2,7,3,3,2,4,3,3,5,3,5,9,7,7,8,9,4,2,9,1,9,1,7,3,1,9,1,2,7,3,8,1,3,6,4,3,8,5,6,4,3,8,8,8,0,9,9,2,6,1,2,5,0,1,1,1,0,5,6,5,2,3,3,5,8,8,9,6,0,0,7,9,2,1,3,7,4,9,5,6,5,3,2,1,8,4,5,6,4,7,6,3,6,7,6,0,7,5,9,4,1,1,8,3,2,5,1,2,2,0,6,7,5,0,3,4,4,5,7,0,9,6,4,4,0,1,0,2,5,5,9,3,0,8,1,8,2,3,3,8,4,1,5,6,6,1,7,6,8,4,9,6,0,9,1,9,2,4,3,3,4,0,5,8,6,8,7,0,8,6,9,7,0,3,1,7,2,2,3,4,4,3,5,2,6,6,7,1,7,9,6,5,4,4,3,1,0,9,6,5,6,6,6,0,9,7,0,0,0,9,1,0,3,5,9,1,4,1,5,2,7,6,9,3,5,0,6,4,8,1,9,9,1,0,3,2,8,8,5,7,7,7,8,3,1,6,4,1,8,7,5,1,8,7,1,1,0,6,7,8,6,8,1,6,6,7,0,2,3,5,4,6,6,3,8,9,9,1,2,6,1,3,7,4,4,8,5,6,2,2,7,2,5,5,2,4,2,2,9,1,3,4,9,2,2,6,2,0,5,7,8,3,7,1,4,7,7,7,1,3,8,3,0,2,9,4,6,1,8,1,1,7,1,4,5,7,7,5,6,8,3,6,5,4,4,1,2,8,9,3,0,1,4,4,7,2,4,2,3,0,2,0,9,9,2,3,0,7,3,9,4,7,5,8,0,2,0,3,3,0,2,2,8,5,3,5,0,0,1,2,2,6,3,9,4,0,5,2,6,0,7,5,8,5,9,1,0,1,1,8,2,5,3,0,4,9,5,6,6,2,7,1,8,3,9,7,0,1,1,0,2,8,3,3,4,3,5,3,6,0,7,5,8,4,9,9,8,1,9,3,2,2,6,0,1,0,7,5,6,3,3,0,5,3,4,0,8,0,2,9,6,1,4,0,7,3,2,7,3,5,4,0,5,2,9,5,2,1,0,2,3,2,9,0,7,4,3,4,9,9,3,4,8,8,7,2,4,3,4,8,9,0,8,3,5,7,8,4,2,7,6,2,9,2,5,7,3,2,6,6,5,5,7,1,0,1,2,6,3,9,1,8,3,3,2,2,7,8,3,6,1,1,1,7,7,1,0,7,8,7,5,8,1,7,8,6,2,3,1,1,3,9,7,3,0,2,8,9,7,3,2,6,4,8,4,7,8,5,0,0,1,4,5,1,1,2,4,1,6,4,0,9,5,2,1,6,6,5,6,9,9,7,0,2,7,6,6,6,1,0,1,0,0,4,1,6,2,9,3,4,4,8,5,0,6,5,7,2,8,9,9,2,0,7,1,4,2,1,3,2,4,2,5,0,6,2,7,2,8,5,9,6,0,5,1,3,2,4,3,7,4,1,5,5,6,4,7,7,8,8,9,4,1,4,3,6,5,7,9,5,4,6,1,9,7,9,7,6,2,4,1,0,4,5,8,2,3,6,8,6,2,4,9,6,3,6,8,3,5,3,4,8,9,9,7,9,5,0,4,9,3,1,9,2,2,4,5,1,7,4,4,4,1,0,2,9,3,7,5,8,9,0,1,6,6,5,0,7,1,4,0,1,0,0,2,6,8,5,7,4,2,6,5,6,1,4,1,9,8,8,5,1,6,3,4,0,0,6,4,4,7,3,3,4,6,1,8,1,0,3,3,3,7,3,4,2,0,0,6,5,9,1,2,0,6,8,5,1,8,3,6,4,9,0,0,1,4,3,0,5,6,1,1,3,9,2,2,1,0,3,9,4,5,1,1,4,3,4,6,0,9,3,4,3,8,3,3,1,7,6,7,0,6,2,3,4,0,3,5,7,6,7,2,5,2,7,0,3,1,2,2,4,3,5,4,3,5,4,6,2,7,5,8,0,9,5,0,2,1,0,2,0,3,9,4,7,5,8,6,2,7,3,8,8,9,2,0,4,1,1,2,6,3,2,4,9,5,6,6,2,7,9,8,9,9,7,2,6,4,9,1,9,5,7,6,3,1,7,1,4,7,4,8,2,5,5,3,2,4,1,6,9,7,9,0,2,3,3,2,9,9,8,8,1,6,3,8,2,9,3,9,6,7,5,7,2,2,7,1,8,1,4,2,9,8,6,0,0,6,2,5,9,3,8,8,0,1,3,3,5,6,1,0,6,4,3,8,1,9,8,7,1,2,1,7,3,1,9,8,9,2,6,1,5,7,3,7,2,3,5,2,2,4,6,6,1,5,5,9,0,4,2,2,2,8,0,2,3,5,3,1,0,0,6,5,6,0,1,6,9,2,3,3,7,6,1,9,0,0,2,1,7,2,9,3,2,4,3,5,2,6,3,7,6,8,4,9,5,0,9,1,1,2,7,3,2,4,0,5,9,6,6,7,6,8,4,9,5,0,8,1,5,2,0,3,5,4,8,5,4,6,2,7,2,8,6,9,2,4,8,7,0,8,8,6,8,3,0,4,9,0,6,9,7,7,5,1,3,9,0,3,8,8,5,4,9,7,7,3,9,0,3,9,8,9,3,6,8,1,7,4,1,5,1,4,9,6,9,2,7,0,9,6,9,2,7,1,0,1,7,1,7,1,7,7,0,2,5,4,2,2,2,9,6,4,0,5,0,8,3,4,2,2,1,7,4,0,3,0,2,7,0,5,5,7,5,6,6,6,2,6,9,8,9,2,7,5,4,2,5,2,1,7,4,7,4,4,3,0,9,2,3,4,1,2,1,3,2,3,7,3,4,1,7,8,6,9,6,6,5,1,5,0,0,5,0,9,4,6,0,9,8,8,0,0,2,3,0,0,2,9,6,6,9,3,1,0,7,1,4,2,9,3,3,4,1,5,1,6,1,7,3,8,5,9,4,0,3,1,1,3,1,4,4,7,4,8,8,9,2,0,3,1,1,2,3,3,8,4,3,7,7,8,2,9,1,9,4,9,5,8,5,5,0,0,1,7,9,7,2,5,4,7,6,9,3,9,2,4,8,7,7,0,7,4,8,1,7,4,3,4,1,7,9,5,3,8,4,1,7,4,2,9,6,8,9,4,2,1,5,8,2,6,1,6,6,4,4,5,5,3,8,3,7,5,4,2,4,5,9,7,3,2,4,5,1,0,4,8,1,3,7,0,4,8,6,7,2,4,0,9,3,5,6,0,4,0,8,0,2,4,7,6,9,2,2,7,4,6,6,8,6,3,2,1,5,8,2,3,7,1,1,0,4,3,1,6,0,2,0,0,5,1,0,2,1,3,1,4,0,5,9,6,5,7,4,8,6,9,1,0,0,1,4,2,7,3,9,6,4,7,3,0,4,1,9,2,3,3,4,4,9,5,5,6,8,7,9,8,5,9,2,1,6,0,9,6,4,3,2,4,6,4,1,2,6,8,5,1,0,0,3,6,0,7,2,2,4,3,6,3,6,9,5,3,4,3,8,9,2,1,3,5,3,2,5,3,5,1,5,6,3,7,7,3,2,7,0,8,5,4,1,0,4,2,0,7,7,8,5,0,6,7,8,0,9,6,0,9,4,3,4,2,3,4,9,8,4,6,1,0,2,5,9,7,9,5,8,1,4,0,1,6,7,7,2,2,1,9,7,7,1,9,2,5,5,6,9,5,6,2,8,6,8,2,1,8,6,1,0,7,4,5,6,5,5,7,9,3,7,5,1,0,6,1,0,1,6,3,7,8,4,4,6,9,9,4,1,5,5,1,1,8,1,6,2,8,9,9,2,0,7,1,0,2,7,3,2,4,5,5,1,6,7,7,6,8,0,9,7,0,2,1,7,2,0,3,2,4,0,5,1,6,9,7,1,8,3,9,1,0,9,1,2,2,9,3,6,4,3,5,6,6,0,7,0,8,1,9,1,0,5,8,5,7,2,8,8,9,1,9,1,0,2,1,0,4,8,5,6,1,0,6,6,7,5,3,6,2,3,9,9,0,7,5,1,6,0,7,1,3,2,9,4,9,6,3,3,8,8,9,4,6,4,7,1,5,4,6,8,3,0,5,4,0,6,5,7,4,6,0,4,3,2,4,4,7,2,7,3,4,2,3,7,2,7,1,8,5,5,5,8,0,7,5,1,0,4,8,9,4,2,6,2,7,3,0,3,2,2,9,2,3,1,4,0,4,1,8,1,1,2,2,2,2,9,3,0,1,3,3,8,6,6,7,8,3,7,4,1,9,2,1,0,9,9,8,8,5,5,0,7,2,7,8,6,6,7,6,3,8,8,2,2,8,2,4,9,4,8,2,0,2,9,8,8,0,7,0,4,1,6,2,9,3,9,4,0,5,2,6,0,8,6,9,8,0,2,1,3,2,1,3,0,4,4,5,0,6,6,7,9,8,3,0,1,1,1,4,0,5,2,6,7,7,1,8,3,9,5,8,6,7,4,4,4,7,0,7,3,3,5,9,1,8,2,8,7,3,9,1,6,5,9,2,0,7,4,4,1,2,7,6,8,1,1,5,8,2,6,4,4,5,8,5,7,8,2,6,4,4,6,4,5,4,3,1,1,8,3,7,4,5,0,5,9,1,1,8,2,9,3,1,7,3,2,6,9,3,5,3,6,2,7,2,8,6,9,5,6,5,1,3,1,3,3,8,6,1,7,6,7,5,0,6,5,8,1,1,6,9,6,7,7,6,9,8,5,3,9,7,2,4,4,7,4,0,4,9,4,0,9,0,1,3,8,7,6,9,4,3,8,0,1,1,7,0,3,1,8,0,3,4,8,0,1,1,3,0,4,4,1,7,2,9,5,2,9,0,8,6,1,2,3,6,3,2,5,2,4,9,8,9,2,0,5,1,7,2,5,3,3,4,1,5,1,6,3,7,6,8,1,9,8,0,7,1,6,2,6,3,6,4,7,5,0,6,2,9,9,0,8,1,2,2,0,3,9,4,8,5,0,6,0,7,1,8,5,5,7,7,7,0,1,8,5,4,6,0,1,2,8,1,8,0,7,2,1,8,4,5,8,4,2,4,3,1,8,6,6,1,5,3,9,6,8,9,5,3,8,7,8,4,7,9,4,7,5,4,8,8,5,3,8,2,7,7,1,7,9,9,8,5,6,7,5,6,0,5,8,2,8,4,2,8,1,9,0,6,8,9,2,7,1,6,2,1,4,6,6,1,4,7,9,2,3,3,4,6,4,6,3,6,3,2,1,1,2,0,5,5,1,0,6,1,9,2,0,1,0,7,5,8,8,1,9,4,5,9,5,3,5,9,2,0,8,1,8,2,7,3,4,4,1,5,1,6,7,7,0,8,4,9,7,0,9,1,5,2,5,3,9,4,5,7,9,8,1,9,3,0,6,1,8,2,8,3,2,4,6,5,5,6,7,7,3,8,9,9,1,6,2,0,4,3,8,4,2,1,0,4,7,0,7,8,4,6,6,4,4,5,0,4,6,0,8,7,1,8,0,7,4,7,2,9,1,0,1,4,0,9,4,9,5,7,6,4,9,2,6,0,6,5,5,8,5,5,3,9,4,8,9,8,5,4,2,0,4,7,6,1,4,3,8,5,2,6,6,5,1,3,4,8,1,7,0,3,4,1,7,6,5,8,4,5,3,9,8,2,5,2,7,0,8,9,9,2,7,4,7,6,6,5,5,2,4,1,6,3,4,6,7,6,3,2,8,1,7,2,6,6,7,0,9,7,3,4,4,7,2,8,2,9,6,2,5,9,3,5,7,1,0,8,3,3,9,5,5,6,5,8,9,0,1,0,6,9,9,9,5,3,9,1,8,1,7,0,0,1,1,2,6,3,7,4,1,5,2,6,6,7,8,8,2,9,9,0,6,1,2,2,3,3,6,4,7,5,7,6,0,7,1,8,6,9,5,0,2,1,3,2,7,3,2,4,7,7,8,8,5,9,5,0,3,7,3,0,2,7,9,8,1,3,3,0,1,0,5,5,2,5,0,3,6,8,5,8,4,1,5,4,9,6,7,1,0,8,1,0,2,2,8,7,6,3,1,9,1,4,0,1,5,2,3,5,1,9,9,8,3,9,9,5,5,4,1,3,5,0,9,3,4,3,9,4,0,7,0,1,1,2,3,1,8,0,1,6,2,2,4,3,6,8,6,9,7,5,4,6,5,6,1,7,1,1,5,4,0,6,2,2,5,9,5,1,6,5,6,5,0,5,5,3,8,1,7,4,2,8,4,6,5,3,0,7,2,0,9,9,7,5,8,6,9,7,2,1,1,3,4,2,6,6,1,2,3,6,8,7,8,8,7,7,1,0,5,1,4,2,9,3,7,4,0,5,2,6,1,7,3,8,0,9,9,0,4,1,2,2,5,3,9,4,8,5,8,6,5,7,9,8,7,9,2,0,2,1,2,2,6,3,4,4,1,5,7,6,0,7,8,8,3,9,6,6,4,4,0,2,2,6,1,4,7,7,3,5,7,5,8,4,8,7,2,8,4,9,9,2,5,9,6,3,2,9,9,3,7,8,3,2,5,0,1,9,0,8,6,0,4,5,0,6,1,0,9,1,4,0,1,4,7,2,1,6,9,5,7,3,2,5,2,3,5,8,1,0,3,0,5,5,8,4,8,3,8,4,4,1,2,5,2,3,4,0,1,8,2,3,1,6,5,2,8,7,3,1,8,1,1,8,7,1,7,7,3,1,3,3,6,8,0,5,8,0,2,9,4,7,9,6,6,7,8,4,6,1,9,6,5,8,1,4,5,7,7,5,4,1,3,2,9,6,5,7,2,1,6,9,7,8,0,0,8,6,4,9,9,4,3,9,2,9,7,6,5,2,3,3,2,7,1,1,9,9,0,2,6,2,1,5,3,3,6,7,1,8,6,0,2,1,7,2,9,3,5,4,8,5,7,6,2,7,8,8,6,9,4,0,9,1,3,2,5,3,5,4,7,5,8,6,4,7,7,8,4,9,3,0,6,1,0,2,9,3,4,4,4,5,0,6,3,1,7,3,4,5,3,9,6,4,1,1,2,7,4,1,3,4,4,8,4,3,9,8,4,2,6,9,1,3,0,8,5,8,8,9,7,7,4,5,5,9,0,2,1,5,5,7,3,4,1,1,5,2,5,3,4,5,3,9,3,1,4,1,6,0,8,0,0,2,0,8,3,7,1,5,3,1,3,1,3,8,2,5,7,6,7,4,1,0,1,3,8,0,7,3,5,7,1,6,4,9,6,2,7,6,7,6,3,9,0,0,2,4,6,0,5,6,8,1,9,0,3,9,5,5,8,1,2,3,5,7,8,6,7,9,3,7,8,3,2,0,9,5,8,6,1,2,5,2,6,0,2,1,4,2,7,3,1,4,6,5,0,6,3,7,0,0,3,1,3,2,2,3,3,6,9,7,4,8,6,9,8,1,2,0,7,1,1,2,9,3,1,4,4,5,6,6,0,7,9,8,0,3,9,1,2,2,6,1,6,9,5,2,5,4,9,0,9,9,8,9,7,3,7,7,5,7,4,9,9,1,0,4,3,2,4,7,5,2,7,5,2,8,6,6,3,0,6,4,3,0,4,3,3,8,8,1,1,0,9,3,7,0,4,4,7,7,2,4,7,9,7,2,2,9,6,1,9,2,8,5,3,7,8,1,1,7,9,1,7,6,2,7,7,3,5,3,6,6,8,5,1,6,2,7,3,6,8,8,9,8,4,2,6,9,9,5,9,3,8,7,8,4,2,3,4,0,1,4,5,6,3,6,2,9,5,0,6,1,2,1,9,3,6,2,1,1,1,0,1,0,5,1,2,2,1,3,0,4,6,7,0,8,4,9,7,0,8,1,4,2,5,3,7,4,8,7,6,8,8,9,5,0,7,1,8,2,5,3,4,4,7,5,3,6,2,7,0,8,1,8,3,0,7,5,9,6,8,6,1,0,2,8,7,0,9,2,0,3,0,7,7,9,7,4,9,7,0,1,5,7,1,1,9,4,1,0,5,0,5,4,8,1,2,7,2,5,6,7,2,1,5,3,2,3,4,3,9,1,1,6,8,9,7,7,4,4,2,3,3,0,6,2,2,6,6,0,9,8,4,9,8,4,1,3,6,5,4,4,8,8,3,1,3,5,6,9,0,0,5,6,3,4,1,3,3,6,2,3,7,3,2,8,5,1,2,4,2,7,4,5,1,7,6,2,6,2,8,0,1,0,4,1,5,7,1,7,7,9,7,5,5,9,4,8,1,9,8,6,0,8,7,8,6,2,1,3,2,6,1,1,0,2,0,9,2,8,0,5,1,2,3,6,8,2,5,4,0,8,0,5,9,0,2,1,5,2,4,3,3,4,3,6,0,7,4,8,2,0,7,1,4,2,7,3,7,4,3,5,1,8,5,9,0,0,4,1,0,2,9,3,1,4,9,5,1,6,3,7,5,8,5,9,4,0,9,1,9,7,1,9,9,5,4,1,1,8,8,9,7,4,1,3,1,1,6,7,9,8,7,2,0,4,9,3,6,6,9,9,6,9,8,5,0,8,8,6,9,6,1,8,5,2,0,6,7,3,1,9,2,3,1,2,2,1,1,7,4,4,0,8,4,8,2,9,7,0,4,3,0,3,7,9,4,0,7,5,1,2,9,9,3,4,5,1,2,0,4,3,8,7,6,7,8,7,4,8,8,2,8,9,2,7,0,5,0,5,7,1,3,2,6,6,3,3,3,6,1,6,2,0,3,2,1,8,9,1,9,6,4,1,4,0,1,4,1,3,4,1,7,6,7,1,7,9,1,0,5,1,6,2,7,3,8,4,8,5,6,6,3,7,5,8,0,9,5,0,4,1,2,2,6,3,0,4,3,7,5,8,6,9,4,0,6,1,6,2,3,3,6,4,7,5,1,6,4,7,3,8,1,9,8,7,2,7,1,7,7,3,7,1,7,8,8,7,9,6,2,0,2,2,7,6,6,8,5,3,8,2,2,8,2,1,0,1,4,7,2,2,5,0,7,7,4,1,3,6,0,0,9,4,4,6,3,4,3,4,4,5,5,8,4,0,4,6,4,2,8,3,4,1,5,3,5,6,4,8,1,4,5,0,7,7,1,5,6,8,0,8,3,3,3,7,9,8,0,9,9,2,4,6,2,2,3,5,9,3,6,1,8,7,1,3,8,9,4,1,8,9,2,9,5,6,7,0,1,3,2,9,9,2,8,8,0,1,8,4,8,3,9,5,4,2,8,9,1,2,3,9,1,1,6,6,2,5,1,8,8,9,0,4,9,2,3,5,3,0,7,1,4,2,0,3,4,4,2,5,3,6,9,7,7,8,1,9,0,0,6,1,7,2,1,3,0,4,7,5,6,6,2,7,8,8,1,9,1,0,8,1,3,2,5,3,2,4,4,5,1,6,6,7,6,8,5,9,0,6,3,4,7,2,7,6,1,4,1,7,5,5,6,5,8,4,8,7,1,8,0,9,6,2,7,9,9,3,6,9,9,3,4,8,4,2,4,0,5,9,0,8,8,0,0,5,7,6,1,0,4,1,3,0,8,4,5,2,9,6,2,5,0,3,4,5,2,3,1,8,1,3,8,4,0,1,6,5,6,3,7,0,1,8,6,3,9,0,1,6,1,2,4,7,5,1,2,1,7,8,9,1,1,7,1,1,7,3,3,8,0,5,7,2,0,0,6,9,8,7,5,6,5,7,4,4,9,1,1,6,2,8,9,4,3,7,8,5,4,1,8,2,4,6,4,7,2,9,5,8,1,0,4,6,7,9,9,4,1,6,7,2,5,3,2,7,0,1,8,9,2,2,0,2,6,5,7,3,1,7,2,8,9,0,2,1,9,2,4,3,3,1,3,5,1,6,0,7,8,8,8,0,2,1,4,2,3,3,7,4,8,5,4,6,5,7,9,8,2,9,5,0,8,1,2,2,6,3,2,4,0,5,7,6,5,7,8,8,0,9,3,8,5,9,3,2,8,6,7,1,1,7,5,6,1,3,4,5,4,4,1,8,6,2,7,6,4,4,6,7,4,2,2,3,8,4,5,5,9,9,0,2,1,0,3,3,2,9,9,4,6,9,6,7,9,3,7,9,4,3,6,8,9,7,0,1,9,4,5,9,4,8,2,5,4,8,4,2,9,6,1,9,4,5,4,3,2,6,8,5,0,2,5,5,6,7,4,2,6,3,8,1,3,3,0,2,8,7,0,3,1,1,9,9,2,0,1,1,1,7,9,0,3,8,8,5,9,6,0,8,7,2,2,1,5,3,4,5,1,0,5,7,3,0,6,8,2,7,1,2,8,4,5,4,3,8,6,0,1,1,3,5,7,1,0,1,2,6,0,0,7,0,1,4,4,9,5,8,1,5,8,1,3,6,6,6,4,0,1,7,8,6,5,1,2,1,7,0,4,1,1,2,7,3,4,4,7,5,1,6,8,7,6,8,1,9,3,0,2,1,7,2,7,3,9,4,1,5,0,6,7,7,0,8,3,9,1,0,9,1,4,2,9,3,7,4,5,7,6,8,0,9,2,0,5,7,1,8,4,4,4,1,4,8,7,8,9,1,2,3,4,1,1,8,6,3,7,7,1,9,4,3,7,4,8,7,9,8,9,4,1,7,4,8,3,9,3,3,4,1,5,4,7,6,8,5,0,6,4,7,3,7,1,1,9,6,2,4,7,9,6,2,6,9,1,3,2,5,0,3,2,6,1,0,2,0,3,2,3,4,7,2,0,7,5,4,0,9,1,5,5,1,4,2,1,3,0,6,6,1,9,8,1,3,3,8,0,0,5,3,4,0,5,6,4,1,6,6,7,9,5,5,8,9,1,4,7,5,2,8,8,6,0,7,0,1,7,1,8,7,8,0,8,1,4,2,6,3,2,4,3,5,7,6,4,7,1,8,7,9,2,0,3,1,7,2,2,3,3,4,6,5,5,6,5,7,8,8,5,9,7,0,8,1,5,2,6,3,5,4,8,5,0,6,0,7,9,8,0,9,2,7,3,7,3,7,6,3,7,0,7,3,0,1,9,8,5,7,9,6,5,4,9,5,1,6,1,0,4,2,7,6,8,8,7,3,9,2,3,8,4,1,7,1,8,7,6,2,5,0,1,7,5,1,8,6,5,0,1,4,4,6,9,4,9,4,5,5,6,8,9,0,1,6,2,2,8,3,6,1,6,3,4,6,3,5,4,1,5,8,8,4,8,0,3,7,1,5,1,8,2,8,3,3,5,7,1,8,3,9,3,2,7,6,6,2,7,5,2,3,4,1,6,7,2,3,4,9,1,1,0,9,0,9,6,6,1,0,0,9,6,3,1,7,1,0,4,4,3,5,5,0,5,9,8,2,1,8,5,1,5,4,3,3,0,5,9,2,9,9,7,4,7,0,9,2,3,9,2,1,9,6,5,5,0,8,7,9,7,4,5,2,1,5,5,0,4,1,8,2,4,3,8,4,1,5,6,6,9,7,0,8,0,9,0,0,0,1,4,2,7,3,1,4,3,7,7,8,7,9,9,0,9,1,2,4,9,5,3,6,5,7,4,8,5,3,0,4,8,1,4,4,0,6,0,6,9,7,7,3,3,3,0,4,1,3,2,5,9,0,9,1,6,4,5,6,7,0,3,2,2,8,5,2,2,5,9,2,4,1,9,7,0,0,2,2,6,0,6,6,9,6,2,9,1,8,4,9,7,2,7,2,3,9,5,9,8,5,3,4,0,4,5,0,5,0,6,8,7,6,1,6,3,8,9,5,6,3,6,8,6,5,1,0,1,3,6,6,6,7,6,8,5,3,9,1,6,3,5,9,1,5,0,1,6,5,3,5,8,0,9,7,6,3,1,1,0,7,9,6,9,0,9,1,9,2,5,3,2,4,0,5,0,6,9,7,7,8,1,1,7,2,3,3,4,5,6,6,2,7,4,0,4,1,5,2,9,3,5,4,5,5,2,6,6,8,6,1,8,0,1,2,3,1,4,5,6,6,5,1,9,1,3,7,6,8,1,5,4,1,8,6,6,7,7,0,1,3,2,3,4,0,0,2,4,6,9,9,1,8,6,5,9,8,8,6,2,8,6,9,3,9,7,7,6,1,8,2,3,1,9,1,5,1,2,2,3,8,4,0,4,5,3,7,3,6,5,5,3,3,1,8,9,1,7,3,2,6,4,0,9,4,7,8,5,9,5,4,5,7,6,2,1,7,8,1,4,8,6,2,9,1,4,7,5,7,5,3,9,2,3,0,1,4,7,6,7,6,1,8,6,5,0,9,1,8,9,2,6,5,8,1,4,0,0,5,6,0,2,3,2,4,8,3,2,9,2,6,4,2,5,5,2,0,9,6,7,9,3,0,2,1,5,2,6,3,4,4,6,5,0,6,2,7,8,8,3,9,8,0,8,1,7,2,6,3,8,4,3,5,5,6,3,7,5,8,9,9,7,0,0,1,2,2,2,3,3,4,3,5,1,6,1,7,5,8,3,9,4,7,5,7,8,7,3,3,0,0,7,3,6,1,2,8,8,7,0,6,3,4,1,5,0,6,9,0,3,2,7,6,5,8,4,3,2,2,7,8,3,1,1,1,9,7,7,2,5,0,6,7,7,1,4,6,8,0,8,4,9,6,6,4,6,4,2,5,1,8,1,0,8,6,7,2,1,3,2,3,0,6,8,5,2,1,4,8,6,5,2,9,6,4,4,0,2,7,1,5,8,8,9,8,4,3,6,7,1,8,5,9,4,2,0,6,0,2,9,5,3,3,7,1,9,7,3,3,0,9,9,1,0,9,7,9,0,6,5,0,9,9,9,4,6,3,2,7,8,0,7,4,5,5,4,0,9,9,5,2,4,8,3,1,5,4,9,3,4,5,6,2,5,9,3,4,3,0,7,2,6,9,7,1,2,6,4,5,1,8,7,9,5,4,7,2,6,5,9,0,4,1,9,2,8,3,1,4,6,5,1,6,7,7,5,8,6,9,2,0,1,1,5,2,3,3,0,6,2,7,6,8,8,0,6,1,6,2,3,3,1,7,6,8,8,9,9,1,8,8,9,6,2,7,6,1,1,1,6,4,7,3,7,7,1,7,9,8,5,9,2,3,5,6,5,0,0,3,7,6,1,4,1,8,6,3,0,1,4,1,2,5,8,9,3,0,5,4,5,1,9,7,6,9,8,5,2,1,1,1,4,9,9,8,1,6,1,6,3,0,8,1,2,8,1,8,8,3,3,2,1,0,4,9,5,7,4,4,5,5,4,8,6,3,8,5,0,8,2,5,7,4,4,7,7,7,3,7,5,1,1,5,9,3,1,0,0,1,8,2,9,3,8,4,3,5,4,6,0,7,3,8,6,9,4,0,6,1,0,2,0,3,8,4,7,5,5,6,4,7,1,8,8,9,2,0,9,1,9,2,0,3,9,5,8,6,2,8,2,1,1,4,8,5,9,4,9,2,3,3,6,3,1,0,2,5,3,4,1,3,7,0,8,8,0,6,2,7,3,0,5,7,6,7,7,1,3,6,2,9,9,2,7,3,7,6,0,2,3,3,9,6,5,8,2,5,4,2,1,3,7,8,2,1,2,2,6,9,2,5,7,8,4,8,6,7,0,1,1,7,6,1,0,1,6,0,8,3,3,4,3,2,5,6,4,7,7,4,4,2,5,7,9,4,5,2,9,9,2,2,9,7,8,9,3,2,6,8,1,6,6,1,0,0,3,6,1,8,2,5,7,5,1,0,2,5,9,3,1,5,2,7,6,4,6,8,1,5,4,9,3,6,1,9,8,3,0,0,3,0,1,6,8,3,5,0,0,5,7,8,8,9,5,1,6,8,1,1,7,6,9,0,6,0,4,1,5,2,8,3,5,4,3,5,0,6,6,7,0,8,8,9,0,0,0,1,1,2,0,3,9,4,1,5,6,6,5,7,9,0,9,1,4,2,8,3,6,4,4,5,1,6,2,7,8,8,7,9,3,6,4,4,3,2,9,6,9,4,8,7,2,5,2,5,5,7,0,8,6,9,2,2,8,9,1,3,6,9,7,2,0,0,1,9,4,8,5,0,6,5,6,6,7,0,5,1,1,0,5,2,0,6,5,5,8,3,3,5,5,3,4,8,2,0,6,0,9,5,2,4,2,3,0,4,6,1,9,5,6,3,2,0,0,8,9,6,9,2,5,7,1,1,2,1,2,8,9,1,0,7,2,1,0,3,7,8,2,5,2,4,1,2,4,0,3,9,3,7,5,6,0,7,3,4,8,1,2,6,0,8,4,4,6,7,7,5,5,1,5,2,6,6,1,7,8,1,5,9,0,8,4,9,7,4,3,9,2,9,7,6,8,2,5,3,1,7,6,1,7,9,3,2,6,2,4,5,3,3,7,7,0,8,7,0,2,1,0,2,4,3,7,4,6,5,1,6,3,7,8,8,1,9,9,0,8,1,3,2,1,3,7,4,5,7,1,8,0,9,1,0,4,1,4,2,4,3,1,4,7,5,5,6,8,7,2,8,2,9,5,0,1,9,8,5,8,0,3,9,4,8,2,9,8,4,2,1,0,7,2,7,6,3,9,5,0,1,1,0,7,0,1,7,8,0,0,1,3,2,6,2,3,3,8,7,5,3,8,3,2,6,9,6,5,1,0,0,2,9,1,0,2,1,3,7,5,6,3,3,2,2,6,3,4,1,8,9,2,1,6,7,1,6,4,8,9,4,3,3,9,1,4,4,2,0,9,5,2,3,6,6,6,9,7,1,6,7,9,5,0,4,7,4,7,7,3,2,0,2,7,7,6,9,3,5,7,8,9,9,9,8,9,0,2,1,4,2,8,3,5,4,1,5,1,7,9,0,6,1,2,2,2,3,7,6,7,1,5,2,8,3,5,4,9,5,2,6,2,9,1,9,9,6,4,5,5,9,9,2,4,3,3,1,3,2,0,1,1,2,1,1,6,3,6,2,8,6,4,5,5,3,3,0,0,6,7,4,2,0,6,5,5,9,1,9,5,8,0,1,0,7,4,4,4,7,3,0,7,1,4,6,2,3,1,7,3,9,3,0,6,9,2,5,9,3,9,8,6,8,2,7,0,1,3,4,6,0,2,3,7,9,2,0,3,7,7,2,3,1,7,9,2,1,9,5,2,1,2,7,4,2,9,1,1,6,2,8,6,8,8,0,0,1,1,2,2,3,0,4,9,5,9,6,7,8,9,9,8,0,7,1,4,2,8,3,8,4,1,5,4,6,1,7,9,8,2,9,3,0,9,1,6,2,0,3,7,4,6,5,5,6,7,7,3,8,4,9,7,0,5,9,5,4,7,2,8,4,3,1,6,5,8,6,9,1,9,1,7,7,8,8,8,5,7,3,1,4,4,6,0,7,7,0,7,3,3,2,0,6,6,9,8,8,5,5,8,8,1,6,0,8,7,9,3,9,4,7,8,7,7,2,7,1,0,1,1,1,4,2,4,8,0,7,3,6,4,5,0,3,3,8,4,1,4,3,1,6,5,0,8,4,0,8,5,9,5,4,2,9,2,7,8,9,1,5,9,2,5,7,9,1,7,8,6,2,2,1,6,7,0,7,2,3,0,2,2,0,5,4,7,6,6,6,4,9,9,4,1,2,9,8,1,2,4,5,1,1,1,0,0,5,6,0,7,3,0,4,1,3,2,9,9,6,5,7,7,3,7,4,0,3,4,0,2,6,4,9,1,0,3,1,1,2,8,3,7,4,2,5,6,6,8,7,4,8,5,9,6,0,6,1,2,2,2,3,7,4,0,5,6,6,4,0,1,1,9,2,6,3,5,4,3,5,9,6,5,7,7,8,8,9,1,2,0,1,8,2,4,1,9,3,9,9,1,9,8,3,2,7,0,0,3,7,8,7,1,5,2,7,2,9,2,9,6,4,2,7,7,0,6,1,3,4,8,4,2,7,0,5,1,8,2,1,7,4,1,9,9,8,0,4,1,1,1,8,4,6,1,6,3,4,5,6,3,0,5,5,9,5,9,3,3,3,2,5,2,2,7,5,0,7,0,2,3,5,2,9,5,6,2,9,2,2,0,6,9,2,4,1,1,2,2,0,0,8,7,3,1,8,6,3,4,0,8,8,9,7,4,4,4,9,7,5,3,0,1,9,6,7,1,0,2,0,6,4,0,9,9,1,5,6,1,2,2,7,8,6,5,8,8,3,3,5,9,2,8,1,1,8,8,6,9,1,5,0,0,3,5,1,7,4,8,0,2,1,9,2,2,3,5,4,3,5,5,6,1,7,3,8,6,9,5,0,6,1,2,2,8,3,3,4,1,5,9,6,4,7,6,8,0,0,2,1,3,2,0,3,5,1,0,5,0,6,9,7,3,8,1,7,9,0,9,6,4,0,0,7,5,3,8,8,5,6,2,7,6,1,6,3,4,7,3,9,9,7,9,4,7,0,0,2,2,5,0,0,3,6,9,4,4,9,4,5,0,6,4,5,8,2,3,9,8,8,3,5,5,1,8,9,1,8,1,3,0,4,1,0,8,5,4,4,2,8,6,6,8,3,4,4,2,8,5,0,8,6,6,4,0,8,5,1,7,3,1,4,4,0,7,1,1,9,1,2,8,3,3,7,9,1,7,2,5,7,3,2,9,8,0,7,7,0,2,1,0,9,6,6,7,4,6,9,6,2,4,1,7,2,2,3,7,7,9,0,2,2,1,1,5,3,6,4,9,7,6,2,4,5,3,8,9,1,4,6,1,8,4,5,6,6,9,0,6,8,5,9,9,4,4,9,6,2,9,6,5,0,5,1,4,2,0,3,4,4,6,5,9,6,7,7,1,8,7,9,3,0,0,1,2,2,7,3,7,4,9,5,7,6,2,7,7,8,6,9,1,0,8,1,1,2,4,3,5,4,1,5,5,6,1,7,8,8,8,9,5,0,3,4,7,0,2,1,9,7,9,9,6,5,6,1,8,4,2,2,2,8,7,9,0,4,0,3,8,1,7,7,6,8,4,2,6,4,6,4,4,3,6,3,8,6,8,9,0,9,3,5,1,8,5,6,9,7,1,0,8,6,6,8,7,2,5,6,3,3,1,9,1,8,0,6,8,1,2,7,0,4,5,8,9,8,3,9,9,0,6,3,6,3,3,9,5,0,7,9,8,4,6,1,5,0,0,3,9,7,6,5,3,8,2,7,8,7,0,8,2,2,8,9,7,7,1,1,1,2,3,6,6,4,4,2,8,3,1,6,4,6,9,0,6,2,7,8,0,1,0,6,0,1,3,0,1,4,0,3,3,1,1,6,6,1,2,9,1,0,1,1,9,2,0,3,2,4,2,5,5,6,7,7,6,8,7,9,5,0,8,1,3,2,4,3,1,4,7,5,4,6,2,7,6,8,2,9,5,0,6,1,1,2,7,3,2,6,8,7,5,8,0,9,6,8,8,1,1,0,0,7,6,5,3,1,8,8,0,6,1,4,9,1,0,9,6,3,4,8,3,4,5,4,2,7,1,0,5,1,7,9,9,2,7,8,2,7,6,8,3,2,4,5,8,9,4,6,2,0,0,6,4,5,2,5,5,3,2,3,7,3,2,8,9,1,8,4,1,0,6,6,0,1,1,0,7,0,5,6,4,2,6,1,4,1,7,3,9,2,7,8,7,8,7,7,0,0,5,3,4,6,2,8,2,9,7,9,2,2,5,4,5,9,9,4,9,3,3,6,8,2,9,2,6,5,8,3,4,2,8,5,6,5,1,9,7,1,0,6,9,5,5,0,1,1,3,2,0,3,4,4,6,5,2,7,0,8,4,0,0,1,5,2,2,3,1,4,2,5,5,0,1,1,8,2,9,3,0,4,5,5,9,6,1,2,8,1,9,2,1,1,1,3,8,9,8,9,3,8,6,3,1,7,5,0,0,7,3,7,2,5,9,7,9,9,5,9,1,4,8,7,8,0,5,3,4,4,9,1,8,7,0,5,4,8,8,1,9,4,6,9,6,8,6,4,8,1,7,8,3,6,0,6,5,0,2,3,9,5,5,5,3,7,6,9,8,6,8,9,4,2,9,6,9,2,8,1,5,2,2,0,8,8,9,3,3,8,7,3,7,0,2,8,0,7,8,4,8,9,4,5,8,0,2,9,7,0,5,0,4,4,8,6,7,0,7,9,1,1,6,6,4,2,2,6,1,8,3,3,6,1,4,8,0,3,3,1,9,0,9,3,7,1,2,4,1,0,2,1,3,2,5,3,0,4,4,5,8,6,4,7,4,8,1,9,0,0,5,1,3,2,5,3,3,4,6,5,1,6,8,7,1,8,8,9,7,0,1,1,9,2,1,3,2,4,9,5,3,6,7,7,7,8,3,9,9,8,3,9,8,5,5,7,5,0,2,3,2,1,5,6,9,8,1,4,9,1,7,7,7,6,9,5,6,6,9,7,2,8,0,1,7,4,4,0,8,5,5,0,9,1,5,9,6,2,3,3,5,2,3,3,4,5,8,5,6,7,0,8,3,4,0,9,6,9,4,7,0,1,7,1,0,9,6,8,7,3,5,4,0,8,0,6,9,3,6,8,0,0,1,9,3,6,9,2,8,1,5,0,9,1,2,0,5,6,7,2,0,3,1,8,4,9,0,0,8,7,6,2,9,3,1,4,1,8,7,5,1,4,7,6,0,6,7,6,4,7,4,9,0,1,1,2,7,1,7,2,6,6,0,5,3,3,6,4,5,7,3,9,2,4,0,0,7,0,9,5,0,9,3,0,0,1,1,2,7,3,4,4,9,5,0,6,0,7,9,8,8,9,2,0,0,1,2,2,9,4,3,5,3,6,7,7,2,8,7,9,1,0,7,1,1,2,0,3,1,4,5,5,6,6,3,7,4,8,1,9,5,8,9,6,4,5,0,0,4,6,1,8,2,9,6,4,4,1,9,9,6,5,1,3,4,0,0,4,0,8,0,9,4,1,6,5,0,5,5,2,4,1,8,4,0,0,9,7,7,6,4,0,1,1,4,8,4,9,7,4,2,7,8,6,1,0,4,8,3,1,8,7,4,7,3,1,3,2,2,3,0,1,5,4,8,2,6,0,6,0,2,7,2,8,1,8,6,4,7,7,8,2,3,5,4,6,2,3,3,6,6,4,2,6,5,5,3,1,7,3,2,9,8,2,1,5,9,7,2,9,0,8,1,2,1,1,3,3,9,1,2,3,0,0,8,1,8,2,6,4,0,5,6,6,4,7,4,8,4,9,7,0,5,1,2,2,8,3,8,4,0,5,0,6,5,7,9,8,5,0,7,1,2,2,0,3,2,4,8,5,9,6,2,7,6,8,7,9,0,7,2,2,0,9,9,4,1,2,4,9,4,8,1,4,5,5,0,8,9,8,4,0,7,3,6,5,5,4,7,3,4,3,6,4,6,6,2,5,0,1,6,7,6,8,9,4,8,5,8,7,2,3,7,5,4,2,5,3,4,6,4,6,7,7,8,7,3,7,9,6,5,0,7,1,9,0,1,1,1,6,4,5,3,5,4,2,4,9,9,3,9,1,7,4,1,8,5,8,6,7,5,6,6,2,6,2,1,9,5,6,3,5,9,9,0,1,7,2,5,2,4,7,9,9,8,7,0,9,0,8,4,9,4,7,9,0,5,5,6,0,9,3,2,8,9,4,5,6,3,1,4,4,8,0,7,3,5,6,5,2,3,0,3,1,4,3,7,1,1,0,2,9,2,0,7,1,4,2,5,3,4,5,5,6,0,7,7,8,4,9,5,0,0,1,6,4,2,7,2,8,0,9,3,0,9,1,5,4,4,7,6,8,4,9,7,1,6,7,1,9,7,5,9,1,3,9,4,1,3,7,7,8,6,2,1,3,6,6,3,9,1,9,1,5,9,8,9,6,7,7,7,0,1,6,8,8,2,3,4,9,0,8,9,6,7,1,3,7,3,9,6,4,4,1,7,0,9,3,5,8,2,7,4,7,7,8,5,7,9,6,6,6,8,2,5,8,5,1,2,6,0,1,6,0,8,4,3,3,5,1,0,6,5,1,3,9,8,0,4,1,2,2,2,3,0,4,7,5,3,6,2,7,4,8,1,9,3,0,3,1,6,2,2,3,2,4,0,5,5,6,3,9,5,0,0,1,3,2,8,3,2,9,9,0,8,9,1,0,2,9,1,3,6,2,4,7,9,8,5,4,6,6,8,1,7,0,2,4,2,0,3,5,1,0,6,1,3,3,5,2,4,9,3,1,9,6,1,0,6,1,9,1,1,8,1,0,6,4,6,7,7,7,0,6,1,3,0,6,8,0,4,7,7,4,6,4,0,1,8,8,4,3,1,7,6,1,4,9,6,3,9,8,4,0,7,1,7,2,6,3,1,4,0,5,4,6,1,7,7,8,9,9,3,0,9,1,1,2,0,3,1,4,5,5,1,8,0,9,0,0,7,1,3,2,2,3,6,4,6,5,4,8,8,9,1,8,0,3,8,4,1,7,0,8,8,6,7,3,6,4,3,0,3,9,3,7,7,1,5,9,7,3,4,8,8,4,1,7,4,3,1,0,4,9,5,6,5,1,3,4,3,5,7,4,5,6,7,2,1,0,7,6,9,2,4,1,0,1,7,1,3,1,3,7,9,2,7,4,6,7,6,5,4,2,8,9,0,4,8,5,8,8,4,4,9,2,8,0,6,5,9,1,2,1,6,7,0,6,9,6,2,6,2,8,7,2,6,5,0,2,3,2,2,7,9,7,9,4,3,0,1,2,1,4,1,2,0,5,1,0,8,3,2,3,9,3,7,1,0,8,0,9,3,6,0,1,5,0,6,5,9,9,5,8,3,5,3,8,5,5,1,5,9,8,1,0,5,3,8,0,7,8,8,3,8,9,2,6,4,3,0,0,6,1,7,2,1,3,7,7,0,8,1,9,0,0,6,1,7,2,6,3,9,4,5,7,8,8,9,9,6,0,5,1,4,2,8,3,7,4,4,7,6,8,3,9,9,1,4,0,6,1,5,2,8,7,0,7,5,3,0,2,1,2,5,3,6,9,2,1,8,7,0,9,9,5,9,7,7,2,7,9,4,6,1,1,8,3,1,7,5,3,8,9,6,8,9,8,2,8,1,8,6,8,5,4,2,7,7,2,2,1,4,9,7,8,3,7,4,8,5,8,8,0,0,7,1,9,4,5,4,0,1,6,7,8,7,2,9,6,1,0,5,1,8,2,2,3,5,4,3,5,6,6,0,7,2,8,6,9,8,0,0,1,4,2,4,3,1,4,2,5,2,6,9,7,2,8,4,9,7,0,1,1,6,2,7,3,1,4,1,5,1,6,0,7,9,8,5,9,0,0,5,9,1,9,6,8,6,9,2,8,9,4,6,1,2,7,3,7,3,3,9,5,6,1,3,0,7,0,8,2,8,7,4,7,9,8,3,2,7,0,4,1,0,2,7,6,7,3,7,3,5,7,0,3,6,3,4,4,1,6,9,6,8,6,2,4,3,9,9,1,9,5,9,0,0,9,4,8,9,2,0,0,4,0,2,1,9,7,5,6,6,3,7,2,3,1,7,7,2,4,2,6,7,3,2,1,8,3,0,9,4,1,8,7,3,6,1,8,6,4,2,3,0,1,9,0,2,9,3,6,9,1,9,7,3,5,2,4,7,4,5,7,7,2,6,8,2,4,3,8,9,8,9,4,3,8,9,9,6,8,7,0,6,1,0,2,4,3,2,4,6,5,7,6,0,7,2,8,9,9,8,0,9,1,2,2,6,3,9,4,2,5,6,6,6,7,6,8,3,9,2,0,0,1,4,2,2,3,9,4,9,5,9,6,2,7,5,8,8,9,4,1,1,0,9,4,1,5,1,6,6,6,5,3,2,4,8,4,5,2,1,8,4,1,8,0,2,6,8,4,4,9,6,7,2,2,6,3,2,3,4,9,4,2,4,0,8,9,1,3,5,3,1,9,5,1,7,5,6,2,1,3,4,1,9,6,7,7,8,3,6,7,5,8,1,4,9,0,7,2,0,4,5,0,6,2,0,4,3,7,7,8,1,0,1,7,9,0,9,6,7,9,0,3,6,2,7,4,4,0,6,5,1,7,3,5,3,1,8,0,1,8,6,1,2,6,2,7,3,2,2,9,1,7,5,9,7,5,3,8,3,9,7,6,7,5,0,2,8,6,1,2,7,8,6,1,2,7,9,5,4,5,5,7,5,3,1,5,8,0,2,1,9,1,0,3,5,8,2,4,0,9,5,4,8,5,3,1,8,8,4,6,1,8,6,9,3,0,3,1,6,2,1,3,4,4,4,5,6,7,2,9,1,0,8,1,7,2,7,3,7,4,2,5,2,6,9,7,9,8,7,9,5,0,8,1,0,4,1,7,5,8,9,9,4,8,2,1,9,0,2,9,3,5,7,7,4,8,6,6,4,9,3,0,6,4,0,1,4,9,0,3,6,8,9,4,1,4,8,7,4,0,9,1,9,9,9,2,1,8,3,7,0,8,3,9,9,6,1,0,2,6,2,5,2,5,6,3,0,3,7,3,5,4,7,9,8,4,4,0,1,6,8,1,9,0,0,0,1,6,7,2,3,1,0,1,8,3,9,2,5,7,2,7,5,8,7,6,0,0,7,2,1,0,9,3,0,6,6,8,8,7,6,1,7,5,6,9,5,9,2,3,9,7,6,2,5,4,4,9,9,4,6,3,5,6,6,2,0,4,8,1,1,7,2,2,5,0,9,1,4,2,8,3,1,4,5,5,3,6,9,7,2,8,8,9,9,0,1,1,5,2,6,3,6,7,0,8,3,9,2,0,1,1,1,2,1,3,7,4,1,5,0,6,5,7,8,8,6,9,1,0,8,9,7,5,5,6,2,4,8,1,8,9,0,3,9,8,0,4,5,4,1,7,9,0,4,1,4,9,9,2,5,8,7,7,1,8,8,5,9,9,2,6,4,0,6,6,5,3,5,3,1,3,0,9,5,9,2,8,0,1,9,4,2,0,7,6,9,1,1,0,6,0,1,6,2,2,7,1,9,1,4,3,8,2,7,7,1,7,1,7,2,0,8,7,0,0,9,3,7,6,7,8,9,2,5,4,3,9,1,4,7,3,0,6,4,5,8,5,4,9,5,4,1,1,2,7,5,0,9,1,3,2,0,3,1,4,5,5,4,6,4,7,8,8,5,9,8,0,3,1,4,2,3,3,3,4,2,5,9,6,4,7,7,8,2,0,6,1,0,2,8,3,0,4,5,5,8,6,0,7,1,8,9,6,3,2,4,7,8,1,3,5,0,6,2,2,1,5,5,0,1,5,6,4,0,2,3,0,2,8,2,0,7,1,2,2,4,3,6,4,0,5,5,6,4,7,9,8,1,7,8,1,8,7,9,7,1,0,4,1,3,4,8,4,7,4,3,5,2,7,3,4,7,9,4,7,5,2,1,6,7,3,7,9,3,4,3,9,9,0,6,8,1,7,6,9,4,0,7,6,1,3,4,0,3,4,5,6,6,3,6,7,5,8,1,9,7,3,3,1,4,8,8,4,3,2,0,9,6,8,2,2,3,8,6,6,7,5,2,2,5,6,6,9,8,6,9,0,6,3,0,6,8,3,4,1,2,2,3,5,2,0,1,3,1,7,5,6,6,1,7,5,5,5,9,9,6,8,8,0,2,9,4,0,2,1,3,2,2,3,4,4,6,7,6,8,7,9,9,0,7,1,3,2,5,0,7,1,6,5,2,1,7,3,4,9,5,0,2,9,7,7,9,1,5,3,8,6,8,9,6,2,8,4,7,7,6,7,0,4,1,3,3,8,3,3,3,7,8,1,4,1,7,7,8,9,5,3,6,9,8,1,2,6,7,4,9,3,5,9,3,8,4,1,6,0,6,1,5,2,8,3,8,4,1,5,1,8,1,9,5,0,8,1,5,2,4,3,4,4,0,5,1,8,5,9,1,0,9,1,3,2,4,3,7,4,2,5,7,6,9,7,8,8,2,9,7,3,6,2,0,9,8,3,7,2,4,1,8,4,9,5,5,5,9,2,7,3,7,2,9,1,0,3,8,9,9,7,0,2,5,1,9,9,9,1,7,8,1,8,1,7,7,8,2,1,9,0,6,0,4,6,4,7,1,5,1,0,9,6,3,1,1,1,4,2,2,5,9,0,9,7,8,8,7,4,2,4,5,1,9,8,2,5,6,9,1,0,9,3,6,7,5,1,7,6,0,2,8,6,1,6,7,1,7,3,7,8,1,9,9,9,1,5,9,9,6,3,5,7,2,5,1,6,1,2,9,2,3,0,8,9,4,4,9,0,5,1,5,2,6,3,1,4,3,5,6,6,2,7,2,8,3,9,3,1,7,4,1,7,8,0,2,1,8,2,6,3,5,4,2,5,1,6,5,7,4,8,9,9,3,3,1,7,7,1,4,0,7,7,6,5,8,5,6,6,7,1,6,0,2,0,2,8,8,3,4,4,9,3,8,1,4,9,2,5,2,3,5,4,7,9,8,3,4,9,1,2,0,4,1,5,5,1,3,6,3,4,8,9,7,4,6,9,5,4,1,1,4,2,6,5,5,8,0,1,9,2,9,9,9,4,1,3,8,8,5,2,8,2,8,1,5,2,6,1,4,1,0,3,4,9,5,3,0,8,4,7,1,0,0,7,9,4,8,8,7,8,3,5,4,0,8,6,4,6,3,3,8,7,6,6,7,9,7,9,4,4,4,8,9,1,0,0,5,1,5,2,5,3,1,4,6,5,2,6,0,7,2,8,2,9,7,0,9,1,5,2,5,3,1,7,0,8,0,9,4,0,8,1,5,2,2,3,4,7,7,8,3,9,4,1,6,8,4,6,0,7,4,1,4,1,7,4,3,3,3,7,9,7,5,8,5,9,2,3,1,6,8,0,7,3,0,6,2,4,5,7,2,5,8,6,7,0,6,3,1,8,8,3,6,1,6,1,4,5,3,9,7,0,4,9,6,6,6,2,8,1,1,7,5,9,2,9,7,8,5,6,9,6,5,8,9,8,4,2,2,6,7,3,0,2,8,9,4,0,0,3,3,5,4,8,2,3,7,5,3,8,4,5,2,7,5,7,2,0,7,1,1,2,0,3,8,4,6,5,9,6,1,7,4,8,4,9,6,0,3,1,9,2,2,3,6,4,5,5,5,6,1,7,4,8,3,9,1,0,1,1,0,2,1,3,4,4,9,5,5,6,7,7,5,8,9,9,8,1,5,8,9,6,1,7,9,2,5,7,7,1,9,1,9,4,6,3,5,7,9,8,3,9,1,3,9,6,2,0,4,3,5,4,0,8,8,4,1,5,5,7,9,5,3,0,8,3,6,9,8,2,1,8,2,3,9,1,4,1,3,5,7,9,2,4,3,3,3,0,2,4,8,0,7,9,2,6,7,9,3,2,6,2,2,1,1,7,4,9,3,5,1,1,4,1,2,9,8,8,0,6,8,9,4,0,7,0,1,0,6,1,4,8,8,4,7,8,1,8,1,2,3,6,8,3,8,2,1,9,3,2,1,4,5,0,3,9,5,0,0,3,1,7,4,4,6,5,8,8,9,3,5,5,2,8,2,5,4,4,0,7,8,6,4,5,0,2,6,2,4,2,0,7,1,7,1,0,9,5,1,1,1,5,7,3,1,0,7,1,8,2,6,5,5,6,0,7,9,8,1,9,4,0,4,1,4,2,1,3,0,4,5,5,0,6,5,7,6,8,0,0,6,1,4,2,7,3,5,4,7,5,3,6,3,7,2,8,6,9,9,2,8,1,5,7,5,2,4,5,7,0,2,8,7,0,3,2,1,7,5,8,5,8,9,3,7,0,8,6,6,0,7,2,4,7,2,6,1,6,2,1,8,2,8,8,2,8,3,7,3,7,5,4,9,7,2,7,3,3,2,7,3,4,6,5,1,4,7,3,3,3,0,8,9,4,6,5,9,4,5,1,9,1,2,9,3,7,0,4,5,3,5,7,3,3,0,3,6,0,6,2,6,5,5,5,7,6,5,3,1,1,9,5,0,2,1,5,8,9,9,9,7,8,1,4,5,1,8,0,5,6,2,0,7,9,3,6,9,8,6,8,6,5,7,6,7,1,8,1,2,9,0,8,5,9,5,2,6,3,6,5,1,5,5,9,8,4,4,2,3,1,8,9,2,4,8,9,4,1,8,3,4,9,0,2,2,0,6,6,8,0,3,4,5,0,3,6,2,0,3,1,8,2,4,3,0,4,4,6,3,8,8,1,1,2,0,3,7,4,1,5,9,6,2,7,7,9,5,1,1,2,6,3,5,4,4,5,4,6,0,7,2,8,4,6,5,6,1,0,7,2,0,3,9,7,3,4,1,7,2,1,2,9,0,1,9,7,4,1,8,4,6,0,6,0,5,1,2,7,8,5,6,7,9,1,0,3,9,3,8,3,1,1,7,6,1,9,1,7,6,4,7,3,9,0,3,2,5,6,9,0,7,8,9,9,9,4,6,3,1,5,9,4,2,8,7,1,6,5,7,0,8,6,2,6,9,3,6,3,2,8,8,1,6,4,3,7,6,5,3,7,0,2,8,2,0,0,0,0,5,7,7,7,1,9,3,5,8,9,3,8,0,9,8,6,9,8,9,2,1,3,4,6,6,1,7,2,8,9,3,2,1,5,7,2,3,2,5,4,6,8,5,4,2,6,3,5,3,0,3,1,6,2,2,3,6,4,1,5,9,6,2,7,8,8,0,9,3,0,1,1,8,2,3,3,6,4,6,5,6,6,8,7,8,8,6,9,0,0,5,1,5,2,1,3,7,4,9,5,3,6,6,7,6,8,2,9,7,6,4,2,0,7,2,1,4,5,8,6,8,2,6,5,0,0,3,5,7,4,1,2,1,0,2,8,2,1,1,7,2,1,2,8,9,3,6,8,6,7,7,1,4,7,1,7,1,0,0,1,3,4,6,4,0,4,2,5,1,7,1,4,9,4,7,9,9,7,3,2,7,6,0,5,5,3,1,9,0,4,9,3,3,9,0,0,8,8,8,7,6,9,9,0,2,6,2,3,8,0,7,4,1,6,2,3,7,7,0,0,9,1,1,4,6,8,2,8,9,1,2,2,3,9,1,3,1,1,0,8,3,4,7,2,8,9,5,8,8,2,4,8,5,6,3,6,2,9,9,2,0,9,5,6,4,0,5,5,5,3,1,3,9,6,0,3,0,1,9,2,7,5,9,0,0,3,3,7,6,1,0,5,9,5,4,9,2,8,9,0,0,9,9,0,6,1,5,2,4,3,6,4,1,5,1,6,8,7,6,8,2,9,3,0,8,1,7,2,4,3,7,4,9,7,5,8,2,9,0,0,5,1,2,2,1,3,9,4,0,5,7,6,4,7,9,8,1,9,4,9,6,7,3,4,6,1,4,5,4,8,5,8,1,0,6,9,0,3,1,2,2,7,9,8,8,1,5,6,2,1,3,0,4,4,7,5,0,3,5,9,1,4,7,3,9,4,9,2,7,0,2,5,9,0,1,1,1,3,9,2,1,9,5,1,0,6,9,0,8,1,7,1,8,8,8,0,0,4,0,7,1,7,1,6,1,3,3,6,9,0,5,7,7,3,7,5,6,4,3,2,2,4,1,1,1,8,5,3,9,7,8,1,4,0,1,6,7,7,3,1,6,2,6,5,2,8,1,1,0,9,3,3,1,8,5,2,6,8,8,8,6,7,1,1,1,7,8,9,1,2,0,0,7,1,3,2,7,3,9,4,6,5,8,6,4,7,1,8,0,9,6,0,6,1,2,2,8,3,0,4,5,5,0,6,1,7,3,0,5,1,7,2,4,3,1,4,3,5,0,6,8,7,1,8,6,8,6,7,0,4,7,7,2,7,5,3,7,9,3,8,0,1,0,5,0,8,2,2,6,7,9,4,8,2,6,6,6,4,4,5,4,5,1,8,1,6,6,4,5,4,6,4,3,1,3,8,8,7,6,5,4,5,9,1,0,8,1,9,7,3,6,6,1,3,6,3,3,2,9,2,3,6,1,9,5,9,1,6,5,5,6,5,9,3,0,3,9,8,7,1,4,6,7,5,7,6,2,8,5,1,3,9,4,7,1,6,4,8,5,3,1,7,8,4,4,7,0,0,9,9,2,0,1,0,1,3,4,7,1,9,1,3,7,0,1,2,7,0,2,1,8,0,2,1,8,0,0,4,2,0,5,1,7,0,8,4,2,7,9,9,1,2,2,0,2,6,5,2,6,6,3,2,9,2,2,9,5,9,4,0,6,1,1,2,4,3,7,4,9,5,4,6,2,7,4,8,4,9,3,0,6,1,4,2,6,3,6,4,0,5,5,6,7,7,9,0,4,1,6,2,9,3,9,4,5,5,1,6,1,7,3,8,9,9,3,7,3,4,9,3,9,8,8,5,9,1,8,8,3,5,1,2,0,8,8,6,8,1,6,9,9,2,3,4,7,0,6,9,4,9,6,3,7,7,7,1,1,8,8,4,2,4,9,2,5,7,8,5,6,8,6,5,4,3,3,2,8,2,9,0,4,5,1,8,3,6,7,0,2,4,7,0,7,3,7,8,3,1,1,0,0,3,4,0,0,4,1,7,4,4,3,9,1,2,5,9,9,1,9,2,0,1,5,7,1,1,7,6,4,7,0,3,5,3,2,6,3,2,4,8,4,7,6,6,4,4,8,9,5,8,4,8,3,2,8,9,4,6,1,5,0,5,2,9,3,5,6,3,7,7,0,4,6,3,1,6,7,0,4,0,1,4,4,6,5,6,2,9,4,0,6,1,1,1,2,3,0,2,1,1,9,0,8,0,9,1,7,2,4,3,5,4,8,7,4,8,6,9,3,0,7,1,3,2,5,3,3,4,5,5,9,6,9,7,0,8,6,9,2,0,6,1,3,2,7,3,9,4,1,5,4,7,7,8,1,9,4,8,5,6,1,5,3,0,1,6,1,8,6,9,0,4,0,1,3,9,8,5,4,3,6,0,3,4,4,8,8,9,7,1,8,4,0,0,1,5,8,5,8,4,9,0,6,7,3,6,5,0,9,1,0,7,2,0,3,6,6,8,2,9,0,5,9,4,8,7,0,6,9,0,1,8,3,1,2,7,1,7,5,1,0,3,0,2,7,3,9,1,3,4,7,2,1,0,8,0,6,4,4,9,9,3,6,8,8,4,7,7,5,2,5,5,2,6,7,3,3,6,5,9,6,6,9,3,5,2,4,2,7,4,2,6,2,5,4,5,3,1,7,3,4,3,4,9,5,7,8,8,0,7,8,2,1,2,1,5,7,7,1,9,1,8,1,2,1,1,3,3,0,1,6,3,9,0,7,1,3,2,2,3,9,4,6,5,3,6,3,7,4,8,8,9,9,0,6,1,7,2,2,3,3,4,1,7,3,8,4,9,8,0,2,1,4,2,2,3,6,4,1,7,9,8,2,9,2,7,7,7,7,7,4,3,8,0,0,3,4,1,5,8,0,7,0,6,9,4,2,0,2,2,9,6,2,8,9,3,6,1,0,1,1,7,4,7,3,1,5,6,1,0,5,4,5,6,7,4,9,4,1,0,6,6,8,2,5,3,4,1,9,3,4,6,0,8,7,5,9,9,0,4,8,0,9,7,2,5,2,8,8,8,7,3,3,7,3,8,8,9,8,2,6,5,2,3,8,1,9,7,9,3,1,9,6,1,9,9,5,9,6,6,7,0,4,9,4,4,6,3,0,7,4,0,0,4,0,1,6,4,5,3,3,5,3,4,3,0,5,2,8,1,6,8,8,9,7,4,6,0,8,1,3,2,7,3,1,4,3,5,0,6,0,7,3,8,9,9,5,0,1,1,9,2,4,3,2,4,7,5,1,6,8,7,0,8,1,9,9,0,8,1,4,2,1,3,4,4,4,5,2,6,7,7,2,8,5,9,0,2,2,2,2,7,7,6,5,4,2,0,8,5,7,8,6,0,9,7,8,3,2,5,4,4,6,1,4,8,1,0,7,5,5,2,9,7,5,2,0,3,9,1,2,7,0,7,6,9,6,9,6,1,2,2,9,4,4,6,8,7,0,7,9,5,7,4,0,5,8,0,1,1,0,1,7,9,7,0,6,2,6,0,8,3,3,5,7,6,4,1,2,8,8,6,3,4,0,6,8,0,1,6,9,4,6,3,3,9,4,3,3,0,8,0,3,5,2,2,7,5,0,8,7,8,1,8,7,9,4,4,4,2,8,8,7,8,6,5,0,5,0,7,5,1,0,3,1,6,1,9,9,4,8,1,4,3,9,7,7,6,5,9,2,3,2,3,9,7,5,4,1,1,2,9,9,1,7,0,2,6,3,0,6,1,5,2,6,3,3,4,1,7,0,8,2,9,1,0,1,1,3,2,3,3,3,7,6,8,2,9,6,0,6,1,0,2,6,3,3,7,0,8,2,9,7,1,9,8,7,6,3,7,5,2,7,7,8,1,2,1,4,4,3,3,6,7,9,7,7,8,5,9,9,3,8,6,6,0,6,3,7,6,7,1,0,8,0,4,3,5,3,3,0,9,3,2,2,8,5,3,8,1,2,1,2,5,3,9,0,0,7,4,8,4,3,0,8,9,3,6,4,9,4,2,2,2,6,1,4,7,4,9,1,5,4,1,8,1,5,9,1,8,9,6,8,6,2,9,8,0,7,0,7,0,6,1,1,8,4,4,1,6,4,8,9,8,3,2,9,6,1,3,8,2,1,9,0,2,5,9,3,0,8,3,5,7,4,4,4,5,6,8,8,3,6,5,9,8,8,5,9,4,9,7,1,6,3,5,4,2,3,2,9,7,5,7,9,0,6,5,8,5,9,3,3,0,2,1,2,2,1,3,0,4,2,5,5,6,4,7,3,8,2,9,3,0,5,1,8,2,8,3,1,4,9,5,9,6,7,7,5,8,1,9,9,0,5,1,7,2,9,3,6,4,6,6,3,7,8,8,2,9,0,6,3,2,5,7,8,1,8,5,7,6,7,2,6,0,9,8,1,1,6,7,1,1,2,8,9,3,5,8,7,7,2,1,1,7,9,7,9,0,2,1,8,4,4,4,1,7,5,4,9,4,6,9,0,7,6,2,9,6,2,5,8,3,8,9,7,4,7,3,8,9,2,0,8,8,1,7,7,9,5,0,8,3,4,0,1,4,1,6,4,3,5,7,7,0,1,1,9,4,9,8,1,8,1,1,3,2,0,9,2,3,9,8,8,9,2,8,3,2,9,8,6,6,0,5,3,2,7,6,6,2,8,6,8,0,5,5,8,3,8,3,5,6,1,3,0,2,1,7,9,6,0,5,3,9,0,8,5,0,0,9,3,0,9,1,9,2,8,3,0,4,2,5,4,6,9,7,5,8,9,9,3,0,8,1,2,2,2,3,1,4,8,5,4,6,5,7,7,8,2,9,2,0,1,1,2,2,2,3,5,4,1,5,9,6,8,7,3,8,2,9,4,9,2,8,7,6,3,5,2,9,4,2,2,3,6,4,4,3,4,8,6,5,0,1,7,5,4,2,6,3,3,0,6,1,9,2,3,1,5,3,4,2,1,6,3,5,5,3,9,0,7,7,4,4,3,6,9,4,6,0,4,5,9,9,3,9,0,8,9,3,7,1,2,7,6,4,2,7,6,6,6,5,3,0,6,6,1,6,5,2,2,0,9,6,2,3,6,7,5,7,3,4,5,4,8,3,8,9,4,2,1,8,6,9,2,6,8,0,1,9,8,5,3,3,2,8,1,8,4,7,4,1,4,4,7,0,0,4,8,8,1,5,5,2,1,3,3,9,5,0,5,7,1,2,6,1,0,9,6,1,1,5,2,1,2,7,9,4,0,8,9,6,2,1,8,2,0,1,4,6,7,8,8,8,5,0,4,1,4,2,7,3,6,4,0,7,6,8,4,9,5,0,1,1,9,2,9,3,7,4,3,7,8,8,2,9,6,0,2,1,3,2,0,3,5,7,1,8,3,9,2,1,9,1,1,7,4,4,8,8,3,1,9,5,1,7,7,2,9,8,3,6,2,3,9,3,7,8,9,6,1,9,5,1,5,7,4,2,5,1,1,5,8,1,0,3,4,2,1,2,5,3,0,0,2,6,4,4,1,3,7,7,4,6,5,9,3,0,6,4,6,1,8,4,1,0,0,6,3,1,1,2,8,6,9,9,4,2,9,2,7,3,1,0,7,7,6,2,2,9,2,2,3,3,8,4,5,0,9,0,5,8,6,7,6,8,4,0,7,9,7,8,2,9,9,0,4,2,8,0,3,1,0,2,4,3,2,4,2,5,1,6,3,7,5,8,0,9,3,0,9,1,1,2,2,3,7,4,1,5,0,6,7,7,3,8,3,9,9,0,8,1,3,2,3,3,9,4,4,5,0,6,1,7,6,8,3,9,7,5,4,8,3,7,3,4,1,7,1,7,9,3,1,8,7,8,3,3,6,1,6,5,3,8,5,2,2,7,3,6,8,8,6,6,7,4,3,4,4,4,1,1,6,8,4,8,1,9,7,1,1,2,9,2,1,6,5,9,8,9,2,6,5,5,3,5,0,3,6,3,6,8,5,8,0,1,3,9,4,7,4,6,5,8,2,3,0,7,0,4,7,7,2,0,3,9,1,3,2,7,0,9,7,3,5,0,2,2,1,0,4,1,3,0,0,1,4,0,6,4,9,0,7,1,2,0,9,4,5,7,9,9,2,2,0,0,6,6,6,2,4,6,3,2,2,2,3,9,9,9,7,0,1,1,0,2,5,3,8,4,8,5,0,6,1,7,0,8,6,9,4,0,6,1,0,2,1,3,9,4,6,5,7,6,8,7,9,8,6,9,6,1,5,0,0,9,0,5,3,7,0,5,4,1,6,8,4,6,7,9,1,0,2,4,9,1,8,9,8,3,5,8,6,4,2,4,8,7,1,0,8,1,0,2,4,7,0,8,5,2,9,5,8,9,7,6,1,0,3,6,3,5,1,5,0,3,2,3,9,3,3,9,6,8,6,1,9,4,3,0,0,6,4,1,1,0,4,0,9,6,1,2,6,1,4,1,2,3,7,2,9,7,5,7,4,8,7,8,6,7,6,8,8,4,2,6,4,0,9,7,1,0,5,3,7,6,1,7,5,1,4,5,6,3,3,7,2,2,3,4,3,9,9,4,1,3,2,6,4,2,6,2,6,5,3,3,9,9,9,4,0,1,3,7,1,2,2,5,4,0,5,1,1,2,6,3,1,4,3,5,8,6,6,7,7,8,3,0,8,1,4,2,8,3,2,4,8,5,0,6,0,7,7,8,8,9,1,0,3,1,4,2,6,3,8,4,4,5,3,6,9,7,8,0,7,7,6,0,4,7,4,8,6,3,2,0,0,0,2,5,5,5,7,3,7,8,0,8,3,1,3,8,6,4,1,9,2,6,0,1,9,8,7,0,9,2,6,7,9,3,2,9,8,2,8,5,7,9,6,5,2,4,3,0,8,3,0,3,9,4,5,7,5,9,1,0,3,1,8,9,6,1,6,2,0,7,1,9,9,1,3,0,3,6,9,2,7,4,8,0,2,3,9,5,5,6,9,6,2,5,8,6,6,7,6,1,2,4,9,4,3,2,3,6,9,2,3,9,0,1,5,5,7,5,0,5,4,3,1,1,8,4,1,8,2,6,9,3,9,7,1,0,1,9,1,5,2,6,8,7,0,1,5,3,2,8,9,2,1,6,5,2,3,6,3,4,3,2,7,7,7,8,0,7,7,1,2,0,6,1,0,2,9,3,7,4,7,5,3,6,7,7,7,8,4,9,9,0,1,1,2,2,0,3,2,4,9,5,4,6,6,7,7,8,3,9,8,0,6,1,9,2,7,3,4,4,8,5,9,6,9,7,0,8,4,9,4,9,4,7,3,5,4,2,8,9,4,0,5,1,3,5,4,8,6,8,4,0,8,9,4,3,4,2,7,7,6,8,7,4,5,6,7,1,1,0,3,4,5,5,4,3,3,9,8,0,5,5,6,0,5,1,7,6,0,9,3,3,1,1,2,6,5,0,8,1,0,1,6,8,1,0,6,4,4,7,9,7,7,6,4,3,1,5,0,6,2,6,6,3,4,1,3,8,8,3,7,5,0,6,9,7,6,5,6,2,0,7,4,1,7,1,0,9,8,2,4,8,3,8,2,3,9,3,5,0,5,1,7,2,4,3,3,4,7,5,4,6,6,7,4,8,9,9,4,0,7,1,5,2,1,3,6,4,9,5,0,6,4,7,5,8,1,9,9,0,6,1,2,2,0,3,9,4,1,5,1,6,4,7,8,8,1,9,6,0,9,0,4,7,2,2,7,4,4,2,9,6,7,5,3,5,1,3,1,7,0,8,0,6,6,6,9,4,9,3,1,2,5,6,1,3,4,8,7,0,3,1,4,4,7,5,9,6,0,4,1,7,6,8,6,0,1,3,2,1,5,5,5,4,9,1,3,9,2,1,2,2,9,7,4,0,0,1,5,3,7,8,9,2,0,9,8,7,5,9,5,4,0,2,9,5,3,8,1,6,8,5,4,5,6,9,7,9,9,1,4,8,6,2,0,9,5,1,9,3,7,4,5,3,5,1,4,0,1,9,2,6,0,3,9,6,5,8,7,7,1,0,7,1,1,0,9,5,4,8,3,2,5,7,7,7,4,0,9,1,4,2,7,3,5,4,1,5,0,6,0,7,0,8,3,9,2,0,6,1,3,2,6,3,8,4,6,5,7,6,8,7,4,8,0,9,5,0,6,1,3,2,1,3,4,4,8,5,2,6,5,7,3,8,9,9,1,5,8,7,7,7,2,7,6,0,1,4,0,0,8,3,2,1,1,8,0,9,4,2,4,1,4,8,6,6,5,5,4,4,5,7,3,3,0,4,8,1,7,8,8,6,7,9,8,1,5,4,6,5,2,5,4,6,9,0,4,1,9,3,8,6,4,4,4,8,9,9,2,8,1,5,3,2,6,1,7,0,5,7,0,2,2,5,8,5,6,6,7,6,6,6,2,3,4,3,8,3,8,1,0,7,6,2,3,2,2,7,9,2,5,3,6,6,4,8,2,5,7,1,3,4,0,9,5,0,1,5,3,0,4,6,1,8,6,8,7,0,5,8,8,2,8,3,5,9,7,4,7,3,7,7,0,1,6,7,2,6,8,9,6,4,5,2,8,9,1,9,0,2,9,0,6,8,1,5,0,0,4,4,6,9,1,4,7,0,6,7,5,1,3,3,5,2,7,9,9,0,6,1,5,2,1,3,8,4,7,5,8,6,1,7,0,8,6,9,8,0,9,1,9,2,8,3,4,4,6,5,7,6,0,7,2,8,2,9,0,0,5,1,3,2,8,3,7,6,2,7,9,8,3,9,1,8,6,4,2,0,8,0,3,7,0,2,7,4,8,2,9,6,0,5,2,5,9,3,5,7,6,8,1,6,0,6,5,4,1,3,5,2,7,6,2,6,9,4,1,4,6,3,3,8,2,8,7,3,5,0,9,1,9,4,1,7,7,8,1,0,9,3,4,1,9,9,2,0,4,5,4,4,2,1,8,9,3,1,0,2,2,7,4,0,7,1,1,3,2,8,9,2,4,9,7,2,6,7,1,7,4,9,7,9,8,0,4,4,2,2,6,5,2,8,5,6,8,5,9,5,3,9,1,9,0,1,6,1,2,5,4,7,9,6,5,8,5,2,1,9,4,1,1,3,1,2,5,3,6,4,2,3,3,1,1,9,9,0,6,9,8,5,8,6,7,3,1,6,1,8,2,7,3,0,6,1,9,0,9,5,6,8,0,2,3,7,5,7,1,0,9,1,9,2,7,3,5,4,7,5,5,6,5,7,4,8,4,9,8,0,4,1,3,2,2,3,5,4,9,5,7,6,0,7,8,8,8,9,7,0,7,1,1,2,4,3,8,7,9,8,1,9,4,0,5,9,1,5,3,5,2,6,8,9,3,8,9,9,4,8,8,7,3,7,3,3,9,5,1,1,6,0,6,2,4,2,7,7,5,8,9,2,8,0,1,1,4,2,0,6,5,3,9,3,5,7,3,3,7,3,8,4,2,6,3,6,4,6,8,1,5,5,1,0,8,8,3,2,3,0,1,1,0,7,6,6,1,3,8,2,1,1,8,7,3,3,9,1,6,3,2,9,7,1,2,7,5,6,6,8,0,4,6,3,0,1,5,4,6,3,6,6,1,9,2,6,6,1,6,4,8,2,9,2,3,7,6,9,4,5,3,4,0,8,6,8,6,4,2,9,3,0,4,8,4,9,3,8,9,0,5,3,4,4,2,5,5,6,8,7,3,8,6,9,3,1,1,0,7,1,1,2,6,3,4,4,2,7,7,8,5,9,4,0,3,1,9,2,5,3,6,4,8,5,3,6,8,7,9,8,2,9,2,0,8,8,9,7,4,8,1,9,3,9,6,0,6,1,9,4,6,5,8,1,8,6,6,2,7,9,6,6,9,7,1,3,6,9,5,9,2,3,3,8,5,1,4,2,3,9,6,6,4,3,3,5,9,0,1,5,5,4,0,3,1,4,2,7,4,7,6,9,4,1,7,4,8,3,8,7,9,6,7,2,3,1,8,5,0,5,4,0,2,5,5,0,2,8,2,4,7,6,3,7,9,0,2,2,8,4,9,8,0,1,8,2,8,2,5,3,2,1,6,3,8,6,2,4,5,9,4,6,0,5,3,1,8,9,8,8,8,1,2,1,3,5,9,0,3,2,3,7,5,8,9,6,6,6,3,8,7,2,1,8,2,4,2,4,8,2,4,2,4,8,7,0,4,0,9,1,7,2,6,3,2,4,0,5,7,6,0,0,8,1,2,2,4,3,1,4,9,5,8,6,3,7,2,8,4,0,4,1,2,2,9,6,7,7,9,8,3,9,6,0,6,2,4,1,5,6,7,5,5,9,0,3,7,5,5,0,2,7,4,1,1,1,3,5,2,3,2,0,3,7,5,9,6,6,3,1,2,6,5,7,5,4,9,9,2,5,5,7,5,9,4,8,7,5,1,6,8,2,7,4,3,8,5,1,8,5,2,9,7,2,1,2,4,8,1,0,8,6,3,4,1,3,3,3,8,1,2,2,2,4,4,1,3,9,2,6,4,9,0,3,8,4,2,0,4,3,1,9,3,0,9,2,0,7,3,1,2,1,5,0,9,7,6,6,2,2,1,2,8,7,1,6,6,0,0,6,5,9,9,4,7,8,0,4,9,3,3,3,3,7,7,8,2,0,5,5,3,8,9,3,8,0,7,6,0,8,8,3,4,7,0,8,1,5,3,1,8,8,4,0,6,1,5,2,1,3,3,4,1,7,2,8,4,9,0,0,5,1,1,2,0,3,3,4,9,5,5,6,0,7,9,8,3,9,0,0,2,1,7,2,9,3,2,4,8,7,7,8,9,9,8,7,8,2,8,9,0,9,1,8,7,4,3,0,6,3,0,5,3,4,4,3,3,3,2,4,4,6,1,6,6,5,2,5,8,1,8,7,2,8,0,4,1,5,7,7,5,3,0,5,9,2,4,3,1,6,5,6,2,7,7,7,5,0,2,1,4,0,5,1,0,6,4,3,3,1,5,4,5,7,0,3,0,8,4,6,3,2,1,2,5,5,9,9,8,1,8,7,6,9,5,7,7,9,7,9,2,1,1,0,4,8,3,9,6,3,3,8,6,4,5,6,3,1,7,4,7,0,0,3,2,6,9,4,3,8,8,1,3,3,0,1,4,0,2,9,1,0,7,1,8,2,1,3,3,5,7,6,9,8,9,9,1,0,1,1,3,2,2,3,3,4,0,7,1,8,0,9,8,0,0,1,8,2,4,3,7,4,8,7,2,9,6,2,0,2,0,7,1,6,2,4,9,0,1,8,0,0,6,5,7,2,4,7,4,2,6,3,5,6,7,2,3,1,6,7,8,7,1,9,7,9,9,1,0,2,2,4,4,6,8,7,1,7,7,5,9,4,6,5,2,0,7,1,6,1,9,9,6,2,7,0,2,3,5,1,2,4,0,0,8,6,9,4,9,3,6,9,4,3,0,0,1,0,3,5,5,2,0,8,9,8,3,8,2,8,2,5,4,5,8,7,7,1,2,4,2,1,9,3,6,8,3,9,7,3,5,7,8,4,2,1,7,1,7,0,0,6,0,0,6,1,0,2,2,3,0,4,8,5,6,6,3,7,9,8,2,9,4,0,2,1,0,2,0,3,3,4,4,7,5,8,8,9,0,0,2,1,8,2,7,3,8,4,2,7,4,8,6,9,9,0,6,0,8,1,1,0,0,1,1,5,3,3,4,4,2,2,6,4,3,4,6,0,7,0,3,6,9,9,7,6,7,6,4,5,6,7,6,3,5,2,1,2,0,3,0,4,5,4,9,9,1,1,2,4,7,0,0,7,6,7,2,5,3,6,7,2,5,3,7,1,1,4,0,4,9,0,0,9,5,1,4,8,3,3,5,3,7,7,7,3,7,9,9,8,5,8,5,4,5,7,2,7,6,6,6,2,4,1,1,9,5,8,2,7,4,8,1,8,4,2,1,3,7,9,5,3,7,3,4,5,4,5,2,0,6,7,9,9,3,5,4,0,5,6,7,4,6,1,7,1,6,2,6,8,0,1,9,5,5,0,4,1,6,2,7,3,6,4,8,5,2,6,1,7,2,8,0,9,6,0,4,1,7,2,1,3,6,4,9,5,3,6,6,7,7,8,6,9,2,0,2,1,9,2,5,3,5,4,0,5,2,6,3,9,4,6,4,4,7,4,6,3,5,6,0,2,8,3,1,4,8,8,1,7,6,8,4,6,6,9,2,8,1,3,6,2,4,2,0,8,2,4,5,2,3,0,0,1,5,1,6,2,8,9,8,6,7,8,1,1,9,2,4,0,2,6,1,5,8,2,1,7,2,5,0,3,8,9,6,3,0,7,6,1,6,3,8,8,1,1,9,9,7,5,6,0,1,1,1,1,1,9,7,2,9,6,6,0,6,4,8,5,6,6,1,5,1,0,0,3,5,1,0,8,1,6,1,9,0,3,4,0,4,1,4,0,7,4,7,7,7,3,5,2,8,6,5,5,6,4,1,7,4,9,3,7,1,0,4,1,1,2,1,3,2,4,1,5,7,6,3,7,1,8,0,9,2,0,8,1,5,2,6,3,7,4,9,5,1,6,7,7,1,0,2,1,9,2,5,3,8,4,4,5,1,6,1,0,0,7,6,5,6,0,3,8,1,4,6,1,7,8,8,8,0,1,5,3,5,1,8,9,7,0,9,4,3,4,5,0,8,7,5,2,5,9,5,8,0,7,4,2,2,4,7,7,4,8,5,9,5,3,5,1,4,4,9,6,6,2,2,2,8,7,6,8,6,6,0,4,9,9,5,2,7,9,2,3,4,5,5,3,5,6,0,6,0,0,1,2,1,2,4,7,3,4,7,9,9,5,6,1,5,2,9,6,1,1,1,8,0,3,7,5,9,0,2,0,6,6,0,1,5,6,1,9,8,6,9,7,0,1,5,1,4,7,3,1,3,2,4,4,1,5,2,6,0,7,1,8,5,9,7,0,6,1,3,2,8,3,1,4,7,5,9,6,8,7,0,8,0,9,9,0,1,1,3,2,6,3,5,4,7,5,9,6,5,7,1,8,0,9,9,1,2,3,3,5,1,9,7,4,8,1,6,7,6,7,2,2,4,1,7,4,2,8,5,2,7,9,6,3,5,8,2,5,0,4,3,8,1,8,0,9,7,3,4,9,7,2,0,5,5,7,6,4,4,1,1,2,2,3,1,9,5,1,8,6,4,0,7,1,7,2,1,8,8,5,8,1,2,1,5,8,0,5,4,6,6,4,6,7,8,3,1,6,2,8,5,0,8,3,1,7,8,4,4,0,0,6,6,9,8,2,9,6,3,5,2,6,2,9,5,0,7,4,3,0,3,6,5,1,4,9,3,2,5,0,3,9,4,5,7,1,9,3,8,7,0,6,7,9,1,4,7,7,4,7,2,6,0,3,1,0,9,5,5,6,5,2,6,2,4,0,5,1,8,7,5,8,0,9,8,0,9,1,2,2,7,3,8,4,6,5,4,6,2,0,7,1,4,8,1,9,3,8,7,4,1,1,1,8,4,8,6,1,3,3,4,1,3,8,6,3,3,3,9,0,7,9,6,4,3,9,9,8,2,7,6,8,2,1,2,7,7,8,1,7,7,5,9,1,1,6,2,5,2,0,4,9,7,5,0,0,9,2,2,1,9,8,6,0,7,0,3,1,2,6,0,6,4,7,7,1,0,1,1,7,0,0,7,1,4,2,7,3,7,4,9,5,3,6,8,7,8,8,1,9,2,0,1,1,4,2,4,3,7,4,1,5,6,6,7,7,2,8,8,0,8,1,9,2,6,3,3,4,1,5,8,6,1,7,3,8,4,9,6,7,5,0,3,4,2,0,5,6,3,4,3,3,5,3,4,4,6,8,5,7,9,8,3,6,1,9,3,8,8,3,8,2,2,2,9,8,7,4,1,2,6,0,0,1,5,1,1,2,2,9,6,6,9,8,2,1,2,2,9,1,9,0,5,6,8,9,6,3,4,7,3,1,4,8,6,3,7,8,9,1,0,9,1,5,2,9,6,8,0,2,4,6,6,0,5,4,2,5,6,0,5,3,2,1,4,8,0,6,3,7,0,5,6,9,2,9,5,3,1,0,9,3,0,1,8,4,3,4,8,0,7,4,7,9,4,2,6,6,7,5,7,4,2,7,6,9,6,7,1,0,8,1,8,3,1,4,1,5,4,6,5,7,7,8,6,0,5,1,2,2,2,3,9,4,1,7,3,8,6,9,7,0,2,1,4,2,1,3,4,4,4,7,0,8,8,0,7,5,3,6,7,8,7,3,6,9,6,0,8,2,4,3,0,3,1,3,2,9,6,9,0,5,6,6,2,4,6,4,2,2,8,7,0,0,7,3,8,9,1,6,1,8,6,7,7,3,0,4,1,0,1,4,3,1,4,6,9,7,6,8,5,4,0,9,8,6,5,5,8,6,3,6,4,7,6,8,7,8,2,1,6,8,4,3,2,7,5,7,1,1,4,5,6,0,2,5,5,2,3,4,4,3,5,1,9,8,2,2,0,9,5,9,7,5,9,2,6,6,8,4,2,4,5,1,8,7,6,1,8,4,1,3,0,9,9,7,8,1,3,2,1,6,8,0,4,7,5,3,1,0,9,1,6,2,5,3,2,4,9,5,0,6,2,7,8,8,9,9,5,0,1,1,4,2,2,3,7,4,4,5,0,6,6,7,0,8,7,9,5,0,0,1,6,2,6,3,2,4,1,5,4,6,5,7,2,8,3,9,4,7,7,4,5,0,6,4,8,0,9,1,7,7,4,9,9,5,7,1,1,4,7,2,1,8,4,9,1,4,1,3,1,1,5,7,4,8,1,2,5,4,0,3,3,6,1,9,0,9,2,5,5,8,9,6,9,7,7,0,2,6,4,8,7,2,9,6,4,3,2,9,1,3,8,2,9,8,0,6,8,1,8,7,0,4,8,8,6,8,0,9,9,0,7,3,3,3,0,9,1,0,0,5,6,2,0,5,6,0,6,9,4,4,4,1,4,0,9,3,9,7,2,5,1,8,9,7,6,7,1,8,9,2,0,9,8,7,9,1,8,2,0,6,5,4,8,2,4,5,7,2,4,3,7,6,3,6,4,5,2,0,1,0,3,7,2,5,4,2,9,8,9,1,3,6,2,1,5,0,9,4,3,3,3,1,2,6,0,1,7,9,0,0,1,1,9,2,4,3,5,4,9,5,2,6,3,7,4,8,9,9,2,0,6,1,4,2,0,3,6,4,3,5,0,6,5,7,9,8,7,9,9,0,8,1,0,2,7,3,9,4,8,5,6,6,3,7,3,8,2,5,3,0,1,6,8,8,5,9,1,4,7,1,3,9,0,0,2,4,6,8,2,9,1,1,3,4,0,0,9,5,3,1,8,5,5,4,2,0,4,7,3,6,9,0,1,1,3,7,9,0,6,6,7,8,1,9,1,5,8,4,9,7,3,6,1,0,2,8,9,1,4,7,1,7,0,1,0,3,3,2,0,3,0,1,5,0,2,0,2,7,8,8,4,4,7,9,6,3,8,8,0,4,8,7,1,2,7,5,8,6,3,3,4,6,1,9,0,4,2,6,4,9,1,0,0,2,3,5,8,5,3,1,0,3,6,3,5,9,1,7,2,8,4,7,2,2,7,2,8,5,9,7,8,9,3,2,2,1,9,3,6,0,1,1,8,2,5,3,9,4,0,5,5,6,8,7,1,8,5,9,4,0,0,1,5,2,0,3,5,4,5,5,5,6,0,7,2,8,5,9,9,0,4,1,5,2,1,3,3,4,1,5,1,6,1,7,4,8,0,9,8,8,5,9,9,5,7,7,0,0,1,3,9,1,5,6,6,8,8,4,5,1,8,7,7,6,3,5,8,6,1,4,9,2,9,7,4,8,5,1,6,3,6,2,0,0,0,5,0,0,2,1,7,9,8,2,9,3,1,2,2,3,1,5,1,5,7,7,4,9,8,9,4,7,3,1,7,1,6,9,0,0,2,7,3,3,7,4,0,8,2,6,1,3,5,8,2,0,8,6,4,2,2,1,1,0,3,1,9,0,3,6,8,2,0,3,8,8,4,9,7,0,4,7,7,2,2,3,0,4,6,5,9,5,9,2,4,8,1,5,8,4,9,6,8,6,1,6,1,7,5,9,8,1,1,8,0,2,2,1,5,2,4,6,8,5,2,3,0,4,4,7,3,9,4,4,7,0,5,0,9,5,6,9,1,0,0,1,5,2,3,3,7,4,0,5,1,6,8,7,5,8,1,9,2,0,0,1,3,2,7,3,2,5,0,6,1,7,2,8,7,9,7,0,0,1,1,2,7,3,4,4,4,5,0,6,6,7,7,8,4,9,4,0,4,7,0,0,7,7,6,8,0,3,1,0,9,0,8,5,3,5,3,3,5,8,0,8,0,1,9,8,0,4,5,9,9,6,2,1,8,8,1,0,6,2,0,3,6,9,0,4,0,1,4,2,5,5,9,9,1,8,8,9,3,4,9,3,9,0,6,3,8,3,7,4,1,7,0,0,1,1,4,9,2,1,0,2,0,7,8,9,5,1,9,0,9,6,6,2,4,0,0,3,7,8,0,9,6,4,7,2,5,5,1,6,5,6,1,5,4,6,6,7,7,1,2,4,1,4,8,2,2,6,7,2,7,9,9,1,3,3,2,1,7,4,1,8,3,6,3,3,7,7,2,0,0,9,4,5,6,6,0,7,8,1,0,3,4,8,3,2,7,6,8,2,8,6,0,2,0,7,2,8,0,7,2,0,5,1,4,2,4,3,0,4,7,5,5,6,5,7,7,8,1,9,9,0,7,1,4,2,9,3,9,4,4,7,3,8,0,9,0,0,9,1,4,2,3,3,1,7,8,8,1,9,7,0,8,5,5,6,7,9,5,0,3,3,1,3,6,9,0,9,8,5,3,6,6,4,0,4,4,2,2,9,7,6,3,8,1,7,7,9,9,1,7,5,7,2,6,6,1,3,5,4,3,0,9,4,7,1,6,6,9,4,2,9,3,6,5,5,2,1,6,2,3,6,2,6,0,7,5,8,4,8,3,1,4,8,6,3,2,7,8,7,6,1,2,0,6,0,2,5,1,2,3,8,3,4,3,3,4,1,3,8,2,2,0,9,9,9,0,5,3,2,7,6,2,4,6,8,6,2,2,5,4,4,4,7,1,1,4,2,9,6,1,0,0,0,2,1,6,2,3,3,3,4,2,5,5,6,8,7,9,8,0,9,2,0,9,1,3,2,7,3,5,6,6,7,1,8,8,9,0,0,6,1,8,2,5,3,9,4,1,5,4,6,3,7,1,8,9,9,7,5,9,4,4,8,5,7,6,4,5,7,4,7,1,3,7,9,2,8,5,8,0,3,1,1,1,5,1,8,8,2,7,7,4,4,5,2,8,6,8,4,7,5,7,5,1,8,1,6,2,4,3,4,3,4,1,1,8,8,7,7,7,5,0,5,3,1,5,8,5,3,2,6,7,3,1,3,0,2,5,2,8,6,3,9,6,9,5,6,8,5,0,5,9,3,9,3,4,8,7,1,1,6,9,5,7,6,5,8,0,1,0,9,2,7,7,6,9,8,2,3,1,7,8,4,7,7,1,0,6,9,9,0,1,0,9,3,4,7,8,9,7,3,2,0,8,2,2,0,3,1,0,0,7,1,5,0,1,4,6,0,3,1,2,0,4,4,3,7,7,9,5,2,4,0,0,6,4,2,1,6,0,2,8,2,9,9,8,9,3,0,1,1,6,2,1,3,3,4,5,5,2,6,7,7,6,8,9,0,1,1,1,2,8,3,1,4,2,5,0,6,9,7,3,8,6,0,1,1,3,2,2,3,5,4,3,5,7,6,1,1,4,7,4,4,3,0,7,6,1,4,5,1,0,4,1,3,3,6,8,2,5,3,3,4,4,8,2,7,9,8,3,6,8,9,1,8,4,3,2,2,4,2,6,8,1,4,2,8,0,5,8,6,3,5,5,0,5,2,2,0,4,1,5,1,1,2,1,9,9,6,6,8,1,1,9,2,6,1,2,0,4,6,4,5,9,2,3,9,8,1,5,5,7,3,2,9,4,3,9,7,3,1,0,8,9,3,5,8,6,1,4,9,4,5,7,5,7,0,4,1,0,1,5,9,8,8,4,2,0,6,9,0,9,4,7,5,8,6,3,5,6,0,0,3,7,1,0,8,9,6,6,7,7,5,8,9,4,3,4,0,9,3,5,1,2,4,1,0,8,4,2,9,2,7,9,3,6,2,7,6,1,5,8,4,5,7,4,9,4,7,0,0,9,1,1,2,8,3,0,4,3,6,2,7,9,8,9,0,8,1,4,2,0,3,8,4,0,5,9,6,8,7,8,8,6,9,3,0,0,1,5,2,6,3,5,4,1,5,7,6,1,7,5,8,8,9,0,6,0,4,6,7,9,4,7,3,4,6,7,2,6,3,6,4,7,8,7,9,9,2,8,2,2,8,7,5,5,0,6,2,6,0,4,1,7,1,9,2,6,9,8,6,5,8,2,1,4,2,5,1,1,0,3,6,6,5,2,2,8,9,4,7,1,5,7,3,1,9,0,3,5,8,7,3,2,8,7,1,1,9,7,5,6,5,7,0,6,1,1,1,7,9,0,8,9,2,2,6,5,0,2,6,6,5,2,0,1,3,6,1,9,8,6,6,9,7,2,5,5,9,7,9,1,3,2,0,0,3,0,1,2,0,2,4,2,9,0,7,4,3,7,2,9,6,8,5,9,4,6,7,7,9,5,7,5,0,6,3,0,4,0,5,5,6,7,7,9,8,7,9,2,0,1,1,9,2,7,3,0,7,2,0,4,3,6,7,6,8,2,9,0,6,0,0,4,4,3,0,0,8,1,6,7,8,9,7,2,7,0,9,5,0,1,4,0,9,0,9,3,7,6,4,2,0,0,3,1,5,0,5,5,3,1,8,8,9,8,2,2,2,6,0,5,9,3,7,0,3,6,1,6,3,0,6,7,6,8,2,1,1,2,2,9,6,1,0,4,2,3,2,6,8,0,9,9,5,3,1,2,6,4,8,6,0,4,0,1,0,7,1,7,2,6,3,1,4,4,5,2,6,2,7,5,8,8,0,2,1,8,2,7,3,7,4,1,5,3,6,2,7,9,8,4,9,2,0,5,1,6,2,0,3,1,7,3,8,7,9,5,4,6,9,9,9,8,8,0,3,6,5,9,4,2,3,1,3,2,6,1,6,7,5,5,5,1,1,1,7,4,8,7,4,7,5,0,7,1,3,6,5,2,2,1,3,8,6,6,6,5,7,8,7,3,0,1,1,0,0,7,1,8,6,9,9,8,3,5,1,4,4,0,7,6,3,4,8,4,6,8,2,4,2,5,9,7,1,6,5,0,9,3,1,8,2,9,2,1,7,8,9,1,7,5,9,7,9,0,1,3,0,5,8,0,9,0,7,0,0,5,3,0,8,8,1,3,4,4,0,5,3,7,6,3,2,0,0,6,1,1,3,1,1,6,0,9,9,0,0,4,1,7,2,8,3,6,4,7,5,1,6,7,7,2,8,4,9,6,0,2,1,5,4,2,5,5,6,6,7,4,8,4,9,5,0,9,1,4,2,6,3,6,4,7,5,1,6,0,7,7,8,7,9,2,6,3,8,9,7,2,8,2,6,8,0,4,1,4,7,8,5,3,2,4,1,4,7,6,3,1,0,2,5,1,1,9,6,6,5,9,1,3,2,3,0,1,2,6,3,1,4,1,8,5,3,5,3,0,6,8,5,7,9,7,9,8,3,2,3,9,7,0,9,5,3,4,4,3,1,6,7,4,3,6,9,1,6,5,9,7,0,6,9,9,6,2,0,4,6,5,1,6,8,2,5,4,1,0,0,5,1,0,0,1,9,6,5,1,9,4,0,3,2,3,1,1,4,1,9,6,6,2,8,2,9,3,2,1,0,4,1,9,2,6,3,7,4,4,5,6,6,3,7,1,8,7,9,0,0,1,1,2,2,1,3,4,4,8,5,5,6,4,7,7,8,6,9,6,0,2,1,0,2,8,3,1,4,4,5,1,6,6,7,7,8,1,9,0,1,1,6,2,8,3,9,5,9,4,0,1,1,7,2,6,4,1,4,2,3,9,7,7,4,0,4,9,4,5,0,7,3,4,8,9,5,5,8,2,2,5,1,6,7,9,3,1,5,2,8,9,5,4,5,8,9,1,2,1,5,7,1,3,1,9,6,4,2,2,1,3,3,5,1,7,8,6,6,6,4,3,9,5,4,9,9,2,2,1,0,6,0,4,4,8,4,3,6,8,2,7,0,1,2,1,8,7,0,8,6,0,8,0,7,2,9,2,1,7,9,4,2,9,6,6,7,3,6,1,6,1,8,7,7,4,4,8,9,7,2,0,1,1,3,4,3,1,0,5,5,9,5,2,8,9,0,3,3,3,7,1,9,8,7,7,0,7,2,6,7,2,9,3,1,6,3,0,6,8,7,4,8,6,0,3,3,0,5,9,3,3,6,9,0,2,1,7,2,8,3,1,4,0,5,1,6,8,7,9,8,5,9,5,0,8,1,3,2,4,3,9,4,3,5,5,6,9,7,2,8,4,9,8,0,1,1,7,2,0,3,2,4,3,5,2,6,9,7,7,8,7,9,3,6,9,0,6,8,1,0,2,2,6,3,6,7,7,9,6,4,2,7,0,1,6,9,6,1,1,7,3,1,0,4,1,0,1,0,3,4,2,1,6,7,9,5,1,7,8,1,4,3,7,3,7,3,7,1,2,6,8,9,3,7,3,4,9,3,4,0,8,2,3,5,9,2,0,6,8,0,9,8,0,9,5,4,6,3,4,5,8,4,2,8,1,1,5,0,9,6,3,4,0,3,5,6,3,3,6,3,9,8,1,1,0,4,3,7,8,5,1,7,0,2,4,2,5,0,1,0,2,1,2,7,7,7,3,9,4,5,1,9,7,8,7,9,0,6,7,8,9,8,4,2,4,3,4,6,9,1,2,2,2,9,5,8,8,9,1,5,9,2,7,5,5,2,0,6,1,2,2,4,4,8,1,4,5,6,2,5,5,1,6,2,0,3,9,4,4,8,1,0,6,1,7,2,7,3,9,4,0,5,9,6,0,7,8,8,2,9,7,0,6,1,5,2,0,3,9,4,7,5,1,6,4,8,8,9,6,5,8,0,5,3,5,1,2,6,6,8,3,4,9,1,0,7,1,6,1,5,8,6,7,4,1,2,5,7,7,8,7,3,6,4,1,3,1,4,9,7,5,2,7,5,3,0,3,1,5,9,9,2,1,3,8,2,0,3,0,5,0,5,6,7,6,8,2,4,0,9,9,9,1,7,1,1,4,9,7,8,7,3,8,4,2,8,2,6,3,3,8,8,5,6,9,0,4,1,1,0,0,6,6,2,9,3,1,8,2,9,6,0,9,7,1,2,8,3,1,4,3,5,1,5,9,2,7,8,9,5,1,4,5,6,2,6,9,6,3,7,7,9,6,1,2,8,3,2,4,1,2,2,8,6,9,5,7,3,1,4,7,7,9,9,0,4,5,5,5,9,6,0,5,1,2,2,9,3,9,4,2,5,6,6,5,7,4,8,8,9,1,0,8,1,7,2,1,3,1,4,3,5,5,6,7,7,7,8,2,9,2,0,6,1,1,2,5,3,7,4,0,5,0,6,0,7,0,8,4,8,1,7,4,7,2,0,8,1,5,3,9,7,1,5,0,2,0,8,3,0,4,7,9,5,9,9,1,9,7,6,7,0,7,9,5,4,2,1,8,1,0,5,5,8,8,5,0,8,1,6,9,3,7,2,7,1,0,2,4,3,3,8,5,3,8,2,4,6,2,5,8,6,1,8,2,2,6,7,9,4,5,8,6,1,1,0,8,5,8,3,2,9,4,4,8,1,6,9,1,2,9,1,0,9,7,6,8,7,2,9,9,6,6,1,0,7,2,3,8,8,9,7,1,2,4,9,0,6,2,5,7,8,4,7,0,5,2,3,5,9,3,0,5,5,5,7,0,1,4,6,1,1,4,0,7,9,4,3,0,3,8,4,7,4,7,0,7,6,1,4,6,2,7,3,2,4,3,0,9,0,7,2,7,0,9,1,3,2,1,3,9,4,2,7,4,8,2,9,4,0,0,1,8,2,4,3,7,4,9,5,7,6,2,7,8,8,1,0,5,1,9,2,3,3,2,6,7,9,1,6,0,1,5,9,1,9,4,9,6,4,4,1,9,2,0,5,5,0,2,0,8,6,9,0,8,8,1,1,7,0,8,9,8,1,9,2,9,2,3,2,1,5,9,2,7,1,1,4,0,7,3,1,8,7,3,9,6,6,3,3,3,3,5,1,6,0,3,0,2,5,2,6,8,6,6,8,9,0,2,1,7,2,3,3,1,4,2,5,2,6,3,7,5,8,6,9,8,0,9,1,6,2,2,3,4,4,3,5,4,6,2,7,6,8,3,9,5,0,3,1,1,2,5,3,6,4,1,6,7,7,6,8,0,0,2,5,5,0,1,8,8,0,8,2,6,9,3,4,6,7,8,1,9,9,2,1,8,7,1,1,8,4,4,0,3,0,3,4,1,1,8,7,0,5,4,7,7,1,4,3,9,3,1,3,2,1,9,6,7,9,4,7,2,4,8,3,1,0,7,2,5,6,0,8,7,1,6,5,5,9,9,0,8,6,8,6,3,3,5,3,4,8,3,1,8,4,0,7,3,2,4,2,3,0,7,0,5,1,9,7,0,7,3,8,0,9,9,6,8,8,5,8,3,2,0,3,7,2,4,9,7,8,8,5,4,2,9,6,2,2,1,4,9,8,2,4,2,6,3,5,1,0,4,1,3,2,0,3,5,4,9,5,3,6,1,7,5,8,9,9,5,0,4,1,4,2,6,3,4,4,9,5,7,6,1,7,6,8,6,9,7,0,0,3,2,4,9,5,2,6,7,7,3,8,8,9,2,9,0,7,0,5,7,2,3,9,8,0,3,1,3,5,3,8,7,8,3,0,5,9,3,3,9,2,5,7,1,8,0,4,5,4,2,5,7,9,3,6,8,1,4,0,3,4,1,5,8,3,0,9,7,4,2,2,8,0,5,5,1,0,9,1,8,6,3,9,2,3,3,2,0,9,6,1,5,6,6,0,0,1,8,1,6,8,4,0,4,4,0,7,4,7,3,6,9,0,7,7,1,3,7,5,8,4,2,2,2,4,1,1,3,8,1,3,4,5,6,6,8,7,5,0,9,6,2,7,2,1,1,2,5,5,6,8,8,1,9,9,2,3,5,8,3,2,1,8,8,8,1,7,2,1,7,7,8,9,1,2,7,0,6,1,1,2,7,3,7,4,7,5,9,6,2,7,7,8,4,9,0,0,5,1,4,2,8,3,7,4,2,5,7,6,3,7,7,8,7,9,6,0,8,1,7,2,9,3,2,4,6,5,4,6,7,7,5,8,0,9,1,2,7,5,8,1,5,6,7,4,9,3,0,9,6,9,0,0,6,9,1,7,3,1,2,6,5,4,2,3,2,6,3,2,6,2,5,0,1,0,1,8,3,2,2,5,4,9,5,8,3,6,1,5,3,7,6,0,8,0,3,4,0,1,7,7,0,4,3,3,3,2,9,2,1,4,3,7,1,6,2,4,5,7,1,7,3,7,3,2,7,0,6,9,1,8,9,5,8,6,5,4,5,3,5,8,9,2,2,8,4,3,6,8,7,9,8,5,8,8,9,0,7,5,4,4,8,7,8,1,0,3,8,1,5,7,7,9,9,6,2,2,8,0,9,9,3,1,0,7,0,3,8,8,5,0,3,3,6,9,2,1,5,6,1,4,6,3,5,2,2,1,1,8,8,6,6,1,7,5,6,5,8,6,2,5,6,0,6,1,9,2,7,3,4,4,0,5,4,6,8,7,4,8,0,9,4,0,4,1,1,2,7,3,6,4,4,5,0,6,4,7,7,8,2,0,2,1,4,2,4,3,5,4,6,5,2,6,3,7,6,8,5,2,9,5,1,1,3,6,8,4,3,3,9,9,0,9,1,0,3,9,6,7,3,1,3,6,2,4,5,3,6,6,5,2,6,2,1,0,7,8,4,2,8,5,8,9,6,8,5,6,8,5,4,0,3,4,1,1,0,7,1,4,7,3,0,4,1,1,5,3,9,7,6,4,7,7,8,7,6,0,0,9,3,8,4,5,9,6,6,4,9,3,4,8,6,2,6,8,1,3,5,8,9,9,6,5,8,8,4,4,3,3,2,1,3,7,1,9,5,6,2,2,1,7,5,3,7,3,5,9,0,1,5,4,3,3,1,9,9,8,8,2,1,1,9,8,2,6,7,4,7,5,6,1,7,5,6,5,2,6,1,5,9,0,4,1,9,2,3,3,2,4,5,7,6,8,8,9,2,0,8,1,9,2,4,3,0,4,1,5,5,6,7,7,2,8,1,9,8,0,8,1,2,2,2,3,2,5,5,6,4,7,7,8,9,9,9,3,6,5,3,3,9,2,1,9,2,3,8,2,2,1,8,4,5,3,0,2,7,1,9,3,7,9,6,7,8,2,9,1,7,2,8,8,3,9,4,1,4,8,6,8,1,7,7,0,6,0,9,7,9,7,9,8,3,7,7,6,7,1,4,4,8,6,0,1,4,2,5,5,8,0,6,0,3,3,8,8,5,4,1,4,9,1,3,8,4,6,7,5,8,9,0,0,3,0,2,0,9,3,8,7,9,1,1,6,2,2,0,6,3,6,1,0,9,4,1,5,8,4,2,1,7,3,9,8,2,6,2,3,7,9,0,9,8,5,3,7,5,8,9,5,9,6,1,4,5,7,9,6,5,2,3,2,9,0,8,9,9,4,9,0,0,1,3,2,3,3,1,4,1,7,0,8,7,9,9,0,1,1,9,2,7,3,4,4,2,5,8,6,3,7,0,8,7,0,7,1,6,7,4,8,6,9,8,6,9,9,0,6,6,1,7,9,6,9,9,9,4,8,4,1,2,4,2,1,0,2,0,9,2,5,4,3,6,0,9,4,5,9,1,1,4,7,3,1,6,8,9,7,8,6,1,0,8,8,4,1,1,0,6,9,0,1,6,2,3,5,1,4,3,7,2,7,3,2,8,7,3,5,5,2,7,1,5,4,9,4,7,3,1,0,7,0,3,8,5,5,2,4,6,7,7,8,8,8,3,7,8,9,7,6,8,3,9,1,0,7,2,9,3,6,4,3,3,3,7,2,8,6,1,0,8,6,8,8,6,0,8,1,0,2,1,3,7,4,9,5,3,6,6,7,1,8,1,9,4,0,2,1,9,2,9,3,4,4,9,5,9,6,6,7,3,8,1,0,9,1,7,2,2,3,6,4,7,5,7,6,4,7,6,8,2,9,5,5,4,2,0,8,0,1,8,7,8,2,2,4,0,1,0,4,3,1,3,4,4,9,8,6,1,8,1,4,5,5,4,3,1,7,2,8,6,4,2,3,2,3,1,5,8,6,8,7,3,0,0,6,2,1,6,6,8,8,7,7,1,0,0,1,9,5,6,6,4,0,2,0,6,6,3,1,9,5,4,8,0,4,6,2,9,3,3,9,4,7,6,6,4,9,6,1,8,9,2,0,2,6,1,7,1,1,1,2,0,3,2,9,9,2,7,4,3,5,6,5,9,3,4,7,3,1,5,8,7,2,6,2,9,3,7,0,9,2,9,9,5,4,5,9,3,7,6,0,2,0,2,2,3,7,1,4,6,9,1,9,2,2,3,8,6,9,9,1,1,8,7,3,8,8,9,3,3,6,8,7,6,0,1,4,0,0,9,0,6,1,1,2,3,3,8,4,6,5,3,6,4,7,4,8,3,9,7,0,7,1,0,2,5,3,3,4,5,5,1,6,8,7,9,8,5,9,2,0,2,1,5,2,4,3,6,4,7,5,2,6,3,7,5,8,5,9,3,1,7,0,8,4,7,6,0,3,2,4,3,4,1,2,7,8,4,1,4,0,8,6,9,4,7,9,7,7,3,2,1,3,4,3,3,9,1,2,9,0,7,9,5,3,1,3,0,9,0,1,7,5,5,2,7,3,8,1,7,6,7,7,7,3,8,7,0,8,3,4,1,0,4,2,9,4,7,0,7,2,9,4,4,7,3,8,0,0,9,7,6,0,8,6,0,9,3,3,7,2,2,4,0,8,8,6,9,0,4,5,1,7,8,5,7,1,1,0,3,8,4,1,5,6,4,7,8,2,7,9,5,7,6,9,4,5,1,6,1,5,8,2,8,6,0,2,7,8,0,1,5,7,5,5,6,5,4,7,9,3,2,5,5,0,8,1,9,1,1,3,1,8,3,4,8,9,4,4,6,5,0,1,4,8,0,6,1,8,0,9,8,0,0,1,5,2,7,3,2,4,4,5,8,6,3,7,2,8,0,9,6,0,1,1,7,2,6,3,0,4,6,5,7,6,5,7,5,8,2,9,6,0,0,1,9,2,8,3,0,4,5,5,6,6,7,7,2,8,5,4,9,9,3,4,0,2,0,9,1,4,7,5,7,8,9,0,9,3,9,5,3,5,2,1,1,7,0,8,6,4,1,5,2,7,0,2,4,3,1,6,5,7,5,7,8,7,6,6,5,0,8,1,6,0,5,6,7,5,5,5,9,2,9,9,0,3,2,1,5,4,7,8,8,7,7,3,0,8,7,2,4,6,0,5,0,2,3,7,4,9,5,7,9,9,1,1,5,0,4,8,0,9,1,7,8,0,7,5,6,0,0,3,8,8,1,4,9,6,8,2,9,0,9,4,1,1,3,3,9,1,9,0,4,9,7,0,2,1,0,2,2,3,4,4,3,5,7,6,5,7,7,8,7,9,5,0,8,1,7,4,4,5,5,6,9,7,5,8,5,9,6,0,2,1,9,4,5,5,7,6,4,7,8,8,9,9,9,7,2,0,6,6,7,0,4,7,0,3,4,8,9,6,5,7,1,1,8,3,5,7,7,9,8,7,5,4,2,0,8,6,9,4,6,9,1,5,1,6,4,5,9,2,1,9,1,8,4,5,3,1,1,5,7,3,1,9,3,4,6,5,5,6,7,3,8,4,5,8,7,0,2,6,5,4,8,8,2,1,6,3,1,4,9,0,5,1,4,9,7,2,0,3,9,7,3,2,4,5,8,1,5,7,7,2,8,8,0,7,7,0,9,1,4,9,0,6,7,4,5,9,5,2,9,1,1,2,1,3,6,7,8,0,9,2,9,1,3,3,6,5,1,3,2,4,2,7,8,2,4,5,7,8,6,1,8,6,3,8,8,5,0,6,7,0,8,8,5,9,9,4,8,9,5,2,0,6,0,0,2,1,5,2,5,3,2,4,6,5,1,6,9,7,9,0,0,1,4,2,3,3,0,4,6,5,8,6,2,7,5,8,0,9,3,0,5,1,8,2,7,3,4,4,9,5,9,6,9,7,7,8,1,9,4,7,1,7,7,0,0,4,7,0,8,3,3,1,4,8,7,9,8,2,1,1,2,8,8,6,4,5,5,4,4,7,2,3,0,4,1,1,5,8,6,6,5,9,6,1,0,4,9,5,4,0,9,1,4,3,1,6,9,4,9,8,3,9,6,8,5,2,4,1,1,0,5,7,7,2,3,5,6,5,3,6,3,6,2,6,8,3,3,3,6,3,0,1,4,7,4,2,5,2,1,7,8,2,0,3,1,6,5,8,6,5,4,1,8,4,6,9,1,0,9,5,2,0,9,6,7,8,3,8,7,0,4,8,4,2,1,3,9,9,6,4,8,3,3,7,4,1,2,7,5,6,3,9,6,4,3,2,2,9,5,9,2,2,2,0,2,8,9,4,0,9,8,4,2,0,5,7,2,1,3,3,1,2,6,9,9,0,1,1,7,2,6,3,2,8,9,9,7,0,0,1,0,2,9,3,5,4,7,5,4,6,3,7,3,8,3,0,0,1,4,2,2,3,3,6,6,7,2,8,2,9,8,0,0,3,2,9,0,5,4,6,0,8,7,4,2,9,5,1,0,7,3,1,1,2,9,3,0,5,1,9,7,6,6,9,9,1,5,2,8,0,7,7,8,2,6,9,2,8,2,9,7,0,3,7,5,1,4,3,3,0,0,3,6,6,3,8,5,7,2,4,2,9,2,7,5,5,7,8,0,1,7,5,2,1,2,2,1,0,0,2,6,4,3,3,6,0,5,0,6,0,1,3,7,5,8,7,0,6,7,9,5,9,9,8,7,2,1,7,5,7,5,1,4,0,0,1,6,2,0,3,1,5,7,6,4,7,6,8,3,9,1,0,6,1,4,2,5,3,4,4,6,5,2,6,7,7,1,8,4,9,8,0,4,1,6,6,5,7,2,8,3,9,1,0,4,5,7,6,7,8,0,3,1,3,7,3,5,9,5,9,7,5,0,6,3,4,3,4,6,7,5,0,7,3,2,9,6,6,5,9,7,1,3,5,6,2,9,6,6,6,3,7,2,8,6,1,3,6,3,7,8,8,2,8,1,1,7,8,9,3,3,7,3,1,8,2,2,7,6,1,1,5,6,0,4,9,2,8,4,3,0,1,8,8,7,4,0,1,8,4,6,3,9,9,1,7,8,1,9,0,3,7,2,3,9,0,6,1,3,2,8,3,9,4,8,5,3,6,2,7,5,8,4,9,7,0,0,1,4,2,5,3,0,4,1,5,3,6,3,7,3,8,8,9,4,0,6,1,7,2,8,3,0,4,6,4,4,5,1,6,9,6,3,3,0,4,9,2,3,8,0,1,1,0,5,6,8,4,3,9,7,7,4,2,5,3,1,3,9,9,3,9,4,3,1,3,2,9,4,1,3,5,8,2,9,3,8,1,7,6,7,7,5,3,9,7,0,8,3,4,1,0,2,2,1,4,3,0,9,2,5,4,9,7,0,8,2,0,4,7,3,0,2,6,0,9,8,3,7,2,6,4,3,8,3,6,2,0,3,1,6,0,1,8,4,1,3,6,9,7,8,2,2,9,5,7,5,9,8,5,4,8,3,9,2,6,8,5,8,2,5,6,9,2,5,8,9,1,5,7,8,5,8,5,1,7,3,3,2,0,2,1,0,1,6,3,4,8,6,4,4,9,8,5,2,1,9,8,5,9,1,1,4,2,7,1,2,5,6,6,4,7,8,0,3,1,0,2,9,3,3,5,8,6,4,7,0,0,8,1,8,2,2,3,0,1,1,5,2,6,0,7,8,9,3,8,2,7,1,0,8,2,7,3,9,4,4,3,6,8,6,5,8,1,3,5,7,2,1,3,1,0,2,1,9,2,2,6,4,3,1,0,9,7,0,2,1,6,0,1,7,0,8,5,9,9,4,9,6,8,1,3,2,1,9,7,9,4,8,7,2,4,4,0,1,0,7,6,2,6,1,2,7,6,2,3,4,7,0,7,2,4,1,4,5,3,3,8,9,9,9,6,3,0,3,9,3,5,6,3,7,1,7,3,8,7,2,2,7,1,5,9,6,1,0,5,2,1,2,7,6,4,3,8,9,6,5,1,4,2,7,1,5,6,8,0,4,1,0,2,2,3,8,7,6,8,2,9,4,0,3,1,4,2,3,6,7,7,3,8,3,9,3,0,4,1,1,2,0,3,9,7,9,5,4,7,5,7,8,7,7,3,1,1,7,9,2,2,4,1,0,6,9,5,6,7,4,1,7,8,9,6,1,9,5,1,3,0,3,1,6,3,5,6,7,8,0,9,4,5,1,2,6,1,8,7,7,5,1,6,9,6,3,6,1,3,2,1,2,7,8,2,6,2,4,3,8,8,2,1,8,0,3,6,4,8,4,8,4,0,1,8,9,2,1,3,3,9,5,4,3,3,7,7,2,1,8,7,1,9,1,4,8,2,7,9,2,9,7,7,2,1,1,3,8,9,6,0,7,1,1,2,7,3,3,4,9,7,9,8,2,9,2,0,5,1,0,2,0,3,3,7,9,8,5,9,1,0,1,4,3,5,9,6,6,7,5,8,4,9,9,2,9,2,8,7,5,6,4,4,1,7,0,3,8,5,0,4,1,1,9,8,8,0,7,7,1,2,0,2,8,1,8,7,3,7,4,9,3,9,7,4,5,6,1,7,9,7,2,5,5,4,8,5,3,0,1,9,4,0,7,2,5,3,8,5,6,6,4,1,2,8,4,6,6,0,6,6,2,8,8,8,0,8,2,4,4,3,7,8,3,1,2,3,0,6,0,9,2,4,1,1,5,7,6,6,7,9,3,3,7,3,8,7,0,4,6,1,1,9,0,1,0,0,6,6,3,0,9,1,0,2,5,3,8,4,1,5,3,6,4,7,5,0,4,1,7,2,2,3,7,4,1,5,1,6,4,7,9,8,5,9,8,0,3,1,6,2,0,3,2,4,0,5,9,6,9,7,0,8,1,9,4,1,3,7,8,4,8,8,3,1,8,5,2,6,1,5,7,7,0,2,1,8,1,6,5,3,6,3,6,8,8,6,4,5,3,4,3,0,6,9,6,1,2,7,1,2,5,9,2,1,3,3,4,2,1,2,5,3,2,0,6,6,0,4,0,3,4,7,3,6,4,9,3,0,9,8,2,1,5,4,9,0,6,6,0,1,8,2,2,6,3,9,6,2,3,2,6,3,0,5,1,5,3,1,9,0,0,7,2,7,5,9,5,6,5,4,8,7,8,0,7,2,2,3,4,4,4,0,6,0,0,8,7,8,6,8,3,5,7,1,7,3,5,7,7,4,4,9,6,8,7,8,8,9,3,0,0,9,2,8,8,9,9,0,9,2,1,6,3,5,4,6,6,7,7,7,3,5,6,4,2,1,0,3,6,0,6,1,7,2,7,3,2,4,3,5,2,6,1,7,9,8,5,9,3,0,6,1,9,2,2,3,2,4,4,5,9,6,4,7,1,8,5,9,1,0,7,1,0,2,4,3,8,4,6,5,4,6,3,7,8,8,0,9,9,3,7,4,0,1,0,4,6,0,7,8,4,6,8,4,8,5,2,4,9,0,8,7,4,8,5,7,7,7,0,9,5,0,8,4,9,7,1,4,1,2,9,0,4,5,6,8,4,8,1,8,8,4,0,0,4,7,9,1,9,3,6,5,4,3,5,1,0,6,0,5,9,3,8,8,0,7,7,3,0,1,5,6,0,8,9,5,2,9,7,2,3,2,7,0,3,9,1,2,1,4,6,6,4,5,3,2,1,7,4,3,3,1,3,3,7,6,0,6,5,2,8,1,9,2,0,6,9,0,8,7,7,7,8,4,5,7,1,4,3,8,4,9,4,2,7,9,5,5,0,1,4,5,0,8,6,3,3,5,3,6,8,0,7,9,3,9,2,3,2,1,5,1,1,0,3,1,4,2,4,3,5,4,0,8,7,9,1,0,3,1,1,2,1,3,7,4,2,5,8,6,0,7,9,0,5,1,7,2,0,3,1,4,2,7,9,8,4,9,0,0,7,5,2,6,5,8,9,3,9,9,2,0,4,2,2,3,0,3,8,3,1,9,3,9,8,5,5,6,0,4,6,4,5,2,8,5,0,4,4,7,1,0,6,3,8,9,9,6,2,8,6,7,5,9,6,1,5,5,1,2,2,6,6,3,4,4,8,0,6,4,8,1,2,6,8,5,9,1,0,2,4,6,0,6,9,7,1,8,8,8,1,1,9,8,4,3,5,7,7,1,6,2,8,7,4,0,4,7,0,0,8,1,8,5,0,0,8,5,9,2,6,8,4,0,2,4,3,9,4,8,4,3,0,1,5,8,8,2,2,9,5,9,6,5,1,4,7,8,6,2,2,5,8,7,1,1,9,4,8,3,0,9,9,7,4,1,5,2,2,6,9,0,8,7,5,0,3,1,2,2,8,3,5,6,9,7,0,8,8,1,8,2,0,3,1,4,7,7,6,8,2,9,0,0,7,1,7,2,0,3,0,4,8,5,9,6,7,7,7,8,7,9,0,1,8,2,0,6,3,5,1,3,9,0,4,2,1,8,0,7,5,0,7,3,5,6,4,4,8,1,6,4,1,3,8,6,6,7,1,2,1,3,2,9,2,1,2,2,7,1,1,2,1,9,2,6,4,0,7,1,9,3,2,0,7,2,5,5,4,7,2,2,5,9,2,1,6,9,7,0,9,6,7,0,1,6,2,0,1,2,8,0,4,6,5,1,3,5,4,8,5,4,7,3,6,0,2,1,9,4,0,8,5,8,8,4,6,5,2,7,8,5,2,7,4,8,1,3,8,4,5,8,0,8,4,5,5,2,8,9,0,7,4,1,8,3,4,8,9,1,4,0,4,7,1,5,1,9,2,6,0,9,0,4,5,7,1,7,3,9,2,9,3,5,6,8,1,3,7,4,7,4,5,3,4,2,0,0,0,1,7,2,6,3,2,4,3,5,1,6,1,7,0,8,1,0,9,1,8,2,1,3,0,4,9,7,1,8,7,9,6,0,0,1,2,2,4,3,5,4,5,6,7,7,6,0,8,8,0,7,3,8,3,9,5,1,6,4,6,5,1,1,6,6,8,7,1,3,1,2,5,9,1,0,2,5,6,6,0,7,6,3,9,9,6,9,2,3,8,8,7,1,0,2,5,3,0,5,6,0,6,5,0,4,8,0,0,3,0,4,8,7,6,7,0,9,1,4,6,3,5,7,3,6,8,2,4,1,1,5,7,8,8,4,2,6,3,7,8,0,3,2,1,9,4,3,3,4,2,4,6,8,5,1,5,2,2,2,4,3,2,1,7,7,8,3,9,4,1,5,7,1,8,9,8,8,8,1,0,1,5,0,9,2,4,7,7,6,6,8,6,2,4,8,7,4,7,4,0,2,6,2,1,8,2,0,1,0,8,1,6,2,5,3,9,4,2,5,3,6,3,7,7,8,2,0,7,1,3,2,7,3,4,4,4,5,2,6,2,7,2,8,0,9,3,0,3,1,5,2,5,3,0,4,3,5,5,6,8,7,8,8,6,9,1,0,7,5,1,3,1,9,5,0,8,2,2,3,2,3,3,3,8,9,2,9,8,5,9,6,9,4,7,2,1,3,1,9,1,6,4,8,3,7,3,9,4,1,7,5,3,2,2,6,2,3,0,4,1,0,6,4,0,1,7,6,7,4,1,9,0,6,2,5,4,1,2,2,9,6,0,6,0,7,5,8,3,1,0,8,3,3,8,7,8,1,8,2,4,7,1,1,0,5,6,0,0,5,3,2,4,9,3,8,8,3,4,1,0,8,2,9,0,5,1,2,3,6,9,4,4,8,9,2,5,5,1,4,6,1,6,7,1,1,6,4,2,3,2,9,1,1,0,2,9,6,1,0,6,7,6,3,1,0,6,1,7,2,3,3,2,4,7,6,6,7,6,8,0,9,4,0,0,1,3,2,0,3,0,4,6,5,4,6,5,7,1,8,5,9,3,0,9,1,3,2,6,3,2,4,7,5,5,6,5,7,1,8,7,9,5,0,5,8,5,7,0,8,2,9,6,9,5,0,1,1,9,4,3,5,9,1,3,6,9,7,1,3,8,2,4,9,8,0,8,5,2,6,8,7,9,3,8,9,7,9,2,3,0,8,1,1,7,2,1,9,1,6,2,3,0,5,6,0,9,5,5,4,2,0,2,3,8,4,1,7,3,7,6,9,5,1,8,4,5,3,5,7,8,6,5,2,3,1,8,5,3,5,5,0,6,5,2,0,9,8,1,4,6,6,8,2,2,8,5,1,3,2,5,2,9,3,0,1,7,3,6,4,1,5,2,1,1,9,7,8,2,1,3,1,1,5,4,0,1,2,4,7,8,8,5,6,6,8,2,2,7,8,0,4,3,4,5,2,4,2,4,8,1,0,1,0,0,1,8,2,9,3,6,6,2,7,9,8,3,0,1,1,9,2,1,3,5,4,4,5,7,6,6,7,6,8,4,9,5,0,8,1,8,2,3,3,6,4,4,5,2,6,9,7,1,8,3,9,5,1,7,8,6,6,4,1,6,4,3,9,6,3,8,7,5,7,7,9,7,1,7,8,7,4,8,7,8,2,7,2,8,0,1,5,6,8,6,6,2,1,4,0,7,4,7,7,1,1,0,2,9,1,5,6,5,7,0,3,8,3,8,6,0,5,7,6,7,2,9,8,8,7,6,6,9,8,6,9,2,9,8,5,8,3,3,7,7,0,0,6,7,9,4,0,3,1,0,1,2,3,0,2,9,1,1,0,9,0,6,1,7,2,8,3,4,4,0,5,4,6,0,7,4,8,8,9,8,0,7,1,0,2,2,3,5,4,4,5,0,6,2,7,9,8,9,9,1,0,7,1,5,2,1,3,9,4,1,5,2,6,4,7,7,8,9,9,2,7,2,5,7,5,4,1,1,9,8,9,3,7,5,1,6,0,3,9,1,0,0,5,2,7,9,1,0,7,6,2,6,2,8,3,4,6,0,8,4,0,4,8,9,3,2,2,2,0,8,9,7,0,3,6,3,1,9,7,1,5,7,8,4,3,8,4,4,7,4,6,1,6,2,3,0,2,3,3,1,4,6,8,9,8,2,7,2,1,3,0,6,8,6,7,4,7,9,5,6,9,5,2,0,8,3,5,2,3,2,4,5,6,3,1,6,1,0,4,6,5,1,5,6,0,8,4,5,8,4,7,2,4,6,9,8,2,9,3,3,6,9,4,1,2,3,4,8,1,3,5,6,4,5,2,4,0,7,4,8,8,5,6,4,1,0,9,0,3,7,2,4,0,2,0,7,2,5,5,3,6,8,9,6,3,7,6,0,3,4,6,0,0,5,1,4,2,1,3,2,4,4,5,7,6,7,7,1,8,1,9,1,0,2,1,2,2,1,3,4,4,1,5,4,6,8,7,2,8,2,9,4,0,3,1,3,2,9,3,4,4,0,5,7,6,6,6,8,8,4,2,3,3,3,7,2,8,9,6,2,6,4,8,1,0,5,1,4,7,2,1,1,7,4,3,4,0,9,2,0,2,8,0,9,2,0,5,1,4,2,1,6,6,8,5,0,1,8,2,4,0,9,2,2,3,8,4,0,8,7,3,4,8,8,5,7,3,5,6,9,5,6,9,6,8,5,1,0,7,5,9,0,3,9,4,4,1,9,7,5,3,8,9,6,6,1,7,6,4,4,9,2,3,1,0,0,9,0,6,5,0,4,6,7,1,0,0,7,5,9,8,9,7,6,2,7,5,2,1,3,0,3,1,6,0,6,9,9,4,6,5,0,7,2,0,3,2,5,1,4,9,7,6,1,7,8,4,9,8,6,8,8,5,4,0,3,1,1,2,3,3,8,4,0,5,7,6,2,7,0,0,7,1,5,2,3,3,8,4,2,5,8,6,4,7,6,8,7,0,2,1,2,2,3,3,3,4,8,5,6,6,9,7,4,8,7,9,6,0,0,7,9,0,1,7,3,8,7,3,8,0,4,0,4,5,3,5,8,3,7,8,2,8,6,1,0,8,6,4,3,9,2,6,9,1,8,8,4,0,8,2,9,7,6,3,7,4,4,1,9,2,7,5,3,9,6,8,5,9,6,5,6,4,0,3,4,3,2,4,4,7,3,9,0,0,6,1,3,9,8,1,3,2,5,7,9,9,9,1,3,0,0,6,6,2,5,4,5,0,9,3,9,4,2,6,2,6,8,5,5,6,8,7,0,1,7,4,0,4,9,2,5,6,4,2,8,9,1,1,4,5,1,3,5,1,7,4,4,8,5,6,6,3,1,7,1,0,6,5,7,6,3,7,4,1,5,3,7,8,4,2,7,6,4,2,9,6,2,4,6,2,9,7,4,8,4,7,9,0,1,1,2,2,1,3,1,4,3,5,8,6,1,7,7,0,2,1,7,2,1,3,6,4,0,5,3,7,9,8,2,9,4,0,3,1,3,2,2,3,4,4,9,5,9,6,4,1,7,6,2,0,7,1,5,2,7,4,2,7,1,4,6,4,0,4,4,0,9,3,5,8,9,7,4,5,4,8,3,2,7,1,3,7,9,3,2,5,4,5,2,9,7,1,4,2,7,1,6,3,9,8,3,6,4,4,1,9,6,4,3,9,1,2,9,0,7,0,0,4,8,4,3,6,3,2,6,5,7,5,6,0,2,2,9,6,5,8,2,1,6,1,5,9,5,2,1,6,8,7,8,6,5,6,4,8,8,7,3,3,7,3,7,0,6,5,5,7,8,0,6,2,1,7,2,7,4,8,2,0,1,3,4,5,3,3,3,6,6,0,0,1,8,2,2,3,4,7,5,8,9,0,2,1,5,2,4,3,6,4,2,5,3,6,0,0,9,1,8,2,7,3,1,7,7,9,3,1,0,7,8,4,9,8,9,1,5,6,1,3,7,3,4,6,5,5,3,9,4,1,4,3,2,3,0,0,5,6,1,4,3,3,2,7,2,6,4,9,2,8,3,1,2,4,8,0,4,6,7,6,8,9,6,2,7,2,9,3,7,0,1,7,3,2,5,2,2,3,1,4,4,0,1,0,0,8,5,5,9,1,4,3,0,7,1,4,7,9,0,8,6,8,0,9,0,0,3,9,0,8,9,9,3,0,3,2,1,6,3,7,5,4,8,7,7,5,7,0,0,1,1,2,2,3,8,4,6,5,3,6,4,7,6,8,1,9,9,0,2,1,8,2,0,3,5,4,9,5,4,6,8,7,0,8,0,0,2,1,1,2,3,3,3,4,8,5,1,6,3,8,6,3,9,4,3,7,8,8,0,6,0,3,1,4,0,0,3,9,2,7,5,1,3,9,7,3,0,8,3,4,1,7,6,3,7,0,8,9,5,9,0,6,1,1,2,4,0,5,6,4,6,6,5,2,3,0,5,6,0,1,7,1,9,1,5,7,1,2,7,7,8,5,1,2,0,9,7,4,0,5,3,8,3,4,1,2,4,9,1,7,9,0,9,0,3,7,1,5,0,1,6,1,4,7,8,6,5,6,3,6,3,8,2,2,3,2,7,7,8,7,2,4,6,0,1,2,8,4,5,2,6,5,5,0,2,3,9,3,2,3,6,1,8,8,1,1,9,0,7,5,3,9,6,6,3,9,2,8,2,5,6,8,7,0,5,3,9,0,9,8,9,3,9,9,5,0,7,1,2,2,5,3,6,4,4,5,1,6,6,7,2,8,1,9,5,7,9,8,3,9,8,0,2,1,0,4,8,5,1,6,9,7,5,8,6,9,1,4,4,2,7,6,0,1,5,1,8,7,6,8,6,5,0,3,0,7,8,0,1,0,5,2,1,6,7,9,4,8,9,8,4,9,8,9,6,7,4,7,7,2,3,1,5,1,3,0,9,8,9,9,3,2,5,1,3,7,8,2,9,0,0,6,8,8,2,5,2,0,7,3,3,4,1,3,7,9,1,6,0,0,0,6,2,9,1,0,3,1,5,2,1,3,9,4,1,5,1,6,2,7,7,8,8,9,8,0,0,1,6,2,6,3,1,4,8,5,5,6,8,7,5,8,3,0,9,1,2,2,7,3,4,4,3,5,3,6,5,9,3,5,9,0,5,6,8,8,7,9,1,4,7,1,5,9,3,5,5,3,2,0,4,8,3,9,1,1,5,4,5,0,5,5,4,5,9,7,4,6,7,0,9,1,7,6,4,8,2,9,8,5,1,4,5,7,9,6,4,0,9,8,0,1,6,7,0,7,4,1,8,3,5,2,5,3,9,1,3,4,9,2,7,0,7,0,9,4,7,6,8,4,3,9,3,3,0,8,9,4,4,7,8,2,7,5,5,6,2,3,9,6,8,9,1,6,0,3,6,2,0,2,2,4,2,6,0,2,2,5,5,5,1,1,5,3,2,3,2,9,5,2,1,5,9,7,0,9,6,8,8,2,7,1,8,3,3,1,7,3,3,0,6,1,7,2,5,3,8,4,8,5,3,6,6,7,8,8,1,9,2,0,9,1,6,2,1,3,5,4,9,5,7,6,0,7,4,8,1,0,9,1,2,2,4,3,1,4,7,5,3,6,7,7,3,8,9,9,0,2,4,2,1,7,1,6,9,4,3,0,1,5,6,8,1,0,5,7,5,3,0,5,3,4,9,1,6,8,1,0,9,5,7,2,2,7,6,2,3,3,2,6,2,2,7,1,4,7,5,7,0,9,3,1,5,2,6,6,1,7,4,5,2,4,3,0,4,1,4,1,9,9,3,8,3,0,5,2,0,0,0,3,9,5,7,6,6,1,2,8,1,6,3,4,3,6,6,0,1,9,0,2,2,6,7,4,7,3,4,9,9,3,7,0,9,0,8,5,5,2,4,5,0,8,4,8,3,8,6,9,6,4,5,3,8,4,5,2,3,8,4,8,1,5,0,5,9,7,4,1,0,3,0,6,2,9,9,4,1,3,6,8,0,7,7,6,8,9,0,3,8,3,7,7,8,4,4,1,2,9,8,1,1,0,6,6,5,0,1,1,7,2,7,3,1,4,0,5,0,6,8,7,6,8,9,9,4,0,6,1,9,2,6,3,9,4,4,5,6,6,1,7,2,8,6,9,7,0,9,1,6,2,8,3,6,4,9,5,8,6,8,7,8,8,6,9,1,7,6,0,9,6,7,0,9,7,1,3,6,8,4,6,1,7,5,1,3,3,5,7,9,9,6,7,3,4,1,0,4,2,4,5,0,0,1,6,6,4,7,9,4,6,5,2,6,9,8,8,8,5,9,3,8,9,8,8,8,3,4,4,3,0,9,5,4,4,1,8,0,6,1,3,2,0,8,6,0,3,5,4,9,0,3,1,0,9,3,2,3,3,3,7,4,9,2,1,6,2,1,5,7,1,9,7,9,2,2,8,1,7,7,0,0,1,8,9,0,6,6,4,7,9,8,2,9,1,5,2,5,3,7,7,0,0,8,2,3,1,3,5,1,3,6,4,8,7,6,2,8,1,8,6,6,8,7,5,6,0,4,8,4,9,3,2,3,6,2,0,1,1,6,2,5,3,0,4,3,5,8,6,9,7,8,8,3,9,0,0,3,1,4,2,5,3,9,4,5,5,5,6,0,7,1,8,0,9,3,0,5,1,2,2,3,3,1,4,3,5,8,6,0,7,8,8,2,9,1,7,5,0,0,6,1,0,9,7,7,3,1,8,3,7,5,1,2,3,7,7,3,9,3,7,7,4,3,0,7,2,7,5,9,0,9,6,4,4,0,9,7,8,8,5,1,1,5,5,1,3,6,3,1,4,5,0,9,5,8,4,3,8,9,6,4,3,6,4,5,8,5,0,0,6,7,4,6,8,5,3,4,4,0,0,9,1,7,9,7,2,8,7,0,9,2,1,8,2,4,5,2,1,2,7,5,2,9,8,5,7,9,0,7,1,4,9,7,6,3,4,1,9,2,2,0,1,2,2,0,3,1,7,5,0,4,2,7,1,9,3,0,1,6,2,2,5,1,8,3,1,4,6,2,8,6,5,2,6,4,0,8,8,8,9,3,4,0,9,7,2,9,0,8,1,0,2,9,3,8,4,8,5,0,8,7,9,2,0,5,1,0,2,9,3,2,4,8,5,1,6,8,7,3,8,6,9,9,0,3,1,9,2,4,3,0,4,2,5,5,8,1,5,5,2,2,1,9,7,6,2,1,4,6,1,0,4,6,1,6,4,5,9,6,6,8,8,6,4,1,5,5,3,8,7,4,8,1,4,6,3,6,3,7,5,4,0,6,6,7,1,6,6,5,8,8,7,0,0,0,1,1,5,8,6,4,0,0,8,2,5,2,0,3,6,1,1,7,5,5,8,1,4,0,7,4,6,3,9,8,1,5,9,7,7,6,1,7,2,6,3,3,4,2,5,2,5,1,3,3,7,1,3,0,1,9,8,3,2,5,2,8,3,4,2,0,7,9,4,2,9,8,9,4,2,7,8,7,1,9,8,4,3,8,8,2,3,5,6,2,7,2,0,9,4,3,0,3,0,7,1,7,2,5,3,2,4,8,5,8,6,7,7,2,8,9,9,2,0,0,1,9,2,9,3,2,4,9,5,7,6,8,7,5,8,5,9,5,0,3,1,1,2,0,3,6,4,5,5,6,6,5,7,9,8,5,9,1,1,8,8,7,6,7,7,7,1,9,1,5,4,2,3,0,7,9,9,0,3,6,6,2,0,2,3,9,6,6,4,0,8,7,6,3,0,2,1,0,1,1,5,9,9,3,4,6,3,1,0,2,4,1,6,4,9,4,1,5,7,1,9,0,5,9,1,6,1,4,9,8,8,0,6,1,6,6,9,7,8,6,8,7,8,7,2,0,7,7,4,6,5,9,8,7,3,8,5,6,4,6,7,3,6,7,5,9,2,2,2,8,2,8,7,5,7,3,1,9,0,7,1,6,2,1,3,4,4,1,5,7,6,3,7,0,8,5,9,1,0,0,1,6,2,6,3,3,4,6,5,3,6,7,7,0,8,3,9,4,0,3,1,1,2,5,3,1,4,0,5,3,6,2,7,3,8,2,9,0,3,8,2,7,9,0,3,3,2,7,1,4,4,3,5,7,5,2,2,8,3,0,2,7,1,7,3,8,9,4,7,7,2,0,1,7,1,0,8,8,8,1,7,9,8,8,1,2,0,4,0,9,6,9,7,0,7,4,5,4,0,3,6,9,1,7,1,9,2,3,5,5,0,9,7,0,0,4,4,1,4,5,1,0,8,3,6,4,0,8,0,1,0,7,3,2,7,6,1,7,6,7,4,5,2,7,6,4,4,8,5,7,4,9,1,7,3,5,8,7,6,2,3,3,9,8,9,6,5,4,9,2,3,7,7,8,8,3,5,0,6,1,4,1,7,4,6,3,2,2,2,1,0,0,9,5,4,7,0,8,1,5,2,9,3,8,4,1,5,7,6,9,7,3,8,5,9,4,0,0,1,0,2,6,3,3,4,9,5,8,6,8,7,7,8,8,9,7,0,9,1,4,2,8,3,7,4,5,5,7,6,7,7,4,8,8,9,0,1,1,8,1,6,9,7,9,1,3,1,7,4,9,3,4,7,7,7,1,8,8,9,0,3,2,6,2,0,2,3,8,6,6,4,3,8,8,4,0,5,0,7,3,5,6,6,5,0,7,3,2,9,9,2,8,8,8,3,6,1,9,1,1,5,1,9,5,4,2,3,5,0,3,4,2,4,4,0,8,9,3,6,4,9,8,2,3,2,6,1,5,7,9,9,7,5,9,1,0,1,4,9,0,8,7,6,7,6,5,9,5,0,7,0,8,0,7,1,7,8,0,4,6,6,4,8,0,8,9,2,9,6,2,3,7,2,8,4,8,0,4,9,8,0,3,3,9,7,0,4,4,5,2,8,5,3,7,5,7,8,0,5,4,4,0,7,6,6,2,2,7,2,4,7,5,7,5,0,5,5,4,1,6,5,1,3,4,0,3,1,6,2,5,3,4,4,7,5,6,6,3,7,1,8,5,9,8,0,4,1,2,2,6,3,6,4,0,5,6,6,6,7,6,8,8,9,8,0,5,1,2,2,7,3,0,4,8,5,1,6,3,7,9,8,1,5,0,2,1,8,6,1,8,7,9,2,5,4,6,1,2,4,8,1,7,4,4,9,6,6,2,8,7,5,3,3,0,7,0,8,1,3,9,3,9,5,3,6,6,7,0,0,6,6,4,1,8,6,3,8,8,7,0,0,5,1,5,5,7,6,5,0,7,8,7,5,8,0,2,6,6,1,8,5,9,8,6,4,9,2,6,3,0,9,3,7,5,6,7,9,6,1,2,9,7,0,3,6,3,7,6,1,1,2,2,3,1,9,0,2,1,4,2,5,9,5,1,3,1,7,7,5,7,3,5,1,1,8,1,2,7,2,6,3,5,0,9,2,8,9,3,4,2,9,9,7,9,0,7,0,8,2,9,7,9,4,1,9,6,9,0,2,4,8,6,1,4,5,1,6,2,9,5,8,8,3,2,8,3,3,0,6,6,7,4,0,6,4,5,0,6,0,2,1,9,2,7,3,7,4,0,5,3,6,2,7,9,8,5,9,2,0,7,1,4,2,9,3,8,4,2,5,2,6,6,7,6,8,1,9,8,0,8,1,1,2,5,3,6,4,4,5,0,6,2,7,4,0,3,6,9,4,6,7,5,4,4,3,6,6,2,2,6,3,2,4,7,8,3,7,9,8,1,6,4,9,1,8,9,3,5,2,8,2,4,4,1,8,2,5,6,6,9,5,8,0,6,2,5,0,2,1,5,1,1,2,5,6,8,8,2,1,1,2,7,0,8,6,3,9,0,3,2,9,5,3,5,7,7,1,3,8,9,3,1,8,0,5,3,0,6,1,4,1,2,9,1,8,2,2,6,0,3,4,5,5,5,5,9,0,3,3,5,1,7,8,6,6,7,9,2,0,2,3,9,1,4,0,3,4,0,7,4,5,5,4,0,7,0,9,0,7,8,0,7,1,0,2,1,3,4,7,9,8,9,9,5,0,8,1,3,2,8,3,5,4,5,5,7,6,7,7,4,8,7,9,8,0,0,1,4,2,2,3,6,4,5,5,1,6,8,7,8,8,1,0,2,7,5,5,1,0,3,8,0,4,4,1,3,8,2,8,1,1,4,3,8,1,8,8,1,3,9,7,6,9,7,3,7,0,3,9,6,4,2,4,6,0,4,7,5,4,9,2,1,8,3,7,1,2,9,4,3,7,9,8,4,9,3,3,8,1,5,4,1,6,8,5,9,2,7,2,0,2,4,5,8,6,4,7,8,8,3,7,5,5,7,1,2,6,0,4,0,9,9,2,7,9,2,3,7,5,5,3,0,6,5,6,7,0,3,0,6,2,1,5,6,6,2,4,7,9,7,2,8,7,3,4,2,9,9,5,1,0,3,2,4,2,5,3,0,6,9,1,1,8,9,3,0,8,3,0,5,3,1,5,8,0,1,0,0,6,8,1,7,6,6,9,1,5,1,3,9,9,6,4,0,5,6,8,2,6,8,7,8,1,4,1,6,7,1,0,8,1,1,2,1,3,5,4,1,7,8,8,7,9,9,0,3,1,3,2,6,3,6,4,3,0,5,1,5,2,7,3,4,7,0,8,3,9,2,1,1,5,5,9,7,6,0,9,4,3,0,5,2,0,3,0,1,7,9,9,4,6,2,1,2,6,7,7,9,7,6,9,2,2,0,4,6,8,4,8,3,0,7,6,3,4,7,1,3,2,5,8,5,7,1,1,7,1,7,0,9,7,0,6,9,0,2,1,2,2,5,3,5,4,6,5,7,6,6,7,4,8,0,9,0,1,6,2,2,3,5,4,6,5,9,6,7,7,8,8,1,0,4,1,2,2,0,3,0,4,9,5,9,6,1,7,9,8,0,9,3,8,2,4,1,0,4,0,1,7,8,2,3,6,1,5,7,5,9,3,4,7,1,6,5,6,5,4,1,3,9,2,3,6,4,6,0,4,1,4,8,3,6,8,5,8,9,3,0,0,8,1,8,4,0,5,8,6,3,4,3,7,7,8,9,0,8,3,4,1,5,9,0,0,5,9,2,1,0,2,0,7,7,0,9,1,5,3,9,8,7,2,5,9,1,2,0,7,6,7,9,9,1,4,4,2,4,5,4,8,3,6,8,5,0,9,9,9,2,1,1,1,1,7,5,6,2,9,1,1,2,3,9,2,6,3,1,4,3,3,6,1,1,9,4,3,3,6,5,8,8,7,1,0,3,1,0,0,8,5,2,8,4,2,3,7,9,7,2,0,2,1,6,2,4,3,1,4,1,5,6,6,2,7,4,8,6,9,0,0,8,1,3,2,6,3,7,4,0,5,2,6,4,7,1,8,3,9,4,0,1,1,5,2,1,3,2,4,5,5,7,6,9,7,3,8,7,9,8,8,0,7,6,4,5,7,3,7,9,3,7,9,6,8,7,8,7,3,2,1,7,5,1,8,6,2,8,7,1,4,9,2,6,6,6,1,9,5,0,5,9,8,2,6,6,4,6,4,6,4,0,1,4,8,7,7,0,5,7,5,1,1,4,8,6,9,8,1,9,3,5,6,6,3,6,3,9,2,2,2,2,6,1,9,0,9,9,6,0,5,6,5,1,3,4,3,4,8,7,1,9,6,4,8,2,1,9,9,6,7,4,6,2,8,6,3,1,7,7,4,3,7,8,0,7,9,0,0,6,0,4,3,2,7,4,9,7,3,5,0,5,2,8,0,1,1,1,0,9,1,6,0,1,4,1,0,6,1,0,0,2,4,8,7,2,9,3,2,9,0,6,6,4,2,7,6,9,2,1,2,5,9,4,9,1,0,2,1,4,2,2,3,8,4,3,5,7,6,1,7,7,8,9,0,6,1,3,2,6,3,7,4,4,5,2,6,5,7,6,8,3,0,3,1,2,2,0,3,0,8,3,7,3,4,4,7,5,7,4,9,1,8,9,3,9,1,0,5,9,8,0,4,8,2,6,6,2,4,0,4,7,1,7,8,4,7,7,5,1,5,3,1,6,9,7,1,8,3,4,6,7,3,7,3,6,2,4,2,1,6,7,9,2,9,8,6,0,5,6,5,9,3,9,3,2,8,5,1,5,7,1,6,2,8,2,3,7,7,6,4,3,7,5,0,3,9,2,0,5,0,9,2,2,7,0,9,6,1,8,0,3,1,2,0,9,4,3,0,3,1,6,0,1,4,7,7,5,9,3,2,8,0,0,6,2,2,0,6,4,2,2,2,7,9,6,9,9,0,8,1,1,2,4,3,1,4,6,5,6,6,8,7,8,8,3,0,7,1,1,2,5,3,1,4,2,5,4,6,1,7,6,8,1,9,8,0,7,1,1,2,8,3,8,4,2,5,5,6,2,7,8,8,5,9,3,8,1,3,6,4,9,7,6,8,5,6,1,3,6,4,4,0,3,9,3,7,7,1,0,9,0,3,8,8,0,4,3,7,2,3,3,0,2,9,8,4,6,5,9,4,8,6,7,2,8,0,2,6,4,2,7,1,5,1,7,1,3,1,8,7,5,2,3,4,3,2,6,9,0,4,8,5,2,8,1,4,6,2,4,9,1,7,7,0,3,0,4,7,7,5,5,1,8,7,1,6,8,6,2,6,9,8,1,2,0,5,1,2,1,2,9,7,9,7,5,4,2,0,8,2,0,4,4,2,2,3,8,3,0,3,1,1,3,8,9,9,5,6,3,1,5,0,4,5,5,9,2,6,1,9,7,8,4,5,8,8,7,5,6,5,9,8,2,0,7,3,2,0,4,8,1,6,8,3,3,0,5,1,2,2,8,3,8,4,7,6,5,7,1,8,5,0,7,1,3,2,6,3,3,4,8,6,8,7,5,8,0,0,0,1,5,2,5,3,0,4,9,6,8,7,4,8,2,8,4,1,3,7,2,2,1,4,9,1,4,4,9,1,6,4,8,9,5,6,9,8,3,4,3,7,1,8,1,4,7,3,9,3,1,6,8,7,5,0,0,6,1,1,1,6,1,8,3,7,8,0,8,1,7,0,9,8,4,5,1,0,9,6,6,1,5,5,9,8,9,4,1,2,8,3,7,9,0,7,7,6,9,9,2,0,6,6,4,3,2,3,4,7,6,5,6,3,7,1,7,8,8,2,9,2,8,3,7,0,5,2,3,9,8,4,9,9,3,7,4,0,0,0,7,2,4,7,3,4,2,9,2,9,5,2,0,8,5,1,7,5,9,6,4,9,9,8,3,3,2,8,8,3,4,6,0,7,5,0,8,4,5,0,0,0,4,1,7,2,1,3,5,4,1,5,1,6,8,7,1,8,5,9,6,0,6,1,2,2,9,3,1,4,0,5,1,6,3,7,7,8,6,9,7,0,2,1,9,2,0,3,4,4,1,9,0,1,5,0,0,0,5,3,3,6,0,1,4,4,4,3,2,2,7,9,9,1,7,2,3,1,3,2,4,9,0,0,3,1,4,3,9,0,2,6,2,2,7,9,1,1,9,9,6,0,8,0,3,0,0,1,6,0,5,1,5,4,3,5,5,7,6,8,7,3,8,4,6,7,0,1,4,1,5,0,2,7,0,5,2,9,1,9,9,4,8,7,9,5,0,8,4,3,1,4,4,4,4,3,0,2,9,3,4,4,0,5,8,6,8,7,5,1,1,0,5,1,6,2,3,3,4,4,7,5,3,6,3,7,1,8,8,0,3,1,7,2,4,3,2,4,9,5,1,6,2,7,0,0,2,9,8,5,8,0,7,9,2,8,3,9,6,8,1,4,8,1,2,7,0,7,6,3,4,5,9,1,9,0,6,0,0,0,5,1,6,2,3,6,9,3,4,3,7,7,9,4,5,6,3,6,8,6,3,4,3,9,0,1,4,9,3,5,5,8,3,2,5,0,8,0,4,1,6,7,8,6,4,3,3,2,3,1,6,7,5,3,9,1,1,3,4,9,5,1,7,7,4,6,1,8,6,4,2,3,1,1,7,4,7,0,9,5,4,3,5,6,4,9,7,6,5,1,2,7,3,4,0,4,5,7,8,2,5,2,8,5,5,7,2,9,6,5,8,4,2,8,6,8,4,4,2,0,2,8,8,9,1,8,1,0,7,1,2,2,0,3,8,4,4,5,9,6,0,7,9,8,9,9,0,0,8,1,3,2,5,3,2,4,7,5,5,6,9,7,9,8,7,9,3,0,6,1,2,2,4,3,3,4,1,5,3,6,5,7,2,8,3,9,3,7,1,2,8,9,8,4,5,2,0,9,9,8,4,4,3,5,2,8,2,8,1,0,2,3,1,5,9,4,6,3,8,3,3,5,4,1,2,7,9,8,7,4,4,5,7,7,2,2,8,6,4,6,9,7,1,7,8,7,9,0,8,1,0,0,2,1,1,6,5,5,5,5,6,2,0,9,5,3,1,1,8,4,4,8,9,8,5,7,0,3,1,8,6,2,4,9,5,1,1,2,5,6,6,5,6,9,7,1,4,2,7,2,3,7,6,9,1,7,5,9,3,9,8,1,4,0,7,9,8,7,4,0,7,5,8,0,2,3,8,8,7,4,9,6,1,1,8,4,3,3,2,6,2,2,0,0,9,4,2,8,7,1,4,3,2,1,6,0,0,9,1,0,4,1,6,2,4,3,1,4,8,5,1,6,2,7,4,8,4,9,0,0,6,1,5,2,5,3,0,4,2,5,0,6,1,7,0,8,0,9,0,0,3,1,0,2,5,3,7,4,5,5,9,6,9,9,8,8,3,4,7,0,3,0,3,7,7,2,9,4,1,2,5,6,8,5,2,5,4,3,9,7,5,8,1,6,0,6,2,4,7,3,4,2,4,6,5,6,0,3,8,8,9,8,5,3,5,0,0,1,8,4,3,4,0,7,0,3,3,5,3,4,6,1,3,9,7,1,5,2,9,1,3,3,8,9,6,2,8,7,9,7,9,9,8,4,4,2,5,5,4,8,9,6,9,5,2,5,8,9,8,9,2,1,3,1,3,5,9,7,7,6,6,9,1,1,7,3,3,2,9,3,2,1,0,9,8,0,3,9,6,1,3,0,2,5,5,8,1,2,7,7,9,7,7,0,0,1,0,2,7,3,0,4,2,5,4,6,7,7,4,8,7,9,8,0,5,1,6,2,3,3,2,4,4,5,8,6,2,7,8,8,9,9,3,0,5,1,9,2,9,3,7,4,6,5,7,6,9,7,4,8,4,5,2,2,8,8,1,1,9,7,2,2,9,4,6,1,3,4,7,1,8,4,8,9,1,6,5,8,7,4,6,5,8,3,8,7,7,8,6,4,8,3,6,3,5,5,6,6,6,7,3,0,1,6,7,1,0,6,8,8,7,7,2,0,9,1,6,5,8,6,3,0,5,8,0,5,4,0,1,6,2,1,2,5,3,8,9,4,5,2,3,3,3,9,6,7,1,6,7,9,3,1,5,9,2,0,4,6,9,7,8,1,3,2,0,3,7,9,4,2,7,4,8,5,5,5,0,3,2,7,6,5,0,3,2,1,4,8,3,2,6,2,9,3,5,0,3,2,2,9,8,4,1,9,9,0,2,2,6,7,2,4,0,9,3,9,4,2,2,8,0,1,2,5,6,6,9,9,8,8,2,3,1,8,1,3,8,6,8,4,6,0,2,0,8,1,0,2,0,3,4,4,6,5,8,6,7,7,5,8,0,9,6,0,7,1,4,2,4,3,7,4,1,5,9,6,1,7,9,8,1,9,6,0,0,1,8,2,7,3,3,4,5,5,3,6,0,7,3,8,2,6,4,0,4,3,0,4,1,1,1,4,6,0,4,8,2,6,7,4,1,5,3,4,2,0,1,7,3,8,1,7,2,7,5,9,3,0,5,4,2,9,8,9,4,7,2,4,2,2,1,0,3,5,6,8,0,5,4,9,1,8,5,8,7,4,0,0,3,7,7,1,2,3,7,5,2,1,0,3,8,1,6,5,8,3,7,8,6,7,8,3,5,1,0,6,9,8,1,5,9,9,5,2,0,2,0,0,3,9,6,2,9,4,7,6,3,5,3,2,5,7,3,3,7,1,3,3,7,6,9,6,7,2,7,1,1,2,9,6,9,0,8,2,1,2,8,7,2,1,7,3,3,7,5,4,8,7,5,4,3,8,6,9,6,2,2,9,1,5,9,1,1,5,4,6,9,8,9,3,4,5,8,6,9,8,8,0,8,0,5,9,0,9,6,3,5,1,7,1,0,0,6,1,8,2,1,3,3,4,6,5,0,6,3,7,8,8,8,9,4,0,6,1,7,2,4,3,8,4,7,5,5,6,0,7,7,8,6,9,3,0,4,1,6,2,8,3,8,4,3,5,3,6,6,7,1,8,9,9,4,7,5,5,4,5,2,1,2,9,7,9,2,7,2,1,8,0,4,9,7,0,0,7,1,1,3,7,7,3,9,6,3,8,9,0,3,8,3,3,1,2,4,0,8,9,2,0,1,6,4,1,1,7,3,5,3,8,8,3,0,4,3,7,7,6,7,3,3,2,9,3,7,8,4,9,5,4,3,8,4,8,5,7,1,1,2,0,2,8,2,7,7,7,2,9,0,2,9,3,2,4,4,6,3,1,5,1,5,4,4,5,3,5,3,0,1,4,1,8,6,7,2,4,7,9,2,2,2,3,3,6,0,4,6,1,0,2,2,4,0,1,0,5,0,4,4,2,1,0,7,4,6,8,0,6,1,1,4,9,5,3,6,2,0,0,2,0,0,2,2,5,2,6,8,9,0,3,8,6,2,3,9,6,4,0,2,1,3,2,3,3,9,4,5,7,1,0,2,3,5,4,8,7,1,0,9,1,1,2,4,3,5,4,7,5,8,6,1,7,3,8,7,7,3,2,2,4,8,1,3,4,0,1,5,4,5,9,4,6,2,8,3,4,7,5,5,3,8,7,4,8,8,4,0,6,2,7,8,0,5,6,3,1,5,6,5,8,4,7,5,0,7,0,0,0,9,6,1,1,6,5,8,2,3,3,8,9,2,7,8,6,4,9,9,1,7,9,7,0,1,6,5,7,3,2,1,5,3,3,2,1,0,2,0,3,9,0,8,2,5,9,8,4,4,9,6,7,3,0,4,0,1,2,8,7,4,4,0,9,3,9,5,2,6,9,1,8,6,3,6,6,8,7,8,0,4,4,8,0,3,0,0,1,2,2,7,3,1,4,3,6,2,7,5,8,2,0,1,1,0,2,3,3,7,4,3,5,0,6,5,7,5,8,3,9,9,0,6,1,9,2,2,3,9,4,4,5,5,6,7,7,1,8,7,1,7,4,7,4,7,2,7,3,9,3,7,0,6,9,4,5,2,4,9,3,3,0,3,8,5,4,0,6,6,7,9,0,3,7,8,7,9,1,8,6,4,9,9,1,8,2,0,9,8,3,6,6,4,2,6,3,1,4,1,6,3,8,8,7,5,2,1,3,0,8,6,1,8,2,2,9,4,5,6,8,5,8,6,7,6,1,2,7,2,1,7,1,2,0,4,3,7,4,8,2,5,6,2,4,2,7,3,4,8,2,3,7,6,4,3,2,9,9,2,2,5,7,4,9,5,2,7,8,5,6,1,1,7,0,8,6,2,8,1,5,9,5,6,0,2,5,6,3,1,5,8,9,1,7,7,4,9,8,0,9,7,6,0,9,5,3,8,0,6,0,0,6,8,3,4,0,5,5,1,8,8,9,7,1,8,8,7,1,8,6,6,0,7,0,0,1,4,2,4,3,8,4,1,5,0,6,0,7,3,8,4,9,9,0,5,1,2,3,0,4,2,5,1,6,2,7,1,8,3,9,6,0,2,1,4,2,4,3,5,4,1,5,2,6,4,7,8,8,4,9,3,1,3,4,1,4,4,3,5,3,7,0,7,9,0,5,6,4,2,3,0,0,5,8,1,4,2,0,6,7,9,7,0,6,8,9,9,1,6,2,7,9,5,3,3,6,1,2,6,3,7,4,1,6,5,5,6,2,8,3,5,8,5,1,0,2,0,9,0,5,2,8,9,8,0,7,0,1,1,7,5,1,4,1,4,3,6,4,7,4,4,7,7,4,5,2,8,7,3,2,5,9,8,2,8,7,3,9,5,2,7,8,7,6,7,1,5,8,7,5,9,5,6,0,6,5,5,3,8,5,9,9,7,7,9,4,3,8,3,9,3,6,7,9,1,0,7,0,3,6,0,3,7,0,3,5,4,8,7,9,7,1,9,8,5,1,1,0,1,0,2,1,5,2,2,3,9,4,6,5,7,6,4,7,7,8,6,0,4,1,1,2,2,3,2,4,8,5,4,6,8,7,6,8,4,9,2,0,2,1,7,2,4,3,3,4,3,6,4,7,5,8,0,8,6,2,7,6,7,9,4,6,3,1,9,9,9,9,5,9,1,4,0,4,8,3,3,8,0,1,6,4,8,1,0,2,6,5,3,0,1,9,1,4,4,9,9,1,5,7,8,4,8,4,7,1,8,8,9,7,8,6,6,0,8,8,8,1,0,8,0,2,6,6,3,2,4,0,8,9,1,1,9,2,6,5,3,4,9,5,1,6,0,7,9,3,8,0,9,2,4,2,0,2,4,7,6,5,2,0,0,3,0,5,7,2,6,1,5,4,8,4,4,3,2,0,0,0,0,8,4,5,1,4,3,7,4,9,2,7,3,8,8,8,3,7,7,9,9,6,2,3,8,1,5,7,1,9,5,6,1,3,1,3,5,1,6,0,5,2,7,6,3,0,5,5,9,6,3,8,5,7,4,3,6,5,1,8,6,3,7,0,3,1,5,2,7,3,0,4,6,5,7,6,3,7,6,8,8,9,8,0,8,1,1,2,6,3,8,4,4,5,4,6,9,7,9,8,2,9,1,0,1,1,4,2,8,3,9,4,5,5,3,6,6,7,5,8,7,9,5,0,0,8,2,7,4,8,4,9,9,9,2,0,5,1,6,4,0,5,6,1,7,6,4,7,0,3,1,2,9,9,2,0,5,5,0,6,7,7,3,3,1,9,7,9,9,3,8,8,7,1,9,2,3,9,4,6,2,7,3,5,3,6,8,3,1,5,4,0,3,5,3,4,5,0,8,3,7,4,9,7,5,7,1,9,0,4,0,3,5,7,7,6,4,2,6,1,5,5,6,5,2,0,5,5,5,0,2,6,3,7,7,0,7,2,1,9,0,3,4,4,3,4,7,8,4,1,3,2,7,2,6,3,9,1,8,3,6,6,4,7,8,3,4,9,2,6,2,5,4,1,6,9,5,8,3,1,3,1,4,5,3,0,8,2,9,7,2,8,3,6,4,6,9,8,5,4,2,4,6,2,0,2,1,8,4,0,9,0,6,1,2,2,3,3,1,8,5,9,8,0,3,1,3,2,1,4,3,5,5,6,1,7,9,8,1,9,6,0,5,1,8,2,7,3,7,4,5,5,7,6,5,7,5,8,2,9,7,3,6,5,1,3,1,2,0,9,7,3,5,2,8,1,7,4,4,5,9,5,7,2,7,3,8,2,8,1,4,3,7,9,7,7,9,2,4,1,8,2,4,8,7,9,2,1,9,8,9,8,4,7,7,8,6,1,2,0,9,0,2,6,4,7,5,7,1,7,7,5,1,6,5,1,9,5,2,7,4,1,0,2,8,5,5,0,6,7,7,9,3,9,3,0,1,3,0,8,4,4,6,8,4,4,6,1,4,8,9,6,2,5,9,9,0,0,7,0,6,0,3,3,9,7,2,1,8,6,6,4,0,2,0,6,9,6,8,0,6,4,4,5,6,4,2,1,4,3,1,8,8,6,7,3,3,9,5,9,5,5,3,9,5,3,1,7,6,6,9,2,5,2,9,0,7,0,7,1,2,2,5,3,1,4,3,5,9,6,6,7,3,8,0,9,9,0,6,1,9,2,4,3,5,4,0,5,8,6,1,7,8,8,0,9,4,0,3,1,5,2,2,3,7,4,4,5,9,9,7,1,7,3,4,5,1,9,4,4,2,1,8,7,8,7,3,2,8,1,9,4,7,8,8,3,2,8,9,2,4,9,9,3,5,8,1,5,5,4,2,8,5,8,4,9,0,4,4,3,8,9,3,2,1,5,1,7,4,4,0,1,4,2,1,3,1,5,2,9,6,1,5,6,7,0,9,1,4,0,0,0,7,2,7,8,6,7,5,2,0,5,4,1,5,1,5,8,5,5,2,6,1,4,4,0,8,4,4,7,7,3,1,6,8,8,0,0,7,3,7,7,2,4,8,0,3,6,4,9,8,2,0,6,4,5,9,8,7,6,8,9,9,0,7,4,7,0,3,6,4,1,0,9,7,2,8,0,8,9,7,5,3,1,0,3,7,7,4,6,9,9,0,4,6,8,3,3,0,7,4,7,0,6,1,3,9,0,0,5,7,6,9,2,9,2,5,0,1,1,7,2,3,3,5,4,9,5,9,6,7,7,4,8,9,9,3,0,1,1,3,2,9,3,4,4,2,5,7,6,8,7,3,8,1,9,2,0,7,1,0,2,2,3,4,5,7,6,6,7,0,8,3,8,6,9,3,5,0,7,4,0,7,3,8,1,1,4,2,1,7,7,8,6,7,5,6,6,4,4,6,2,5,7,0,8,2,1,8,3,6,4,4,3,5,7,6,2,0,5,1,0,3,1,1,9,3,2,9,3,6,2,1,3,5,5,7,5,2,7,6,8,8,4,4,9,2,9,8,7,1,1,7,1,0,9,0,0,1,7,2,8,2,3,3,8,9,6,4,3,9,8,3,0,0,9,8,6,5,2,6,1,9,0,8,1,7,0,7,6,4,2,1,3,4,8,4,9,7,0,7,7,3,2,1,3,5,4,1,5,0,5,2,2,5,8,1,5,7,4,8,6,0,6,4,6,6,7,7,9,2,1,9,8,0,2,1,1,9,2,6,6,7,5,1,3,4,4,4,7,9,9,0,4,6,0,9,0,8,5,5,9,1,0,8,1,6,2,5,3,7,4,0,5,9,6,1,7,3,8,5,9,1,0,6,1,3,2,4,3,9,4,1,5,6,6,5,7,1,8,2,9,3,0,7,1,4,2,9,3,2,4,1,5,0,6,1,7,4,8,1,9,9,0,3,0,0,1,7,0,5,1,4,2,5,7,9,5,6,3,9,4,7,2,6,4,7,4,9,0,4,0,5,6,7,9,4,6,1,6,5,5,7,7,7,3,4,2,3,2,7,3,2,4,4,4,7,9,6,1,7,4,1,0,1,7,5,9,6,7,8,5,7,6,7,2,2,3,7,1,5,4,6,4,4,0,8,9,5,9,6,6,2,1,8,8,0,3,1,3,8,7,8,3,2,9,6,8,7,8,1,9,9,6,4,8,7,8,5,8,7,4,8,7,9,7,5,6,7,2,1,1,6,9,9,8,0,7,1,8,1,8,0,7,6,2,6,2,7,3,2,9,7,3,2,3,5,0,9,7,7,9,3,5,6,6,5,5,0,0,0,6,9,1,4,5,9,0,0,4,8,1,0,1,8,2,4,8,1,2,5,6,6,1,3,5,0,0,4,1,6,2,3,3,8,4,8,5,1,6,5,7,0,8,1,9,6,0,5,1,7,2,3,3,9,4,2,5,0,8,4,0,3,1,9,2,9,3,6,4,6,5,1,6,3,7,9,8,0,8,1,6,9,5,4,0,5,6,8,8,7,9,0,4,6,1,8,9,3,0,8,4,7,8,1,9,7,1,9,4,9,0,8,5,3,1,1,4,8,0,8,7,0,6,7,0,0,1,8,7,9,0,7,6,4,8,7,9,8,5,4,7,8,9,2,8,5,6,8,0,0,8,1,1,2,7,7,7,9,1,4,3,2,2,5,3,8,1,7,4,2,2,4,0,8,0,8,7,0,8,6,4,5,6,4,4,5,9,2,3,5,8,7,4,5,7,6,2,6,3,2,6,4,9,4,6,9,3,7,2,9,2,0,4,5,6,6,9,1,0,0,2,8,5,3,5,5,1,1,3,3,3,8,9,0,7,7,8,5,7,5,2,4,2,0,9,7,8,1,2,1,1,3,3,7,1,6,3,8,0,0,1,7,2,9,3,4,4,8,5,8,6,0,7,8,8,6,9,1,0,1,1,4,2,6,3,4,4,7,5,5,6,5,7,9,8,8,9,5,0,5,1,8,2,9,3,5,4,1,5,0,6,6,7,5,8,9,9,6,0,2,8,3,3,1,9,1,5,2,5,1,2,9,6,8,8,3,4,7,9,7,1,2,7,7,1,0,2,9,3,7,5,9,9,0,6,0,9,3,1,5,1,8,1,3,2,3,9,1,5,3,6,6,8,8,1,8,2,5,0,1,7,8,7,0,5,4,8,5,2,8,9,7,8,3,7,2,1,1,3,2,4,7,5,6,6,8,0,7,3,8,6,4,8,0,7,2,0,6,4,1,2,0,7,2,7,4,5,4,4,7,3,9,4,7,2,1,8,7,1,4,5,0,1,7,2,2,4,0,3,8,0,2,0,3,0,2,3,1,3,3,5,8,7,9,0,0,6,1,8,1,6,7,3,2,4,1,6,0,9,4,9,3,8,3,2,9,7,1,7,9,1,8,0,1,1,6,2,1,3,2,4,9,7,2,8,2,9,8,0,9,1,1,2,6,3,7,4,1,5,5,6,1,7,4,8,3,9,5,0,3,1,3,2,9,3,2,7,5,8,4,9,8,7,0,9,3,5,6,0,3,8,0,3,2,5,6,4,2,8,7,2,7,1,2,0,6,2,5,5,7,8,6,8,1,1,6,6,2,1,3,3,4,0,7,3,5,6,4,9,8,3,7,7,0,4,4,9,7,7,0,0,4,9,7,7,4,7,7,9,1,5,6,7,7,6,0,4,7,8,8,9,7,6,5,9,3,4,7,1,7,2,2,0,7,6,6,1,8,7,4,2,3,4,0,6,2,4,9,6,2,5,3,0,8,2,3,1,7,0,8,1,2,2,2,1,3,7,5,8,3,1,1,2,8,8,8,2,2,7,6,9,2,3,2,9,2,0,4,1,2,2,0,3,9,4,9,5,8,6,0,7,1,0,7,1,8,2,0,3,7,7,2,8,6,9,2,0,3,1,5,7,8,8,8,9,8,2,9,5,7,1,9,6,7,4,8,3,3,9,0,9,1,0,0,4,9,3,4,6,7,0,2,0,8,8,3,9,0,8,7,7,4,0,4,0,4,4,5,1,4,4,1,1,2,3,7,6,0,4,1,7,4,7,2,0,9,9,0,8,9,4,3,3,8,8,1,3,1,8,6,5,9,8,0,4,7,1,3,7,2,9,6,2,6,0,6,9,0,1,3,7,6,3,3,8,5,0,6,3,8,8,7,1,9,6,1,4,1,3,9,6,0,1,9,5,3,5,2,6,7,5,9,0,9,1,0,2,8,3,6,4,3,5,3,6,2,7,0,0,5,1,5,2,1,3,5,4,3,5,0,6,5,7,8,0,7,1,1,2,8,3,1,4,7,5,2,7,4,4,6,0,4,4,6,0,5,1,6,7,5,5,9,1,3,4,7,2,6,4,4,3,3,1,7,7,3,8,8,2,3,4,9,4,2,3,2,3,9,6,0,6,7,7,3,0,1,2,2,6,4,3,2,9,9,3,8,2,5,8,5,1,2,7,1,0,2,3,2,2,0,9,3,4,0,0,8,3,3,7,8,7,0,7,5,7,2,1,2,1,3,2,4,6,2,4,4,2,4,3,5,6,5,6,4,5,1,7,4,5,3,2,6,8,2,1,7,6,1,1,0,0,2,4,2,3,1,1,7,6,4,1,3,9,2,0,7,1,7,2,5,3,8,4,9,5,8,6,3,7,2,8,6,0,7,1,1,2,2,3,0,4,9,5,9,6,1,7,6,8,0,9,0,0,6,1,4,2,8,3,1,4,8,5,2,6,8,7,2,8,2,1,9,0,0,4,0,5,5,6,7,6,2,3,8,4,3,4,6,1,1,0,9,6,1,4,8,9,2,7,0,2,3,3,4,3,2,9,8,2,1,0,0,9,9,3,7,3,3,9,1,1,3,5,3,2,9,3,7,1,7,6,7,7,9,3,2,7,8,4,0,2,2,4,7,8,0,7,0,6,9,3,2,6,0,5,7,5,1,0,8,1,6,7,2,9,7,9,5,8,9,6,5,2,6,2,8,1,7,5,5,7,3,5,0,1,1,3,8,4,9,4,5,1,8,6,8,9,0,1,2,3,4,5,6,7,8,9,0,1,2,3,4,5,6,7,8,9,0,1,2,3,4,7,8,9,7,1,5,6,2,5,4,8,1,7,1,8,3,8,7,1,7,7,0,1,4,4,4,4,4,9,7,2,6,5,4,3,8,7,9,0,6,4,6,3,7,0,1,4,8,8,1,2,9,3,1,8,4,2,9,9,2,9,6,0,5,3,3,6,3,1,2,5,0,3,7,6,1,5,5,9,9,0,1,2,3,4,5,6,7,8,9,0,1,2,3,4,5,6,7,8,9,0,1,2,3,4,5,6,7,8,9,6,8,2,3,7,4,6,8,6,6,8,0,1,7,1,7,3,5,0,2,2,0,2,5,4,1,5,1,2,3,4,8,3,3,6,5,9,9,3,8,1,3,7,9,3,4,1,7,3,9,6,7,4,9,7,0,9,6,0,6,1,0,5,8,5,0,1,0,9,4,5,9,7,1,9,6,8,9,2,8,5,0,1,2,3,4,5,6,7,8,9,0,1,2,3,4,5,6,7,8,9,0,1,2,3,4,9,0,5,6,8,3,9,0,2,3,3,3,9,5,6,4,4,2,5,4,3,9,6,8,7,9,1,5,2,6,3,4,4,1,6,4,9,6,5,1,2,6,6,7,8,8,1,8,3,7,1,2,7,0,7,5,0,0,1,5,0,0,4,8,3,1,8,2,9,9,5,2,6,4,8,2,5,4,1,7,1,4,3,9,7,1,2,6,0,7,3,0,1,2,3,4,7,8,9,0,1,2,3,4,5,6,7,8,9,0,1,2,3,4,5,6,7,8,9,7,0,6,0,7,3,7,3,7,9,7,4,0,2,6,5,6,5,2,9,5,3,9,8,3,4,0,5,4,6,3,4,8,0,6,4,8,1,3,4,0,1,9,2,3,7,9,1,2,5,1,7,2,8,7,0,1,9,6,4,1,2,3,7,0,2,1,3,1,7,2,1,6,8,0,8,9,1,6,0,1,2,3,4,5,6,7,8,9,0,1,2,3,4,7,8,9,0,1,2,3,4,5,6,7,8,6,4,2,6,4,7,5,5,4,7,8,9,2,9,3,9,3,8,2,0,5,0,7,0,4,2,6,5,3,5,3,8,0,0,3,4,1,5,3,0,8,3,0,6,2,7,1,1,8,1,7,1,3,8,9,7,6,7,4,1,6,7,5,1,7,1,9,8,0,6,9,4,9,9,3,7,1,9,2,2,5,3,7,8,2,3,4,5,6,7,8,9,0,1,2,3,4,5,6,7,0,1,2,3,4,5,6,7,8,9,8,1,0,5,5,1,9,0,4,1,9,3,8,4,7,7,8,5,0,6,5,5,3,3,3,9,8,1,4,0,6,1,0,0,6,2,1,1,3,2,8,8,7,8,4,6,0,2,0,3,6,8,7,1,5,9,9,3,2,4,9,4,6,5,3,2,5,5,9,4,1,6,5,0,1,2,3,4,5,6,7,8,9,0,1,2,3,4,5,6,7,8,9,0,1,2,3,4,5,6,7,8,9,6,4,2,6,4,7,5,5,4,7,8,9,2,9,3,9,3,8,2,0,9,8,0,5,6,0,1,0,4,2,6,5,5,5,4,3,4,1,5,3,0,8,3,0,6,2,7,1,1,8,1,7,1,3,8,5,4,2,0,9,7,6,7,4,1,6,8,4,7,5,1,2,6,7,1,9,8,0,6,9,4,9,9,6,2,3,7,1,9,2,2,5,3,7,8,0,1,2,3,4,5,6,7,8,0,1,2,3,4,5,6,7,8,0,1,2,3,4,5,6,7,8,9,2,1,2,1,3,9,9,8,5,3,7,0,7,7,5,7,9,9,4,7,0,3,4,1,4,4,7,5,8,1,4,8,4,1,8,6,6,4,6,3,5,7,2,5,9,2,6,2,1,2,0,8,3,8,3,0,8,7,4,9,5,0,9,7,4,9,1,6,2,7,6,1,8,6,1,0,3,6,2,1,4,0,1,2,3,4,7,8,9,0,1,2,3,4,7,8,9,0,1,2,3,4,5,6,7,8,7,4,3,1,8,6,1,9,2,4,0,9,9,3,7,7,9,1,8,4,7,5,8,5,3,2,2,0,5,8,6,0,3,8,1,0,3,0,4,7,4,9,2,9,1,2,1,7,1,6,7,3,3,6,2,8,7,6,4,9,8,8,2,9,6,5,5,9,5,3,7,4,7,6,0,0,4,6,6,9,0,1,1,3,2,1,0,0,1,2,3,4,5,6,7,8,9,0,1,2,3,4,5,6,7,8,9,0,1,2,3,4,5,6,7,8,9,4,2,0,2,1,5,9,6,5,9,3,5,0,7,1,1,5,3,0,7,9,6,1,6,7,4,9,5,7,9,8,5,6,2,4,8,9,2,2,8,0,6,4,3,3,1,2,4,1,5,8,9,6,9,3,4,0,3,9,0,2,7,1,1,0,7,6,2,2,7,6,0,6,9,4,8,4,3,3,7,8,1,0,4,5,8,3,0,6,8,3,7,8,5,7,8,2,3,4,6,7,8,9,0,1,2,5,6,7,8,9,0,1,2,3,4,5,6,8,7,5,7,3,3,8,6,5,4,0,9,3,2,2,3,0,6,4,3,7,6,9,2,2,3,5,5,0,7,2,3,4,0,0,5,1,8,9,0,8,9,6,5,6,7,5,3,5,3,0,1,2,3,4,5,6,7,8,9,0,1,2,3,4,5,6,7,9,0,1,2,3,4,5,6,7,8,9,1,3,5,9,4,1,7,7,2,1,4,8,3,8,2,9,3,8,5,4,8,8,9,7,5,4,3,9,2,5,7,4,1,2,3,6,0,1,0,0,2,8,7,2,5,1,1,8,5,6,4,0,4,7,3,6,8,0,3,7,6,9,2,6,5,8,6,9,0,4,0,6,1,9,2,0,9,5,1,3,7,6,9,4,8,3,7,7,6,3,0,5,6,2,2,0,1,2,3,4,5,6,7,8,9,0,1,2,3,4,5,6,7,8,9,0,1,2,3,4,5,6,7,8,9,5,6,6,0,8,3,7,9,4,7,1,9,1,7,1,4,1,7,5,7,1,3,3,1,6,9,7,4,3,0,2,5,2,6,0,8,4,8,1,5,0,6,6,3,4,7,5,7,2,2,0,0,1,7,7,9,5,9,8,9,6,8,3,6,1,2,9,5,2,5,2,6,2,4,8,4,6,5,0,1,2,3,4,5,6,7,8,9,0,1,2,3,4,5,6,7,8,9,0,1,2,4,5,6,7,8,0,4,0,1,7,5,1,4,2,8,4,3,1,7,8,2,4,3,3,6,9,9,5,8,6,7,0,6,2,6,3,9,1,7,4,8,8,9,0,3,0,5,2,9,4,1,0,3,7,5,8,7,7,8,2,9,5,5,1,2,6,4,2,5,2,3,6,0,0,7,5,2,8,1,6,1,0,4,3,1,6,1,9,0,1,2,3,4,5,6,7,0,1,2,3,4,6,7,8,0,1,2,3,4,7,8,9,2,2,4,0,7,3,5,4,1,8,0,5,2,7,2,3,6,2,1,7,7,9,2,4,6,7,7,5,9,9,1,8,6,4,6,0,9,2,6,4,3,9,0,8,8,9,4,7,1,3,6,9,4,1,7,6,9,3,3,7,4,1,9,1,0,6,0,1,2,4,5,6,7,8,9,0,1,2,3,4,5,6,7,8,9,0,1,2,3,4,5,6,7,8,9,3,2,9,3,2,1,4,5,5,2,3,2,1,3,9,7,2,1,2,8,9,1,8,8,7,0,6,7,7,8,7,5,0,6,1,5,7,4,6,1,2,7,9,9,0,3,8,4,4,1,8,6,5,0,0,3,7,1,6,4,2,6,6,0,4,5,4,1,3,8,6,3,9,9,5,9,3,6,4,7,6,2,2,0,9,4,0,1,2,3,4,5,6,7,8,9,0,1,2,3,4,8,9,0,1,2,3,4,5,6,7,8,9,6,0,3,4,1,4,0,7,8,7,7,9,0,4,9,4,0,5,8,5,9,8,8,4,0,7,1,3,5,3,1,6,5,3,8,7,3,1,6,8,5,9,2,2,0,9,2,4,6,7,3,1,3,6,6,2,1,2,6,0,7,8,9,2,9,5,1,8,3,5,6,8],\"legendgroup\":\"\",\"name\":\"\",\"showlegend\":true,\"type\":\"pie\"}],                        {\"template\":{\"data\":{\"bar\":[{\"error_x\":{\"color\":\"#2a3f5f\"},\"error_y\":{\"color\":\"#2a3f5f\"},\"marker\":{\"line\":{\"color\":\"#E5ECF6\",\"width\":0.5},\"pattern\":{\"fillmode\":\"overlay\",\"size\":10,\"solidity\":0.2}},\"type\":\"bar\"}],\"barpolar\":[{\"marker\":{\"line\":{\"color\":\"#E5ECF6\",\"width\":0.5},\"pattern\":{\"fillmode\":\"overlay\",\"size\":10,\"solidity\":0.2}},\"type\":\"barpolar\"}],\"carpet\":[{\"aaxis\":{\"endlinecolor\":\"#2a3f5f\",\"gridcolor\":\"white\",\"linecolor\":\"white\",\"minorgridcolor\":\"white\",\"startlinecolor\":\"#2a3f5f\"},\"baxis\":{\"endlinecolor\":\"#2a3f5f\",\"gridcolor\":\"white\",\"linecolor\":\"white\",\"minorgridcolor\":\"white\",\"startlinecolor\":\"#2a3f5f\"},\"type\":\"carpet\"}],\"choropleth\":[{\"colorbar\":{\"outlinewidth\":0,\"ticks\":\"\"},\"type\":\"choropleth\"}],\"contour\":[{\"colorbar\":{\"outlinewidth\":0,\"ticks\":\"\"},\"colorscale\":[[0.0,\"#0d0887\"],[0.1111111111111111,\"#46039f\"],[0.2222222222222222,\"#7201a8\"],[0.3333333333333333,\"#9c179e\"],[0.4444444444444444,\"#bd3786\"],[0.5555555555555556,\"#d8576b\"],[0.6666666666666666,\"#ed7953\"],[0.7777777777777778,\"#fb9f3a\"],[0.8888888888888888,\"#fdca26\"],[1.0,\"#f0f921\"]],\"type\":\"contour\"}],\"contourcarpet\":[{\"colorbar\":{\"outlinewidth\":0,\"ticks\":\"\"},\"type\":\"contourcarpet\"}],\"heatmap\":[{\"colorbar\":{\"outlinewidth\":0,\"ticks\":\"\"},\"colorscale\":[[0.0,\"#0d0887\"],[0.1111111111111111,\"#46039f\"],[0.2222222222222222,\"#7201a8\"],[0.3333333333333333,\"#9c179e\"],[0.4444444444444444,\"#bd3786\"],[0.5555555555555556,\"#d8576b\"],[0.6666666666666666,\"#ed7953\"],[0.7777777777777778,\"#fb9f3a\"],[0.8888888888888888,\"#fdca26\"],[1.0,\"#f0f921\"]],\"type\":\"heatmap\"}],\"heatmapgl\":[{\"colorbar\":{\"outlinewidth\":0,\"ticks\":\"\"},\"colorscale\":[[0.0,\"#0d0887\"],[0.1111111111111111,\"#46039f\"],[0.2222222222222222,\"#7201a8\"],[0.3333333333333333,\"#9c179e\"],[0.4444444444444444,\"#bd3786\"],[0.5555555555555556,\"#d8576b\"],[0.6666666666666666,\"#ed7953\"],[0.7777777777777778,\"#fb9f3a\"],[0.8888888888888888,\"#fdca26\"],[1.0,\"#f0f921\"]],\"type\":\"heatmapgl\"}],\"histogram\":[{\"marker\":{\"pattern\":{\"fillmode\":\"overlay\",\"size\":10,\"solidity\":0.2}},\"type\":\"histogram\"}],\"histogram2d\":[{\"colorbar\":{\"outlinewidth\":0,\"ticks\":\"\"},\"colorscale\":[[0.0,\"#0d0887\"],[0.1111111111111111,\"#46039f\"],[0.2222222222222222,\"#7201a8\"],[0.3333333333333333,\"#9c179e\"],[0.4444444444444444,\"#bd3786\"],[0.5555555555555556,\"#d8576b\"],[0.6666666666666666,\"#ed7953\"],[0.7777777777777778,\"#fb9f3a\"],[0.8888888888888888,\"#fdca26\"],[1.0,\"#f0f921\"]],\"type\":\"histogram2d\"}],\"histogram2dcontour\":[{\"colorbar\":{\"outlinewidth\":0,\"ticks\":\"\"},\"colorscale\":[[0.0,\"#0d0887\"],[0.1111111111111111,\"#46039f\"],[0.2222222222222222,\"#7201a8\"],[0.3333333333333333,\"#9c179e\"],[0.4444444444444444,\"#bd3786\"],[0.5555555555555556,\"#d8576b\"],[0.6666666666666666,\"#ed7953\"],[0.7777777777777778,\"#fb9f3a\"],[0.8888888888888888,\"#fdca26\"],[1.0,\"#f0f921\"]],\"type\":\"histogram2dcontour\"}],\"mesh3d\":[{\"colorbar\":{\"outlinewidth\":0,\"ticks\":\"\"},\"type\":\"mesh3d\"}],\"parcoords\":[{\"line\":{\"colorbar\":{\"outlinewidth\":0,\"ticks\":\"\"}},\"type\":\"parcoords\"}],\"pie\":[{\"automargin\":true,\"type\":\"pie\"}],\"scatter\":[{\"marker\":{\"colorbar\":{\"outlinewidth\":0,\"ticks\":\"\"}},\"type\":\"scatter\"}],\"scatter3d\":[{\"line\":{\"colorbar\":{\"outlinewidth\":0,\"ticks\":\"\"}},\"marker\":{\"colorbar\":{\"outlinewidth\":0,\"ticks\":\"\"}},\"type\":\"scatter3d\"}],\"scattercarpet\":[{\"marker\":{\"colorbar\":{\"outlinewidth\":0,\"ticks\":\"\"}},\"type\":\"scattercarpet\"}],\"scattergeo\":[{\"marker\":{\"colorbar\":{\"outlinewidth\":0,\"ticks\":\"\"}},\"type\":\"scattergeo\"}],\"scattergl\":[{\"marker\":{\"colorbar\":{\"outlinewidth\":0,\"ticks\":\"\"}},\"type\":\"scattergl\"}],\"scattermapbox\":[{\"marker\":{\"colorbar\":{\"outlinewidth\":0,\"ticks\":\"\"}},\"type\":\"scattermapbox\"}],\"scatterpolar\":[{\"marker\":{\"colorbar\":{\"outlinewidth\":0,\"ticks\":\"\"}},\"type\":\"scatterpolar\"}],\"scatterpolargl\":[{\"marker\":{\"colorbar\":{\"outlinewidth\":0,\"ticks\":\"\"}},\"type\":\"scatterpolargl\"}],\"scatterternary\":[{\"marker\":{\"colorbar\":{\"outlinewidth\":0,\"ticks\":\"\"}},\"type\":\"scatterternary\"}],\"surface\":[{\"colorbar\":{\"outlinewidth\":0,\"ticks\":\"\"},\"colorscale\":[[0.0,\"#0d0887\"],[0.1111111111111111,\"#46039f\"],[0.2222222222222222,\"#7201a8\"],[0.3333333333333333,\"#9c179e\"],[0.4444444444444444,\"#bd3786\"],[0.5555555555555556,\"#d8576b\"],[0.6666666666666666,\"#ed7953\"],[0.7777777777777778,\"#fb9f3a\"],[0.8888888888888888,\"#fdca26\"],[1.0,\"#f0f921\"]],\"type\":\"surface\"}],\"table\":[{\"cells\":{\"fill\":{\"color\":\"#EBF0F8\"},\"line\":{\"color\":\"white\"}},\"header\":{\"fill\":{\"color\":\"#C8D4E3\"},\"line\":{\"color\":\"white\"}},\"type\":\"table\"}]},\"layout\":{\"annotationdefaults\":{\"arrowcolor\":\"#2a3f5f\",\"arrowhead\":0,\"arrowwidth\":1},\"autotypenumbers\":\"strict\",\"coloraxis\":{\"colorbar\":{\"outlinewidth\":0,\"ticks\":\"\"}},\"colorscale\":{\"diverging\":[[0,\"#8e0152\"],[0.1,\"#c51b7d\"],[0.2,\"#de77ae\"],[0.3,\"#f1b6da\"],[0.4,\"#fde0ef\"],[0.5,\"#f7f7f7\"],[0.6,\"#e6f5d0\"],[0.7,\"#b8e186\"],[0.8,\"#7fbc41\"],[0.9,\"#4d9221\"],[1,\"#276419\"]],\"sequential\":[[0.0,\"#0d0887\"],[0.1111111111111111,\"#46039f\"],[0.2222222222222222,\"#7201a8\"],[0.3333333333333333,\"#9c179e\"],[0.4444444444444444,\"#bd3786\"],[0.5555555555555556,\"#d8576b\"],[0.6666666666666666,\"#ed7953\"],[0.7777777777777778,\"#fb9f3a\"],[0.8888888888888888,\"#fdca26\"],[1.0,\"#f0f921\"]],\"sequentialminus\":[[0.0,\"#0d0887\"],[0.1111111111111111,\"#46039f\"],[0.2222222222222222,\"#7201a8\"],[0.3333333333333333,\"#9c179e\"],[0.4444444444444444,\"#bd3786\"],[0.5555555555555556,\"#d8576b\"],[0.6666666666666666,\"#ed7953\"],[0.7777777777777778,\"#fb9f3a\"],[0.8888888888888888,\"#fdca26\"],[1.0,\"#f0f921\"]]},\"colorway\":[\"#636efa\",\"#EF553B\",\"#00cc96\",\"#ab63fa\",\"#FFA15A\",\"#19d3f3\",\"#FF6692\",\"#B6E880\",\"#FF97FF\",\"#FECB52\"],\"font\":{\"color\":\"#2a3f5f\"},\"geo\":{\"bgcolor\":\"white\",\"lakecolor\":\"white\",\"landcolor\":\"#E5ECF6\",\"showlakes\":true,\"showland\":true,\"subunitcolor\":\"white\"},\"hoverlabel\":{\"align\":\"left\"},\"hovermode\":\"closest\",\"mapbox\":{\"style\":\"light\"},\"paper_bgcolor\":\"white\",\"plot_bgcolor\":\"#E5ECF6\",\"polar\":{\"angularaxis\":{\"gridcolor\":\"white\",\"linecolor\":\"white\",\"ticks\":\"\"},\"bgcolor\":\"#E5ECF6\",\"radialaxis\":{\"gridcolor\":\"white\",\"linecolor\":\"white\",\"ticks\":\"\"}},\"scene\":{\"xaxis\":{\"backgroundcolor\":\"#E5ECF6\",\"gridcolor\":\"white\",\"gridwidth\":2,\"linecolor\":\"white\",\"showbackground\":true,\"ticks\":\"\",\"zerolinecolor\":\"white\"},\"yaxis\":{\"backgroundcolor\":\"#E5ECF6\",\"gridcolor\":\"white\",\"gridwidth\":2,\"linecolor\":\"white\",\"showbackground\":true,\"ticks\":\"\",\"zerolinecolor\":\"white\"},\"zaxis\":{\"backgroundcolor\":\"#E5ECF6\",\"gridcolor\":\"white\",\"gridwidth\":2,\"linecolor\":\"white\",\"showbackground\":true,\"ticks\":\"\",\"zerolinecolor\":\"white\"}},\"shapedefaults\":{\"line\":{\"color\":\"#2a3f5f\"}},\"ternary\":{\"aaxis\":{\"gridcolor\":\"white\",\"linecolor\":\"white\",\"ticks\":\"\"},\"baxis\":{\"gridcolor\":\"white\",\"linecolor\":\"white\",\"ticks\":\"\"},\"bgcolor\":\"#E5ECF6\",\"caxis\":{\"gridcolor\":\"white\",\"linecolor\":\"white\",\"ticks\":\"\"}},\"title\":{\"x\":0.05},\"xaxis\":{\"automargin\":true,\"gridcolor\":\"white\",\"linecolor\":\"white\",\"ticks\":\"\",\"title\":{\"standoff\":15},\"zerolinecolor\":\"white\",\"zerolinewidth\":2},\"yaxis\":{\"automargin\":true,\"gridcolor\":\"white\",\"linecolor\":\"white\",\"ticks\":\"\",\"title\":{\"standoff\":15},\"zerolinecolor\":\"white\",\"zerolinewidth\":2}}},\"legend\":{\"tracegroupgap\":0},\"margin\":{\"t\":60}},                        {\"responsive\": true}                    ).then(function(){\n",
       "                            \n",
       "var gd = document.getElementById('d6524100-bf68-49d3-8f77-7f708f6c82cd');\n",
       "var x = new MutationObserver(function (mutations, observer) {{\n",
       "        var display = window.getComputedStyle(gd).display;\n",
       "        if (!display || display === 'none') {{\n",
       "            console.log([gd, 'removed!']);\n",
       "            Plotly.purge(gd);\n",
       "            observer.disconnect();\n",
       "        }}\n",
       "}});\n",
       "\n",
       "// Listen for the removal of the full notebook cells\n",
       "var notebookContainer = gd.closest('#notebook-container');\n",
       "if (notebookContainer) {{\n",
       "    x.observe(notebookContainer, {childList: true});\n",
       "}}\n",
       "\n",
       "// Listen for the clearing of the current output cell\n",
       "var outputEl = gd.closest('.output');\n",
       "if (outputEl) {{\n",
       "    x.observe(outputEl, {childList: true});\n",
       "}}\n",
       "\n",
       "                        })                };                            </script>        </div>\n",
       "</body>\n",
       "</html>"
      ]
     },
     "metadata": {},
     "output_type": "display_data"
    }
   ],
   "source": [
    "px.pie(train_df, names=\"label\")"
   ]
  },
  {
   "cell_type": "code",
   "execution_count": 8,
   "id": "9f3a5e3b",
   "metadata": {
    "id": "9f3a5e3b"
   },
   "outputs": [],
   "source": [
    "X_train = train_df.drop(['label'], axis=1)\n",
    "y_train = train_df['label']\n",
    "X_test = test_df.drop(['label'], axis=1)\n",
    "y_test = test_df['label']"
   ]
  },
  {
   "cell_type": "code",
   "execution_count": 9,
   "id": "6f0f984c",
   "metadata": {
    "id": "6f0f984c"
   },
   "outputs": [],
   "source": [
    "del train_df\n",
    "del test_df"
   ]
  },
  {
   "cell_type": "code",
   "execution_count": 10,
   "id": "01609f89",
   "metadata": {
    "colab": {
     "base_uri": "https://localhost:8080/"
    },
    "id": "01609f89",
    "outputId": "2c152b42-e2e4-4852-d44d-42d1557bb604"
   },
   "outputs": [
    {
     "name": "stdout",
     "output_type": "stream",
     "text": [
      "X_train_shape: (60000, 784)\n",
      "Y_train_shape: (60000,)\n",
      "X_test_shape: (10000, 784)\n",
      "Y_test_shape: (10000,)\n"
     ]
    }
   ],
   "source": [
    "print(\"X_train_shape:\",X_train.shape)\n",
    "print(\"Y_train_shape:\",y_train.shape)\n",
    "print(\"X_test_shape:\",X_test.shape)\n",
    "print(\"Y_test_shape:\",y_test.shape)"
   ]
  },
  {
   "cell_type": "code",
   "execution_count": 11,
   "id": "96926664",
   "metadata": {
    "colab": {
     "base_uri": "https://localhost:8080/",
     "height": 542
    },
    "id": "96926664",
    "outputId": "5e9c3560-781f-4fa6-c1c3-c951cc8f309f"
   },
   "outputs": [
    {
     "data": {
      "text/html": [
       "<html>\n",
       "<head><meta charset=\"utf-8\" /></head>\n",
       "<body>\n",
       "    <div>            <script src=\"https://cdnjs.cloudflare.com/ajax/libs/mathjax/2.7.5/MathJax.js?config=TeX-AMS-MML_SVG\"></script><script type=\"text/javascript\">if (window.MathJax) {MathJax.Hub.Config({SVG: {font: \"STIX-Web\"}});}</script>                <script type=\"text/javascript\">window.PlotlyConfig = {MathJaxConfig: 'local'};</script>\n",
       "        <script src=\"https://cdn.plot.ly/plotly-2.8.3.min.js\"></script>                <div id=\"fce6acd4-f962-4155-9614-42ef408837e0\" class=\"plotly-graph-div\" style=\"height:525px; width:100%;\"></div>            <script type=\"text/javascript\">                                    window.PLOTLYENV=window.PLOTLYENV || {};                                    if (document.getElementById(\"fce6acd4-f962-4155-9614-42ef408837e0\")) {                    Plotly.newPlot(                        \"fce6acd4-f962-4155-9614-42ef408837e0\",                        [{\"coloraxis\":\"coloraxis\",\"name\":\"0\",\"z\":[[0,0,0,0,0,0,0,0,0,0,0,0,0,0,0,0,0,0,0,0,0,0,0,0,0,0,0,0],[0,0,0,0,0,0,0,0,0,0,0,0,0,0,0,0,0,0,0,0,0,0,0,0,0,0,0,0],[0,0,0,0,0,0,0,0,0,0,0,0,0,0,0,0,0,0,0,0,0,0,0,0,0,0,0,0],[0,0,0,0,0,0,0,0,0,0,0,0,0,0,0,0,0,0,0,0,0,0,0,0,0,0,0,0],[0,0,0,0,0,0,0,0,0,0,0,0,0,0,0,0,0,0,0,0,0,0,0,0,0,0,0,0],[0,0,0,0,0,0,0,0,0,0,0,0,0,0,0,0,0,0,0,0,0,0,0,0,0,0,0,0],[0,0,0,0,0,0,0,0,0,0,0,0,0,0,0,0,0,0,0,0,0,0,0,0,0,0,0,0],[0,0,0,0,0,0,0,0,0,15,18,131,202,254,254,254,255,202,75,0,0,0,0,0,0,0,0,0],[0,0,0,0,0,0,0,0,10,214,253,253,253,253,253,253,253,253,241,5,114,115,0,0,0,0,0,0],[0,0,0,0,0,0,0,0,151,253,253,253,253,220,172,82,127,249,249,181,253,163,0,0,0,0,0,0],[0,0,0,0,0,0,0,0,48,89,240,253,202,24,0,0,0,231,253,253,240,51,0,0,0,0,0,0],[0,0,0,0,0,0,0,0,0,185,253,207,21,0,0,0,34,239,253,253,110,0,0,0,0,0,0,0],[0,0,0,0,0,0,0,0,114,248,208,20,0,0,0,0,95,253,253,241,51,0,0,0,0,0,0,0],[0,0,0,0,0,0,0,52,251,251,89,0,0,0,2,42,228,253,253,109,0,0,0,0,0,0,0,0],[0,0,0,0,0,0,0,54,253,164,0,0,0,15,132,253,253,253,241,0,0,0,0,0,0,0,0,0],[0,0,0,0,0,0,0,54,253,220,55,45,160,219,253,221,191,253,241,0,0,0,0,0,0,0,0,0],[0,0,0,0,0,0,0,16,110,243,253,253,220,194,112,18,213,253,158,0,0,0,0,0,0,0,0,0],[0,0,0,0,0,0,0,0,0,48,108,64,26,0,0,0,213,253,32,0,0,0,0,0,0,0,0,0],[0,0,0,0,0,0,0,0,0,0,0,0,0,0,0,65,247,211,3,0,0,0,0,0,0,0,0,0],[0,0,0,0,0,0,0,0,0,0,0,0,0,0,0,129,253,141,0,0,0,0,0,0,0,0,0,0],[0,0,0,0,0,0,0,0,0,0,0,0,0,0,31,225,253,141,0,0,0,0,0,0,0,0,0,0],[0,0,0,0,0,0,0,0,0,0,0,0,0,0,60,253,253,72,0,0,0,0,0,0,0,0,0,0],[0,0,0,0,0,0,0,0,0,0,0,0,0,0,136,253,169,8,0,0,0,0,0,0,0,0,0,0],[0,0,0,0,0,0,0,0,0,0,0,0,0,0,177,253,41,0,0,0,0,0,0,0,0,0,0,0],[0,0,0,0,0,0,0,0,0,0,0,0,0,33,238,253,41,0,0,0,0,0,0,0,0,0,0,0],[0,0,0,0,0,0,0,0,0,0,0,0,0,42,253,253,41,0,0,0,0,0,0,0,0,0,0,0],[0,0,0,0,0,0,0,0,0,0,0,0,0,3,182,217,22,0,0,0,0,0,0,0,0,0,0,0],[0,0,0,0,0,0,0,0,0,0,0,0,0,0,0,0,0,0,0,0,0,0,0,0,0,0,0,0]],\"type\":\"heatmap\",\"xaxis\":\"x\",\"yaxis\":\"y\",\"hovertemplate\":\"x: %{x}<br>y: %{y}<br>color: %{z}<extra></extra>\"}],                        {\"template\":{\"data\":{\"bar\":[{\"error_x\":{\"color\":\"#2a3f5f\"},\"error_y\":{\"color\":\"#2a3f5f\"},\"marker\":{\"line\":{\"color\":\"#E5ECF6\",\"width\":0.5},\"pattern\":{\"fillmode\":\"overlay\",\"size\":10,\"solidity\":0.2}},\"type\":\"bar\"}],\"barpolar\":[{\"marker\":{\"line\":{\"color\":\"#E5ECF6\",\"width\":0.5},\"pattern\":{\"fillmode\":\"overlay\",\"size\":10,\"solidity\":0.2}},\"type\":\"barpolar\"}],\"carpet\":[{\"aaxis\":{\"endlinecolor\":\"#2a3f5f\",\"gridcolor\":\"white\",\"linecolor\":\"white\",\"minorgridcolor\":\"white\",\"startlinecolor\":\"#2a3f5f\"},\"baxis\":{\"endlinecolor\":\"#2a3f5f\",\"gridcolor\":\"white\",\"linecolor\":\"white\",\"minorgridcolor\":\"white\",\"startlinecolor\":\"#2a3f5f\"},\"type\":\"carpet\"}],\"choropleth\":[{\"colorbar\":{\"outlinewidth\":0,\"ticks\":\"\"},\"type\":\"choropleth\"}],\"contour\":[{\"colorbar\":{\"outlinewidth\":0,\"ticks\":\"\"},\"colorscale\":[[0.0,\"#0d0887\"],[0.1111111111111111,\"#46039f\"],[0.2222222222222222,\"#7201a8\"],[0.3333333333333333,\"#9c179e\"],[0.4444444444444444,\"#bd3786\"],[0.5555555555555556,\"#d8576b\"],[0.6666666666666666,\"#ed7953\"],[0.7777777777777778,\"#fb9f3a\"],[0.8888888888888888,\"#fdca26\"],[1.0,\"#f0f921\"]],\"type\":\"contour\"}],\"contourcarpet\":[{\"colorbar\":{\"outlinewidth\":0,\"ticks\":\"\"},\"type\":\"contourcarpet\"}],\"heatmap\":[{\"colorbar\":{\"outlinewidth\":0,\"ticks\":\"\"},\"colorscale\":[[0.0,\"#0d0887\"],[0.1111111111111111,\"#46039f\"],[0.2222222222222222,\"#7201a8\"],[0.3333333333333333,\"#9c179e\"],[0.4444444444444444,\"#bd3786\"],[0.5555555555555556,\"#d8576b\"],[0.6666666666666666,\"#ed7953\"],[0.7777777777777778,\"#fb9f3a\"],[0.8888888888888888,\"#fdca26\"],[1.0,\"#f0f921\"]],\"type\":\"heatmap\"}],\"heatmapgl\":[{\"colorbar\":{\"outlinewidth\":0,\"ticks\":\"\"},\"colorscale\":[[0.0,\"#0d0887\"],[0.1111111111111111,\"#46039f\"],[0.2222222222222222,\"#7201a8\"],[0.3333333333333333,\"#9c179e\"],[0.4444444444444444,\"#bd3786\"],[0.5555555555555556,\"#d8576b\"],[0.6666666666666666,\"#ed7953\"],[0.7777777777777778,\"#fb9f3a\"],[0.8888888888888888,\"#fdca26\"],[1.0,\"#f0f921\"]],\"type\":\"heatmapgl\"}],\"histogram\":[{\"marker\":{\"pattern\":{\"fillmode\":\"overlay\",\"size\":10,\"solidity\":0.2}},\"type\":\"histogram\"}],\"histogram2d\":[{\"colorbar\":{\"outlinewidth\":0,\"ticks\":\"\"},\"colorscale\":[[0.0,\"#0d0887\"],[0.1111111111111111,\"#46039f\"],[0.2222222222222222,\"#7201a8\"],[0.3333333333333333,\"#9c179e\"],[0.4444444444444444,\"#bd3786\"],[0.5555555555555556,\"#d8576b\"],[0.6666666666666666,\"#ed7953\"],[0.7777777777777778,\"#fb9f3a\"],[0.8888888888888888,\"#fdca26\"],[1.0,\"#f0f921\"]],\"type\":\"histogram2d\"}],\"histogram2dcontour\":[{\"colorbar\":{\"outlinewidth\":0,\"ticks\":\"\"},\"colorscale\":[[0.0,\"#0d0887\"],[0.1111111111111111,\"#46039f\"],[0.2222222222222222,\"#7201a8\"],[0.3333333333333333,\"#9c179e\"],[0.4444444444444444,\"#bd3786\"],[0.5555555555555556,\"#d8576b\"],[0.6666666666666666,\"#ed7953\"],[0.7777777777777778,\"#fb9f3a\"],[0.8888888888888888,\"#fdca26\"],[1.0,\"#f0f921\"]],\"type\":\"histogram2dcontour\"}],\"mesh3d\":[{\"colorbar\":{\"outlinewidth\":0,\"ticks\":\"\"},\"type\":\"mesh3d\"}],\"parcoords\":[{\"line\":{\"colorbar\":{\"outlinewidth\":0,\"ticks\":\"\"}},\"type\":\"parcoords\"}],\"pie\":[{\"automargin\":true,\"type\":\"pie\"}],\"scatter\":[{\"marker\":{\"colorbar\":{\"outlinewidth\":0,\"ticks\":\"\"}},\"type\":\"scatter\"}],\"scatter3d\":[{\"line\":{\"colorbar\":{\"outlinewidth\":0,\"ticks\":\"\"}},\"marker\":{\"colorbar\":{\"outlinewidth\":0,\"ticks\":\"\"}},\"type\":\"scatter3d\"}],\"scattercarpet\":[{\"marker\":{\"colorbar\":{\"outlinewidth\":0,\"ticks\":\"\"}},\"type\":\"scattercarpet\"}],\"scattergeo\":[{\"marker\":{\"colorbar\":{\"outlinewidth\":0,\"ticks\":\"\"}},\"type\":\"scattergeo\"}],\"scattergl\":[{\"marker\":{\"colorbar\":{\"outlinewidth\":0,\"ticks\":\"\"}},\"type\":\"scattergl\"}],\"scattermapbox\":[{\"marker\":{\"colorbar\":{\"outlinewidth\":0,\"ticks\":\"\"}},\"type\":\"scattermapbox\"}],\"scatterpolar\":[{\"marker\":{\"colorbar\":{\"outlinewidth\":0,\"ticks\":\"\"}},\"type\":\"scatterpolar\"}],\"scatterpolargl\":[{\"marker\":{\"colorbar\":{\"outlinewidth\":0,\"ticks\":\"\"}},\"type\":\"scatterpolargl\"}],\"scatterternary\":[{\"marker\":{\"colorbar\":{\"outlinewidth\":0,\"ticks\":\"\"}},\"type\":\"scatterternary\"}],\"surface\":[{\"colorbar\":{\"outlinewidth\":0,\"ticks\":\"\"},\"colorscale\":[[0.0,\"#0d0887\"],[0.1111111111111111,\"#46039f\"],[0.2222222222222222,\"#7201a8\"],[0.3333333333333333,\"#9c179e\"],[0.4444444444444444,\"#bd3786\"],[0.5555555555555556,\"#d8576b\"],[0.6666666666666666,\"#ed7953\"],[0.7777777777777778,\"#fb9f3a\"],[0.8888888888888888,\"#fdca26\"],[1.0,\"#f0f921\"]],\"type\":\"surface\"}],\"table\":[{\"cells\":{\"fill\":{\"color\":\"#EBF0F8\"},\"line\":{\"color\":\"white\"}},\"header\":{\"fill\":{\"color\":\"#C8D4E3\"},\"line\":{\"color\":\"white\"}},\"type\":\"table\"}]},\"layout\":{\"annotationdefaults\":{\"arrowcolor\":\"#2a3f5f\",\"arrowhead\":0,\"arrowwidth\":1},\"autotypenumbers\":\"strict\",\"coloraxis\":{\"colorbar\":{\"outlinewidth\":0,\"ticks\":\"\"}},\"colorscale\":{\"diverging\":[[0,\"#8e0152\"],[0.1,\"#c51b7d\"],[0.2,\"#de77ae\"],[0.3,\"#f1b6da\"],[0.4,\"#fde0ef\"],[0.5,\"#f7f7f7\"],[0.6,\"#e6f5d0\"],[0.7,\"#b8e186\"],[0.8,\"#7fbc41\"],[0.9,\"#4d9221\"],[1,\"#276419\"]],\"sequential\":[[0.0,\"#0d0887\"],[0.1111111111111111,\"#46039f\"],[0.2222222222222222,\"#7201a8\"],[0.3333333333333333,\"#9c179e\"],[0.4444444444444444,\"#bd3786\"],[0.5555555555555556,\"#d8576b\"],[0.6666666666666666,\"#ed7953\"],[0.7777777777777778,\"#fb9f3a\"],[0.8888888888888888,\"#fdca26\"],[1.0,\"#f0f921\"]],\"sequentialminus\":[[0.0,\"#0d0887\"],[0.1111111111111111,\"#46039f\"],[0.2222222222222222,\"#7201a8\"],[0.3333333333333333,\"#9c179e\"],[0.4444444444444444,\"#bd3786\"],[0.5555555555555556,\"#d8576b\"],[0.6666666666666666,\"#ed7953\"],[0.7777777777777778,\"#fb9f3a\"],[0.8888888888888888,\"#fdca26\"],[1.0,\"#f0f921\"]]},\"colorway\":[\"#636efa\",\"#EF553B\",\"#00cc96\",\"#ab63fa\",\"#FFA15A\",\"#19d3f3\",\"#FF6692\",\"#B6E880\",\"#FF97FF\",\"#FECB52\"],\"font\":{\"color\":\"#2a3f5f\"},\"geo\":{\"bgcolor\":\"white\",\"lakecolor\":\"white\",\"landcolor\":\"#E5ECF6\",\"showlakes\":true,\"showland\":true,\"subunitcolor\":\"white\"},\"hoverlabel\":{\"align\":\"left\"},\"hovermode\":\"closest\",\"mapbox\":{\"style\":\"light\"},\"paper_bgcolor\":\"white\",\"plot_bgcolor\":\"#E5ECF6\",\"polar\":{\"angularaxis\":{\"gridcolor\":\"white\",\"linecolor\":\"white\",\"ticks\":\"\"},\"bgcolor\":\"#E5ECF6\",\"radialaxis\":{\"gridcolor\":\"white\",\"linecolor\":\"white\",\"ticks\":\"\"}},\"scene\":{\"xaxis\":{\"backgroundcolor\":\"#E5ECF6\",\"gridcolor\":\"white\",\"gridwidth\":2,\"linecolor\":\"white\",\"showbackground\":true,\"ticks\":\"\",\"zerolinecolor\":\"white\"},\"yaxis\":{\"backgroundcolor\":\"#E5ECF6\",\"gridcolor\":\"white\",\"gridwidth\":2,\"linecolor\":\"white\",\"showbackground\":true,\"ticks\":\"\",\"zerolinecolor\":\"white\"},\"zaxis\":{\"backgroundcolor\":\"#E5ECF6\",\"gridcolor\":\"white\",\"gridwidth\":2,\"linecolor\":\"white\",\"showbackground\":true,\"ticks\":\"\",\"zerolinecolor\":\"white\"}},\"shapedefaults\":{\"line\":{\"color\":\"#2a3f5f\"}},\"ternary\":{\"aaxis\":{\"gridcolor\":\"white\",\"linecolor\":\"white\",\"ticks\":\"\"},\"baxis\":{\"gridcolor\":\"white\",\"linecolor\":\"white\",\"ticks\":\"\"},\"bgcolor\":\"#E5ECF6\",\"caxis\":{\"gridcolor\":\"white\",\"linecolor\":\"white\",\"ticks\":\"\"}},\"title\":{\"x\":0.05},\"xaxis\":{\"automargin\":true,\"gridcolor\":\"white\",\"linecolor\":\"white\",\"ticks\":\"\",\"title\":{\"standoff\":15},\"zerolinecolor\":\"white\",\"zerolinewidth\":2},\"yaxis\":{\"automargin\":true,\"gridcolor\":\"white\",\"linecolor\":\"white\",\"ticks\":\"\",\"title\":{\"standoff\":15},\"zerolinecolor\":\"white\",\"zerolinewidth\":2}}},\"xaxis\":{\"anchor\":\"y\",\"domain\":[0.0,1.0],\"scaleanchor\":\"y\",\"constrain\":\"domain\"},\"yaxis\":{\"anchor\":\"x\",\"domain\":[0.0,1.0],\"autorange\":\"reversed\",\"constrain\":\"domain\"},\"coloraxis\":{\"colorscale\":[[0.0,\"#0d0887\"],[0.1111111111111111,\"#46039f\"],[0.2222222222222222,\"#7201a8\"],[0.3333333333333333,\"#9c179e\"],[0.4444444444444444,\"#bd3786\"],[0.5555555555555556,\"#d8576b\"],[0.6666666666666666,\"#ed7953\"],[0.7777777777777778,\"#fb9f3a\"],[0.8888888888888888,\"#fdca26\"],[1.0,\"#f0f921\"]]},\"margin\":{\"t\":60}},                        {\"responsive\": true}                    ).then(function(){\n",
       "                            \n",
       "var gd = document.getElementById('fce6acd4-f962-4155-9614-42ef408837e0');\n",
       "var x = new MutationObserver(function (mutations, observer) {{\n",
       "        var display = window.getComputedStyle(gd).display;\n",
       "        if (!display || display === 'none') {{\n",
       "            console.log([gd, 'removed!']);\n",
       "            Plotly.purge(gd);\n",
       "            observer.disconnect();\n",
       "        }}\n",
       "}});\n",
       "\n",
       "// Listen for the removal of the full notebook cells\n",
       "var notebookContainer = gd.closest('#notebook-container');\n",
       "if (notebookContainer) {{\n",
       "    x.observe(notebookContainer, {childList: true});\n",
       "}}\n",
       "\n",
       "// Listen for the clearing of the current output cell\n",
       "var outputEl = gd.closest('.output');\n",
       "if (outputEl) {{\n",
       "    x.observe(outputEl, {childList: true});\n",
       "}}\n",
       "\n",
       "                        })                };                            </script>        </div>\n",
       "</body>\n",
       "</html>"
      ]
     },
     "metadata": {},
     "output_type": "display_data"
    }
   ],
   "source": [
    "instance_index = 7890 \n",
    "matrix_conv=X_train.iloc[instance_index].to_numpy().reshape(28,28)\n",
    "px.imshow(matrix_conv)"
   ]
  },
  {
   "cell_type": "markdown",
   "id": "c5c42920",
   "metadata": {
    "id": "c5c42920"
   },
   "source": [
    "## Standardizing the features"
   ]
  },
  {
   "cell_type": "code",
   "execution_count": 12,
   "id": "da91108d",
   "metadata": {
    "id": "da91108d"
   },
   "outputs": [],
   "source": [
    "from sklearn.preprocessing import StandardScaler\n",
    "scaler = StandardScaler()\n",
    "scaler.fit(X_train)\n",
    "X_train = scaler.transform(X_train)\n",
    "X_test = scaler.transform(X_test)"
   ]
  },
  {
   "cell_type": "markdown",
   "id": "a0cf7afd",
   "metadata": {
    "id": "a0cf7afd"
   },
   "source": [
    "## Apply PCA to transform MNIST dataset"
   ]
  },
  {
   "cell_type": "markdown",
   "id": "18f408d5",
   "metadata": {
    "id": "iGJrvDssRuyo"
   },
   "source": [
    "### Let’s see a Choosing the number of components"
   ]
  },
  {
   "cell_type": "code",
   "execution_count": 13,
   "id": "qTLLSXuoSKPp",
   "metadata": {
    "colab": {
     "base_uri": "https://localhost:8080/",
     "height": 542
    },
    "id": "qTLLSXuoSKPp",
    "outputId": "18c1f819-6a18-4be4-b734-16b49c4a4668"
   },
   "outputs": [
    {
     "data": {
      "text/html": [
       "<html>\n",
       "<head><meta charset=\"utf-8\" /></head>\n",
       "<body>\n",
       "    <div>            <script src=\"https://cdnjs.cloudflare.com/ajax/libs/mathjax/2.7.5/MathJax.js?config=TeX-AMS-MML_SVG\"></script><script type=\"text/javascript\">if (window.MathJax) {MathJax.Hub.Config({SVG: {font: \"STIX-Web\"}});}</script>                <script type=\"text/javascript\">window.PlotlyConfig = {MathJaxConfig: 'local'};</script>\n",
       "        <script src=\"https://cdn.plot.ly/plotly-2.8.3.min.js\"></script>                <div id=\"1f3c0e39-0322-4935-9d72-fce50bc3af52\" class=\"plotly-graph-div\" style=\"height:525px; width:100%;\"></div>            <script type=\"text/javascript\">                                    window.PLOTLYENV=window.PLOTLYENV || {};                                    if (document.getElementById(\"1f3c0e39-0322-4935-9d72-fce50bc3af52\")) {                    Plotly.newPlot(                        \"1f3c0e39-0322-4935-9d72-fce50bc3af52\",                        [{\"hovertemplate\":\"number of components=%{x}<br>cumulative explained variance=%{y}<extra></extra>\",\"legendgroup\":\"\",\"line\":{\"color\":\"#636efa\",\"dash\":\"solid\"},\"marker\":{\"symbol\":\"circle\"},\"mode\":\"lines\",\"name\":\"\",\"orientation\":\"v\",\"showlegend\":false,\"x\":[1,2,3,4,5,6,7,8,9,10,11,12,13,14,15,16,17,18,19,20,21,22,23,24,25,26,27,28,29,30,31,32,33,34,35,36,37,38,39,40,41,42,43,44,45,46,47,48,49,50,51,52,53,54,55,56,57,58,59,60,61,62,63,64,65,66,67,68,69,70,71,72,73,74,75,76,77,78,79,80,81,82,83,84,85,86,87,88,89,90,91,92,93,94,95,96,97,98,99,100,101,102,103,104,105,106,107,108,109,110,111,112,113,114,115,116,117,118,119,120,121,122,123,124,125,126,127,128,129,130,131,132,133,134,135,136,137,138,139,140,141,142,143,144,145,146,147,148,149,150,151,152,153,154,155,156,157,158,159,160,161,162,163,164,165,166,167,168,169,170,171,172,173,174,175,176,177,178,179,180,181,182,183,184,185,186,187,188,189,190,191,192,193,194,195,196,197,198,199,200,201,202,203,204,205,206,207,208,209,210,211,212,213,214,215,216,217,218,219,220,221,222,223,224,225,226,227,228,229,230,231,232,233,234,235,236,237,238,239,240,241,242,243,244,245,246,247,248,249,250,251,252,253,254,255,256,257,258,259,260,261,262,263,264,265,266,267,268,269,270,271,272,273,274,275,276,277,278,279,280,281,282,283,284,285,286,287,288,289,290,291,292,293,294,295,296,297,298,299,300,301,302,303,304,305,306,307,308,309,310,311,312,313,314,315,316,317,318,319,320,321,322,323,324,325,326,327,328,329,330,331,332,333,334,335,336,337,338,339,340,341,342,343,344,345,346,347,348,349,350,351,352,353,354,355,356,357,358,359,360,361,362,363,364,365,366,367,368,369,370,371,372,373,374,375,376,377,378,379,380,381,382,383,384,385,386,387,388,389,390,391,392,393,394,395,396,397,398,399,400,401,402,403,404,405,406,407,408,409,410,411,412,413,414,415,416,417,418,419,420,421,422,423,424,425,426,427,428,429,430,431,432,433,434,435,436,437,438,439,440,441,442,443,444,445,446,447,448,449,450,451,452,453,454,455,456,457,458,459,460,461,462,463,464,465,466,467,468,469,470,471,472,473,474,475,476,477,478,479,480,481,482,483,484,485,486,487,488,489,490,491,492,493,494,495,496,497,498,499,500,501,502,503,504,505,506,507,508,509,510,511,512,513,514,515,516,517,518,519,520,521,522,523,524,525,526,527,528,529,530,531,532,533,534,535,536,537,538,539,540,541,542,543,544,545,546,547,548,549,550,551,552,553,554,555,556,557,558,559,560,561,562,563,564,565,566,567,568,569,570,571,572,573,574,575,576,577,578,579,580,581,582,583,584,585,586,587,588,589,590,591,592,593,594,595,596,597,598,599,600,601,602,603,604,605,606,607,608,609,610,611,612,613,614,615,616,617,618,619,620,621,622,623,624,625,626,627,628,629,630,631,632,633,634,635,636,637,638,639,640,641,642,643,644,645,646,647,648,649,650,651,652,653,654,655,656,657,658,659,660,661,662,663,664,665,666,667,668,669,670,671,672,673,674,675,676,677,678,679,680,681,682,683,684,685,686,687,688,689,690,691,692,693,694,695,696,697,698,699,700,701,702,703,704,705,706,707,708,709,710,711,712,713,714,715,716,717,718,719,720,721,722,723,724,725,726,727,728,729,730,731,732,733,734,735,736,737,738,739,740,741,742,743,744,745,746,747,748,749,750,751,752,753,754,755,756,757,758,759,760,761,762,763,764,765,766,767,768,769,770,771,772,773,774,775,776,777,778,779,780,781,782,783,784],\"xaxis\":\"x\",\"y\":[0.05646716919741713,0.09724988908210863,0.1346436932980214,0.1634948417541363,0.18870592801067035,0.2106486276574891,0.22988207152080872,0.24734006380483956,0.2626909868508006,0.2767081828674907,0.29012561306619744,0.30216303246085113,0.3133087279584992,0.32420796351964126,0.3344944557556966,0.3444393213931597,0.3538031541952579,0.36301361085057854,0.37194797862713125,0.3806471048147173,0.38892073500511914,0.39695490869897293,0.4046033637025218,0.4120210883417648,0.4191740170214966,0.42609248533614996,0.43293384497526793,0.43950059043741374,0.4458173576756023,0.45194655606697476,0.45790910902072257,0.46378627317725063,0.4695021901693654,0.4751252643341321,0.4806720843583347,0.48605626810054453,0.49136809059713427,0.4965641466140273,0.5016462591601216,0.506446314868065,0.5112108730680801,0.5159022666680991,0.5204457562288348,0.5249592140941898,0.5294288481052715,0.5338626796596252,0.5382448343446736,0.5425486518569781,0.5468174308633486,0.5510539010352936,0.5551008622486047,0.5590953362835803,0.5630698974739492,0.5670081054767798,0.5708662413790696,0.5746566681235813,0.578410694931347,0.582118453384784,0.5857678971937268,0.5893609029276424,0.5928847245878858,0.5963626610356553,0.5998067741200328,0.6032054552906114,0.6065650007309997,0.6099138602781863,0.6132324971722048,0.6164627567158039,0.6196255264463586,0.6227579689421644,0.6258652832513744,0.6289377122396732,0.6319868542264807,0.6350140260321772,0.6380088792648831,0.6409864909900663,0.6439370066383316,0.646841387973495,0.6497099498668293,0.6525667273326574,0.6554007051240531,0.6582269765513924,0.66102248711874,0.6638155407109418,0.6666007326342696,0.6693752872896195,0.6721342953444785,0.674876568574538,0.6775906746242198,0.6802833041068317,0.682948147479024,0.6855839603822635,0.6882135762720362,0.6908239144676077,0.6934121838098826,0.6959739479980825,0.6985124065861222,0.7010168791960558,0.703495173109556,0.7059455086308916,0.7083689753750243,0.7107896133387821,0.7131783677576594,0.715552914813284,0.7179089989227019,0.7202395311843455,0.7225193318750994,0.724781074034838,0.7270093893933187,0.729233810727542,0.731415504515457,0.7335880725419883,0.7357308404879592,0.7378502175986441,0.7399599377784881,0.7420332399067642,0.7440808512420941,0.7461245332112408,0.7481486182309564,0.7501532399167239,0.7521414596748074,0.7540936154169033,0.7560309885620637,0.7579520208538254,0.7598691795811569,0.7617672005954526,0.763638095384526,0.7655034521373174,0.7673166518925225,0.7691167045676142,0.7709086449703056,0.7726983772074753,0.7744678816540075,0.776229458750046,0.7779774264522648,0.7797072737284426,0.7814274401679027,0.7831147114183922,0.7847998812696991,0.7864682963625768,0.7881154808077454,0.7897612302510392,0.791404166019236,0.7930190238541835,0.7946239264939297,0.7962130491952873,0.7977879444426647,0.7993471219151506,0.800903501412668,0.8024501579655522,0.8039905869721873,0.8055066334950064,0.8070093491677475,0.8084969548220483,0.8099720091254536,0.8114402107433255,0.8128982385711254,0.8143539151285301,0.8158012834794919,0.8172302349281706,0.8186408130925905,0.8200401991689129,0.821437291425331,0.8228326217961607,0.8242261716791635,0.8256184234258046,0.8270061549344566,0.8283895516788184,0.8297677123669662,0.8311361593821728,0.8324978143753315,0.8338560384438475,0.8351930517797693,0.8365221061732504,0.8378327005396412,0.8391356320771977,0.8404288754202827,0.8417112823937679,0.8429853500166136,0.8442535715322005,0.8455067889001326,0.8467472366561081,0.8479770719752154,0.849193251517482,0.8504083140863206,0.8516083389454048,0.8527992080851745,0.8539881529866438,0.8551641946073277,0.856331796666303,0.8574941356961556,0.8586421185152968,0.8597791538571442,0.860906352767924,0.8620269048466315,0.8631209925632878,0.864206448070186,0.8652767325916689,0.8663407437498634,0.8673954883719345,0.8684417732030805,0.869477811618069,0.8705104922910473,0.8715312246371243,0.872539472410512,0.8735410513427249,0.8745389099485738,0.8755308432616727,0.8765081179002061,0.8774766116649245,0.8784346604219349,0.8793910283576399,0.8803387567635399,0.8812852300097687,0.8822289350001826,0.8831556811764139,0.8840730835090066,0.8849817617066893,0.885879231362744,0.886770798007164,0.8876586087091426,0.8885374952000497,0.8894066509170122,0.8902687744458944,0.8911293321488999,0.8919746851153585,0.8928147769791368,0.8936505027318726,0.8944745252060361,0.8952953055667863,0.8961082734208373,0.896918459881432,0.8977104303844184,0.898493714863955,0.8992724792141574,0.900043983487548,0.9008103551542125,0.9015605254885362,0.9023040611136821,0.9030430547490499,0.9037754859378941,0.9045025597971521,0.9052280953816307,0.9059448682896755,0.9066559096384277,0.9073584286893371,0.9080529464294151,0.9087471032512168,0.9094265701502636,0.9101049857278845,0.9107813812080608,0.9114528736541927,0.9121161592514636,0.9127712323479753,0.9134230604129173,0.9140675565152411,0.9147088933343367,0.9153452205677055,0.9159773498545468,0.9166052181919322,0.9172292781440153,0.9178494846048085,0.918458506362812,0.9190643597817322,0.919662940109204,0.9202547971391651,0.920838448983853,0.9214192106146265,0.9219944444951395,0.9225670739499312,0.9231367602404469,0.9237006900764512,0.9242594971126628,0.9248160642770893,0.9253677708474487,0.9259179744911845,0.9264626182022416,0.9270033417816763,0.9275421188788782,0.9280745643626968,0.9286041078746845,0.9291303090668768,0.9296526934515819,0.9301715113085611,0.93068631614828,0.9311946488451603,0.9317019943262925,0.9322050988453057,0.9327058668763175,0.933202909073012,0.9336952176465098,0.9341780545986691,0.9346576094952186,0.9351345222648895,0.9356105248150379,0.9360816293369533,0.9365476289882718,0.9370064509047383,0.9374631988963279,0.9379126057657099,0.9383591873106858,0.9388018429597091,0.9392402281476908,0.9396784228171555,0.9401107474356122,0.9405414478082742,0.9409662184594401,0.9413874730715206,0.9418067073567479,0.9422218862819713,0.942635161537386,0.9430455097582547,0.943453961946379,0.9438577314302373,0.9442592620946701,0.9446577144774032,0.9450529748470728,0.945445068225178,0.9458351514799652,0.9462218849924008,0.9466080916916979,0.946991125304481,0.9473701778496376,0.9477462313303191,0.9481214613288743,0.9484919802138826,0.9488585332361134,0.9492223421670173,0.949581810248203,0.9499400669147184,0.9502951572319134,0.9506488841008662,0.9510013844516976,0.9513498349382686,0.9516951057037747,0.9520370778117503,0.9523760741409317,0.9527126205636465,0.9530474180756653,0.9533797592901883,0.9537098553960084,0.9540386567002492,0.9543636052538659,0.9546866962967236,0.9550082462960147,0.9553275767064553,0.9556425320377299,0.9559536795068748,0.9562635899726442,0.9565724223115772,0.956878898057064,0.9571835005040887,0.9574856665780764,0.9577861517169466,0.9580838508022287,0.958380358024163,0.9586747399374483,0.9589650148256261,0.9592549067547966,0.9595423630047843,0.9598278970115908,0.9601114797218487,0.9603938467410716,0.9606740354296235,0.9609513528683777,0.9612278383221784,0.9615003421864531,0.9617708656361412,0.9620409032102991,0.9623069048681172,0.9625726321604543,0.962835626857171,0.9630956484227338,0.9633549844438992,0.9636106250913489,0.9638644645477177,0.9641175353754375,0.9643687846709511,0.9646185168088872,0.9648667857656994,0.9651112103164178,0.9653552327750544,0.9655984924432979,0.9658407345681878,0.9660785077781828,0.9663155287436114,0.9665517153377445,0.9667866699113294,0.9670197848731077,0.9672504058653603,0.9674801131677815,0.9677091723656605,0.9679363070699193,0.9681618984611952,0.9683866952562256,0.9686108533266168,0.9688325968291616,0.9690539902831984,0.969274094705008,0.96949236885589,0.9697095481598111,0.9699258075375415,0.9701405267599614,0.9703538824839416,0.9705654490816362,0.9707759300202293,0.9709845524426192,0.9711916364881586,0.9713978615056466,0.9716015962945578,0.9718042878579575,0.9720042386035849,0.9722040726817561,0.9724022955665326,0.9726003321810534,0.9727965865760245,0.9729919839756481,0.9731825569110092,0.9733725413690595,0.9735616506163547,0.973750294925314,0.9739375100513156,0.9741226743529109,0.9743075866049885,0.9744909528636373,0.9746715909110502,0.9748507278352664,0.9750297983032765,0.975207355110209,0.9753836011388256,0.9755596351080156,0.9757347301219899,0.9759079548117482,0.9760810944503565,0.9762521602070746,0.9764225900215792,0.97659269275435,0.9767613530769529,0.9769296318687734,0.9770965630422702,0.9772625503660214,0.9774279842378153,0.9775927219354915,0.9777565497605352,0.9779201954840538,0.978082987010741,0.9782445930841026,0.9784051533420516,0.9785642516520145,0.9787214129818252,0.978877828209951,0.9790332801289691,0.979187165413793,0.9793408448236061,0.9794932147768806,0.9796444640165914,0.9797944087369239,0.9799438117260155,0.9800929116843577,0.9802408950964916,0.9803881687864149,0.9805353871280047,0.9806821232317144,0.9808270352906406,0.9809706436581712,0.9811141263048446,0.9812571276873296,0.9813986592406411,0.98153988712426,0.9816807724668049,0.9818203654699911,0.9819598181972166,0.9820980778429761,0.9822356921519005,0.9823725400073098,0.9825086955136633,0.9826428956519211,0.9827768851575038,0.9829103458812867,0.9830420831800337,0.983173363364507,0.9833043839708164,0.9834347476700509,0.9835646324427965,0.9836940019323349,0.9838221315790435,0.9839490707353402,0.9840756308771462,0.9842013647037092,0.9843264165078166,0.9844508486122607,0.9845745951048138,0.9846974059274186,0.9848201772791585,0.9849421480835311,0.9850639843532837,0.98518433197536,0.9853045114112091,0.9854238944369199,0.985542727662418,0.9856607832533356,0.9857785678131318,0.9858952636124841,0.9860111426444363,0.9861262883945391,0.9862404427700088,0.9863543464727397,0.9864675304011391,0.9865800305083057,0.9866922655366636,0.9868036449034076,0.9869145886887257,0.9870244055280379,0.9871338112269289,0.9872426431007881,0.9873510136553534,0.9874588583883669,0.9875660161024488,0.9876731148160324,0.9877800089593952,0.9878863590054754,0.9879920022762636,0.9880972845709691,0.9882020500451701,0.9883061667975198,0.9884094343480999,0.988512412619354,0.9886149649295078,0.9887171853796006,0.9888189096193367,0.9889196108681096,0.989019623122361,0.9891194411004077,0.9892185066681396,0.9893173553371164,0.9894160298184237,0.9895134223486791,0.9896105996320589,0.9897071146429498,0.9898032480085819,0.9898988826179721,0.9899939318986475,0.9900884932287408,0.9901825256602335,0.9902764037096697,0.9903691995468556,0.9904616089026634,0.9905539734281822,0.9906460957746082,0.9907369729423365,0.9908272232652282,0.9909168752477229,0.991005650767229,0.9910939909547049,0.9911818991981968,0.991269413571348,0.9913568930508422,0.9914436876942951,0.9915298314311961,0.991615133308956,0.9916999190589857,0.9917844473688433,0.9918688859523844,0.9919530336848492,0.992036759825894,0.9921199770270782,0.9922021234629134,0.9922842180878585,0.9923658779372349,0.9924467612625613,0.9925274345912733,0.9926078369240859,0.992687719194492,0.9927670500425104,0.9928456043152338,0.9929238863518027,0.993002023867021,0.9930796871500551,0.993156913576956,0.9932334408733724,0.9933093066860199,0.9933849711349719,0.9934605247527993,0.9935352583990258,0.9936098493195498,0.9936841442011557,0.9937575475197298,0.9938308461353385,0.9939034513952811,0.9939760252122811,0.9940478222863356,0.9941195260712121,0.9941907214170757,0.9942612219696121,0.994330832558947,0.994400254109614,0.9944693434491052,0.9945383063682982,0.9946065909763842,0.994674478238127,0.9947420450011357,0.9948095500214597,0.9948766558250537,0.9949433857586669,0.9950099094733674,0.9950756659373279,0.9951411791876557,0.995206428546195,0.9952711645919156,0.9953353837995855,0.995399354938793,0.9954627261976624,0.9955256412435911,0.9955882676199644,0.9956503265587385,0.9957122141878864,0.9957738214965741,0.9958349214012119,0.9958956519122624,0.9959561328152782,0.9960162554389314,0.9960762119845674,0.996135528657568,0.9961945720988025,0.9962532782014418,0.9963118549340474,0.9963698698462528,0.9964278248900079,0.996485100793141,0.9965421352885955,0.9965987820522468,0.996655184013692,0.9967114500055746,0.9967674393261559,0.9968231658312964,0.996878747435757,0.9969337990589798,0.9969887171624507,0.9970430676446898,0.9970969647496654,0.9971504535632912,0.9972038440383267,0.9972566595814449,0.9973089591108725,0.9973609589549073,0.9974127192919063,0.9974639519493734,0.9975149441146425,0.9975654146203867,0.9976156150499172,0.997665706620128,0.9977151662782834,0.9977645410900355,0.9978134047876492,0.9978620090511704,0.9979102803196803,0.9979584307593481,0.9980062863387783,0.9980539130848105,0.9981012684485598,0.9981477581559776,0.99819384185507,0.998239911055963,0.9982857377776262,0.9983310181769587,0.9983760810264262,0.9984208553312252,0.9984651968106583,0.9985092075913742,0.9985528657743187,0.9985962957381437,0.9986393478401845,0.9986820349789549,0.9987239724446898,0.9987657631321705,0.9988073174766198,0.9988483655313447,0.9988891780784965,0.9989294613403065,0.998969416911558,0.9990092639496869,0.9990487468820672,0.999087545084011,0.9991262588996955,0.9991645328105075,0.9992027287189704,0.9992403994954876,0.999277837711563,0.999314881530913,0.9993513152734024,0.999387687508768,0.999423400126686,0.9994588473136775,0.9994938603486312,0.9995285358934224,0.9995626595055669,0.9995964416638854,0.99962984792458,0.9996630359318992,0.9996959329832455,0.999728479482857,0.9997605556312552,0.9997916081102489,0.9998218247598253,0.9998518102152346,0.9998811986775178,0.9999094997398971,0.9999359204020546,0.9999614738992637,0.9999808399003671,0.9999908431172411,1.0,1.0,1.0,1.0,1.0,1.0,1.0,1.0,1.0,1.0,1.0,1.0,1.0,1.0,1.0,1.0,1.0,1.0,1.0,1.0,1.0,1.0,1.0,1.0,1.0,1.0,1.0,1.0,1.0,1.0,1.0,1.0,1.0,1.0,1.0,1.0,1.0,1.0,1.0,1.0,1.0,1.0,1.0,1.0,1.0,1.0,1.0,1.0,1.0,1.0,1.0,1.0,1.0,1.0,1.0,1.0,1.0,1.0,1.0,1.0,1.0,1.0,1.0,1.0,1.0,1.0,1.0,1.0,1.0,1.0,1.0,1.0,1.0],\"yaxis\":\"y\",\"type\":\"scatter\"}],                        {\"template\":{\"data\":{\"bar\":[{\"error_x\":{\"color\":\"#2a3f5f\"},\"error_y\":{\"color\":\"#2a3f5f\"},\"marker\":{\"line\":{\"color\":\"#E5ECF6\",\"width\":0.5},\"pattern\":{\"fillmode\":\"overlay\",\"size\":10,\"solidity\":0.2}},\"type\":\"bar\"}],\"barpolar\":[{\"marker\":{\"line\":{\"color\":\"#E5ECF6\",\"width\":0.5},\"pattern\":{\"fillmode\":\"overlay\",\"size\":10,\"solidity\":0.2}},\"type\":\"barpolar\"}],\"carpet\":[{\"aaxis\":{\"endlinecolor\":\"#2a3f5f\",\"gridcolor\":\"white\",\"linecolor\":\"white\",\"minorgridcolor\":\"white\",\"startlinecolor\":\"#2a3f5f\"},\"baxis\":{\"endlinecolor\":\"#2a3f5f\",\"gridcolor\":\"white\",\"linecolor\":\"white\",\"minorgridcolor\":\"white\",\"startlinecolor\":\"#2a3f5f\"},\"type\":\"carpet\"}],\"choropleth\":[{\"colorbar\":{\"outlinewidth\":0,\"ticks\":\"\"},\"type\":\"choropleth\"}],\"contour\":[{\"colorbar\":{\"outlinewidth\":0,\"ticks\":\"\"},\"colorscale\":[[0.0,\"#0d0887\"],[0.1111111111111111,\"#46039f\"],[0.2222222222222222,\"#7201a8\"],[0.3333333333333333,\"#9c179e\"],[0.4444444444444444,\"#bd3786\"],[0.5555555555555556,\"#d8576b\"],[0.6666666666666666,\"#ed7953\"],[0.7777777777777778,\"#fb9f3a\"],[0.8888888888888888,\"#fdca26\"],[1.0,\"#f0f921\"]],\"type\":\"contour\"}],\"contourcarpet\":[{\"colorbar\":{\"outlinewidth\":0,\"ticks\":\"\"},\"type\":\"contourcarpet\"}],\"heatmap\":[{\"colorbar\":{\"outlinewidth\":0,\"ticks\":\"\"},\"colorscale\":[[0.0,\"#0d0887\"],[0.1111111111111111,\"#46039f\"],[0.2222222222222222,\"#7201a8\"],[0.3333333333333333,\"#9c179e\"],[0.4444444444444444,\"#bd3786\"],[0.5555555555555556,\"#d8576b\"],[0.6666666666666666,\"#ed7953\"],[0.7777777777777778,\"#fb9f3a\"],[0.8888888888888888,\"#fdca26\"],[1.0,\"#f0f921\"]],\"type\":\"heatmap\"}],\"heatmapgl\":[{\"colorbar\":{\"outlinewidth\":0,\"ticks\":\"\"},\"colorscale\":[[0.0,\"#0d0887\"],[0.1111111111111111,\"#46039f\"],[0.2222222222222222,\"#7201a8\"],[0.3333333333333333,\"#9c179e\"],[0.4444444444444444,\"#bd3786\"],[0.5555555555555556,\"#d8576b\"],[0.6666666666666666,\"#ed7953\"],[0.7777777777777778,\"#fb9f3a\"],[0.8888888888888888,\"#fdca26\"],[1.0,\"#f0f921\"]],\"type\":\"heatmapgl\"}],\"histogram\":[{\"marker\":{\"pattern\":{\"fillmode\":\"overlay\",\"size\":10,\"solidity\":0.2}},\"type\":\"histogram\"}],\"histogram2d\":[{\"colorbar\":{\"outlinewidth\":0,\"ticks\":\"\"},\"colorscale\":[[0.0,\"#0d0887\"],[0.1111111111111111,\"#46039f\"],[0.2222222222222222,\"#7201a8\"],[0.3333333333333333,\"#9c179e\"],[0.4444444444444444,\"#bd3786\"],[0.5555555555555556,\"#d8576b\"],[0.6666666666666666,\"#ed7953\"],[0.7777777777777778,\"#fb9f3a\"],[0.8888888888888888,\"#fdca26\"],[1.0,\"#f0f921\"]],\"type\":\"histogram2d\"}],\"histogram2dcontour\":[{\"colorbar\":{\"outlinewidth\":0,\"ticks\":\"\"},\"colorscale\":[[0.0,\"#0d0887\"],[0.1111111111111111,\"#46039f\"],[0.2222222222222222,\"#7201a8\"],[0.3333333333333333,\"#9c179e\"],[0.4444444444444444,\"#bd3786\"],[0.5555555555555556,\"#d8576b\"],[0.6666666666666666,\"#ed7953\"],[0.7777777777777778,\"#fb9f3a\"],[0.8888888888888888,\"#fdca26\"],[1.0,\"#f0f921\"]],\"type\":\"histogram2dcontour\"}],\"mesh3d\":[{\"colorbar\":{\"outlinewidth\":0,\"ticks\":\"\"},\"type\":\"mesh3d\"}],\"parcoords\":[{\"line\":{\"colorbar\":{\"outlinewidth\":0,\"ticks\":\"\"}},\"type\":\"parcoords\"}],\"pie\":[{\"automargin\":true,\"type\":\"pie\"}],\"scatter\":[{\"marker\":{\"colorbar\":{\"outlinewidth\":0,\"ticks\":\"\"}},\"type\":\"scatter\"}],\"scatter3d\":[{\"line\":{\"colorbar\":{\"outlinewidth\":0,\"ticks\":\"\"}},\"marker\":{\"colorbar\":{\"outlinewidth\":0,\"ticks\":\"\"}},\"type\":\"scatter3d\"}],\"scattercarpet\":[{\"marker\":{\"colorbar\":{\"outlinewidth\":0,\"ticks\":\"\"}},\"type\":\"scattercarpet\"}],\"scattergeo\":[{\"marker\":{\"colorbar\":{\"outlinewidth\":0,\"ticks\":\"\"}},\"type\":\"scattergeo\"}],\"scattergl\":[{\"marker\":{\"colorbar\":{\"outlinewidth\":0,\"ticks\":\"\"}},\"type\":\"scattergl\"}],\"scattermapbox\":[{\"marker\":{\"colorbar\":{\"outlinewidth\":0,\"ticks\":\"\"}},\"type\":\"scattermapbox\"}],\"scatterpolar\":[{\"marker\":{\"colorbar\":{\"outlinewidth\":0,\"ticks\":\"\"}},\"type\":\"scatterpolar\"}],\"scatterpolargl\":[{\"marker\":{\"colorbar\":{\"outlinewidth\":0,\"ticks\":\"\"}},\"type\":\"scatterpolargl\"}],\"scatterternary\":[{\"marker\":{\"colorbar\":{\"outlinewidth\":0,\"ticks\":\"\"}},\"type\":\"scatterternary\"}],\"surface\":[{\"colorbar\":{\"outlinewidth\":0,\"ticks\":\"\"},\"colorscale\":[[0.0,\"#0d0887\"],[0.1111111111111111,\"#46039f\"],[0.2222222222222222,\"#7201a8\"],[0.3333333333333333,\"#9c179e\"],[0.4444444444444444,\"#bd3786\"],[0.5555555555555556,\"#d8576b\"],[0.6666666666666666,\"#ed7953\"],[0.7777777777777778,\"#fb9f3a\"],[0.8888888888888888,\"#fdca26\"],[1.0,\"#f0f921\"]],\"type\":\"surface\"}],\"table\":[{\"cells\":{\"fill\":{\"color\":\"#EBF0F8\"},\"line\":{\"color\":\"white\"}},\"header\":{\"fill\":{\"color\":\"#C8D4E3\"},\"line\":{\"color\":\"white\"}},\"type\":\"table\"}]},\"layout\":{\"annotationdefaults\":{\"arrowcolor\":\"#2a3f5f\",\"arrowhead\":0,\"arrowwidth\":1},\"autotypenumbers\":\"strict\",\"coloraxis\":{\"colorbar\":{\"outlinewidth\":0,\"ticks\":\"\"}},\"colorscale\":{\"diverging\":[[0,\"#8e0152\"],[0.1,\"#c51b7d\"],[0.2,\"#de77ae\"],[0.3,\"#f1b6da\"],[0.4,\"#fde0ef\"],[0.5,\"#f7f7f7\"],[0.6,\"#e6f5d0\"],[0.7,\"#b8e186\"],[0.8,\"#7fbc41\"],[0.9,\"#4d9221\"],[1,\"#276419\"]],\"sequential\":[[0.0,\"#0d0887\"],[0.1111111111111111,\"#46039f\"],[0.2222222222222222,\"#7201a8\"],[0.3333333333333333,\"#9c179e\"],[0.4444444444444444,\"#bd3786\"],[0.5555555555555556,\"#d8576b\"],[0.6666666666666666,\"#ed7953\"],[0.7777777777777778,\"#fb9f3a\"],[0.8888888888888888,\"#fdca26\"],[1.0,\"#f0f921\"]],\"sequentialminus\":[[0.0,\"#0d0887\"],[0.1111111111111111,\"#46039f\"],[0.2222222222222222,\"#7201a8\"],[0.3333333333333333,\"#9c179e\"],[0.4444444444444444,\"#bd3786\"],[0.5555555555555556,\"#d8576b\"],[0.6666666666666666,\"#ed7953\"],[0.7777777777777778,\"#fb9f3a\"],[0.8888888888888888,\"#fdca26\"],[1.0,\"#f0f921\"]]},\"colorway\":[\"#636efa\",\"#EF553B\",\"#00cc96\",\"#ab63fa\",\"#FFA15A\",\"#19d3f3\",\"#FF6692\",\"#B6E880\",\"#FF97FF\",\"#FECB52\"],\"font\":{\"color\":\"#2a3f5f\"},\"geo\":{\"bgcolor\":\"white\",\"lakecolor\":\"white\",\"landcolor\":\"#E5ECF6\",\"showlakes\":true,\"showland\":true,\"subunitcolor\":\"white\"},\"hoverlabel\":{\"align\":\"left\"},\"hovermode\":\"closest\",\"mapbox\":{\"style\":\"light\"},\"paper_bgcolor\":\"white\",\"plot_bgcolor\":\"#E5ECF6\",\"polar\":{\"angularaxis\":{\"gridcolor\":\"white\",\"linecolor\":\"white\",\"ticks\":\"\"},\"bgcolor\":\"#E5ECF6\",\"radialaxis\":{\"gridcolor\":\"white\",\"linecolor\":\"white\",\"ticks\":\"\"}},\"scene\":{\"xaxis\":{\"backgroundcolor\":\"#E5ECF6\",\"gridcolor\":\"white\",\"gridwidth\":2,\"linecolor\":\"white\",\"showbackground\":true,\"ticks\":\"\",\"zerolinecolor\":\"white\"},\"yaxis\":{\"backgroundcolor\":\"#E5ECF6\",\"gridcolor\":\"white\",\"gridwidth\":2,\"linecolor\":\"white\",\"showbackground\":true,\"ticks\":\"\",\"zerolinecolor\":\"white\"},\"zaxis\":{\"backgroundcolor\":\"#E5ECF6\",\"gridcolor\":\"white\",\"gridwidth\":2,\"linecolor\":\"white\",\"showbackground\":true,\"ticks\":\"\",\"zerolinecolor\":\"white\"}},\"shapedefaults\":{\"line\":{\"color\":\"#2a3f5f\"}},\"ternary\":{\"aaxis\":{\"gridcolor\":\"white\",\"linecolor\":\"white\",\"ticks\":\"\"},\"baxis\":{\"gridcolor\":\"white\",\"linecolor\":\"white\",\"ticks\":\"\"},\"bgcolor\":\"#E5ECF6\",\"caxis\":{\"gridcolor\":\"white\",\"linecolor\":\"white\",\"ticks\":\"\"}},\"title\":{\"x\":0.05},\"xaxis\":{\"automargin\":true,\"gridcolor\":\"white\",\"linecolor\":\"white\",\"ticks\":\"\",\"title\":{\"standoff\":15},\"zerolinecolor\":\"white\",\"zerolinewidth\":2},\"yaxis\":{\"automargin\":true,\"gridcolor\":\"white\",\"linecolor\":\"white\",\"ticks\":\"\",\"title\":{\"standoff\":15},\"zerolinecolor\":\"white\",\"zerolinewidth\":2}}},\"xaxis\":{\"anchor\":\"y\",\"domain\":[0.0,1.0],\"title\":{\"text\":\"number of components\"}},\"yaxis\":{\"anchor\":\"x\",\"domain\":[0.0,1.0],\"title\":{\"text\":\"cumulative explained variance\"}},\"legend\":{\"tracegroupgap\":0},\"margin\":{\"t\":60}},                        {\"responsive\": true}                    ).then(function(){\n",
       "                            \n",
       "var gd = document.getElementById('1f3c0e39-0322-4935-9d72-fce50bc3af52');\n",
       "var x = new MutationObserver(function (mutations, observer) {{\n",
       "        var display = window.getComputedStyle(gd).display;\n",
       "        if (!display || display === 'none') {{\n",
       "            console.log([gd, 'removed!']);\n",
       "            Plotly.purge(gd);\n",
       "            observer.disconnect();\n",
       "        }}\n",
       "}});\n",
       "\n",
       "// Listen for the removal of the full notebook cells\n",
       "var notebookContainer = gd.closest('#notebook-container');\n",
       "if (notebookContainer) {{\n",
       "    x.observe(notebookContainer, {childList: true});\n",
       "}}\n",
       "\n",
       "// Listen for the clearing of the current output cell\n",
       "var outputEl = gd.closest('.output');\n",
       "if (outputEl) {{\n",
       "    x.observe(outputEl, {childList: true});\n",
       "}}\n",
       "\n",
       "                        })                };                            </script>        </div>\n",
       "</body>\n",
       "</html>"
      ]
     },
     "metadata": {},
     "output_type": "display_data"
    }
   ],
   "source": [
    "pca = PCA()\n",
    "pca.fit(X_train)\n",
    "dataframe = pd.DataFrame({'number of components':range(1, len(pca.explained_variance_ratio_)+1) , 'cumulative explained variance':np.cumsum(pca.explained_variance_ratio_)})\n",
    "px.line(dataframe, x=\"number of components\" ,y=\"cumulative explained variance\")"
   ]
  },
  {
   "cell_type": "code",
   "execution_count": 24,
   "id": "d33a1d87",
   "metadata": {
    "id": "d33a1d87"
   },
   "outputs": [],
   "source": [
    "pca = PCA(0.95)\n",
    "pca.fit(X_train)\n",
    "X_train_pca = pca.transform(X_train)\n",
    "X_test_pca = pca.transform(X_test)"
   ]
  },
  {
   "cell_type": "markdown",
   "id": "mqVCIDNLOoFc",
   "metadata": {
    "id": "mqVCIDNLOoFc"
   },
   "source": [
    ">**❗ NOTE:** Notice the code has .95 for the number of components parameter. It means that scikit-learn choose the minimum number of principal components such that 95% of the variance is retained."
   ]
  },
  {
   "cell_type": "code",
   "execution_count": 25,
   "id": "DQh1KQpUVce3",
   "metadata": {
    "colab": {
     "base_uri": "https://localhost:8080/"
    },
    "id": "DQh1KQpUVce3",
    "outputId": "69d96431-e19b-4991-dc7e-28e66bc7ed7c"
   },
   "outputs": [
    {
     "data": {
      "text/plain": [
       "331"
      ]
     },
     "execution_count": 25,
     "metadata": {},
     "output_type": "execute_result"
    }
   ],
   "source": [
    "len(pca.explained_variance_ratio_)"
   ]
  },
  {
   "cell_type": "markdown",
   "id": "93aba9fa",
   "metadata": {
    "id": "rTTvYM0dNee_"
   },
   "source": [
    "### Apply SVM to the Transformed Data"
   ]
  },
  {
   "cell_type": "code",
   "execution_count": 23,
   "id": "M-GO14n2PQVr",
   "metadata": {
    "colab": {
     "base_uri": "https://localhost:8080/",
     "height": 394
    },
    "id": "M-GO14n2PQVr",
    "outputId": "b4b5fef0-9182-4788-c344-c41f56ae9482"
   },
   "outputs": [
    {
     "ename": "KeyboardInterrupt",
     "evalue": "ignored",
     "output_type": "error",
     "traceback": [
      "\u001b[0;31m---------------------------------------------------------------------------\u001b[0m",
      "\u001b[0;31mKeyboardInterrupt\u001b[0m                         Traceback (most recent call last)",
      "\u001b[0;32m<ipython-input-23-cfbca8e09990>\u001b[0m in \u001b[0;36m<module>\u001b[0;34m()\u001b[0m\n\u001b[1;32m      3\u001b[0m \u001b[0mt0\u001b[0m \u001b[0;34m=\u001b[0m \u001b[0mtime\u001b[0m\u001b[0;34m(\u001b[0m\u001b[0;34m)\u001b[0m\u001b[0;34m\u001b[0m\u001b[0;34m\u001b[0m\u001b[0m\n\u001b[1;32m      4\u001b[0m \u001b[0msvc\u001b[0m \u001b[0;34m=\u001b[0m \u001b[0mSVC\u001b[0m\u001b[0;34m(\u001b[0m\u001b[0mkernel\u001b[0m\u001b[0;34m=\u001b[0m\u001b[0;34m'linear'\u001b[0m\u001b[0;34m)\u001b[0m\u001b[0;34m\u001b[0m\u001b[0;34m\u001b[0m\u001b[0m\n\u001b[0;32m----> 5\u001b[0;31m \u001b[0msvc\u001b[0m\u001b[0;34m.\u001b[0m\u001b[0mfit\u001b[0m\u001b[0;34m(\u001b[0m\u001b[0mX_train_pca\u001b[0m\u001b[0;34m,\u001b[0m \u001b[0my_train\u001b[0m\u001b[0;34m)\u001b[0m\u001b[0;34m\u001b[0m\u001b[0;34m\u001b[0m\u001b[0m\n\u001b[0m\u001b[1;32m      6\u001b[0m \u001b[0mprint\u001b[0m\u001b[0;34m(\u001b[0m\u001b[0;34mf\"Time (Seconds): {time() - t0}\"\u001b[0m\u001b[0;34m)\u001b[0m\u001b[0;34m\u001b[0m\u001b[0;34m\u001b[0m\u001b[0m\n\u001b[1;32m      7\u001b[0m \u001b[0my_pred\u001b[0m \u001b[0;34m=\u001b[0m \u001b[0msvc\u001b[0m\u001b[0;34m.\u001b[0m\u001b[0mpredict\u001b[0m\u001b[0;34m(\u001b[0m\u001b[0mX_test_pca\u001b[0m\u001b[0;34m)\u001b[0m\u001b[0;34m\u001b[0m\u001b[0;34m\u001b[0m\u001b[0m\n",
      "\u001b[0;32m/usr/local/lib/python3.7/dist-packages/sklearn/svm/_base.py\u001b[0m in \u001b[0;36mfit\u001b[0;34m(self, X, y, sample_weight)\u001b[0m\n\u001b[1;32m    253\u001b[0m \u001b[0;34m\u001b[0m\u001b[0m\n\u001b[1;32m    254\u001b[0m         \u001b[0mseed\u001b[0m \u001b[0;34m=\u001b[0m \u001b[0mrnd\u001b[0m\u001b[0;34m.\u001b[0m\u001b[0mrandint\u001b[0m\u001b[0;34m(\u001b[0m\u001b[0mnp\u001b[0m\u001b[0;34m.\u001b[0m\u001b[0miinfo\u001b[0m\u001b[0;34m(\u001b[0m\u001b[0;34m\"i\"\u001b[0m\u001b[0;34m)\u001b[0m\u001b[0;34m.\u001b[0m\u001b[0mmax\u001b[0m\u001b[0;34m)\u001b[0m\u001b[0;34m\u001b[0m\u001b[0;34m\u001b[0m\u001b[0m\n\u001b[0;32m--> 255\u001b[0;31m         \u001b[0mfit\u001b[0m\u001b[0;34m(\u001b[0m\u001b[0mX\u001b[0m\u001b[0;34m,\u001b[0m \u001b[0my\u001b[0m\u001b[0;34m,\u001b[0m \u001b[0msample_weight\u001b[0m\u001b[0;34m,\u001b[0m \u001b[0msolver_type\u001b[0m\u001b[0;34m,\u001b[0m \u001b[0mkernel\u001b[0m\u001b[0;34m,\u001b[0m \u001b[0mrandom_seed\u001b[0m\u001b[0;34m=\u001b[0m\u001b[0mseed\u001b[0m\u001b[0;34m)\u001b[0m\u001b[0;34m\u001b[0m\u001b[0;34m\u001b[0m\u001b[0m\n\u001b[0m\u001b[1;32m    256\u001b[0m         \u001b[0;31m# see comment on the other call to np.iinfo in this file\u001b[0m\u001b[0;34m\u001b[0m\u001b[0;34m\u001b[0m\u001b[0;34m\u001b[0m\u001b[0m\n\u001b[1;32m    257\u001b[0m \u001b[0;34m\u001b[0m\u001b[0m\n",
      "\u001b[0;32m/usr/local/lib/python3.7/dist-packages/sklearn/svm/_base.py\u001b[0m in \u001b[0;36m_dense_fit\u001b[0;34m(self, X, y, sample_weight, solver_type, kernel, random_seed)\u001b[0m\n\u001b[1;32m    331\u001b[0m             \u001b[0mepsilon\u001b[0m\u001b[0;34m=\u001b[0m\u001b[0mself\u001b[0m\u001b[0;34m.\u001b[0m\u001b[0mepsilon\u001b[0m\u001b[0;34m,\u001b[0m\u001b[0;34m\u001b[0m\u001b[0;34m\u001b[0m\u001b[0m\n\u001b[1;32m    332\u001b[0m             \u001b[0mmax_iter\u001b[0m\u001b[0;34m=\u001b[0m\u001b[0mself\u001b[0m\u001b[0;34m.\u001b[0m\u001b[0mmax_iter\u001b[0m\u001b[0;34m,\u001b[0m\u001b[0;34m\u001b[0m\u001b[0;34m\u001b[0m\u001b[0m\n\u001b[0;32m--> 333\u001b[0;31m             \u001b[0mrandom_seed\u001b[0m\u001b[0;34m=\u001b[0m\u001b[0mrandom_seed\u001b[0m\u001b[0;34m,\u001b[0m\u001b[0;34m\u001b[0m\u001b[0;34m\u001b[0m\u001b[0m\n\u001b[0m\u001b[1;32m    334\u001b[0m         )\n\u001b[1;32m    335\u001b[0m \u001b[0;34m\u001b[0m\u001b[0m\n",
      "\u001b[0;31mKeyboardInterrupt\u001b[0m: "
     ]
    }
   ],
   "source": [
    "from sklearn.svm import SVC\n",
    "from sklearn.metrics import accuracy_score\n",
    "t0 = time()\n",
    "svc = SVC(kernel='rbf')\n",
    "svc.fit(X_train_pca, y_train)\n",
    "print(f\"Time (Seconds): {time() - t0}\")\n",
    "y_pred = svc.predict(X_test_pca)\n",
    "\n",
    "print(f\"Accuracy score : {accuracy_score(y_test, y_pred)}\")"
   ]
  },
  {
   "cell_type": "code",
   "execution_count": null,
   "id": "uP84p-H0PQeL",
   "metadata": {
    "id": "uP84p-H0PQeL"
   },
   "outputs": [],
   "source": [
    "from sklearn.svm import SVC\n",
    "from sklearn.metrics import accuracy_score\n",
    "t0 = time()\n",
    "svc = SVC(kernel='rbf')\n",
    "svc.fit(X_train, y_train)\n",
    "print(f\"Time (Seconds): {time() - t0}\")\n",
    "y_pred = svc.predict(X_test)\n",
    "\n",
    "print(f\"Accuracy score : {accuracy_score(y_test, y_pred)}\")"
   ]
  },
  {
   "cell_type": "code",
   "execution_count": null,
   "id": "_ip88JG3PQgj",
   "metadata": {
    "id": "_ip88JG3PQgj"
   },
   "outputs": [],
   "source": []
  },
  {
   "cell_type": "code",
   "execution_count": null,
   "id": "ciO4f6nEPQjF",
   "metadata": {
    "id": "ciO4f6nEPQjF"
   },
   "outputs": [],
   "source": []
  }
 ],
 "metadata": {
  "colab": {
   "collapsed_sections": [
    "1b179741",
    "e4213b64",
    "93c54ae6",
    "2d08134a"
   ],
   "name": "08_Principal_Component_Analysis.ipynb",
   "provenance": []
  },
  "kernelspec": {
   "display_name": "Python 3 (ipykernel)",
   "language": "python",
   "name": "python3"
  },
  "language_info": {
   "codemirror_mode": {
    "name": "ipython",
    "version": 3
   },
   "file_extension": ".py",
   "mimetype": "text/x-python",
   "name": "python",
   "nbconvert_exporter": "python",
   "pygments_lexer": "ipython3",
   "version": "3.8.2"
  }
 },
 "nbformat": 4,
 "nbformat_minor": 5
}
